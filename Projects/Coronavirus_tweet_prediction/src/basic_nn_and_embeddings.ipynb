{
 "cells": [
  {
   "cell_type": "code",
   "execution_count": 317,
   "id": "e17fce63",
   "metadata": {},
   "outputs": [],
   "source": [
    "import pandas as pd\n",
    "import numpy as np\n",
    "import matplotlib.pyplot as plt\n",
    "%matplotlib inline"
   ]
  },
  {
   "cell_type": "code",
   "execution_count": 421,
   "id": "62cfa7ac",
   "metadata": {},
   "outputs": [
    {
     "data": {
      "text/plain": [
       "(41104, 2)"
      ]
     },
     "execution_count": 421,
     "metadata": {},
     "output_type": "execute_result"
    }
   ],
   "source": [
    "data = pd.read_csv(\"../data/super_cleaned_data.csv\")\n",
    "data.shape"
   ]
  },
  {
   "cell_type": "code",
   "execution_count": 422,
   "id": "0c828562",
   "metadata": {},
   "outputs": [],
   "source": [
    "mapping = {\n",
    "    'Neutral': 0, \n",
    "    'Positive': 1, \n",
    "    'Extremely Negative': -1, \n",
    "    'Negative': -1, \n",
    "    'Extremely Positive': 1\n",
    "}\n",
    "\n",
    "X = data.OriginalTweet\n",
    "y = data.Sentiment\n",
    "y = y.map(mapping)\n",
    "# y = pd.Categorical(data.Sentiment)"
   ]
  },
  {
   "cell_type": "code",
   "execution_count": 423,
   "id": "71cae674",
   "metadata": {},
   "outputs": [
    {
     "data": {
      "text/plain": [
       "array([ 0,  1, -1])"
      ]
     },
     "execution_count": 423,
     "metadata": {},
     "output_type": "execute_result"
    }
   ],
   "source": [
    "y.unique()"
   ]
  },
  {
   "cell_type": "code",
   "execution_count": 425,
   "id": "a27a2c4b",
   "metadata": {},
   "outputs": [
    {
     "name": "stdout",
     "output_type": "stream",
     "text": [
      "Total unique words are: 13025\n"
     ]
    }
   ],
   "source": [
    "tmp = list(set(' '.join(X.tolist()).split(' ')))\n",
    "print(f\"Total unique words are: {len(tmp)}\")"
   ]
  },
  {
   "cell_type": "code",
   "execution_count": 426,
   "id": "6be5bc8a",
   "metadata": {},
   "outputs": [
    {
     "name": "stdout",
     "output_type": "stream",
     "text": [
      "Shape of X_train is: (32883,), X_val is: (4110,) and X_test is: (4111,)\n",
      "Shape of y_train is: (32883,), y_val is: (4110,) and y_test is: (4111,)\n"
     ]
    }
   ],
   "source": [
    "from sklearn.model_selection import train_test_split\n",
    "X_train, X_tmp, y_train, y_tmp = train_test_split(X, y, test_size=0.2)\n",
    "X_val, X_test, y_val, y_test = train_test_split(X_tmp, y_tmp, test_size=0.5)\n",
    "X_train = X_train.astype(str)\n",
    "X_val = X_val.astype(str)\n",
    "X_test = X_test.astype(str)\n",
    "print(f\"Shape of X_train is: {X_train.shape}, X_val is: {X_val.shape} and X_test is: {X_test.shape}\")\n",
    "print(f\"Shape of y_train is: {y_train.shape}, y_val is: {y_val.shape} and y_test is: {y_test.shape}\")"
   ]
  },
  {
   "cell_type": "code",
   "execution_count": 427,
   "id": "f36f4734",
   "metadata": {},
   "outputs": [],
   "source": [
    "from keras.preprocessing.text import Tokenizer\n",
    "from keras.preprocessing.sequence import pad_sequences\n",
    "import torch\n",
    "\n",
    "MAX_WORDS = 13025\n",
    "tokenizer = Tokenizer(num_words=MAX_WORDS, char_level=False, split=' ')\n",
    "tokenizer.fit_on_texts(X_train)"
   ]
  },
  {
   "cell_type": "code",
   "execution_count": 428,
   "id": "c9687010",
   "metadata": {},
   "outputs": [],
   "source": [
    "X_train = tokenizer.texts_to_sequences(X_train)\n",
    "X_val = tokenizer.texts_to_sequences(X_val)\n",
    "X_test = tokenizer.texts_to_sequences(X_test)"
   ]
  },
  {
   "cell_type": "code",
   "execution_count": 429,
   "id": "0ff4fa5f",
   "metadata": {},
   "outputs": [
    {
     "name": "stdout",
     "output_type": "stream",
     "text": [
      "Maximum length of sequence is: 59\n",
      "Mean length of the sequence is at word level: 22.9462\n"
     ]
    }
   ],
   "source": [
    "seq_lens = [len(x) for x in X_train]\n",
    "print(f\"Maximum length of sequence is: {max(seq_lens)}\")\n",
    "print(f\"Mean length of the sequence is at word level: {np.mean(seq_lens):.4f}\")"
   ]
  },
  {
   "cell_type": "code",
   "execution_count": 430,
   "id": "1eaf5284",
   "metadata": {},
   "outputs": [
    {
     "data": {
      "image/png": "[encoded data removed]",
      "text/plain": [
       "<Figure size 432x288 with 1 Axes>"
      ]
     },
     "metadata": {
      "needs_background": "light"
     },
     "output_type": "display_data"
    }
   ],
   "source": [
    "plt.hist(seq_lens, bins=30);"
   ]
  },
  {
   "cell_type": "code",
   "execution_count": 431,
   "id": "1ccdc3a6",
   "metadata": {},
   "outputs": [
    {
     "name": "stdout",
     "output_type": "stream",
     "text": [
      "Shape of X_train is: (32883, 60), X_val is: (4110, 60) and X_test is: (4111, 60)\n"
     ]
    }
   ],
   "source": [
    "MAX_SEQUENCE_LENGTH = 60\n",
    "\n",
    "X_train = pad_sequences(X_train, maxlen=MAX_SEQUENCE_LENGTH, dtype='float32', padding='post')\n",
    "X_val = pad_sequences(X_val, maxlen=MAX_SEQUENCE_LENGTH, dtype='float32', padding='post')\n",
    "X_test = pad_sequences(X_test, maxlen=MAX_SEQUENCE_LENGTH, dtype='float32', padding='post')\n",
    "print(f\"Shape of X_train is: {X_train.shape}, X_val is: {X_val.shape} and X_test is: {X_test.shape}\")"
   ]
  },
  {
   "cell_type": "code",
   "execution_count": 432,
   "id": "093e5c6c",
   "metadata": {},
   "outputs": [
    {
     "name": "stdout",
     "output_type": "stream",
     "text": [
      "Shape of y_train is: (32883, 3), y_val is: (4110, 3) and y_test is: (4111, 3)\n"
     ]
    }
   ],
   "source": [
    "from sklearn.preprocessing import LabelEncoder\n",
    "import tensorflow as tf\n",
    "from tensorflow.keras.utils import to_categorical\n",
    "\n",
    "labelEncoder = LabelEncoder()\n",
    "labelEncoder.fit(y_train)\n",
    "\n",
    "\n",
    "y_train = labelEncoder.transform(y_train)\n",
    "y_test = labelEncoder.transform(y_test)\n",
    "y_val = labelEncoder.transform(y_val)\n",
    "\n",
    "y_train = to_categorical(y_train)\n",
    "y_test = to_categorical(y_test)\n",
    "y_val = to_categorical(y_val)\n",
    "\n",
    "\n",
    "print(f\"Shape of y_train is: {y_train.shape}, y_val is: {y_val.shape} and y_test is: {y_test.shape}\")"
   ]
  },
  {
   "cell_type": "markdown",
   "id": "f3b14109",
   "metadata": {},
   "source": [
    "## Basic Neural network"
   ]
  },
  {
   "cell_type": "code",
   "execution_count": 435,
   "id": "111e359d",
   "metadata": {},
   "outputs": [],
   "source": [
    "X_train_basic = (X_train - np.min(X_train))/(np.max(X_train) - np.min(X_train))\n",
    "X_val_basic = (X_val - np.min(X_val))/(np.max(X_val) - np.min(X_val))\n",
    "X_test_basic = (X_test - np.min(X_test))/(np.max(X_test) - np.min(X_test))"
   ]
  },
  {
   "cell_type": "code",
   "execution_count": 436,
   "id": "fffce11d",
   "metadata": {},
   "outputs": [],
   "source": [
    "from tensorflow.keras import Sequential\n",
    "from tensorflow.keras.layers import Dense, Dropout"
   ]
  },
  {
   "cell_type": "code",
   "execution_count": 440,
   "id": "9bd24b0b",
   "metadata": {},
   "outputs": [],
   "source": [
    "test_model = Sequential()\n",
    "test_model.add(Dense(2048, activation='relu', input_shape=(X_train.shape[1],)))\n",
    "test_model.add(Dense(1024, activation='relu'))\n",
    "test_model.add(Dropout(0.2))\n",
    "test_model.add(Dense(1024, activation='relu'))\n",
    "test_model.add(Dense(512, activation='relu'))\n",
    "test_model.add(Dense(256, activation='relu'))\n",
    "test_model.add(Dense(3, activation='softmax'))\n",
    "\n",
    "# uncomment the line below to compile the model\n",
    "\n",
    "test_model.compile(optimizer='adam', loss='categorical_crossentropy', metrics=['accuracy'])"
   ]
  },
  {
   "cell_type": "code",
   "execution_count": 441,
   "id": "04e6a96e",
   "metadata": {},
   "outputs": [
    {
     "name": "stdout",
     "output_type": "stream",
     "text": [
      "Model: \"sequential_38\"\n",
      "_________________________________________________________________\n",
      " Layer (type)                Output Shape              Param #   \n",
      "=================================================================\n",
      " dense_160 (Dense)           (None, 2048)              124928    \n",
      "                                                                 \n",
      " dense_161 (Dense)           (None, 1024)              2098176   \n",
      "                                                                 \n",
      " dropout_7 (Dropout)         (None, 1024)              0         \n",
      "                                                                 \n",
      " dense_162 (Dense)           (None, 1024)              1049600   \n",
      "                                                                 \n",
      " dense_163 (Dense)           (None, 512)               524800    \n",
      "                                                                 \n",
      " dense_164 (Dense)           (None, 256)               131328    \n",
      "                                                                 \n",
      " dense_165 (Dense)           (None, 3)                 771       \n",
      "                                                                 \n",
      "=================================================================\n",
      "Total params: 3929603 (14.99 MB)\n",
      "Trainable params: 3929603 (14.99 MB)\n",
      "Non-trainable params: 0 (0.00 Byte)\n",
      "_________________________________________________________________\n"
     ]
    }
   ],
   "source": [
    "test_model.summary()"
   ]
  },
  {
   "cell_type": "code",
   "execution_count": 442,
   "id": "86765206",
   "metadata": {},
   "outputs": [
    {
     "name": "stdout",
     "output_type": "stream",
     "text": [
      "Epoch 1/3\n",
      "1028/1028 [==============================] - 38s 36ms/step - loss: 3.9620 - accuracy: 0.4042 - val_loss: 1.0266 - val_accuracy: 0.4341\n",
      "Epoch 2/3\n",
      "1028/1028 [==============================] - 43s 42ms/step - loss: 1.0562 - accuracy: 0.4258 - val_loss: 1.0342 - val_accuracy: 0.4333\n",
      "Epoch 3/3\n",
      "1028/1028 [==============================] - 43s 41ms/step - loss: 1.0483 - accuracy: 0.4275 - val_loss: 1.0192 - val_accuracy: 0.4358\n"
     ]
    },
    {
     "data": {
      "text/plain": [
       "<keras.src.callbacks.History at 0x7f8e687e8400>"
      ]
     },
     "execution_count": 442,
     "metadata": {},
     "output_type": "execute_result"
    }
   ],
   "source": [
    "# uncomment the line below to run the model\n",
    "\n",
    "test_model.fit(X_train, y_train, validation_data=(X_val, y_val), epochs=1, batch_size=32, verbose=True)"
   ]
  },
  {
   "cell_type": "code",
   "execution_count": 443,
   "id": "621c3593",
   "metadata": {},
   "outputs": [
    {
     "name": "stdout",
     "output_type": "stream",
     "text": [
      "129/129 [==============================] - 1s 5ms/step - loss: 1.0278 - accuracy: 0.4318\n"
     ]
    },
    {
     "data": {
      "text/plain": [
       "[1.0278139114379883, 0.43176841735839844]"
      ]
     },
     "execution_count": 443,
     "metadata": {},
     "output_type": "execute_result"
    }
   ],
   "source": [
    "# uncomment the line below to evaluate the model\n",
    "\n",
    "test_model.evaluate(X_test, y_test)"
   ]
  },
  {
   "cell_type": "markdown",
   "id": "40f1240a",
   "metadata": {},
   "source": [
    "Basic neural network model gave the accuracy of `43.17%` over the training dataset for 3 classes. For 5 classes, the accuracy was hovering around `29%`.\n",
    "\n",
    "This model is not performing very well. It starts getting overfit when the network is expanded horizontally and underfits if the network is given the depth. I could'nt understand the issue in this."
   ]
  },
  {
   "cell_type": "markdown",
   "id": "056a5ffc",
   "metadata": {},
   "source": [
    "## Using the embedding layer in Neural network"
   ]
  },
  {
   "cell_type": "code",
   "execution_count": 375,
   "id": "d36bd056",
   "metadata": {},
   "outputs": [],
   "source": [
    "from tensorflow.keras.layers import Dense, Embedding, Input, GlobalAveragePooling1D\n",
    "from tensorflow.keras.models import Sequential"
   ]
  },
  {
   "cell_type": "code",
   "execution_count": 444,
   "id": "da5b62f6",
   "metadata": {},
   "outputs": [],
   "source": [
    "EMBEDDING_DIM = 50\n",
    "N_CLASSES = 3\n",
    "\n",
    "embedding_model = Sequential()\n",
    "embedding_model.add(Input(shape=(MAX_SEQUENCE_LENGTH,), dtype='float32'))\n",
    "embedding_model.add(Embedding(MAX_WORDS, EMBEDDING_DIM,\n",
    "                            input_length=MAX_SEQUENCE_LENGTH,\n",
    "                            trainable=True))\n",
    "embedding_model.add(GlobalAveragePooling1D())\n",
    "embedding_model.add(Dense(256, activation='relu'))\n",
    "embedding_model.add(Dropout(0.2))\n",
    "embedding_model.add(Dense(128, activation='relu'))\n",
    "embedding_model.add(Dense(64, activation='relu'))\n",
    "embedding_model.add(Dense(N_CLASSES, activation='softmax'))\n",
    "embedding_model.compile(loss='categorical_crossentropy', optimizer='adam', metrics=['acc'])"
   ]
  },
  {
   "cell_type": "code",
   "execution_count": 445,
   "id": "220eb225",
   "metadata": {},
   "outputs": [
    {
     "name": "stdout",
     "output_type": "stream",
     "text": [
      "Model: \"sequential_39\"\n",
      "_________________________________________________________________\n",
      " Layer (type)                Output Shape              Param #   \n",
      "=================================================================\n",
      " embedding_15 (Embedding)    (None, 60, 50)            651250    \n",
      "                                                                 \n",
      " global_average_pooling1d_1  (None, 50)                0         \n",
      " 5 (GlobalAveragePooling1D)                                      \n",
      "                                                                 \n",
      " dense_166 (Dense)           (None, 256)               13056     \n",
      "                                                                 \n",
      " dropout_8 (Dropout)         (None, 256)               0         \n",
      "                                                                 \n",
      " dense_167 (Dense)           (None, 128)               32896     \n",
      "                                                                 \n",
      " dense_168 (Dense)           (None, 64)                8256      \n",
      "                                                                 \n",
      " dense_169 (Dense)           (None, 3)                 195       \n",
      "                                                                 \n",
      "=================================================================\n",
      "Total params: 705653 (2.69 MB)\n",
      "Trainable params: 705653 (2.69 MB)\n",
      "Non-trainable params: 0 (0.00 Byte)\n",
      "_________________________________________________________________\n"
     ]
    }
   ],
   "source": [
    "embedding_model.summary()"
   ]
  },
  {
   "cell_type": "code",
   "execution_count": 449,
   "id": "56d6fcff",
   "metadata": {},
   "outputs": [
    {
     "name": "stdout",
     "output_type": "stream",
     "text": [
      "1028/1028 [==============================] - 4s 4ms/step - loss: 0.2447 - acc: 0.9095 - val_loss: 0.6734 - val_acc: 0.8063\n"
     ]
    },
    {
     "data": {
      "text/plain": [
       "<keras.src.callbacks.History at 0x7f8e79285ac0>"
      ]
     },
     "execution_count": 449,
     "metadata": {},
     "output_type": "execute_result"
    }
   ],
   "source": [
    "embedding_model.fit(X_train, y_train, epochs=1, batch_size=32, validation_data=(X_val, y_val), verbose=True)"
   ]
  },
  {
   "cell_type": "code",
   "execution_count": 450,
   "id": "527c539a",
   "metadata": {},
   "outputs": [
    {
     "name": "stdout",
     "output_type": "stream",
     "text": [
      "129/129 [==============================] - 0s 1ms/step - loss: 0.6554 - acc: 0.8161\n"
     ]
    },
    {
     "data": {
      "text/plain": [
       "[0.6554136872291565, 0.8161031603813171]"
      ]
     },
     "execution_count": 450,
     "metadata": {},
     "output_type": "execute_result"
    }
   ],
   "source": [
    "embedding_model.evaluate(X_test, y_test)"
   ]
  },
  {
   "cell_type": "markdown",
   "id": "c16cb305",
   "metadata": {},
   "source": [
    "The embedding model gave good accuracy when trained over a subset of 5000 training sample. Now we will run it for complete training data.\n",
    "\n",
    "1. When the dimensions were set to 20, there was overfitting just after 6 epochs. The test accuracy achieved was `62%`. Possible reasons can be that the dimension space is too large.\n",
    "2. With an embedding size of 50, we did prevented overfitting and stopped after 6 epochs (elbow noticed). The accuracy over test data is `64%`. We can further reduce the dimensions.\n",
    "3. With an embedding dimension of 20, we achieved an accuracy of `65.16%` over the test data.\n",
    "4. With an embedding dimension of 10, we achieved an accuracy of `64.91%` over the test data.\n",
    "5. A strange phenomena, if we add 2 dense layers after the pooling layer the accuracy over the test data jumps to `67.63%`.\n",
    "6. When adding 2 dense layers, first expanding the dimension (128) and then a 16 node layer, the accuracy over the test data is `68.75%`.\n",
    "7. This is the best accuracy over the test data: `81.61%`. We had to reduce the number of classes from 5 to 3."
   ]
  },
  {
   "cell_type": "markdown",
   "id": "178e1a88",
   "metadata": {},
   "source": [
    "## RNN"
   ]
  },
  {
   "cell_type": "code",
   "execution_count": 452,
   "id": "dd278138",
   "metadata": {},
   "outputs": [],
   "source": [
    "from tensorflow.keras.models import Sequential\n",
    "from tensorflow.keras.layers import Dense, LSTM, Bidirectional, Dropout, GlobalMaxPool1D"
   ]
  },
  {
   "cell_type": "code",
   "execution_count": 456,
   "id": "70b8df48",
   "metadata": {},
   "outputs": [],
   "source": [
    "EMBEDDING_DIM = 20\n",
    "units = 256\n",
    "\n",
    "rnn_model = Sequential()\n",
    "rnn_model.add(Embedding(MAX_WORDS, EMBEDDING_DIM, input_shape=(X_train.shape[1],)))\n",
    "rnn_model.add(Bidirectional(LSTM(units, return_sequences=True)))\n",
    "rnn_model.add(GlobalMaxPool1D())\n",
    "rnn_model.add(Dropout(0.2))\n",
    "rnn_model.add(Dense(64, activation='relu'))\n",
    "rnn_model.add(Dropout(0.2))\n",
    "rnn_model.add(Dense(3, activation='softmax'))\n",
    "\n",
    "rnn_model.compile(optimizer='adam', loss='categorical_crossentropy', metrics=['acc'])"
   ]
  },
  {
   "cell_type": "code",
   "execution_count": 457,
   "id": "fc88f8d5",
   "metadata": {},
   "outputs": [
    {
     "name": "stdout",
     "output_type": "stream",
     "text": [
      "Model: \"sequential_41\"\n",
      "_________________________________________________________________\n",
      " Layer (type)                Output Shape              Param #   \n",
      "=================================================================\n",
      " embedding_17 (Embedding)    (None, 60, 20)            260500    \n",
      "                                                                 \n",
      " bidirectional_1 (Bidirecti  (None, 60, 512)           567296    \n",
      " onal)                                                           \n",
      "                                                                 \n",
      " global_max_pooling1d_1 (Gl  (None, 512)               0         \n",
      " obalMaxPooling1D)                                               \n",
      "                                                                 \n",
      " dropout_11 (Dropout)        (None, 512)               0         \n",
      "                                                                 \n",
      " dense_172 (Dense)           (None, 64)                32832     \n",
      "                                                                 \n",
      " dropout_12 (Dropout)        (None, 64)                0         \n",
      "                                                                 \n",
      " dense_173 (Dense)           (None, 3)                 195       \n",
      "                                                                 \n",
      "=================================================================\n",
      "Total params: 860823 (3.28 MB)\n",
      "Trainable params: 860823 (3.28 MB)\n",
      "Non-trainable params: 0 (0.00 Byte)\n",
      "_________________________________________________________________\n"
     ]
    }
   ],
   "source": [
    "rnn_model.summary()"
   ]
  },
  {
   "cell_type": "code",
   "execution_count": 458,
   "id": "f2939f90",
   "metadata": {},
   "outputs": [
    {
     "name": "stdout",
     "output_type": "stream",
     "text": [
      "Epoch 1/5\n",
      "313/313 [==============================] - 51s 153ms/step - loss: 0.9248 - acc: 0.5292 - val_loss: 0.7191 - val_acc: 0.7044\n",
      "Epoch 2/5\n",
      "313/313 [==============================] - 49s 158ms/step - loss: 0.5818 - acc: 0.7804 - val_loss: 0.5885 - val_acc: 0.7703\n",
      "Epoch 3/5\n",
      "313/313 [==============================] - 50s 159ms/step - loss: 0.4169 - acc: 0.8533 - val_loss: 0.6046 - val_acc: 0.7727\n",
      "Epoch 4/5\n",
      "313/313 [==============================] - 53s 169ms/step - loss: 0.3244 - acc: 0.8962 - val_loss: 0.6554 - val_acc: 0.7747\n",
      "Epoch 5/5\n",
      "313/313 [==============================] - 52s 167ms/step - loss: 0.2542 - acc: 0.9183 - val_loss: 0.7550 - val_acc: 0.7676\n"
     ]
    }
   ],
   "source": [
    "history_rnn = rnn_model.fit(X_train[:10000,:], y_train[:10000,:], batch_size = 32, epochs = 5, validation_data=(X_val, y_val))"
   ]
  },
  {
   "cell_type": "code",
   "execution_count": 459,
   "id": "83b0dd81",
   "metadata": {},
   "outputs": [
    {
     "name": "stdout",
     "output_type": "stream",
     "text": [
      "129/129 [==============================] - 5s 37ms/step - loss: 0.7350 - acc: 0.7760\n"
     ]
    },
    {
     "data": {
      "text/plain": [
       "[0.7349579334259033, 0.7759669423103333]"
      ]
     },
     "execution_count": 459,
     "metadata": {},
     "output_type": "execute_result"
    }
   ],
   "source": [
    "rnn_model.evaluate(X_test, y_test)"
   ]
  },
  {
   "cell_type": "code",
   "execution_count": null,
   "id": "0f7ac978",
   "metadata": {},
   "outputs": [],
   "source": []
  }
 ],
 "metadata": {
  "kernelspec": {
   "display_name": "Python 3 (ipykernel)",
   "language": "python",
   "name": "python3"
  },
  "language_info": {
   "codemirror_mode": {
    "name": "ipython",
    "version": 3
   },
   "file_extension": ".py",
   "mimetype": "text/x-python",
   "name": "python",
   "nbconvert_exporter": "python",
   "pygments_lexer": "ipython3",
   "version": "3.9.7"
  }
 },
 "nbformat": 4,
 "nbformat_minor": 5
}

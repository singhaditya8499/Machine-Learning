{
 "cells": [
  {
   "cell_type": "code",
   "execution_count": 8,
   "id": "08fd07d4",
   "metadata": {},
   "outputs": [],
   "source": [
    "import pandas as pd\n",
    "import numpy as np\n",
    "import matplotlib.pyplot as plt\n",
    "%matplotlib inline"
   ]
  },
  {
   "cell_type": "code",
   "execution_count": 254,
   "id": "38989f39",
   "metadata": {},
   "outputs": [
    {
     "data": {
      "text/plain": [
       "(35705, 2)"
      ]
     },
     "execution_count": 254,
     "metadata": {},
     "output_type": "execute_result"
    }
   ],
   "source": [
    "data = pd.read_csv(\"../data/super_cleaned_data.csv\")\n",
    "data.shape"
   ]
  },
  {
   "cell_type": "code",
   "execution_count": 283,
   "id": "b7699bce",
   "metadata": {},
   "outputs": [],
   "source": [
    "X = data.OriginalTweet\n",
    "y = pd.Categorical(data.Sentiment)"
   ]
  },
  {
   "cell_type": "code",
   "execution_count": 284,
   "id": "822f3f41",
   "metadata": {},
   "outputs": [
    {
     "data": {
      "text/plain": [
       "['Positive', 'Extremely Negative', 'Negative', 'Neutral', 'Extremely Positive']\n",
       "Categories (5, object): ['Extremely Negative', 'Extremely Positive', 'Negative', 'Neutral', 'Positive']"
      ]
     },
     "execution_count": 284,
     "metadata": {},
     "output_type": "execute_result"
    }
   ],
   "source": [
    "y.unique()"
   ]
  },
  {
   "cell_type": "code",
   "execution_count": 285,
   "id": "b4cb4a32",
   "metadata": {},
   "outputs": [
    {
     "name": "stdout",
     "output_type": "stream",
     "text": [
      "Shape of X_train is: (28564,), X_val is: (3570,) and X_test is: (3571,)\n",
      "Shape of y_train is: (28564,), y_val is: (3570,) and y_test is: (3571,)\n"
     ]
    }
   ],
   "source": [
    "from sklearn.model_selection import train_test_split\n",
    "X_train, X_tmp, y_train, y_tmp = train_test_split(X, y, test_size=0.2)\n",
    "X_val, X_test, y_val, y_test = train_test_split(X_tmp, y_tmp, test_size=0.5)\n",
    "X_train = X_train.astype(str)\n",
    "X_val = X_val.astype(str)\n",
    "X_test = X_test.astype(str)\n",
    "print(f\"Shape of X_train is: {X_train.shape}, X_val is: {X_val.shape} and X_test is: {X_test.shape}\")\n",
    "print(f\"Shape of y_train is: {y_train.shape}, y_val is: {y_val.shape} and y_test is: {y_test.shape}\")"
   ]
  },
  {
   "cell_type": "code",
   "execution_count": 286,
   "id": "fb11442d",
   "metadata": {},
   "outputs": [],
   "source": [
    "from keras.preprocessing.text import Tokenizer\n",
    "from keras.preprocessing.sequence import pad_sequences\n",
    "import torch\n",
    "\n",
    "MAX_WORDS = 30000\n",
    "tokenizer = Tokenizer(num_words=MAX_WORDS, char_level=False, split=' ')\n",
    "tokenizer.fit_on_texts(X_train)"
   ]
  },
  {
   "cell_type": "code",
   "execution_count": 287,
   "id": "055fbab8",
   "metadata": {},
   "outputs": [],
   "source": [
    "X_train = tokenizer.texts_to_sequences(X_train)\n",
    "X_val = tokenizer.texts_to_sequences(X_val)\n",
    "X_test = tokenizer.texts_to_sequences(X_test)"
   ]
  },
  {
   "cell_type": "code",
   "execution_count": 288,
   "id": "85204f59",
   "metadata": {},
   "outputs": [
    {
     "name": "stdout",
     "output_type": "stream",
     "text": [
      "Maximum length of sequence is: 41\n",
      "Mean length of the sequence is at word level: 17.6466\n"
     ]
    }
   ],
   "source": [
    "seq_lens = [len(x) for x in X_train]\n",
    "print(f\"Maximum length of sequence is: {max(seq_lens)}\")\n",
    "print(f\"Mean length of the sequence is at word level: {np.mean(seq_lens):.4f}\")"
   ]
  },
  {
   "cell_type": "code",
   "execution_count": 289,
   "id": "dbbb7ac1",
   "metadata": {},
   "outputs": [
    {
     "data": {
      "image/png": "[encoded data removed]",
      "text/plain": [
       "<Figure size 432x288 with 1 Axes>"
      ]
     },
     "metadata": {
      "needs_background": "light"
     },
     "output_type": "display_data"
    }
   ],
   "source": [
    "plt.hist(seq_lens, bins=30);"
   ]
  },
  {
   "cell_type": "code",
   "execution_count": 290,
   "id": "4bfb3e4f",
   "metadata": {},
   "outputs": [
    {
     "name": "stdout",
     "output_type": "stream",
     "text": [
      "Shape of X_train is: (28564, 40), X_val is: (3570, 40) and X_test is: (3571, 40)\n"
     ]
    }
   ],
   "source": [
    "MAX_SEQUENCE_LENGTH = 40\n",
    "\n",
    "X_train = pad_sequences(X_train, maxlen=MAX_SEQUENCE_LENGTH, dtype='float32')\n",
    "X_val = pad_sequences(X_val, maxlen=MAX_SEQUENCE_LENGTH, dtype='float32')\n",
    "X_test = pad_sequences(X_test, maxlen=MAX_SEQUENCE_LENGTH, dtype='float32')\n",
    "print(f\"Shape of X_train is: {X_train.shape}, X_val is: {X_val.shape} and X_test is: {X_test.shape}\")"
   ]
  },
  {
   "cell_type": "code",
   "execution_count": 294,
   "id": "2abfe386",
   "metadata": {},
   "outputs": [
    {
     "name": "stdout",
     "output_type": "stream",
     "text": [
      "Shape of y_train is: (28564, 5), y_val is: (3570, 5) and y_test is: (3571, 5)\n"
     ]
    }
   ],
   "source": [
    "from sklearn.preprocessing import LabelEncoder\n",
    "import tensorflow as tf\n",
    "from tensorflow.keras.utils import to_categorical\n",
    "\n",
    "labelEncoder = LabelEncoder()\n",
    "labelEncoder.fit(y_train)\n",
    "\n",
    "\n",
    "y_train = labelEncoder.transform(y_train)\n",
    "y_test = labelEncoder.transform(y_test)\n",
    "y_val = labelEncoder.transform(y_val)\n",
    "\n",
    "y_train = to_categorical(y_train)\n",
    "y_test = to_categorical(y_test)\n",
    "y_val = to_categorical(y_val)\n",
    "\n",
    "\n",
    "print(f\"Shape of y_train is: {y_train.shape}, y_val is: {y_val.shape} and y_test is: {y_test.shape}\")"
   ]
  },
  {
   "cell_type": "markdown",
   "id": "73948476",
   "metadata": {},
   "source": [
    "## Basic Neural network"
   ]
  },
  {
   "cell_type": "code",
   "execution_count": 263,
   "id": "43e38e26",
   "metadata": {},
   "outputs": [],
   "source": [
    "X_train_basic = (X_train - np.min(X_train))/(np.max(X_train) - np.min(X_train))\n",
    "X_val_basic = (X_val - np.min(X_val))/(np.max(X_val) - np.min(X_val))\n",
    "X_test_basic = (X_test - np.min(X_test))/(np.max(X_test) - np.min(X_test))"
   ]
  },
  {
   "cell_type": "code",
   "execution_count": 239,
   "id": "859641d7",
   "metadata": {},
   "outputs": [],
   "source": [
    "from tensorflow.keras import Sequential\n",
    "from tensorflow.keras.layers import Dense, Dropout"
   ]
  },
  {
   "cell_type": "code",
   "execution_count": 268,
   "id": "c7c4f57b",
   "metadata": {},
   "outputs": [],
   "source": [
    "test_model = Sequential()\n",
    "test_model.add(Dense(2048, activation='tanh', input_shape=(X_train.shape[1],)))\n",
    "test_model.add(Dense(1024, activation='tanh'))\n",
    "test_model.add(Dense(1024, activation='relu'))\n",
    "test_model.add(Dense(512, activation='relu'))\n",
    "test_model.add(Dense(256, activation='relu'))\n",
    "test_model.add(Dense(5, activation='softmax'))\n",
    "\n",
    "# uncomment the line below to compile the model\n",
    "\n",
    "# test_model.compile(optimizer='adam', loss='categorical_crossentropy', metrics=['accuracy'])"
   ]
  },
  {
   "cell_type": "code",
   "execution_count": 269,
   "id": "fa3956a4",
   "metadata": {},
   "outputs": [
    {
     "name": "stdout",
     "output_type": "stream",
     "text": [
      "Model: \"sequential_17\"\n",
      "_________________________________________________________________\n",
      " Layer (type)                Output Shape              Param #   \n",
      "=================================================================\n",
      " dense_87 (Dense)            (None, 2048)              83968     \n",
      "                                                                 \n",
      " dense_88 (Dense)            (None, 1024)              2098176   \n",
      "                                                                 \n",
      " dense_89 (Dense)            (None, 1024)              1049600   \n",
      "                                                                 \n",
      " dense_90 (Dense)            (None, 512)               524800    \n",
      "                                                                 \n",
      " dense_91 (Dense)            (None, 256)               131328    \n",
      "                                                                 \n",
      " dense_92 (Dense)            (None, 5)                 1285      \n",
      "                                                                 \n",
      "=================================================================\n",
      "Total params: 3889157 (14.84 MB)\n",
      "Trainable params: 3889157 (14.84 MB)\n",
      "Non-trainable params: 0 (0.00 Byte)\n",
      "_________________________________________________________________\n"
     ]
    }
   ],
   "source": [
    "test_model.summary()"
   ]
  },
  {
   "cell_type": "code",
   "execution_count": null,
   "id": "c8376883",
   "metadata": {},
   "outputs": [],
   "source": [
    "# uncomment the line below to run the model\n",
    "\n",
    "# test_model.fit(X_train, y_train, validation_data=(X_val, y_val), epochs=10, batch_size=32, verbose=True)"
   ]
  },
  {
   "cell_type": "code",
   "execution_count": 271,
   "id": "d48da6df",
   "metadata": {},
   "outputs": [
    {
     "name": "stdout",
     "output_type": "stream",
     "text": [
      "112/112 [==============================] - 1s 5ms/step - loss: 1.5420 - accuracy: 0.2896\n"
     ]
    },
    {
     "data": {
      "text/plain": [
       "[1.5419923067092896, 0.28955474495887756]"
      ]
     },
     "execution_count": 271,
     "metadata": {},
     "output_type": "execute_result"
    }
   ],
   "source": [
    "# uncomment the line below to evaluate the model\n",
    "\n",
    "# test_model.evaluate(X_test, y_test)"
   ]
  },
  {
   "cell_type": "markdown",
   "id": "a08e8cd1",
   "metadata": {},
   "source": [
    "This model is not performing very well. It starts getting overfit when the network is expanded horizontally and underfits if the network is given the depth. I could'nt understand the issue in this."
   ]
  },
  {
   "cell_type": "markdown",
   "id": "58ac2d10",
   "metadata": {},
   "source": [
    "## Using the embedding layer in Neural network"
   ]
  },
  {
   "cell_type": "code",
   "execution_count": 253,
   "id": "0b225416",
   "metadata": {},
   "outputs": [],
   "source": [
    "from tensorflow.keras.layers import Dense, Embedding, Input, GlobalAveragePooling1D\n",
    "from tensorflow.keras.models import Sequential"
   ]
  },
  {
   "cell_type": "code",
   "execution_count": 301,
   "id": "04fc7321",
   "metadata": {},
   "outputs": [],
   "source": [
    "EMBEDDING_DIM = 20\n",
    "N_CLASSES = 5\n",
    "\n",
    "embedding_model = Sequential()\n",
    "embedding_model.add(Input(shape=(MAX_SEQUENCE_LENGTH,), dtype='float32'))\n",
    "embedding_model.add(Embedding(MAX_WORDS, EMBEDDING_DIM,\n",
    "                            input_length=MAX_SEQUENCE_LENGTH,\n",
    "                            trainable=True))\n",
    "embedding_model.add(GlobalAveragePooling1D())\n",
    "embedding_model.add(Dense(128, activation='relu'))\n",
    "embedding_model.add(Dense(16, activation='relu'))\n",
    "embedding_model.add(Dense(N_CLASSES, activation='softmax'))\n",
    "embedding_model.compile(loss='categorical_crossentropy', optimizer='adam', metrics=['acc'])"
   ]
  },
  {
   "cell_type": "code",
   "execution_count": 302,
   "id": "bca1f321",
   "metadata": {},
   "outputs": [
    {
     "name": "stdout",
     "output_type": "stream",
     "text": [
      "Model: \"sequential_24\"\n",
      "_________________________________________________________________\n",
      " Layer (type)                Output Shape              Param #   \n",
      "=================================================================\n",
      " embedding_8 (Embedding)     (None, 40, 20)            600000    \n",
      "                                                                 \n",
      " global_average_pooling1d_8  (None, 20)                0         \n",
      "  (GlobalAveragePooling1D)                                       \n",
      "                                                                 \n",
      " dense_101 (Dense)           (None, 128)               2688      \n",
      "                                                                 \n",
      " dense_102 (Dense)           (None, 16)                2064      \n",
      "                                                                 \n",
      " dense_103 (Dense)           (None, 5)                 85        \n",
      "                                                                 \n",
      "=================================================================\n",
      "Total params: 604837 (2.31 MB)\n",
      "Trainable params: 604837 (2.31 MB)\n",
      "Non-trainable params: 0 (0.00 Byte)\n",
      "_________________________________________________________________\n"
     ]
    }
   ],
   "source": [
    "embedding_model.summary()"
   ]
  },
  {
   "cell_type": "code",
   "execution_count": 303,
   "id": "c726fb78",
   "metadata": {},
   "outputs": [
    {
     "data": {
      "text/plain": [
       "<keras.src.callbacks.History at 0x7f8e52cdafd0>"
      ]
     },
     "execution_count": 303,
     "metadata": {},
     "output_type": "execute_result"
    }
   ],
   "source": [
    "embedding_model.fit(X_train, y_train, epochs=6, batch_size=32, validation_data=(X_val, y_val), verbose=False)"
   ]
  },
  {
   "cell_type": "code",
   "execution_count": 304,
   "id": "224cbc12",
   "metadata": {},
   "outputs": [
    {
     "name": "stdout",
     "output_type": "stream",
     "text": [
      "112/112 [==============================] - 0s 1ms/step - loss: 1.1235 - acc: 0.6718\n"
     ]
    },
    {
     "data": {
      "text/plain": [
       "[1.1235387325286865, 0.6718006134033203]"
      ]
     },
     "execution_count": 304,
     "metadata": {},
     "output_type": "execute_result"
    }
   ],
   "source": [
    "embedding_model.evaluate(X_test, y_test)"
   ]
  },
  {
   "cell_type": "markdown",
   "id": "151485eb",
   "metadata": {},
   "source": [
    "The embedding model gave good accuracy when trained over a subset of 5000 training sample. Now we will run it for complete training data.\n",
    "\n",
    "1. When the dimensions were set to 20, there was overfitting just after 6 epochs. The test accuracy achieved was 62%. Possible reasons can be that the dimension space is too large.\n",
    "2. With an embedding size of 50, we did prevented overfitting and stopped after 6 epochs (elbow noticed). The accuracy over test data is 64%. We can further reduce the dimensions.\n",
    "3. With an embedding dimension of 20, we achieved an accuracy of 65.16% over the test data.\n",
    "4. With an embedding dimension of 10, we achieved an accuracy of 64.91% over the test data.\n",
    "5. A strange phenomena, if we add 2 dense layers after the pooling layer the accuracy over the test data jumps to 67.63%.\n",
    "6. When adding 2 dense layers, first expanding the dimension (128) and then a 16 node layer, the accuracy over the test data is 68.75%."
   ]
  },
  {
   "cell_type": "code",
   "execution_count": null,
   "id": "55b611fc",
   "metadata": {},
   "outputs": [],
   "source": []
  }
 ],
 "metadata": {
  "kernelspec": {
   "display_name": "Python 3 (ipykernel)",
   "language": "python",
   "name": "python3"
  },
  "language_info": {
   "codemirror_mode": {
    "name": "ipython",
    "version": 3
   },
   "file_extension": ".py",
   "mimetype": "text/x-python",
   "name": "python",
   "nbconvert_exporter": "python",
   "pygments_lexer": "ipython3",
   "version": "3.9.7"
  }
 },
 "nbformat": 4,
 "nbformat_minor": 5
}

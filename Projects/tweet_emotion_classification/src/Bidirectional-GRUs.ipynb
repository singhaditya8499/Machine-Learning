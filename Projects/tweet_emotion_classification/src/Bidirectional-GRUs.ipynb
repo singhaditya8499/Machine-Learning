{
 "cells": [
  {
   "cell_type": "code",
   "execution_count": 11,
   "id": "9d2ee7c5",
   "metadata": {
    "id": "9d2ee7c5"
   },
   "outputs": [],
   "source": [
    "import pandas as pd\n",
    "import numpy as np\n",
    "import matplotlib.pyplot as plt\n",
    "import seaborn as sns\n",
    "import operator\n",
    "from tqdm import tqdm\n",
    "tqdm.pandas()\n",
    "%matplotlib inline"
   ]
  },
  {
   "cell_type": "code",
   "execution_count": 12,
   "id": "c6807267",
   "metadata": {
    "id": "c6807267"
   },
   "outputs": [],
   "source": [
    "from transformers import BertTokenizer"
   ]
  },
  {
   "cell_type": "code",
   "execution_count": 13,
   "id": "09a5b3d1",
   "metadata": {
    "id": "09a5b3d1"
   },
   "outputs": [],
   "source": [
    "data = pd.read_csv(\"/content/text.csv\", usecols=['text', 'label'])"
   ]
  },
  {
   "cell_type": "code",
   "execution_count": 14,
   "id": "a27dd008",
   "metadata": {
    "colab": {
     "base_uri": "https://localhost:8080/",
     "height": 424
    },
    "id": "a27dd008",
    "outputId": "0f585aef-f887-4dce-8507-efdaefb9a052"
   },
   "outputs": [
    {
     "data": {
      "application/vnd.google.colaboratory.intrinsic+json": {
       "type": "dataframe",
       "variable_name": "data"
      },
      "text/html": [
       "\n",
       "  <div id=\"df-b8eff1b0-1211-4524-9329-d7a87a74188c\" class=\"colab-df-container\">\n",
       "    <div>\n",
       "<style scoped>\n",
       "    .dataframe tbody tr th:only-of-type {\n",
       "        vertical-align: middle;\n",
       "    }\n",
       "\n",
       "    .dataframe tbody tr th {\n",
       "        vertical-align: top;\n",
       "    }\n",
       "\n",
       "    .dataframe thead th {\n",
       "        text-align: right;\n",
       "    }\n",
       "</style>\n",
       "<table border=\"1\" class=\"dataframe\">\n",
       "  <thead>\n",
       "    <tr style=\"text-align: right;\">\n",
       "      <th></th>\n",
       "      <th>text</th>\n",
       "      <th>label</th>\n",
       "    </tr>\n",
       "  </thead>\n",
       "  <tbody>\n",
       "    <tr>\n",
       "      <th>0</th>\n",
       "      <td>i just feel really helpless and heavy hearted</td>\n",
       "      <td>4</td>\n",
       "    </tr>\n",
       "    <tr>\n",
       "      <th>1</th>\n",
       "      <td>ive enjoyed being able to slouch about relax a...</td>\n",
       "      <td>0</td>\n",
       "    </tr>\n",
       "    <tr>\n",
       "      <th>2</th>\n",
       "      <td>i gave up my internship with the dmrg and am f...</td>\n",
       "      <td>4</td>\n",
       "    </tr>\n",
       "    <tr>\n",
       "      <th>3</th>\n",
       "      <td>i dont know i feel so lost</td>\n",
       "      <td>0</td>\n",
       "    </tr>\n",
       "    <tr>\n",
       "      <th>4</th>\n",
       "      <td>i am a kindergarten teacher and i am thoroughl...</td>\n",
       "      <td>4</td>\n",
       "    </tr>\n",
       "    <tr>\n",
       "      <th>...</th>\n",
       "      <td>...</td>\n",
       "      <td>...</td>\n",
       "    </tr>\n",
       "    <tr>\n",
       "      <th>416804</th>\n",
       "      <td>i feel like telling these horny devils to find...</td>\n",
       "      <td>2</td>\n",
       "    </tr>\n",
       "    <tr>\n",
       "      <th>416805</th>\n",
       "      <td>i began to realize that when i was feeling agi...</td>\n",
       "      <td>3</td>\n",
       "    </tr>\n",
       "    <tr>\n",
       "      <th>416806</th>\n",
       "      <td>i feel very curious be why previous early dawn...</td>\n",
       "      <td>5</td>\n",
       "    </tr>\n",
       "    <tr>\n",
       "      <th>416807</th>\n",
       "      <td>i feel that becuase of the tyranical nature of...</td>\n",
       "      <td>3</td>\n",
       "    </tr>\n",
       "    <tr>\n",
       "      <th>416808</th>\n",
       "      <td>i think that after i had spent some time inves...</td>\n",
       "      <td>5</td>\n",
       "    </tr>\n",
       "  </tbody>\n",
       "</table>\n",
       "<p>416809 rows × 2 columns</p>\n",
       "</div>\n",
       "    <div class=\"colab-df-buttons\">\n",
       "\n",
       "  <div class=\"colab-df-container\">\n",
       "    <button class=\"colab-df-convert\" onclick=\"convertToInteractive('df-b8eff1b0-1211-4524-9329-d7a87a74188c')\"\n",
       "            title=\"Convert this dataframe to an interactive table.\"\n",
       "            style=\"display:none;\">\n",
       "\n",
       "  <svg xmlns=\"http://www.w3.org/2000/svg\" height=\"24px\" viewBox=\"0 -960 960 960\">\n",
       "    <path d=\"M120-120v-720h720v720H120Zm60-500h600v-160H180v160Zm220 220h160v-160H400v160Zm0 220h160v-160H400v160ZM180-400h160v-160H180v160Zm440 0h160v-160H620v160ZM180-180h160v-160H180v160Zm440 0h160v-160H620v160Z\"/>\n",
       "  </svg>\n",
       "    </button>\n",
       "\n",
       "  <style>\n",
       "    .colab-df-container {\n",
       "      display:flex;\n",
       "      gap: 12px;\n",
       "    }\n",
       "\n",
       "    .colab-df-convert {\n",
       "      background-color: #E8F0FE;\n",
       "      border: none;\n",
       "      border-radius: 50%;\n",
       "      cursor: pointer;\n",
       "      display: none;\n",
       "      fill: #1967D2;\n",
       "      height: 32px;\n",
       "      padding: 0 0 0 0;\n",
       "      width: 32px;\n",
       "    }\n",
       "\n",
       "    .colab-df-convert:hover {\n",
       "      background-color: #E2EBFA;\n",
       "      box-shadow: 0px 1px 2px rgba(60, 64, 67, 0.3), 0px 1px 3px 1px rgba(60, 64, 67, 0.15);\n",
       "      fill: #174EA6;\n",
       "    }\n",
       "\n",
       "    .colab-df-buttons div {\n",
       "      margin-bottom: 4px;\n",
       "    }\n",
       "\n",
       "    [theme=dark] .colab-df-convert {\n",
       "      background-color: #3B4455;\n",
       "      fill: #D2E3FC;\n",
       "    }\n",
       "\n",
       "    [theme=dark] .colab-df-convert:hover {\n",
       "      background-color: #434B5C;\n",
       "      box-shadow: 0px 1px 3px 1px rgba(0, 0, 0, 0.15);\n",
       "      filter: drop-shadow(0px 1px 2px rgba(0, 0, 0, 0.3));\n",
       "      fill: #FFFFFF;\n",
       "    }\n",
       "  </style>\n",
       "\n",
       "    <script>\n",
       "      const buttonEl =\n",
       "        document.querySelector('#df-b8eff1b0-1211-4524-9329-d7a87a74188c button.colab-df-convert');\n",
       "      buttonEl.style.display =\n",
       "        google.colab.kernel.accessAllowed ? 'block' : 'none';\n",
       "\n",
       "      async function convertToInteractive(key) {\n",
       "        const element = document.querySelector('#df-b8eff1b0-1211-4524-9329-d7a87a74188c');\n",
       "        const dataTable =\n",
       "          await google.colab.kernel.invokeFunction('convertToInteractive',\n",
       "                                                    [key], {});\n",
       "        if (!dataTable) return;\n",
       "\n",
       "        const docLinkHtml = 'Like what you see? Visit the ' +\n",
       "          '<a target=\"_blank\" href=https://colab.research.google.com/notebooks/data_table.ipynb>data table notebook</a>'\n",
       "          + ' to learn more about interactive tables.';\n",
       "        element.innerHTML = '';\n",
       "        dataTable['output_type'] = 'display_data';\n",
       "        await google.colab.output.renderOutput(dataTable, element);\n",
       "        const docLink = document.createElement('div');\n",
       "        docLink.innerHTML = docLinkHtml;\n",
       "        element.appendChild(docLink);\n",
       "      }\n",
       "    </script>\n",
       "  </div>\n",
       "\n",
       "\n",
       "<div id=\"df-4d5297e6-28cf-4934-9efc-bbe14eeda858\">\n",
       "  <button class=\"colab-df-quickchart\" onclick=\"quickchart('df-4d5297e6-28cf-4934-9efc-bbe14eeda858')\"\n",
       "            title=\"Suggest charts\"\n",
       "            style=\"display:none;\">\n",
       "\n",
       "<svg xmlns=\"http://www.w3.org/2000/svg\" height=\"24px\"viewBox=\"0 0 24 24\"\n",
       "     width=\"24px\">\n",
       "    <g>\n",
       "        <path d=\"M19 3H5c-1.1 0-2 .9-2 2v14c0 1.1.9 2 2 2h14c1.1 0 2-.9 2-2V5c0-1.1-.9-2-2-2zM9 17H7v-7h2v7zm4 0h-2V7h2v10zm4 0h-2v-4h2v4z\"/>\n",
       "    </g>\n",
       "</svg>\n",
       "  </button>\n",
       "\n",
       "<style>\n",
       "  .colab-df-quickchart {\n",
       "      --bg-color: #E8F0FE;\n",
       "      --fill-color: #1967D2;\n",
       "      --hover-bg-color: #E2EBFA;\n",
       "      --hover-fill-color: #174EA6;\n",
       "      --disabled-fill-color: #AAA;\n",
       "      --disabled-bg-color: #DDD;\n",
       "  }\n",
       "\n",
       "  [theme=dark] .colab-df-quickchart {\n",
       "      --bg-color: #3B4455;\n",
       "      --fill-color: #D2E3FC;\n",
       "      --hover-bg-color: #434B5C;\n",
       "      --hover-fill-color: #FFFFFF;\n",
       "      --disabled-bg-color: #3B4455;\n",
       "      --disabled-fill-color: #666;\n",
       "  }\n",
       "\n",
       "  .colab-df-quickchart {\n",
       "    background-color: var(--bg-color);\n",
       "    border: none;\n",
       "    border-radius: 50%;\n",
       "    cursor: pointer;\n",
       "    display: none;\n",
       "    fill: var(--fill-color);\n",
       "    height: 32px;\n",
       "    padding: 0;\n",
       "    width: 32px;\n",
       "  }\n",
       "\n",
       "  .colab-df-quickchart:hover {\n",
       "    background-color: var(--hover-bg-color);\n",
       "    box-shadow: 0 1px 2px rgba(60, 64, 67, 0.3), 0 1px 3px 1px rgba(60, 64, 67, 0.15);\n",
       "    fill: var(--button-hover-fill-color);\n",
       "  }\n",
       "\n",
       "  .colab-df-quickchart-complete:disabled,\n",
       "  .colab-df-quickchart-complete:disabled:hover {\n",
       "    background-color: var(--disabled-bg-color);\n",
       "    fill: var(--disabled-fill-color);\n",
       "    box-shadow: none;\n",
       "  }\n",
       "\n",
       "  .colab-df-spinner {\n",
       "    border: 2px solid var(--fill-color);\n",
       "    border-color: transparent;\n",
       "    border-bottom-color: var(--fill-color);\n",
       "    animation:\n",
       "      spin 1s steps(1) infinite;\n",
       "  }\n",
       "\n",
       "  @keyframes spin {\n",
       "    0% {\n",
       "      border-color: transparent;\n",
       "      border-bottom-color: var(--fill-color);\n",
       "      border-left-color: var(--fill-color);\n",
       "    }\n",
       "    20% {\n",
       "      border-color: transparent;\n",
       "      border-left-color: var(--fill-color);\n",
       "      border-top-color: var(--fill-color);\n",
       "    }\n",
       "    30% {\n",
       "      border-color: transparent;\n",
       "      border-left-color: var(--fill-color);\n",
       "      border-top-color: var(--fill-color);\n",
       "      border-right-color: var(--fill-color);\n",
       "    }\n",
       "    40% {\n",
       "      border-color: transparent;\n",
       "      border-right-color: var(--fill-color);\n",
       "      border-top-color: var(--fill-color);\n",
       "    }\n",
       "    60% {\n",
       "      border-color: transparent;\n",
       "      border-right-color: var(--fill-color);\n",
       "    }\n",
       "    80% {\n",
       "      border-color: transparent;\n",
       "      border-right-color: var(--fill-color);\n",
       "      border-bottom-color: var(--fill-color);\n",
       "    }\n",
       "    90% {\n",
       "      border-color: transparent;\n",
       "      border-bottom-color: var(--fill-color);\n",
       "    }\n",
       "  }\n",
       "</style>\n",
       "\n",
       "  <script>\n",
       "    async function quickchart(key) {\n",
       "      const quickchartButtonEl =\n",
       "        document.querySelector('#' + key + ' button');\n",
       "      quickchartButtonEl.disabled = true;  // To prevent multiple clicks.\n",
       "      quickchartButtonEl.classList.add('colab-df-spinner');\n",
       "      try {\n",
       "        const charts = await google.colab.kernel.invokeFunction(\n",
       "            'suggestCharts', [key], {});\n",
       "      } catch (error) {\n",
       "        console.error('Error during call to suggestCharts:', error);\n",
       "      }\n",
       "      quickchartButtonEl.classList.remove('colab-df-spinner');\n",
       "      quickchartButtonEl.classList.add('colab-df-quickchart-complete');\n",
       "    }\n",
       "    (() => {\n",
       "      let quickchartButtonEl =\n",
       "        document.querySelector('#df-4d5297e6-28cf-4934-9efc-bbe14eeda858 button');\n",
       "      quickchartButtonEl.style.display =\n",
       "        google.colab.kernel.accessAllowed ? 'block' : 'none';\n",
       "    })();\n",
       "  </script>\n",
       "</div>\n",
       "    </div>\n",
       "  </div>\n"
      ],
      "text/plain": [
       "                                                     text  label\n",
       "0           i just feel really helpless and heavy hearted      4\n",
       "1       ive enjoyed being able to slouch about relax a...      0\n",
       "2       i gave up my internship with the dmrg and am f...      4\n",
       "3                              i dont know i feel so lost      0\n",
       "4       i am a kindergarten teacher and i am thoroughl...      4\n",
       "...                                                   ...    ...\n",
       "416804  i feel like telling these horny devils to find...      2\n",
       "416805  i began to realize that when i was feeling agi...      3\n",
       "416806  i feel very curious be why previous early dawn...      5\n",
       "416807  i feel that becuase of the tyranical nature of...      3\n",
       "416808  i think that after i had spent some time inves...      5\n",
       "\n",
       "[416809 rows x 2 columns]"
      ]
     },
     "execution_count": 14,
     "metadata": {},
     "output_type": "execute_result"
    }
   ],
   "source": [
    "data"
   ]
  },
  {
   "cell_type": "markdown",
   "id": "9a83f9c2",
   "metadata": {
    "id": "9a83f9c2"
   },
   "source": [
    "Each entry in this dataset consists of a text segment representing a Twitter message and a corresponding label indicating the predominant emotion conveyed. The emotions are classified into six categories:\n",
    "1. sadness (0)\n",
    "2. joy (1)\n",
    "3. love (2)\n",
    "4. anger (3)\n",
    "5. fear (4)\n",
    "6. surprise (5)"
   ]
  },
  {
   "cell_type": "code",
   "execution_count": 15,
   "id": "aec7d6f2",
   "metadata": {
    "colab": {
     "base_uri": "https://localhost:8080/"
    },
    "id": "aec7d6f2",
    "outputId": "b08ef7d6-6b28-474c-e5ef-e57efc0e4044"
   },
   "outputs": [
    {
     "name": "stdout",
     "output_type": "stream",
     "text": [
      "[' ', 'a', 'b', 'c', 'd', 'e', 'f', 'g', 'h', 'i', 'j', 'k', 'l', 'm', 'n', 'o', 'p', 'q', 'r', 's', 't', 'u', 'v', 'w', 'x', 'y', 'z']\n"
     ]
    }
   ],
   "source": [
    "# checking all the distince characters in the tweet\n",
    "unique_chars = ' '.join(data.text.tolist())\n",
    "unique_chars = sorted((list(set(unique_chars))))\n",
    "print(unique_chars)\n",
    "\n",
    "# we can conclude that the data is already clean, so we dont need to do any preprocessing"
   ]
  },
  {
   "cell_type": "code",
   "execution_count": 16,
   "id": "3aff69bb",
   "metadata": {
    "id": "3aff69bb"
   },
   "outputs": [],
   "source": [
    "def text_preprocessing(text):\n",
    "    text = text.replace('ive', 'i have')\n",
    "    text = text.replace('dont', 'do not')\n",
    "    text = text.replace('cant', 'can not')\n",
    "    text = text.replace('didnt', 'did not')\n",
    "    text = text.replace('wasnt', 'was not')\n",
    "    text = text.replace('thats', 'that is')\n",
    "    text = text.replace('wont', 'would not')\n",
    "    text = text.replace('havent', 'have not')\n",
    "    text = text.replace('testimoney', 'testimony')\n",
    "    text = text.replace('doesnt', 'does not')\n",
    "    text = text.replace('youre', 'you are')\n",
    "    text = text.replace('positi', 'positive')\n",
    "    text = text.replace('couldnt', 'could not')\n",
    "    text = text.replace('theres', 'there is')\n",
    "    text = text.replace('isnt', 'is not')\n",
    "    text = text.replace('wouldnt', 'would not')\n",
    "    listOfWords = text.split()\n",
    "    for i in range(len(listOfWords)):\n",
    "        if listOfWords[i]=='havely' or listOfWords[i]=='haved':\n",
    "            listOfWords[i] = listOfWords[i][2:]\n",
    "    sentence = ''\n",
    "    for i in range(len(listOfWords)-1):\n",
    "        if listOfWords[i+1] == 'vely' or listOfWords[i+1] == 'ved':\n",
    "            sentence = sentence + ' ' + listOfWords[i] + listOfWords[i+1]\n",
    "            i = i+1\n",
    "        else:\n",
    "            sentence = sentence + ' ' + listOfWords[i]\n",
    "    text = sentence\n",
    "\n",
    "    return text"
   ]
  },
  {
   "cell_type": "code",
   "execution_count": 17,
   "id": "935066b6",
   "metadata": {
    "colab": {
     "base_uri": "https://localhost:8080/"
    },
    "id": "935066b6",
    "outputId": "896b4ec8-6681-4106-bfef-b0b65d2a34b5"
   },
   "outputs": [
    {
     "name": "stderr",
     "output_type": "stream",
     "text": [
      "100%|██████████| 416809/416809 [00:06<00:00, 65505.08it/s]\n"
     ]
    }
   ],
   "source": [
    "data.text = data.text.progress_apply(text_preprocessing)"
   ]
  },
  {
   "cell_type": "code",
   "execution_count": 18,
   "id": "83094abd",
   "metadata": {
    "id": "83094abd"
   },
   "outputs": [],
   "source": [
    "tokenizer = BertTokenizer.from_pretrained(\"bert-base-uncased\")"
   ]
  },
  {
   "cell_type": "code",
   "execution_count": 27,
   "id": "8a70e814",
   "metadata": {
    "colab": {
     "base_uri": "https://localhost:8080/"
    },
    "id": "8a70e814",
    "outputId": "a5b5b80d-bddd-472b-e3dc-b6d1e264ac98"
   },
   "outputs": [
    {
     "name": "stderr",
     "output_type": "stream",
     "text": [
      "100%|██████████| 416809/416809 [06:11<00:00, 1123.47it/s]\n"
     ]
    }
   ],
   "source": [
    "encoded_data = []\n",
    "for sentence in tqdm(data.text.tolist()):\n",
    "    encoded_data.append(tokenizer(sentence, return_tensors='pt', max_length=185, padding='max_length', truncation=True))"
   ]
  },
  {
   "cell_type": "code",
   "execution_count": 43,
   "id": "c72e3f12",
   "metadata": {
    "colab": {
     "base_uri": "https://localhost:8080/"
    },
    "id": "c72e3f12",
    "outputId": "f27ca0b9-4c27-415d-9826-694923dcfc5d"
   },
   "outputs": [
    {
     "data": {
      "text/plain": [
       "185"
      ]
     },
     "execution_count": 43,
     "metadata": {},
     "output_type": "execute_result"
    }
   ],
   "source": [
    "length_data = [len(x) for x in encoded_data]\n",
    "maxlen = max(length_data)\n",
    "maxlen"
   ]
  },
  {
   "cell_type": "code",
   "execution_count": 41,
   "id": "2ca77485",
   "metadata": {
    "id": "2ca77485"
   },
   "outputs": [],
   "source": [
    "encoded_data = [x.squeeze().tolist() for x in encoded_data]"
   ]
  },
  {
   "cell_type": "code",
   "execution_count": 44,
   "id": "4cbd68d2",
   "metadata": {
    "colab": {
     "base_uri": "https://localhost:8080/",
     "height": 448
    },
    "id": "4cbd68d2",
    "outputId": "9b4614d5-2b32-4343-a914-4c4a2dd29536"
   },
   "outputs": [
    {
     "data": {
      "text/plain": [
       "<Axes: ylabel='Count'>"
      ]
     },
     "execution_count": 44,
     "metadata": {},
     "output_type": "execute_result"
    },
    {
     "data": {
      "image/png": "[encoded data removed]",
      "text/plain": [
       "<Figure size 640x480 with 1 Axes>"
      ]
     },
     "metadata": {},
     "output_type": "display_data"
    }
   ],
   "source": [
    "sns.histplot(length_data, bins=80)"
   ]
  },
  {
   "cell_type": "code",
   "execution_count": 45,
   "id": "aac53ea7",
   "metadata": {
    "id": "aac53ea7"
   },
   "outputs": [],
   "source": [
    "from tensorflow.keras.utils import pad_sequences, to_categorical\n",
    "from tensorflow.keras.layers import Dense, Dropout\n",
    "from tensorflow.keras.models import Sequential"
   ]
  },
  {
   "cell_type": "code",
   "execution_count": 46,
   "id": "6c77e663",
   "metadata": {
    "id": "6c77e663"
   },
   "outputs": [],
   "source": [
    "# padded_data = pad_sequences(encoded_data, maxlen=185, padding='post')\n",
    "labels = to_categorical(data.label)"
   ]
  },
  {
   "cell_type": "code",
   "execution_count": 47,
   "id": "9f0afa5e",
   "metadata": {
    "colab": {
     "base_uri": "https://localhost:8080/"
    },
    "id": "9f0afa5e",
    "outputId": "5d8771ce-d957-47d3-f674-5fae259149d4"
   },
   "outputs": [
    {
     "data": {
      "text/plain": [
       "array([[0., 0., 0., 0., 1., 0.],\n",
       "       [1., 0., 0., 0., 0., 0.],\n",
       "       [0., 0., 0., 0., 1., 0.],\n",
       "       ...,\n",
       "       [0., 0., 0., 0., 0., 1.],\n",
       "       [0., 0., 0., 1., 0., 0.],\n",
       "       [0., 0., 0., 0., 0., 1.]], dtype=float32)"
      ]
     },
     "execution_count": 47,
     "metadata": {},
     "output_type": "execute_result"
    }
   ],
   "source": [
    "labels"
   ]
  },
  {
   "cell_type": "code",
   "execution_count": 48,
   "id": "07ee557f",
   "metadata": {
    "colab": {
     "base_uri": "https://localhost:8080/"
    },
    "id": "07ee557f",
    "outputId": "abe5b2bf-7363-401c-c848-449610842c32"
   },
   "outputs": [
    {
     "name": "stdout",
     "output_type": "stream",
     "text": [
      "train_data shape: (416809, 185), train_label shape: (416809, 6)\n",
      "train_data max embedding: 29611\n"
     ]
    }
   ],
   "source": [
    "padded_np = np.array(encoded_data)\n",
    "print(f\"train_data shape: {padded_np.shape}, train_label shape: {labels.shape}\")\n",
    "print(f\"train_data max embedding: {np.max(padded_np)}\")"
   ]
  },
  {
   "cell_type": "code",
   "execution_count": 67,
   "id": "77b0ab07",
   "metadata": {
    "id": "77b0ab07"
   },
   "outputs": [],
   "source": [
    "from tensorflow.keras.layers import GRU, Bidirectional, Embedding, Flatten, BatchNormalization\n",
    "from tensorflow.keras.optimizers import Adam\n",
    "UNITS = 256\n",
    "\n",
    "lstm_model_basic = Sequential()\n",
    "lstm_model_basic.add(Embedding(29612, 15, input_shape=(padded_np.shape[1], )))\n",
    "lstm_model_basic.add(Bidirectional(GRU(units=UNITS, return_sequences=True)))\n",
    "lstm_model_basic.add(Bidirectional(GRU(units=128, return_sequences=True)))\n",
    "lstm_model_basic.add(BatchNormalization())\n",
    "# lstm_model_basic.add(Dense(128, activation='relu'))\n",
    "# lstm_model_basic.add(Dense(32, activation='relu'))\n",
    "# lstm_model_basic.add(Dense(8, activation='relu'))\n",
    "lstm_model_basic.add(Bidirectional(GRU(units=128)))\n",
    "lstm_model_basic.add(Dense(6, activation='softmax'))"
   ]
  },
  {
   "cell_type": "code",
   "execution_count": 68,
   "id": "d93cedaf",
   "metadata": {
    "id": "d93cedaf"
   },
   "outputs": [],
   "source": [
    "# adam = Adam(learning_rate=1e-3)\n",
    "lstm_model_basic.compile(optimizer='adam', loss='categorical_crossentropy', metrics=['acc'])"
   ]
  },
  {
   "cell_type": "code",
   "execution_count": 69,
   "id": "wPaMe4cBHnWN",
   "metadata": {
    "colab": {
     "base_uri": "https://localhost:8080/"
    },
    "id": "wPaMe4cBHnWN",
    "outputId": "06eb228a-de40-4941-80b3-ae49f376b10d"
   },
   "outputs": [
    {
     "name": "stdout",
     "output_type": "stream",
     "text": [
      "Model: \"sequential_5\"\n",
      "_________________________________________________________________\n",
      " Layer (type)                Output Shape              Param #   \n",
      "=================================================================\n",
      " embedding_5 (Embedding)     (None, 185, 15)           444180    \n",
      "                                                                 \n",
      " bidirectional_9 (Bidirecti  (None, 185, 512)          419328    \n",
      " onal)                                                           \n",
      "                                                                 \n",
      " bidirectional_10 (Bidirect  (None, 185, 256)          493056    \n",
      " ional)                                                          \n",
      "                                                                 \n",
      " batch_normalization_1 (Bat  (None, 185, 256)          1024      \n",
      " chNormalization)                                                \n",
      "                                                                 \n",
      " bidirectional_11 (Bidirect  (None, 256)               296448    \n",
      " ional)                                                          \n",
      "                                                                 \n",
      " dense_17 (Dense)            (None, 6)                 1542      \n",
      "                                                                 \n",
      "=================================================================\n",
      "Total params: 1655578 (6.32 MB)\n",
      "Trainable params: 1655066 (6.31 MB)\n",
      "Non-trainable params: 512 (2.00 KB)\n",
      "_________________________________________________________________\n"
     ]
    }
   ],
   "source": [
    "lstm_model_basic.summary()"
   ]
  },
  {
   "cell_type": "code",
   "execution_count": null,
   "id": "ad5c6781",
   "metadata": {
    "colab": {
     "base_uri": "https://localhost:8080/"
    },
    "id": "ad5c6781",
    "outputId": "ca0e1f94-ddb1-4222-a6e0-7d34eeaada81"
   },
   "outputs": [
    {
     "name": "stdout",
     "output_type": "stream",
     "text": [
      "Epoch 1/5\n",
      "9118/9118 [==============================] - 690s 74ms/step - loss: 0.3747 - acc: 0.8388 - val_loss: 0.3683 - val_acc: 0.8413\n",
      "Epoch 2/5\n",
      "8271/9118 [==========================>...] - ETA: 46s - loss: 0.3149 - acc: 0.8607"
     ]
    }
   ],
   "source": [
    "history = lstm_model_basic.fit(padded_np, labels, epochs=5, batch_size=32, validation_split=0.3)"
   ]
  },
  {
   "cell_type": "code",
   "execution_count": null,
   "id": "ddb78d23",
   "metadata": {
    "id": "ddb78d23"
   },
   "outputs": [],
   "source": []
  },
  {
   "cell_type": "markdown",
   "id": "kF7pAEFB3Y9d",
   "metadata": {
    "id": "kF7pAEFB3Y9d"
   },
   "source": [
    "1. With just 10000 samples for testing, we were able to achieve an accuracy of `70%` over the validation dataset using Bidirectional GRU.\n",
    "2. With complete dataset and 2 Bidirectional GRUs, we are able to get an accuracy of `86%` over the validation dataset."
   ]
  }
 ],
 "metadata": {
  "accelerator": "GPU",
  "colab": {
   "gpuType": "T4",
   "provenance": []
  },
  "kernelspec": {
   "display_name": "Python 3",
   "name": "python3"
  },
  "language_info": {
   "codemirror_mode": {
    "name": "ipython",
    "version": 3
   },
   "file_extension": ".py",
   "mimetype": "text/x-python",
   "name": "python",
   "nbconvert_exporter": "python",
   "pygments_lexer": "ipython3",
   "version": "3.9.7"
  }
 },
 "nbformat": 4,
 "nbformat_minor": 5
}

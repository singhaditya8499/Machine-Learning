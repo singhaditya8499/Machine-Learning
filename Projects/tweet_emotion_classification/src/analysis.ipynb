{
 "cells": [
  {
   "cell_type": "code",
   "execution_count": 90,
   "id": "9d2ee7c5",
   "metadata": {},
   "outputs": [],
   "source": [
    "import pandas as pd\n",
    "import numpy as np\n",
    "import matplotlib.pyplot as plt\n",
    "import seaborn as sns\n",
    "import operator\n",
    "from tqdm import tqdm\n",
    "tqdm.pandas()\n",
    "%matplotlib inline"
   ]
  },
  {
   "cell_type": "code",
   "execution_count": 92,
   "id": "c6807267",
   "metadata": {},
   "outputs": [],
   "source": [
    "from sentence_transformers import SentenceTransformer\n",
    "model = SentenceTransformer('paraphrase-MiniLM-L6-v2')"
   ]
  },
  {
   "cell_type": "code",
   "execution_count": 7,
   "id": "09a5b3d1",
   "metadata": {},
   "outputs": [],
   "source": [
    "data = pd.read_csv(\"../data/text.csv\", usecols=['text', 'label'])"
   ]
  },
  {
   "cell_type": "code",
   "execution_count": 8,
   "id": "a27dd008",
   "metadata": {},
   "outputs": [
    {
     "data": {
      "text/html": [
       "<div>\n",
       "<style scoped>\n",
       "    .dataframe tbody tr th:only-of-type {\n",
       "        vertical-align: middle;\n",
       "    }\n",
       "\n",
       "    .dataframe tbody tr th {\n",
       "        vertical-align: top;\n",
       "    }\n",
       "\n",
       "    .dataframe thead th {\n",
       "        text-align: right;\n",
       "    }\n",
       "</style>\n",
       "<table border=\"1\" class=\"dataframe\">\n",
       "  <thead>\n",
       "    <tr style=\"text-align: right;\">\n",
       "      <th></th>\n",
       "      <th>text</th>\n",
       "      <th>label</th>\n",
       "    </tr>\n",
       "  </thead>\n",
       "  <tbody>\n",
       "    <tr>\n",
       "      <th>0</th>\n",
       "      <td>i just feel really helpless and heavy hearted</td>\n",
       "      <td>4</td>\n",
       "    </tr>\n",
       "    <tr>\n",
       "      <th>1</th>\n",
       "      <td>ive enjoyed being able to slouch about relax a...</td>\n",
       "      <td>0</td>\n",
       "    </tr>\n",
       "    <tr>\n",
       "      <th>2</th>\n",
       "      <td>i gave up my internship with the dmrg and am f...</td>\n",
       "      <td>4</td>\n",
       "    </tr>\n",
       "    <tr>\n",
       "      <th>3</th>\n",
       "      <td>i dont know i feel so lost</td>\n",
       "      <td>0</td>\n",
       "    </tr>\n",
       "    <tr>\n",
       "      <th>4</th>\n",
       "      <td>i am a kindergarten teacher and i am thoroughl...</td>\n",
       "      <td>4</td>\n",
       "    </tr>\n",
       "    <tr>\n",
       "      <th>...</th>\n",
       "      <td>...</td>\n",
       "      <td>...</td>\n",
       "    </tr>\n",
       "    <tr>\n",
       "      <th>416804</th>\n",
       "      <td>i feel like telling these horny devils to find...</td>\n",
       "      <td>2</td>\n",
       "    </tr>\n",
       "    <tr>\n",
       "      <th>416805</th>\n",
       "      <td>i began to realize that when i was feeling agi...</td>\n",
       "      <td>3</td>\n",
       "    </tr>\n",
       "    <tr>\n",
       "      <th>416806</th>\n",
       "      <td>i feel very curious be why previous early dawn...</td>\n",
       "      <td>5</td>\n",
       "    </tr>\n",
       "    <tr>\n",
       "      <th>416807</th>\n",
       "      <td>i feel that becuase of the tyranical nature of...</td>\n",
       "      <td>3</td>\n",
       "    </tr>\n",
       "    <tr>\n",
       "      <th>416808</th>\n",
       "      <td>i think that after i had spent some time inves...</td>\n",
       "      <td>5</td>\n",
       "    </tr>\n",
       "  </tbody>\n",
       "</table>\n",
       "<p>416809 rows × 2 columns</p>\n",
       "</div>"
      ],
      "text/plain": [
       "                                                     text  label\n",
       "0           i just feel really helpless and heavy hearted      4\n",
       "1       ive enjoyed being able to slouch about relax a...      0\n",
       "2       i gave up my internship with the dmrg and am f...      4\n",
       "3                              i dont know i feel so lost      0\n",
       "4       i am a kindergarten teacher and i am thoroughl...      4\n",
       "...                                                   ...    ...\n",
       "416804  i feel like telling these horny devils to find...      2\n",
       "416805  i began to realize that when i was feeling agi...      3\n",
       "416806  i feel very curious be why previous early dawn...      5\n",
       "416807  i feel that becuase of the tyranical nature of...      3\n",
       "416808  i think that after i had spent some time inves...      5\n",
       "\n",
       "[416809 rows x 2 columns]"
      ]
     },
     "execution_count": 8,
     "metadata": {},
     "output_type": "execute_result"
    }
   ],
   "source": [
    "data"
   ]
  },
  {
   "cell_type": "markdown",
   "id": "9a83f9c2",
   "metadata": {},
   "source": [
    "Each entry in this dataset consists of a text segment representing a Twitter message and a corresponding label indicating the predominant emotion conveyed. The emotions are classified into six categories: \n",
    "1. sadness (0)\n",
    "2. joy (1)\n",
    "3. love (2)\n",
    "4. anger (3)\n",
    "5. fear (4)\n",
    "6. surprise (5)"
   ]
  },
  {
   "cell_type": "code",
   "execution_count": 13,
   "id": "3275f576",
   "metadata": {},
   "outputs": [
    {
     "name": "stderr",
     "output_type": "stream",
     "text": [
      "/Users/adityasingh/opt/anaconda3/lib/python3.9/site-packages/seaborn/_decorators.py:36: FutureWarning: Pass the following variables as keyword args: x, y. From version 0.12, the only valid positional argument will be `data`, and passing other arguments without an explicit keyword will result in an error or misinterpretation.\n",
      "  warnings.warn(\n"
     ]
    },
    {
     "data": {
      "text/plain": [
       "<AxesSubplot:ylabel='label'>"
      ]
     },
     "execution_count": 13,
     "metadata": {},
     "output_type": "execute_result"
    },
    {
     "data": {
      "image/png": "[encoded data removed]",
      "text/plain": [
       "<Figure size 432x288 with 1 Axes>"
      ]
     },
     "metadata": {
      "needs_background": "light"
     },
     "output_type": "display_data"
    }
   ],
   "source": [
    "sns.barplot(data.label.value_counts().index, data.label.value_counts())"
   ]
  },
  {
   "cell_type": "code",
   "execution_count": 145,
   "id": "aec7d6f2",
   "metadata": {},
   "outputs": [
    {
     "name": "stdout",
     "output_type": "stream",
     "text": [
      "[' ', 'a', 'b', 'c', 'd', 'e', 'f', 'g', 'h', 'i', 'j', 'k', 'l', 'm', 'n', 'o', 'p', 'q', 'r', 's', 't', 'u', 'v', 'w', 'x', 'y', 'z']\n"
     ]
    }
   ],
   "source": [
    "# checking all the distince characters in the tweet\n",
    "unique_chars = ' '.join(data.text.tolist())\n",
    "unique_chars = sorted((list(set(allText))))\n",
    "print(unique_chars)\n",
    "\n",
    "# we can conclude that the data is already clean, so we dont need to do any preprocessing"
   ]
  },
  {
   "cell_type": "code",
   "execution_count": 216,
   "id": "3aff69bb",
   "metadata": {},
   "outputs": [],
   "source": [
    "def text_preprocessing(text):\n",
    "    text = text.replace('ive', 'i have')\n",
    "    text = text.replace('dont', 'do not')\n",
    "    text = text.replace('cant', 'can not')\n",
    "    text = text.replace('didnt', 'did not')\n",
    "    text = text.replace('wasnt', 'was not')\n",
    "    text = text.replace('thats', 'that is')\n",
    "    text = text.replace('wont', 'would not')\n",
    "    text = text.replace('havent', 'have not')\n",
    "    text = text.replace('testimoney', 'testimony')\n",
    "    text = text.replace('doesnt', 'does not')\n",
    "    text = text.replace('youre', 'you are')\n",
    "    text = text.replace('positi', 'positive')\n",
    "    text = text.replace('couldnt', 'could not')\n",
    "    text = text.replace('theres', 'there is')\n",
    "    text = text.replace('isnt', 'is not')\n",
    "    text = text.replace('wouldnt', 'would not')\n",
    "    listOfWords = text.split()\n",
    "    for i in range(len(listOfWords)):\n",
    "        if listOfWords[i]=='havely' or listOfWords[i]=='haved':\n",
    "            listOfWords[i] = listOfWords[i][2:]\n",
    "    sentence = ''\n",
    "    for i in range(len(listOfWords)-1):\n",
    "        if listOfWords[i+1] == 'vely' or listOfWords[i+1] == 'ved':\n",
    "            sentence = sentence + ' ' + listOfWords[i] + listOfWords[i+1]\n",
    "            i = i+1\n",
    "        else:\n",
    "            sentence = sentence + ' ' + listOfWords[i]\n",
    "    text = sentence\n",
    "    \n",
    "    return text"
   ]
  },
  {
   "cell_type": "code",
   "execution_count": 217,
   "id": "935066b6",
   "metadata": {},
   "outputs": [
    {
     "name": "stderr",
     "output_type": "stream",
     "text": [
      "100%|████████████████████████████████| 416809/416809 [00:04<00:00, 83547.19it/s]\n"
     ]
    }
   ],
   "source": [
    "data.text = data.text.progress_apply(text_preprocessing)"
   ]
  },
  {
   "cell_type": "code",
   "execution_count": 218,
   "id": "83094abd",
   "metadata": {},
   "outputs": [],
   "source": [
    "tokenizer = model.tokenizer\n",
    "embedding_vocab = tokenizer.vocab"
   ]
  },
  {
   "cell_type": "code",
   "execution_count": 219,
   "id": "c9c4834b",
   "metadata": {},
   "outputs": [
    {
     "name": "stderr",
     "output_type": "stream",
     "text": [
      "100%|███████████████████████████████| 416809/416809 [00:01<00:00, 213722.43it/s]\n"
     ]
    }
   ],
   "source": [
    "my_data_vocab = {}\n",
    "for x in tqdm(data.text.tolist()):\n",
    "    words = x.split()\n",
    "    for word in words:\n",
    "        try:\n",
    "            my_data_vocab[word] += 1\n",
    "        except:\n",
    "            my_data_vocab[word] = 1\n",
    "            \n",
    "my_data_vocab = sorted(my_data_vocab.items(), key=operator.itemgetter(1))[::-1]"
   ]
  },
  {
   "cell_type": "code",
   "execution_count": 220,
   "id": "c2dad28c",
   "metadata": {},
   "outputs": [
    {
     "data": {
      "text/plain": [
       "('i', 592577)"
      ]
     },
     "execution_count": 220,
     "metadata": {},
     "output_type": "execute_result"
    }
   ],
   "source": [
    "my_data_vocab[:10][0]"
   ]
  },
  {
   "cell_type": "code",
   "execution_count": 221,
   "id": "911fb562",
   "metadata": {},
   "outputs": [],
   "source": [
    "def check_coverage(vocab):\n",
    "    total_unique = len(my_data_vocab)*1.0\n",
    "    a = {}\n",
    "    oov = {}\n",
    "    k = 0\n",
    "    j = 0\n",
    "    for word in tqdm(vocab):\n",
    "        try:\n",
    "            a[word[0]] = embedding_vocab[word[0]]\n",
    "            k += word[1]\n",
    "        except KeyError:\n",
    "            oov[word[0]] = word[1]\n",
    "            j += word[1]\n",
    "    print(f\"Total percentage covered for unique words is: {(len(a)/total_unique)*100.0}\")\n",
    "    print(f\"Total percentage covered for entire text is: {(k*1.0)*100.0/(k+j)}\")\n",
    "    oov = sorted(oov.items(), key=operator.itemgetter(1))[::-1]\n",
    "    return oov"
   ]
  },
  {
   "cell_type": "code",
   "execution_count": 212,
   "id": "a162969f",
   "metadata": {},
   "outputs": [
    {
     "name": "stderr",
     "output_type": "stream",
     "text": [
      "100%|█████████████████████████████████| 60615/60615 [00:00<00:00, 959720.87it/s]"
     ]
    },
    {
     "name": "stdout",
     "output_type": "stream",
     "text": [
      "Total percentage covered for unique words is: 30.645879732739424\n",
      "Total percentage covered for entire text is: 96.78454303514134\n"
     ]
    },
    {
     "name": "stderr",
     "output_type": "stream",
     "text": [
      "\n"
     ]
    }
   ],
   "source": [
    "oov = check_coverage(my_data_vocab)"
   ]
  },
  {
   "cell_type": "code",
   "execution_count": 222,
   "id": "80d9b241",
   "metadata": {},
   "outputs": [
    {
     "name": "stderr",
     "output_type": "stream",
     "text": [
      "100%|█████████████████████████████████| 58694/58694 [00:00<00:00, 928170.35it/s]"
     ]
    },
    {
     "name": "stdout",
     "output_type": "stream",
     "text": [
      "Total percentage covered for unique words is: 31.42910689337922\n",
      "Total percentage covered for entire text is: 96.78884651250603\n"
     ]
    },
    {
     "name": "stderr",
     "output_type": "stream",
     "text": [
      "\n"
     ]
    }
   ],
   "source": [
    "oov = check_coverage(my_data_vocab)"
   ]
  },
  {
   "cell_type": "code",
   "execution_count": 223,
   "id": "28ed4fa4",
   "metadata": {},
   "outputs": [
    {
     "data": {
      "text/plain": [
       "[('ved', 6277),\n",
       " ('vedvedved', 2210),\n",
       " ('vedvedvedvedved', 1941),\n",
       " ('haves', 1606),\n",
       " ('creati', 1148),\n",
       " ('hes', 1000),\n",
       " ('insecure', 909),\n",
       " ('apprehensi', 904),\n",
       " ('resentful', 903),\n",
       " ('producti', 839)]"
      ]
     },
     "execution_count": 223,
     "metadata": {},
     "output_type": "execute_result"
    }
   ],
   "source": [
    "oov[:10]"
   ]
  },
  {
   "cell_type": "code",
   "execution_count": 224,
   "id": "ce0880a9",
   "metadata": {},
   "outputs": [
    {
     "name": "stdout",
     "output_type": "stream",
     "text": [
      "148\n",
      " i feel agitated and can not think of anything producti have to do all i can really do is lay on my bed not getting a blink\n"
     ]
    }
   ],
   "source": [
    "tweets = data.text.tolist()\n",
    "for i, tweet in enumerate(tweets):\n",
    "    if 'producti' in tweet.split() and i>0:\n",
    "        print(i)\n",
    "        print(tweet)\n",
    "        break"
   ]
  },
  {
   "cell_type": "code",
   "execution_count": 227,
   "id": "8a70e814",
   "metadata": {},
   "outputs": [
    {
     "name": "stderr",
     "output_type": "stream",
     "text": [
      "100%|█████████████████████████████████| 416809/416809 [01:22<00:00, 5049.29it/s]\n"
     ]
    }
   ],
   "source": [
    "encoded_data = []\n",
    "for sentence in tqdm(data.text.tolist()):\n",
    "    encoded_data.append(tokenizer.encode(sentence))"
   ]
  },
  {
   "cell_type": "code",
   "execution_count": 231,
   "id": "c72e3f12",
   "metadata": {},
   "outputs": [],
   "source": [
    "length_data = [len(x) for x in encoded_data]\n",
    "maxlen = max(length_data)"
   ]
  },
  {
   "cell_type": "code",
   "execution_count": 239,
   "id": "2ca77485",
   "metadata": {},
   "outputs": [
    {
     "data": {
      "text/plain": [
       "183"
      ]
     },
     "execution_count": 239,
     "metadata": {},
     "output_type": "execute_result"
    }
   ],
   "source": [
    "maxlen"
   ]
  },
  {
   "cell_type": "code",
   "execution_count": 237,
   "id": "4cbd68d2",
   "metadata": {},
   "outputs": [
    {
     "data": {
      "text/plain": [
       "<AxesSubplot:ylabel='Count'>"
      ]
     },
     "execution_count": 237,
     "metadata": {},
     "output_type": "execute_result"
    },
    {
     "data": {
      "image/png": "[encoded data removed]",
      "text/plain": [
       "<Figure size 432x288 with 1 Axes>"
      ]
     },
     "metadata": {
      "needs_background": "light"
     },
     "output_type": "display_data"
    }
   ],
   "source": [
    "sns.histplot(length_data, bins=80)"
   ]
  },
  {
   "cell_type": "code",
   "execution_count": 248,
   "id": "aac53ea7",
   "metadata": {},
   "outputs": [],
   "source": [
    "from tensorflow.keras.utils import pad_sequences, to_categorical\n",
    "from tensorflow.keras.layers import Dense, Dropout\n",
    "from tensorflow.keras.models import Sequential"
   ]
  },
  {
   "cell_type": "code",
   "execution_count": 246,
   "id": "6c77e663",
   "metadata": {},
   "outputs": [],
   "source": [
    "padded_data = pad_sequences(encoded_data, maxlen=185, padding='post')\n",
    "labels = to_categorical(data.label)"
   ]
  },
  {
   "cell_type": "code",
   "execution_count": 247,
   "id": "9f0afa5e",
   "metadata": {},
   "outputs": [
    {
     "data": {
      "text/plain": [
       "array([[0., 0., 0., 0., 1., 0.],\n",
       "       [1., 0., 0., 0., 0., 0.],\n",
       "       [0., 0., 0., 0., 1., 0.],\n",
       "       ...,\n",
       "       [0., 0., 0., 0., 0., 1.],\n",
       "       [0., 0., 0., 1., 0., 0.],\n",
       "       [0., 0., 0., 0., 0., 1.]], dtype=float32)"
      ]
     },
     "execution_count": 247,
     "metadata": {},
     "output_type": "execute_result"
    }
   ],
   "source": [
    "labels"
   ]
  },
  {
   "cell_type": "code",
   "execution_count": 270,
   "id": "07ee557f",
   "metadata": {},
   "outputs": [
    {
     "name": "stdout",
     "output_type": "stream",
     "text": [
      "train_data shape: (416809, 185), train_label shape: (416809, 6)\n",
      "train_data max embedding: 29611\n"
     ]
    }
   ],
   "source": [
    "padded_np = np.array(padded_data)\n",
    "print(f\"train_data shape: {padded_np.shape}, train_label shape: {labels.shape}\")\n",
    "print(f\"train_data max embedding: {np.max(padded_np)}\")"
   ]
  },
  {
   "cell_type": "code",
   "execution_count": 266,
   "id": "c2ae32e3",
   "metadata": {},
   "outputs": [],
   "source": [
    "basic_nn_model = Sequential()\n",
    "basic_nn_model.add(Dense(1024, activation='relu', input_shape=(padded_np.shape[1],)))\n",
    "basic_nn_model.add(Dropout(0.3))\n",
    "basic_nn_model.add(Dense(512, activation='relu'))\n",
    "basic_nn_model.add(Dense(64, activation='relu'))\n",
    "basic_nn_model.add(Dense(6, activation='softmax'))"
   ]
  },
  {
   "cell_type": "code",
   "execution_count": 267,
   "id": "73b95b33",
   "metadata": {},
   "outputs": [],
   "source": [
    "basic_nn_model.compile(optimizer='adam', loss='categorical_crossentropy', metrics=['acc'])"
   ]
  },
  {
   "cell_type": "code",
   "execution_count": 268,
   "id": "6ecfb27a",
   "metadata": {},
   "outputs": [
    {
     "name": "stdout",
     "output_type": "stream",
     "text": [
      "Model: \"sequential_4\"\n",
      "_________________________________________________________________\n",
      " Layer (type)                Output Shape              Param #   \n",
      "=================================================================\n",
      " dense_13 (Dense)            (None, 1024)              190464    \n",
      "                                                                 \n",
      " dropout (Dropout)           (None, 1024)              0         \n",
      "                                                                 \n",
      " dense_14 (Dense)            (None, 512)               524800    \n",
      "                                                                 \n",
      " dense_15 (Dense)            (None, 64)                32832     \n",
      "                                                                 \n",
      " dense_16 (Dense)            (None, 6)                 390       \n",
      "                                                                 \n",
      "=================================================================\n",
      "Total params: 748486 (2.86 MB)\n",
      "Trainable params: 748486 (2.86 MB)\n",
      "Non-trainable params: 0 (0.00 Byte)\n",
      "_________________________________________________________________\n"
     ]
    }
   ],
   "source": [
    "basic_nn_model.summary()"
   ]
  },
  {
   "cell_type": "code",
   "execution_count": 269,
   "id": "ae078cba",
   "metadata": {},
   "outputs": [
    {
     "name": "stdout",
     "output_type": "stream",
     "text": [
      "Epoch 1/5\n",
      "18236/18236 [==============================] - 153s 8ms/step - loss: 2.5653 - acc: 0.3380 - val_loss: 1.5736 - val_acc: 0.3384\n",
      "Epoch 2/5\n",
      "18236/18236 [==============================] - 158s 9ms/step - loss: 1.5725 - acc: 0.3385 - val_loss: 1.5737 - val_acc: 0.3384\n",
      "Epoch 3/5\n",
      "18236/18236 [==============================] - 155s 8ms/step - loss: 1.5725 - acc: 0.3385 - val_loss: 1.5736 - val_acc: 0.3384\n",
      "Epoch 4/5\n",
      "18236/18236 [==============================] - 160s 9ms/step - loss: 1.5725 - acc: 0.3385 - val_loss: 1.5736 - val_acc: 0.3384\n",
      "Epoch 5/5\n",
      "18236/18236 [==============================] - 159s 9ms/step - loss: 1.5724 - acc: 0.3385 - val_loss: 1.5739 - val_acc: 0.3384\n"
     ]
    }
   ],
   "source": [
    "history = basic_nn_model.fit(padded_np, labels, epochs=5, batch_size=16, validation_split=0.3)"
   ]
  },
  {
   "cell_type": "code",
   "execution_count": 280,
   "id": "77b0ab07",
   "metadata": {},
   "outputs": [],
   "source": [
    "from tensorflow.keras.layers import GRU, Bidirectional, Embedding, Flatten\n",
    "from tensorflow.keras.optimizers import Adam\n",
    "UNITS = 256\n",
    "\n",
    "lstm_model_basic = Sequential()\n",
    "lstm_model_basic.add(Embedding(100207, 15, input_shape=(padded_np.shape[1], )))\n",
    "lstm_model_basic.add(Bidirectional(GRU(units=UNITS, return_sequences=True)))\n",
    "lstm_model_basic.add(Flatten())\n",
    "lstm_model_basic.add(Dense(128, activation='relu'))\n",
    "lstm_model_basic.add(Dense(32, activation='relu'))\n",
    "lstm_model_basic.add(Dense(8, activation='relu'))\n",
    "lstm_model_basic.add(Dense(6, activation='softmax'))"
   ]
  },
  {
   "cell_type": "code",
   "execution_count": 281,
   "id": "d93cedaf",
   "metadata": {},
   "outputs": [],
   "source": [
    "adam = Adam(learning_rate=1e-5)\n",
    "lstm_model_basic.compile(optimizer=adam, loss='categorical_crossentropy', metrics=['acc'])"
   ]
  },
  {
   "cell_type": "code",
   "execution_count": null,
   "id": "ad5c6781",
   "metadata": {},
   "outputs": [],
   "source": [
    "history = lstm_model_basic.fit(padded_np, labels, epochs=5, batch_size=32, validation_split=0.3)"
   ]
  },
  {
   "cell_type": "code",
   "execution_count": null,
   "id": "ddb78d23",
   "metadata": {},
   "outputs": [],
   "source": []
  }
 ],
 "metadata": {
  "kernelspec": {
   "display_name": "Python 3 (ipykernel)",
   "language": "python",
   "name": "python3"
  },
  "language_info": {
   "codemirror_mode": {
    "name": "ipython",
    "version": 3
   },
   "file_extension": ".py",
   "mimetype": "text/x-python",
   "name": "python",
   "nbconvert_exporter": "python",
   "pygments_lexer": "ipython3",
   "version": "3.9.7"
  }
 },
 "nbformat": 4,
 "nbformat_minor": 5
}

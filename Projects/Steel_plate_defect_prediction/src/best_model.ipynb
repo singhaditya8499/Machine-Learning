{
 "cells": [
  {
   "cell_type": "code",
   "execution_count": 108,
   "id": "9d2dfe6f",
   "metadata": {},
   "outputs": [],
   "source": [
    "import pandas as pd\n",
    "import numpy as np\n",
    "import matplotlib.pyplot as plt \n",
    "import seaborn as sns\n",
    "import warnings\n",
    "warnings.filterwarnings('ignore')\n",
    "%matplotlib inline"
   ]
  },
  {
   "cell_type": "code",
   "execution_count": 54,
   "id": "da8b0eb7",
   "metadata": {},
   "outputs": [],
   "source": [
    "train = pd.read_csv(\"../data/train.csv\").set_index('id')\n",
    "test = pd.read_csv(\"../data/test.csv\").set_index('id')"
   ]
  },
  {
   "cell_type": "code",
   "execution_count": 55,
   "id": "00b5ea46",
   "metadata": {},
   "outputs": [
    {
     "name": "stdout",
     "output_type": "stream",
     "text": [
      "Total columns in the train dataset is: 34\n",
      "['X_Minimum' 'X_Maximum' 'Y_Minimum' 'Y_Maximum' 'Pixels_Areas'\n",
      " 'X_Perimeter' 'Y_Perimeter' 'Sum_of_Luminosity' 'Minimum_of_Luminosity'\n",
      " 'Maximum_of_Luminosity' 'Length_of_Conveyer' 'TypeOfSteel_A300'\n",
      " 'TypeOfSteel_A400' 'Steel_Plate_Thickness' 'Edges_Index' 'Empty_Index'\n",
      " 'Square_Index' 'Outside_X_Index' 'Edges_X_Index' 'Edges_Y_Index'\n",
      " 'Outside_Global_Index' 'LogOfAreas' 'Log_X_Index' 'Log_Y_Index'\n",
      " 'Orientation_Index' 'Luminosity_Index' 'SigmoidOfAreas' 'Pastry'\n",
      " 'Z_Scratch' 'K_Scatch' 'Stains' 'Dirtiness' 'Bumps' 'Other_Faults']\n"
     ]
    }
   ],
   "source": [
    "print(f\"Total columns in the train dataset is: {len(train.columns)}\")\n",
    "print(train.columns.values)"
   ]
  },
  {
   "cell_type": "code",
   "execution_count": 56,
   "id": "9b562632",
   "metadata": {},
   "outputs": [],
   "source": [
    "target_classes = ['Pastry', 'Z_Scratch', 'K_Scatch', 'Stains', 'Dirtiness', 'Bumps', 'Other_Faults']\n",
    "targets = train[target_classes]\n",
    "train = train.drop(target_classes, axis='columns')"
   ]
  },
  {
   "cell_type": "code",
   "execution_count": 57,
   "id": "9d95dd94",
   "metadata": {},
   "outputs": [
    {
     "data": {
      "text/plain": [
       "Pastry          1466\n",
       "Z_Scratch       1150\n",
       "K_Scatch        3432\n",
       "Stains           568\n",
       "Dirtiness        485\n",
       "Bumps           4763\n",
       "Other_Faults    6558\n",
       "dtype: int64"
      ]
     },
     "execution_count": 57,
     "metadata": {},
     "output_type": "execute_result"
    }
   ],
   "source": [
    "targets.sum(axis=0)"
   ]
  },
  {
   "cell_type": "code",
   "execution_count": 58,
   "id": "c62f6283",
   "metadata": {},
   "outputs": [
    {
     "name": "stdout",
     "output_type": "stream",
     "text": [
      "Unique sum values long the row are: [0 1 2]\n",
      "Count of occurrences of the unique values are:\n",
      "1    18380\n",
      "0      818\n",
      "2       21\n",
      "dtype: int64\n"
     ]
    }
   ],
   "source": [
    "# let us the see the sum along the rows\n",
    "\n",
    "print(f\"Unique sum values long the row are: {np.unique(targets.sum(axis=1))}\")\n",
    "print(f\"Count of occurrences of the unique values are:\\n{targets.sum(axis=1).value_counts()}\")\n",
    "# we can conclude that there are 3 different types, by logic there should only have been 1 unique value i.e. 1"
   ]
  },
  {
   "cell_type": "markdown",
   "id": "d9e307dd",
   "metadata": {},
   "source": [
    "Different tyes of faults in the steel are:\n",
    "\n",
    "- **Pastry:** Surface defect resembling a pastry, typically caused by improper cooling during production.\n",
    "- **Z_Scratch:** Narrow, linear scratch formation on the surface of steel, often caused by mishandling or abrasion.\n",
    "- **K_Scratch:** Similar to Z_Scratch, but with a different orientation, indicating distinct causes or manufacturing processes.\n",
    "- **Stains:** Discoloration or blemishes on the steel surface, often caused by chemical reactions or improper storage.\n",
    "- **Dirtiness:** Presence of foreign particles or contaminants on the steel surface, compromising its integrity.\n",
    "- **Bumps:** Raised irregularities on the steel surface, usually resulting from uneven rolling or processing.\n",
    "- **Other_Faults:** Miscellaneous defects not categorized under specific types, indicating a range of possible issues in steel production."
   ]
  },
  {
   "cell_type": "code",
   "execution_count": 59,
   "id": "13f47d1f",
   "metadata": {},
   "outputs": [],
   "source": [
    "target = targets @ (np.arange(targets.shape[1])+1)\n",
    "target[targets.sum(axis=1)==2] = 3"
   ]
  },
  {
   "cell_type": "code",
   "execution_count": 60,
   "id": "8a68f81b",
   "metadata": {},
   "outputs": [
    {
     "data": {
      "text/plain": [
       "7    0.340288\n",
       "6    0.247724\n",
       "3    0.178573\n",
       "1    0.076227\n",
       "2    0.059837\n",
       "0    0.042562\n",
       "4    0.029554\n",
       "5    0.025235\n",
       "dtype: float64"
      ]
     },
     "execution_count": 60,
     "metadata": {},
     "output_type": "execute_result"
    }
   ],
   "source": [
    "target.value_counts() / len(target)\n",
    "# target.value_counts()"
   ]
  },
  {
   "cell_type": "code",
   "execution_count": 61,
   "id": "f7d30d09",
   "metadata": {},
   "outputs": [],
   "source": [
    "target_classes_tmp = ['Zero_defect', 'Pastry', 'Z_Scratch', 'K_Scatch', 'Stains', 'Dirtiness', 'Bumps', 'Other_Faults']"
   ]
  },
  {
   "cell_type": "code",
   "execution_count": 62,
   "id": "8a9b016f",
   "metadata": {},
   "outputs": [
    {
     "data": {
      "image/png": "[encoded data removed]",
      "text/plain": [
       "<Figure size 720x360 with 1 Axes>"
      ]
     },
     "metadata": {
      "needs_background": "light"
     },
     "output_type": "display_data"
    }
   ],
   "source": [
    "plt.figure(figsize=(10,5))\n",
    "ax = sns.countplot(x=target)\n",
    "ax.set_xticklabels(target_classes_tmp)\n",
    "ax.grid()\n",
    "ax.set_title(\"Distribution of faults in different category\")\n",
    "ax.set_xlabel(\"Fault type\")\n",
    "ax.set_ylabel(\"Count\")\n",
    "plt.show()"
   ]
  },
  {
   "cell_type": "code",
   "execution_count": 63,
   "id": "af5fab93",
   "metadata": {},
   "outputs": [],
   "source": [
    "from sklearn.ensemble import RandomForestClassifier\n",
    "from sklearn.model_selection import cross_val_predict\n",
    "from sklearn.metrics import roc_auc_score"
   ]
  },
  {
   "cell_type": "code",
   "execution_count": 64,
   "id": "b8867bda",
   "metadata": {},
   "outputs": [
    {
     "name": "stdout",
     "output_type": "stream",
     "text": [
      "roc-auc score: 0.5010\n"
     ]
    }
   ],
   "source": [
    "X = pd.concat([train, test], axis=0)\n",
    "y = [0] * len(train) + [1]*len(test)\n",
    "model = RandomForestClassifier(random_state=37)\n",
    "cv_preds = cross_val_predict(model, X, y, cv=5, n_jobs=-1, method='predict_proba')\n",
    "score = roc_auc_score(y, cv_preds[:,1])\n",
    "print(f\"roc-auc score: {score:0.4f}\")"
   ]
  },
  {
   "cell_type": "code",
   "execution_count": 66,
   "id": "bcd6753e",
   "metadata": {},
   "outputs": [],
   "source": [
    "def calculate_coordinate_range_features(data):\n",
    "    data['X_range'] = data['X_Maximum'] - data['X_Minimum']\n",
    "    data['Y_range'] = data['Y_Maximum'] - data['Y_Minimum']\n",
    "    return data\n",
    "\n",
    "train = calculate_coordinate_range_features(train)\n",
    "test = calculate_coordinate_range_features(test)"
   ]
  },
  {
   "cell_type": "code",
   "execution_count": 67,
   "id": "3c82fc89",
   "metadata": {},
   "outputs": [],
   "source": [
    "def calculate_size_ratio_features(data):\n",
    "    data['Area_perimeter_ratio'] = data['Pixels_Areas']/(data['X_Perimeter'] + data['Y_Perimeter'])\n",
    "    return data\n",
    "\n",
    "train = calculate_size_ratio_features(train)\n",
    "test = calculate_size_ratio_features(test)"
   ]
  },
  {
   "cell_type": "code",
   "execution_count": 68,
   "id": "439499fa",
   "metadata": {},
   "outputs": [],
   "source": [
    "def calculate_luminosity_range_features(data):\n",
    "    data['Luminosity_range'] = data['Maximum_of_Luminosity'] - data['Minimum_of_Luminosity']\n",
    "    return data\n",
    "\n",
    "train = calculate_luminosity_range_features(train)\n",
    "test = calculate_luminosity_range_features(test)"
   ]
  },
  {
   "cell_type": "code",
   "execution_count": 71,
   "id": "51bc4b63",
   "metadata": {},
   "outputs": [],
   "source": [
    "pd.Series(target, name='target').to_csv(\"target.csv\")"
   ]
  },
  {
   "cell_type": "code",
   "execution_count": 72,
   "id": "14d764bd",
   "metadata": {},
   "outputs": [],
   "source": [
    "from sklearn.preprocessing import MinMaxScaler\n",
    "\n",
    "train = train.astype(np.float64)\n",
    "test = test.astype(np.float64)\n",
    "\n",
    "min_max_scaler = MinMaxScaler()\n",
    "min_max_scaler.fit(train)\n",
    "train[:] = min_max_scaler.transform(train)\n",
    "test[:] = min_max_scaler.transform(test)"
   ]
  },
  {
   "cell_type": "code",
   "execution_count": 93,
   "id": "e0319326",
   "metadata": {},
   "outputs": [],
   "source": [
    "from sklearn.model_selection import StratifiedKFold\n",
    "\n",
    "cv = StratifiedKFold(5, shuffle=True, random_state=37)\n",
    "cv_splits = cv.split(train, target)"
   ]
  },
  {
   "cell_type": "code",
   "execution_count": 101,
   "id": "aef04590",
   "metadata": {},
   "outputs": [],
   "source": [
    "from sklearn.model_selection import cross_validate\n",
    "from sklearn.metrics import make_scorer, roc_auc_score\n",
    "from xgboost import XGBClassifier"
   ]
  },
  {
   "cell_type": "code",
   "execution_count": 132,
   "id": "64e17a24",
   "metadata": {},
   "outputs": [],
   "source": [
    "cv_splits = cv.split(train, target)\n",
    "roc_auc_scores = list()\n",
    "cv_oof = pd.DataFrame(np.zeros((len(target), len(target_classes_tmp))), columns=target_classes_tmp)"
   ]
  },
  {
   "cell_type": "code",
   "execution_count": 133,
   "id": "681a4942",
   "metadata": {},
   "outputs": [
    {
     "name": "stderr",
     "output_type": "stream",
     "text": [
      "1it [00:05,  5.91s/it]"
     ]
    },
    {
     "name": "stdout",
     "output_type": "stream",
     "text": [
      "(3844, 8)\n",
      "(19219, 7)\n"
     ]
    },
    {
     "name": "stderr",
     "output_type": "stream",
     "text": [
      "\r",
      "2it [00:12,  6.32s/it]"
     ]
    },
    {
     "name": "stdout",
     "output_type": "stream",
     "text": [
      "(3844, 8)\n",
      "(19219, 7)\n"
     ]
    },
    {
     "name": "stderr",
     "output_type": "stream",
     "text": [
      "\r",
      "3it [00:19,  6.53s/it]"
     ]
    },
    {
     "name": "stdout",
     "output_type": "stream",
     "text": [
      "(3844, 8)\n",
      "(19219, 7)\n"
     ]
    },
    {
     "name": "stderr",
     "output_type": "stream",
     "text": [
      "\r",
      "4it [00:26,  6.85s/it]"
     ]
    },
    {
     "name": "stdout",
     "output_type": "stream",
     "text": [
      "(3844, 8)\n",
      "(19219, 7)\n"
     ]
    },
    {
     "name": "stderr",
     "output_type": "stream",
     "text": [
      "5it [00:33,  6.74s/it]"
     ]
    },
    {
     "name": "stdout",
     "output_type": "stream",
     "text": [
      "(3843, 8)\n",
      "(19219, 7)\n",
      "Cross validated ROC-AUC score: 0.874 +/- 0.003\n",
      "Max ROC-AUC score: 0.878\n",
      "Min ROC-AUC score: 0.869\n"
     ]
    },
    {
     "name": "stderr",
     "output_type": "stream",
     "text": [
      "\n"
     ]
    }
   ],
   "source": [
    "from tqdm import tqdm\n",
    "for train_idx, val_idx in tqdm(cv_splits):\n",
    "    xgb = XGBClassifier(booster='gbtree', device='cuda', tree_method='hist', objective='multi:softmax',\n",
    "                        num_class=len(set(target)), n_estimators=300, max_depth=6, verbostiy=0)\n",
    "    \n",
    "    X_train_fold, X_val_fold = train.iloc[train_idx], train.iloc[val_idx]\n",
    "    y_train_fold, y_val_fold = target[train_idx], target[val_idx]\n",
    "    \n",
    "    xgb.fit(X_train_fold, y_train_fold)\n",
    "    y_val_prob = xgb.predict_proba(X_val_fold)\n",
    "    print(y_val_prob.shape)\n",
    "    print(targets.shape)\n",
    "    roc_auc = roc_auc_score(targets.iloc[val_idx], y_val_prob[:, 1:], multi_class='ovr')\n",
    "    cv_oof.iloc[val_idx, :] = y_val_prob\n",
    "    roc_auc_scores.append(roc_auc)\n",
    "    \n",
    "roc_auc_mean = np.mean(roc_auc_scores)\n",
    "roc_auc_std = np.std(roc_auc_scores)\n",
    "roc_auc_max = np.max(roc_auc_scores)\n",
    "roc_auc_min = np.min(roc_auc_scores)\n",
    "\n",
    "print(f\"Cross validated ROC-AUC score: {roc_auc_mean:.3f} +/- {roc_auc_std:.3f}\")\n",
    "print(f\"Max ROC-AUC score: {roc_auc_max:.3f}\")\n",
    "print(f\"Min ROC-AUC score: {roc_auc_min:.3f}\")"
   ]
  },
  {
   "cell_type": "code",
   "execution_count": 122,
   "id": "e2bf938c",
   "metadata": {},
   "outputs": [
    {
     "name": "stdout",
     "output_type": "stream",
     "text": [
      "              precision    recall  f1-score   support\n",
      "\n",
      " Zero_defect       0.07      0.01      0.01       818\n",
      "      Pastry       0.37      0.21      0.27      1465\n",
      "   Z_Scratch       0.61      0.58      0.60      1150\n",
      "    K_Scatch       0.88      0.90      0.89      3432\n",
      "      Stains       0.70      0.79      0.74       568\n",
      "   Dirtiness       0.40      0.14      0.21       485\n",
      "       Bumps       0.49      0.50      0.49      4761\n",
      "Other_Faults       0.47      0.58      0.52      6540\n",
      "\n",
      "    accuracy                           0.56     19219\n",
      "   macro avg       0.50      0.46      0.47     19219\n",
      "weighted avg       0.54      0.56      0.54     19219\n",
      "\n"
     ]
    }
   ],
   "source": [
    "from sklearn.metrics import classification_report\n",
    "print(classification_report(target, np.argmax(cv_oof.values, axis=1), target_names=target_classes_tmp))"
   ]
  },
  {
   "cell_type": "code",
   "execution_count": 124,
   "id": "8c6e570f",
   "metadata": {},
   "outputs": [
    {
     "data": {
      "image/png": "[encoded data removed]",
      "text/plain": [
       "<Figure size 576x432 with 2 Axes>"
      ]
     },
     "metadata": {},
     "output_type": "display_data"
    }
   ],
   "source": [
    "from sklearn.metrics import confusion_matrix\n",
    "\n",
    "conf_matrix = confusion_matrix(target, np.argmax(cv_oof.values, axis=1))\n",
    "plt.figure(figsize=(8,6))\n",
    "sns.set(font_scale=1.2)\n",
    "sns.heatmap(conf_matrix, annot=True, fmt='d', xticklabels=target_classes_tmp, yticklabels=target_classes_tmp)\n",
    "plt.xlabel('Predicted label')\n",
    "plt.ylabel('True label')\n",
    "plt.show()"
   ]
  },
  {
   "cell_type": "code",
   "execution_count": 125,
   "id": "53a9bbde",
   "metadata": {},
   "outputs": [],
   "source": [
    "import optuna\n",
    "from optuna.samplers import TPESampler\n",
    "\n",
    "run_optimization = False"
   ]
  },
  {
   "cell_type": "code",
   "execution_count": 142,
   "id": "2e596048",
   "metadata": {},
   "outputs": [
    {
     "name": "stderr",
     "output_type": "stream",
     "text": [
      "[I 2024-03-15 18:16:12,496] A new study created in memory with name: first_study\n",
      "[I 2024-03-15 18:16:31,289] Trial 0 finished with value: 0.8660200748362958 and parameters: {'grow_policy': 'depthwise', 'n_estimators': 463, 'learning_rate': 0.70008896564255, 'gamma': 0.04087269102858979, 'subsample': 0.9732698943456526, 'colsample_bytree': 0.4948771046692016, 'max_depth': 5, 'min_child_weight': 2, 'reg_lambda': 3.2328663979844373e-06, 'reg_alpha': 1.7622383075148186e-06}. Best is trial 0 with value: 0.8660200748362958.\n",
      "[I 2024-03-15 18:17:20,460] Trial 1 finished with value: 0.8886630094321568 and parameters: {'grow_policy': 'lossguide', 'n_estimators': 814, 'learning_rate': 0.010203899353003507, 'gamma': 0.4310675068202116, 'subsample': 0.7344681771744559, 'colsample_bytree': 0.40218923630395664, 'max_depth': 4, 'min_child_weight': 7, 'reg_lambda': 1.0347843846943514e-09, 'reg_alpha': 3.7850834751973452}. Best is trial 1 with value: 0.8886630094321568.\n",
      "[I 2024-03-15 18:17:47,514] Trial 2 finished with value: 0.8881517122900651 and parameters: {'grow_policy': 'lossguide', 'n_estimators': 759, 'learning_rate': 0.030810772691610457, 'gamma': 0.23067123357276165, 'subsample': 0.7271980370194953, 'colsample_bytree': 0.6076672958753866, 'max_depth': 2, 'min_child_weight': 7, 'reg_lambda': 0.01919929533243794, 'reg_alpha': 6.037138758670547e-06}. Best is trial 1 with value: 0.8886630094321568.\n",
      "[I 2024-03-15 18:18:24,769] Trial 3 finished with value: 0.877771145167219 and parameters: {'grow_policy': 'lossguide', 'n_estimators': 624, 'learning_rate': 0.4444289755165834, 'gamma': 0.3336095941725471, 'subsample': 0.8828457920594912, 'colsample_bytree': 0.4385561376123859, 'max_depth': 3, 'min_child_weight': 2, 'reg_lambda': 53.44553584924148, 'reg_alpha': 1.034128565519307}. Best is trial 1 with value: 0.8886630094321568.\n",
      "[I 2024-03-15 18:19:15,601] Trial 4 finished with value: 0.8574240202036558 and parameters: {'grow_policy': 'lossguide', 'n_estimators': 610, 'learning_rate': 0.8322826202249759, 'gamma': 0.022477664317067065, 'subsample': 0.49818165699705175, 'colsample_bytree': 0.5639391709553511, 'max_depth': 6, 'min_child_weight': 5, 'reg_lambda': 3.1281392503265067e-06, 'reg_alpha': 4.485714980780165}. Best is trial 1 with value: 0.8886630094321568.\n",
      "[I 2024-03-15 18:19:52,517] Trial 5 finished with value: 0.8829068313724472 and parameters: {'grow_policy': 'depthwise', 'n_estimators': 237, 'learning_rate': 0.046645057562666806, 'gamma': 0.3396904492430698, 'subsample': 0.3742803809772377, 'colsample_bytree': 0.6038939702191153, 'max_depth': 12, 'min_child_weight': 5, 'reg_lambda': 1.5879568515399028e-06, 'reg_alpha': 0.19929636137423035}. Best is trial 1 with value: 0.8886630094321568.\n",
      "[I 2024-03-15 18:20:46,518] Trial 6 finished with value: 0.8593463912979796 and parameters: {'grow_policy': 'depthwise', 'n_estimators': 595, 'learning_rate': 0.39801433739181835, 'gamma': 0.030138727644145456, 'subsample': 0.39226589960912595, 'colsample_bytree': 0.9241142093579604, 'max_depth': 0, 'min_child_weight': 7, 'reg_lambda': 6.395032568077328e-06, 'reg_alpha': 0.5691273960299306}. Best is trial 1 with value: 0.8886630094321568.\n",
      "[I 2024-03-15 18:21:15,743] Trial 7 finished with value: 0.86727286221232 and parameters: {'grow_policy': 'depthwise', 'n_estimators': 841, 'learning_rate': 0.37264483346824007, 'gamma': 0.48017399128354515, 'subsample': 0.3514288052500502, 'colsample_bytree': 0.4991524529743738, 'max_depth': 2, 'min_child_weight': 1, 'reg_lambda': 7.248452548665433e-05, 'reg_alpha': 3.5319708646198404e-09}. Best is trial 1 with value: 0.8886630094321568.\n",
      "[I 2024-03-15 18:21:24,432] Trial 8 finished with value: 0.8728854758982971 and parameters: {'grow_policy': 'depthwise', 'n_estimators': 207, 'learning_rate': 0.04575352839838522, 'gamma': 0.19128604269568764, 'subsample': 0.7479643539929671, 'colsample_bytree': 0.5951603125990526, 'max_depth': 3, 'min_child_weight': 7, 'reg_lambda': 2.716600540935882e-09, 'reg_alpha': 73.6225520792718}. Best is trial 1 with value: 0.8886630094321568.\n",
      "[I 2024-03-15 18:22:18,064] Trial 9 finished with value: 0.8849531635695923 and parameters: {'grow_policy': 'lossguide', 'n_estimators': 857, 'learning_rate': 0.12020770332602097, 'gamma': 0.16950040969000044, 'subsample': 0.8981468550593343, 'colsample_bytree': 0.35349490391333643, 'max_depth': 9, 'min_child_weight': 5, 'reg_lambda': 9.855975280523426, 'reg_alpha': 8.645205340392433}. Best is trial 1 with value: 0.8886630094321568.\n",
      "[I 2024-03-15 18:25:43,866] Trial 10 finished with value: 0.8863338857160636 and parameters: {'grow_policy': 'lossguide', 'n_estimators': 998, 'learning_rate': 0.012273346752792074, 'gamma': 0.4996757643939685, 'subsample': 0.5616506448362603, 'colsample_bytree': 0.7802369652057664, 'max_depth': 9, 'min_child_weight': 4, 'reg_lambda': 9.687912650475263e-09, 'reg_alpha': 0.0025822658401010966}. Best is trial 1 with value: 0.8886630094321568.\n",
      "[I 2024-03-15 18:31:15,465] Trial 11 finished with value: 0.8842669841894428 and parameters: {'grow_policy': 'lossguide', 'n_estimators': 789, 'learning_rate': 0.013653169477532473, 'gamma': 0.34700374284066615, 'subsample': 0.7218403616127342, 'colsample_bytree': 0.7364719487089125, 'max_depth': 0, 'min_child_weight': 7, 'reg_lambda': 0.024436668234493166, 'reg_alpha': 1.0067520821249967e-05}. Best is trial 1 with value: 0.8886630094321568.\n",
      "[I 2024-03-15 18:32:01,049] Trial 12 finished with value: 0.8888692885389785 and parameters: {'grow_policy': 'lossguide', 'n_estimators': 757, 'learning_rate': 0.030502376352064983, 'gamma': 0.24298859017863397, 'subsample': 0.6708890782411012, 'colsample_bytree': 0.32375274138594184, 'max_depth': 4, 'min_child_weight': 6, 'reg_lambda': 0.011507002083583477, 'reg_alpha': 0.002904469450682609}. Best is trial 12 with value: 0.8888692885389785.\n",
      "[I 2024-03-15 18:32:31,797] Trial 13 finished with value: 0.8898961785765686 and parameters: {'grow_policy': 'lossguide', 'n_estimators': 359, 'learning_rate': 0.021831265569244144, 'gamma': 0.4078371165756942, 'subsample': 0.6347737565718329, 'colsample_bytree': 0.3015363399335394, 'max_depth': 5, 'min_child_weight': 6, 'reg_lambda': 0.040505779969286, 'reg_alpha': 0.0017170850766717893}. Best is trial 13 with value: 0.8898961785765686.\n",
      "[I 2024-03-15 18:33:41,358] Trial 14 finished with value: 0.8872874930224288 and parameters: {'grow_policy': 'lossguide', 'n_estimators': 393, 'learning_rate': 0.027227772385689752, 'gamma': 0.27811573729863354, 'subsample': 0.5951906131019257, 'colsample_bytree': 0.30500898581662267, 'max_depth': 8, 'min_child_weight': 4, 'reg_lambda': 0.08510276144939188, 'reg_alpha': 0.002665624486915146}. Best is trial 13 with value: 0.8898961785765686.\n",
      "[I 2024-03-15 18:34:23,099] Trial 15 finished with value: 0.87782725525216 and parameters: {'grow_policy': 'lossguide', 'n_estimators': 333, 'learning_rate': 0.12295612643275437, 'gamma': 0.1157393756804988, 'subsample': 0.5038542519766909, 'colsample_bytree': 0.3060420016150324, 'max_depth': 7, 'min_child_weight': 6, 'reg_lambda': 1.408542210714885, 'reg_alpha': 0.01410898169967342}. Best is trial 13 with value: 0.8898961785765686.\n",
      "[I 2024-03-15 18:34:36,760] Trial 16 finished with value: 0.8878367872801235 and parameters: {'grow_policy': 'lossguide', 'n_estimators': 136, 'learning_rate': 0.06997997741926858, 'gamma': 0.3930479635818277, 'subsample': 0.6338595683321584, 'colsample_bytree': 0.9801064947136597, 'max_depth': 5, 'min_child_weight': 6, 'reg_lambda': 0.0011990930974314024, 'reg_alpha': 0.00011970238006810457}. Best is trial 13 with value: 0.8898961785765686.\n",
      "[I 2024-03-15 18:37:01,484] Trial 17 finished with value: 0.8862149126144943 and parameters: {'grow_policy': 'lossguide', 'n_estimators': 507, 'learning_rate': 0.021780631967625832, 'gamma': 0.27676781611898765, 'subsample': 0.800477773866644, 'colsample_bytree': 0.4144657990639734, 'max_depth': 12, 'min_child_weight': 6, 'reg_lambda': 0.0008668408972914722, 'reg_alpha': 0.0001359059414042927}. Best is trial 13 with value: 0.8898961785765686.\n",
      "[I 2024-03-15 18:38:30,735] Trial 18 finished with value: 0.887585141637348 and parameters: {'grow_policy': 'lossguide', 'n_estimators': 698, 'learning_rate': 0.019169393968597535, 'gamma': 0.1190933567420649, 'subsample': 0.504652836907564, 'colsample_bytree': 0.7494702994151741, 'max_depth': 6, 'min_child_weight': 3, 'reg_lambda': 0.4332607841609483, 'reg_alpha': 4.5155731407676826e-08}. Best is trial 13 with value: 0.8898961785765686.\n"
     ]
    },
    {
     "name": "stderr",
     "output_type": "stream",
     "text": [
      "[I 2024-03-15 18:39:25,770] Trial 19 finished with value: 0.8761491553906733 and parameters: {'grow_policy': 'lossguide', 'n_estimators': 955, 'learning_rate': 0.17048743885366394, 'gamma': 0.4109528062695604, 'subsample': 0.6488403116469338, 'colsample_bytree': 0.4792214352345531, 'max_depth': 10, 'min_child_weight': 5, 'reg_lambda': 0.004566829431597013, 'reg_alpha': 0.07224505664372034}. Best is trial 13 with value: 0.8898961785765686.\n"
     ]
    }
   ],
   "source": [
    "def objective(trial):\n",
    "    params = {\n",
    "        'grow_policy': trial.suggest_categorical('grow_policy', ['depthwise', 'lossguide']),\n",
    "        'n_estimators': trial.suggest_int('n_estimators', 100, 1000),\n",
    "        'learning_rate': trial.suggest_float('learning_rate', 0.01, 1.0, log=True),\n",
    "        'gamma': trial.suggest_float('gamma', 1e-9, 0.5),\n",
    "        'subsample': trial.suggest_float('subsample', 0.3, 1.0),\n",
    "        'colsample_bytree': trial.suggest_float('colsample_bytree', 0.3, 1.0),\n",
    "        'max_depth': trial.suggest_int('max_depth', 0, 12),\n",
    "        'min_child_weight': trial.suggest_int('min_child_weight', 1, 7),\n",
    "        'reg_lambda': trial.suggest_float('reg_lambda', 1e-9, 100.0, log=True),\n",
    "        'reg_alpha': trial.suggest_float('reg_alpha', 1e-9, 100.0, log=True),\n",
    "    }\n",
    "    \n",
    "    params['booster'] = 'gbtree'\n",
    "    params['objective'] = 'multi:softmax'\n",
    "    params['device'] = 'cpu'\n",
    "    params['verbosity'] = 0\n",
    "    params['tree_method'] = 'hist'\n",
    "    \n",
    "    cv_splits = cv.split(train, target)\n",
    "    cv_scores = list()\n",
    "    \n",
    "    for train_idx, val_idx in cv_splits:\n",
    "        xgb = XGBClassifier(**params)\n",
    "\n",
    "        X_train_fold, X_val_fold = train.iloc[train_idx], train.iloc[val_idx]\n",
    "        y_train_fold, y_val_fold = target[train_idx], target[val_idx]\n",
    "\n",
    "        xgb.fit(X_train_fold, y_train_fold)\n",
    "        y_val_prob = xgb.predict_proba(X_val_fold)\n",
    "        cv_scores.append(roc_auc_score(targets.iloc[val_idx], y_val_prob[:, 1:], multi_class='ovr'))\n",
    "        \n",
    "    cv_evaluation = np.mean(cv_scores)\n",
    "    return cv_evaluation\n",
    "\n",
    "study = optuna.create_study(direction='maximize', load_if_exists=True, study_name='first_study')\n",
    "study.optimize(objective, n_trials=20)\n",
    "\n",
    "best_cls_params = study.best_params\n",
    "best_value = study.best_value"
   ]
  },
  {
   "cell_type": "code",
   "execution_count": 143,
   "id": "ea05e9f7",
   "metadata": {},
   "outputs": [
    {
     "data": {
      "text/plain": [
       "{'grow_policy': 'lossguide',\n",
       " 'n_estimators': 359,\n",
       " 'learning_rate': 0.021831265569244144,\n",
       " 'gamma': 0.4078371165756942,\n",
       " 'subsample': 0.6347737565718329,\n",
       " 'colsample_bytree': 0.3015363399335394,\n",
       " 'max_depth': 5,\n",
       " 'min_child_weight': 6,\n",
       " 'reg_lambda': 0.040505779969286,\n",
       " 'reg_alpha': 0.0017170850766717893}"
      ]
     },
     "execution_count": 143,
     "metadata": {},
     "output_type": "execute_result"
    }
   ],
   "source": [
    "best_cls_params"
   ]
  },
  {
   "cell_type": "code",
   "execution_count": 144,
   "id": "294d76b0",
   "metadata": {},
   "outputs": [
    {
     "data": {
      "text/plain": [
       "0.8898961785765686"
      ]
     },
     "execution_count": 144,
     "metadata": {},
     "output_type": "execute_result"
    }
   ],
   "source": [
    "best_value"
   ]
  },
  {
   "cell_type": "code",
   "execution_count": 146,
   "id": "e746e1c2",
   "metadata": {},
   "outputs": [
    {
     "data": {
      "text/html": [
       "<style>#sk-container-id-2 {color: black;background-color: white;}#sk-container-id-2 pre{padding: 0;}#sk-container-id-2 div.sk-toggleable {background-color: white;}#sk-container-id-2 label.sk-toggleable__label {cursor: pointer;display: block;width: 100%;margin-bottom: 0;padding: 0.3em;box-sizing: border-box;text-align: center;}#sk-container-id-2 label.sk-toggleable__label-arrow:before {content: \"▸\";float: left;margin-right: 0.25em;color: #696969;}#sk-container-id-2 label.sk-toggleable__label-arrow:hover:before {color: black;}#sk-container-id-2 div.sk-estimator:hover label.sk-toggleable__label-arrow:before {color: black;}#sk-container-id-2 div.sk-toggleable__content {max-height: 0;max-width: 0;overflow: hidden;text-align: left;background-color: #f0f8ff;}#sk-container-id-2 div.sk-toggleable__content pre {margin: 0.2em;color: black;border-radius: 0.25em;background-color: #f0f8ff;}#sk-container-id-2 input.sk-toggleable__control:checked~div.sk-toggleable__content {max-height: 200px;max-width: 100%;overflow: auto;}#sk-container-id-2 input.sk-toggleable__control:checked~label.sk-toggleable__label-arrow:before {content: \"▾\";}#sk-container-id-2 div.sk-estimator input.sk-toggleable__control:checked~label.sk-toggleable__label {background-color: #d4ebff;}#sk-container-id-2 div.sk-label input.sk-toggleable__control:checked~label.sk-toggleable__label {background-color: #d4ebff;}#sk-container-id-2 input.sk-hidden--visually {border: 0;clip: rect(1px 1px 1px 1px);clip: rect(1px, 1px, 1px, 1px);height: 1px;margin: -1px;overflow: hidden;padding: 0;position: absolute;width: 1px;}#sk-container-id-2 div.sk-estimator {font-family: monospace;background-color: #f0f8ff;border: 1px dotted black;border-radius: 0.25em;box-sizing: border-box;margin-bottom: 0.5em;}#sk-container-id-2 div.sk-estimator:hover {background-color: #d4ebff;}#sk-container-id-2 div.sk-parallel-item::after {content: \"\";width: 100%;border-bottom: 1px solid gray;flex-grow: 1;}#sk-container-id-2 div.sk-label:hover label.sk-toggleable__label {background-color: #d4ebff;}#sk-container-id-2 div.sk-serial::before {content: \"\";position: absolute;border-left: 1px solid gray;box-sizing: border-box;top: 0;bottom: 0;left: 50%;z-index: 0;}#sk-container-id-2 div.sk-serial {display: flex;flex-direction: column;align-items: center;background-color: white;padding-right: 0.2em;padding-left: 0.2em;position: relative;}#sk-container-id-2 div.sk-item {position: relative;z-index: 1;}#sk-container-id-2 div.sk-parallel {display: flex;align-items: stretch;justify-content: center;background-color: white;position: relative;}#sk-container-id-2 div.sk-item::before, #sk-container-id-2 div.sk-parallel-item::before {content: \"\";position: absolute;border-left: 1px solid gray;box-sizing: border-box;top: 0;bottom: 0;left: 50%;z-index: -1;}#sk-container-id-2 div.sk-parallel-item {display: flex;flex-direction: column;z-index: 1;position: relative;background-color: white;}#sk-container-id-2 div.sk-parallel-item:first-child::after {align-self: flex-end;width: 50%;}#sk-container-id-2 div.sk-parallel-item:last-child::after {align-self: flex-start;width: 50%;}#sk-container-id-2 div.sk-parallel-item:only-child::after {width: 0;}#sk-container-id-2 div.sk-dashed-wrapped {border: 1px dashed gray;margin: 0 0.4em 0.5em 0.4em;box-sizing: border-box;padding-bottom: 0.4em;background-color: white;}#sk-container-id-2 div.sk-label label {font-family: monospace;font-weight: bold;display: inline-block;line-height: 1.2em;}#sk-container-id-2 div.sk-label-container {text-align: center;}#sk-container-id-2 div.sk-container {/* jupyter's `normalize.less` sets `[hidden] { display: none; }` but bootstrap.min.css set `[hidden] { display: none !important; }` so we also need the `!important` here to be able to override the default hidden behavior on the sphinx rendered scikit-learn.org. See: https://github.com/scikit-learn/scikit-learn/issues/21755 */display: inline-block !important;position: relative;}#sk-container-id-2 div.sk-text-repr-fallback {display: none;}</style><div id=\"sk-container-id-2\" class=\"sk-top-container\"><div class=\"sk-text-repr-fallback\"><pre>XGBClassifier(base_score=None, booster=None, callbacks=None,\n",
       "              colsample_bylevel=None, colsample_bynode=None,\n",
       "              colsample_bytree=0.3015363399335394, device=None,\n",
       "              early_stopping_rounds=None, enable_categorical=False,\n",
       "              eval_metric=None, feature_types=None, gamma=0.4078371165756942,\n",
       "              grow_policy=&#x27;lossguide&#x27;, importance_type=None,\n",
       "              interaction_constraints=None, learning_rate=0.021831265569244144,\n",
       "              max_bin=None, max_cat_threshold=None, max_cat_to_onehot=None,\n",
       "              max_delta_step=None, max_depth=5, max_leaves=None,\n",
       "              min_child_weight=6, missing=nan, monotone_constraints=None,\n",
       "              multi_strategy=None, n_estimators=359, n_jobs=None,\n",
       "              num_parallel_tree=None, objective=&#x27;multi:softprob&#x27;, ...)</pre><b>In a Jupyter environment, please rerun this cell to show the HTML representation or trust the notebook. <br />On GitHub, the HTML representation is unable to render, please try loading this page with nbviewer.org.</b></div><div class=\"sk-container\" hidden><div class=\"sk-item\"><div class=\"sk-estimator sk-toggleable\"><input class=\"sk-toggleable__control sk-hidden--visually\" id=\"sk-estimator-id-2\" type=\"checkbox\" checked><label for=\"sk-estimator-id-2\" class=\"sk-toggleable__label sk-toggleable__label-arrow\">XGBClassifier</label><div class=\"sk-toggleable__content\"><pre>XGBClassifier(base_score=None, booster=None, callbacks=None,\n",
       "              colsample_bylevel=None, colsample_bynode=None,\n",
       "              colsample_bytree=0.3015363399335394, device=None,\n",
       "              early_stopping_rounds=None, enable_categorical=False,\n",
       "              eval_metric=None, feature_types=None, gamma=0.4078371165756942,\n",
       "              grow_policy=&#x27;lossguide&#x27;, importance_type=None,\n",
       "              interaction_constraints=None, learning_rate=0.021831265569244144,\n",
       "              max_bin=None, max_cat_threshold=None, max_cat_to_onehot=None,\n",
       "              max_delta_step=None, max_depth=5, max_leaves=None,\n",
       "              min_child_weight=6, missing=nan, monotone_constraints=None,\n",
       "              multi_strategy=None, n_estimators=359, n_jobs=None,\n",
       "              num_parallel_tree=None, objective=&#x27;multi:softprob&#x27;, ...)</pre></div></div></div></div></div>"
      ],
      "text/plain": [
       "XGBClassifier(base_score=None, booster=None, callbacks=None,\n",
       "              colsample_bylevel=None, colsample_bynode=None,\n",
       "              colsample_bytree=0.3015363399335394, device=None,\n",
       "              early_stopping_rounds=None, enable_categorical=False,\n",
       "              eval_metric=None, feature_types=None, gamma=0.4078371165756942,\n",
       "              grow_policy='lossguide', importance_type=None,\n",
       "              interaction_constraints=None, learning_rate=0.021831265569244144,\n",
       "              max_bin=None, max_cat_threshold=None, max_cat_to_onehot=None,\n",
       "              max_delta_step=None, max_depth=5, max_leaves=None,\n",
       "              min_child_weight=6, missing=nan, monotone_constraints=None,\n",
       "              multi_strategy=None, n_estimators=359, n_jobs=None,\n",
       "              num_parallel_tree=None, objective='multi:softprob', ...)"
      ]
     },
     "execution_count": 146,
     "metadata": {},
     "output_type": "execute_result"
    }
   ],
   "source": [
    "xgb = XGBClassifier(**best_cls_params)\n",
    "xgb.fit(train, target)"
   ]
  },
  {
   "cell_type": "code",
   "execution_count": 154,
   "id": "5a656ebb",
   "metadata": {},
   "outputs": [],
   "source": [
    "def compute_oof(X, y, model, model_params, cv_strategy):\n",
    "    \n",
    "    cv_splits = cv_strategy.split(X, y=y)\n",
    "    cv_oof = pd.DataFrame(np.zeros((len(y), len(target_classes_tmp))), columns=target_classes_tmp)\n",
    "    \n",
    "    for train_idx, val_idx in cv_splits:\n",
    "\n",
    "        instantiated_model = model(**model_params)\n",
    "\n",
    "        X_train_fold, X_val_fold = X.iloc[train_idx], X.iloc[val_idx]\n",
    "        y_train_fold, y_val_fold = y[train_idx], y[val_idx]\n",
    "\n",
    "        instantiated_model.fit(X_train_fold, y_train_fold)\n",
    "\n",
    "        y_val_prob = instantiated_model.predict_proba(X_val_fold)\n",
    "        print(y_val_prob.shape)\n",
    "        cv_oof.iloc[val_idx, :] = y_val_prob\n",
    "    \n",
    "    return cv_oof"
   ]
  },
  {
   "cell_type": "code",
   "execution_count": 155,
   "id": "34866417",
   "metadata": {},
   "outputs": [
    {
     "name": "stdout",
     "output_type": "stream",
     "text": [
      "(3844, 8)\n",
      "(3844, 8)\n",
      "(3844, 8)\n",
      "(3844, 8)\n",
      "(3843, 8)\n"
     ]
    }
   ],
   "source": [
    "xgb_preds = xgb.predict_proba(test)\n",
    "xgb_oof = compute_oof(train, target, XGBClassifier, best_cls_params, cv)"
   ]
  },
  {
   "cell_type": "code",
   "execution_count": 162,
   "id": "d53d351a",
   "metadata": {},
   "outputs": [],
   "source": [
    "xgb_preds_tmp = xgb_preds"
   ]
  },
  {
   "cell_type": "code",
   "execution_count": 164,
   "id": "9b2f1262",
   "metadata": {},
   "outputs": [
    {
     "data": {
      "text/plain": [
       "(12814, 7)"
      ]
     },
     "execution_count": 164,
     "metadata": {},
     "output_type": "execute_result"
    }
   ],
   "source": [
    "xgb_preds_tmp = xgb_preds_tmp[:, 1:]\n",
    "xgb_preds_tmp.shape"
   ]
  },
  {
   "cell_type": "code",
   "execution_count": 165,
   "id": "dd41ab93",
   "metadata": {},
   "outputs": [],
   "source": [
    "submission = pd.read_csv(\"../data/sample_submission.csv\")\n",
    "submission.iloc[:, 1:] = xgb_preds_tmp"
   ]
  },
  {
   "cell_type": "code",
   "execution_count": 168,
   "id": "6713e298",
   "metadata": {},
   "outputs": [],
   "source": [
    "submission.to_csv(\"../data/submission_xgboost_tutorial.csv\", index=False)"
   ]
  },
  {
   "cell_type": "code",
   "execution_count": null,
   "id": "249454f1",
   "metadata": {},
   "outputs": [],
   "source": []
  }
 ],
 "metadata": {
  "kernelspec": {
   "display_name": "Python 3 (ipykernel)",
   "language": "python",
   "name": "python3"
  },
  "language_info": {
   "codemirror_mode": {
    "name": "ipython",
    "version": 3
   },
   "file_extension": ".py",
   "mimetype": "text/x-python",
   "name": "python",
   "nbconvert_exporter": "python",
   "pygments_lexer": "ipython3",
   "version": "3.9.7"
  }
 },
 "nbformat": 4,
 "nbformat_minor": 5
}

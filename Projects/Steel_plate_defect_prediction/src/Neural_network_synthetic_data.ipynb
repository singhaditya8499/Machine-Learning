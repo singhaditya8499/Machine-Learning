{
 "cells": [
  {
   "cell_type": "code",
   "execution_count": 65,
   "id": "adc712f9",
   "metadata": {},
   "outputs": [],
   "source": [
    "import pandas as pd\n",
    "import numpy as np\n",
    "import matplotlib.pyplot as plt\n",
    "import warnings\n",
    "warnings.filterwarnings('ignore')\n",
    "%matplotlib inline"
   ]
  },
  {
   "cell_type": "code",
   "execution_count": 85,
   "id": "df807c4f",
   "metadata": {},
   "outputs": [],
   "source": [
    "data = pd.read_csv(\"../data/synthetic_real_data.csv\")\n",
    "test_data = pd.read_csv(\"../data/test_modified.csv\")"
   ]
  },
  {
   "cell_type": "code",
   "execution_count": 86,
   "id": "fa348cad",
   "metadata": {},
   "outputs": [
    {
     "data": {
      "text/plain": [
       "Index(['X_Minimum', 'X_Maximum', 'Y_Minimum', 'Y_Maximum', 'Pixels_Areas',\n",
       "       'X_Perimeter', 'Y_Perimeter', 'Sum_of_Luminosity',\n",
       "       'Minimum_of_Luminosity', 'Maximum_of_Luminosity', 'Length_of_Conveyer',\n",
       "       'Steel_Plate_Thickness', 'Edges_Index', 'Empty_Index', 'Square_Index',\n",
       "       'Outside_X_Index', 'Edges_X_Index', 'Edges_Y_Index',\n",
       "       'Outside_Global_Index', 'LogOfAreas', 'Log_X_Index', 'Log_Y_Index',\n",
       "       'Orientation_Index', 'Luminosity_Index', 'SigmoidOfAreas',\n",
       "       'TypeOfSteel', 'Fault_class'],\n",
       "      dtype='object')"
      ]
     },
     "execution_count": 86,
     "metadata": {},
     "output_type": "execute_result"
    }
   ],
   "source": [
    "data.columns"
   ]
  },
  {
   "cell_type": "code",
   "execution_count": 112,
   "id": "7913b642",
   "metadata": {},
   "outputs": [],
   "source": [
    "y = data.Fault_class\n",
    "X = data.iloc[:,:-1]"
   ]
  },
  {
   "cell_type": "code",
   "execution_count": 113,
   "id": "e5f472dd",
   "metadata": {},
   "outputs": [],
   "source": [
    "from sklearn.preprocessing import StandardScaler, MinMaxScaler\n",
    "from tensorflow.keras.utils import to_categorical\n",
    "normalisation = MinMaxScaler()\n",
    "X_train = normalisation.fit_transform(X)\n",
    "X_test = normalisation.fit_transform(test_data.iloc[:,1:])\n",
    "y_train = to_categorical(y)"
   ]
  },
  {
   "cell_type": "code",
   "execution_count": 114,
   "id": "aa5fb028",
   "metadata": {},
   "outputs": [],
   "source": [
    "import tensorflow as tf\n",
    "from tensorflow.keras.models import Sequential\n",
    "from tensorflow.keras.layers import Dense, BatchNormalization, Dropout\n",
    "from tensorflow.keras.callbacks import EarlyStopping\n",
    "from tensorflow.keras.optimizers import Adam"
   ]
  },
  {
   "cell_type": "markdown",
   "id": "c2fe38ec",
   "metadata": {},
   "source": [
    "# Simple basic neural network"
   ]
  },
  {
   "cell_type": "code",
   "execution_count": 124,
   "id": "4cfe9fe6",
   "metadata": {},
   "outputs": [],
   "source": [
    "adam = Adam(learning_rate=8e-5)\n",
    "\n",
    "basic_model = Sequential()\n",
    "basic_model.add(Dense(512, activation='relu', input_shape=(X_train.shape[1],)))\n",
    "basic_model.add(Dense(1024, activation='relu'))\n",
    "basic_model.add(Dropout(0.3))\n",
    "basic_model.add(Dense(256, activation='relu'))\n",
    "basic_model.add(Dense(64, activation='relu'))\n",
    "basic_model.add(Dense(16, activation='relu'))\n",
    "basic_model.add(Dense(7, activation='softmax'))\n",
    "\n",
    "basic_model.compile(optimizer=adam, loss='categorical_crossentropy', metrics=['acc'])"
   ]
  },
  {
   "cell_type": "code",
   "execution_count": 125,
   "id": "5dfe2818",
   "metadata": {},
   "outputs": [
    {
     "name": "stdout",
     "output_type": "stream",
     "text": [
      "Model: \"sequential_20\"\n",
      "_________________________________________________________________\n",
      " Layer (type)                Output Shape              Param #   \n",
      "=================================================================\n",
      " dense_101 (Dense)           (None, 512)               13824     \n",
      "                                                                 \n",
      " dense_102 (Dense)           (None, 1024)              525312    \n",
      "                                                                 \n",
      " dropout_6 (Dropout)         (None, 1024)              0         \n",
      "                                                                 \n",
      " dense_103 (Dense)           (None, 256)               262400    \n",
      "                                                                 \n",
      " dense_104 (Dense)           (None, 64)                16448     \n",
      "                                                                 \n",
      " dense_105 (Dense)           (None, 16)                1040      \n",
      "                                                                 \n",
      " dense_106 (Dense)           (None, 7)                 119       \n",
      "                                                                 \n",
      "=================================================================\n",
      "Total params: 819143 (3.12 MB)\n",
      "Trainable params: 819143 (3.12 MB)\n",
      "Non-trainable params: 0 (0.00 Byte)\n",
      "_________________________________________________________________\n"
     ]
    }
   ],
   "source": [
    "basic_model.summary()"
   ]
  },
  {
   "cell_type": "code",
   "execution_count": 126,
   "id": "bf71e85c",
   "metadata": {
    "scrolled": true
   },
   "outputs": [
    {
     "name": "stdout",
     "output_type": "stream",
     "text": [
      "Epoch 1/300\n",
      "772/772 [==============================] - 8s 9ms/step - loss: 1.3761 - acc: 0.4482 - val_loss: 1.2225 - val_acc: 0.5158\n",
      "Epoch 2/300\n",
      "772/772 [==============================] - 7s 9ms/step - loss: 1.2158 - acc: 0.5095 - val_loss: 1.1934 - val_acc: 0.5181\n",
      "Epoch 3/300\n",
      "772/772 [==============================] - 8s 10ms/step - loss: 1.1881 - acc: 0.5212 - val_loss: 1.1756 - val_acc: 0.5262\n",
      "Epoch 4/300\n",
      "772/772 [==============================] - 8s 10ms/step - loss: 1.1743 - acc: 0.5284 - val_loss: 1.1637 - val_acc: 0.5288\n",
      "Epoch 5/300\n",
      "772/772 [==============================] - 8s 10ms/step - loss: 1.1609 - acc: 0.5315 - val_loss: 1.1546 - val_acc: 0.5380\n",
      "Epoch 6/300\n",
      "772/772 [==============================] - 8s 10ms/step - loss: 1.1512 - acc: 0.5383 - val_loss: 1.1467 - val_acc: 0.5417\n",
      "Epoch 7/300\n",
      "772/772 [==============================] - 8s 10ms/step - loss: 1.1407 - acc: 0.5433 - val_loss: 1.1338 - val_acc: 0.5425\n",
      "Epoch 8/300\n",
      "772/772 [==============================] - 8s 10ms/step - loss: 1.1326 - acc: 0.5437 - val_loss: 1.1433 - val_acc: 0.5440\n",
      "Epoch 9/300\n",
      "772/772 [==============================] - 8s 10ms/step - loss: 1.1232 - acc: 0.5522 - val_loss: 1.1222 - val_acc: 0.5547\n",
      "Epoch 10/300\n",
      "772/772 [==============================] - 8s 10ms/step - loss: 1.1161 - acc: 0.5494 - val_loss: 1.1148 - val_acc: 0.5544\n",
      "Epoch 11/300\n",
      "772/772 [==============================] - 8s 10ms/step - loss: 1.1087 - acc: 0.5538 - val_loss: 1.1182 - val_acc: 0.5518\n",
      "Epoch 12/300\n",
      "772/772 [==============================] - 8s 10ms/step - loss: 1.1060 - acc: 0.5558 - val_loss: 1.1099 - val_acc: 0.5503\n",
      "Epoch 13/300\n",
      "772/772 [==============================] - 8s 10ms/step - loss: 1.0998 - acc: 0.5582 - val_loss: 1.1104 - val_acc: 0.5604\n",
      "Epoch 14/300\n",
      "772/772 [==============================] - 8s 11ms/step - loss: 1.0959 - acc: 0.5618 - val_loss: 1.1064 - val_acc: 0.5558\n",
      "Epoch 15/300\n",
      "772/772 [==============================] - 8s 10ms/step - loss: 1.0910 - acc: 0.5640 - val_loss: 1.1089 - val_acc: 0.5542\n",
      "Epoch 16/300\n",
      "772/772 [==============================] - 8s 10ms/step - loss: 1.0875 - acc: 0.5630 - val_loss: 1.1025 - val_acc: 0.5574\n",
      "Epoch 17/300\n",
      "772/772 [==============================] - 8s 10ms/step - loss: 1.0851 - acc: 0.5612 - val_loss: 1.1008 - val_acc: 0.5594\n",
      "Epoch 18/300\n",
      "772/772 [==============================] - 8s 11ms/step - loss: 1.0777 - acc: 0.5691 - val_loss: 1.0984 - val_acc: 0.5561\n",
      "Epoch 19/300\n",
      "772/772 [==============================] - 8s 10ms/step - loss: 1.0754 - acc: 0.5685 - val_loss: 1.0928 - val_acc: 0.5646\n",
      "Epoch 20/300\n",
      "772/772 [==============================] - 8s 10ms/step - loss: 1.0714 - acc: 0.5702 - val_loss: 1.1049 - val_acc: 0.5586\n",
      "Epoch 21/300\n",
      "772/772 [==============================] - 8s 10ms/step - loss: 1.0687 - acc: 0.5713 - val_loss: 1.0929 - val_acc: 0.5573\n",
      "Epoch 22/300\n",
      "772/772 [==============================] - 8s 10ms/step - loss: 1.0626 - acc: 0.5716 - val_loss: 1.0866 - val_acc: 0.5673\n",
      "Epoch 23/300\n",
      "772/772 [==============================] - 8s 11ms/step - loss: 1.0611 - acc: 0.5738 - val_loss: 1.0844 - val_acc: 0.5631\n",
      "Epoch 24/300\n",
      "772/772 [==============================] - 8s 11ms/step - loss: 1.0577 - acc: 0.5752 - val_loss: 1.0812 - val_acc: 0.5659\n",
      "Epoch 25/300\n",
      "772/772 [==============================] - 8s 10ms/step - loss: 1.0534 - acc: 0.5764 - val_loss: 1.0939 - val_acc: 0.5644\n",
      "Epoch 26/300\n",
      "772/772 [==============================] - 8s 10ms/step - loss: 1.0519 - acc: 0.5786 - val_loss: 1.0837 - val_acc: 0.5647\n",
      "Epoch 27/300\n",
      "772/772 [==============================] - 8s 10ms/step - loss: 1.0472 - acc: 0.5797 - val_loss: 1.0825 - val_acc: 0.5605\n",
      "Epoch 28/300\n",
      "772/772 [==============================] - 8s 10ms/step - loss: 1.0446 - acc: 0.5817 - val_loss: 1.0824 - val_acc: 0.5664\n",
      "Epoch 29/300\n",
      "772/772 [==============================] - 8s 10ms/step - loss: 1.0393 - acc: 0.5801 - val_loss: 1.0784 - val_acc: 0.5702\n",
      "Epoch 30/300\n",
      "772/772 [==============================] - 8s 11ms/step - loss: 1.0364 - acc: 0.5817 - val_loss: 1.0750 - val_acc: 0.5724\n",
      "Epoch 31/300\n",
      "772/772 [==============================] - 8s 10ms/step - loss: 1.0338 - acc: 0.5838 - val_loss: 1.0822 - val_acc: 0.5621\n",
      "Epoch 32/300\n",
      "772/772 [==============================] - 8s 10ms/step - loss: 1.0295 - acc: 0.5861 - val_loss: 1.0845 - val_acc: 0.5623\n",
      "Epoch 33/300\n",
      "772/772 [==============================] - 8s 10ms/step - loss: 1.0281 - acc: 0.5869 - val_loss: 1.0762 - val_acc: 0.5681\n",
      "Epoch 34/300\n",
      "772/772 [==============================] - 8s 11ms/step - loss: 1.0264 - acc: 0.5875 - val_loss: 1.0684 - val_acc: 0.5730\n",
      "Epoch 35/300\n",
      "772/772 [==============================] - 8s 10ms/step - loss: 1.0197 - acc: 0.5893 - val_loss: 1.0725 - val_acc: 0.5717\n",
      "Epoch 36/300\n",
      "772/772 [==============================] - 8s 10ms/step - loss: 1.0188 - acc: 0.5913 - val_loss: 1.0696 - val_acc: 0.5719\n",
      "Epoch 37/300\n",
      "772/772 [==============================] - 8s 10ms/step - loss: 1.0120 - acc: 0.5915 - val_loss: 1.0696 - val_acc: 0.5738\n",
      "Epoch 38/300\n",
      "772/772 [==============================] - 8s 10ms/step - loss: 1.0102 - acc: 0.5938 - val_loss: 1.0652 - val_acc: 0.5740\n",
      "Epoch 39/300\n",
      "772/772 [==============================] - 8s 10ms/step - loss: 1.0074 - acc: 0.5925 - val_loss: 1.0658 - val_acc: 0.5725\n",
      "Epoch 40/300\n",
      "772/772 [==============================] - 8s 11ms/step - loss: 1.0030 - acc: 0.5932 - val_loss: 1.0717 - val_acc: 0.5690\n",
      "Epoch 41/300\n",
      "772/772 [==============================] - 8s 10ms/step - loss: 0.9996 - acc: 0.5980 - val_loss: 1.0559 - val_acc: 0.5779\n",
      "Epoch 42/300\n",
      "772/772 [==============================] - 8s 10ms/step - loss: 0.9960 - acc: 0.5986 - val_loss: 1.0633 - val_acc: 0.5758\n",
      "Epoch 43/300\n",
      "772/772 [==============================] - 8s 11ms/step - loss: 0.9939 - acc: 0.5985 - val_loss: 1.0756 - val_acc: 0.5751\n",
      "Epoch 44/300\n",
      "772/772 [==============================] - 8s 11ms/step - loss: 0.9909 - acc: 0.6008 - val_loss: 1.0601 - val_acc: 0.5748\n",
      "Epoch 45/300\n",
      "772/772 [==============================] - 8s 11ms/step - loss: 0.9892 - acc: 0.6020 - val_loss: 1.0598 - val_acc: 0.5769\n",
      "Epoch 46/300\n",
      "772/772 [==============================] - 8s 10ms/step - loss: 0.9825 - acc: 0.6070 - val_loss: 1.0671 - val_acc: 0.5724\n"
     ]
    }
   ],
   "source": [
    "earlyStopping = EarlyStopping(monitor='val_loss',\n",
    "                             patience=5,\n",
    "                             restore_best_weights=True)\n",
    "history = basic_model.fit(X_train, y_train, epochs=300, batch_size=32, validation_split=0.2, callbacks=[earlyStopping])"
   ]
  },
  {
   "cell_type": "code",
   "execution_count": 132,
   "id": "9ca7a0df",
   "metadata": {},
   "outputs": [
    {
     "data": {
      "image/png": "[encoded data removed]",
      "text/plain": [
       "<Figure size 432x288 with 1 Axes>"
      ]
     },
     "metadata": {
      "needs_background": "light"
     },
     "output_type": "display_data"
    }
   ],
   "source": [
    "plt.plot(history.history['val_loss'])\n",
    "plt.plot(history.history['loss']);"
   ]
  },
  {
   "cell_type": "code",
   "execution_count": 133,
   "id": "abe4b2fa",
   "metadata": {},
   "outputs": [
    {
     "name": "stdout",
     "output_type": "stream",
     "text": [
      "401/401 [==============================] - 1s 1ms/step\n"
     ]
    }
   ],
   "source": [
    "predictions = first_model.predict(X_test)"
   ]
  },
  {
   "cell_type": "code",
   "execution_count": 135,
   "id": "f8830719",
   "metadata": {},
   "outputs": [],
   "source": [
    "submission = pd.read_csv(\"../data/submission_basic_model.csv\")\n",
    "submission.id = test_data.id\n",
    "submission.iloc[:,1:] = predictions\n",
    "submission.to_csv(\"../data/submission_synthetic_data_nn_deep.csv\", index=False)"
   ]
  },
  {
   "cell_type": "code",
   "execution_count": null,
   "id": "b902aa54",
   "metadata": {},
   "outputs": [],
   "source": []
  }
 ],
 "metadata": {
  "kernelspec": {
   "display_name": "Python 3 (ipykernel)",
   "language": "python",
   "name": "python3"
  },
  "language_info": {
   "codemirror_mode": {
    "name": "ipython",
    "version": 3
   },
   "file_extension": ".py",
   "mimetype": "text/x-python",
   "name": "python",
   "nbconvert_exporter": "python",
   "pygments_lexer": "ipython3",
   "version": "3.9.7"
  }
 },
 "nbformat": 4,
 "nbformat_minor": 5
}

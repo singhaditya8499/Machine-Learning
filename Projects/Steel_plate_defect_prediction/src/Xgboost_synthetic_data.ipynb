{
 "cells": [
  {
   "cell_type": "code",
   "execution_count": 1,
   "id": "d3f23047",
   "metadata": {},
   "outputs": [],
   "source": [
    "import pandas as pd\n",
    "import numpy as np\n",
    "import matplotlib.pyplot as plt\n",
    "import warnings\n",
    "warnings.filterwarnings('ignore')\n",
    "%matplotlib inline"
   ]
  },
  {
   "cell_type": "code",
   "execution_count": 34,
   "id": "86ff4d6d",
   "metadata": {},
   "outputs": [],
   "source": [
    "data = pd.read_csv(\"../data/synthetic_real_data.csv\")\n",
    "test_data = pd.read_csv(\"../data/test_modified.csv\")"
   ]
  },
  {
   "cell_type": "markdown",
   "id": "e1a49c13",
   "metadata": {},
   "source": [
    "#### Different types of Faults\n",
    "\n",
    "1. `Pastry`: Small patches or irregularities on the steel surface cause during manufactuing or transport. It affects the smoothness and appearance of steel surface.\n",
    "2. `Z_Scratch`: Narrow scratches or marks on the surface of steel parellel to rolling direction, caused by handling, machining, or contact with abrasive materials.\n",
    "3. `K_Scratch`: Similar to Z_scratch but run perpendicular to rolling direction. Caused by same factors.\n",
    "4. `Stains`: Refers to discolored areas on the plate. They are caused by rust, grease, oil or other foreign substances that come in contact with steel during processing, storage and handling.\n",
    "5. `Dirtiness`: Presence of dirt or partiulate matter on the steel surface. This is caused during manufacturing, handling and storage processes.\n",
    "6. `Bumps`: Raised or protruding areas on the surface of the steel plate that are caused by irregularities in the manufacturing process like uneven rolling, cooling or physical damage.\n",
    "7. `Other_Faults`: Other faults that are not covered like surface imperfections, irregularities or abnormalities."
   ]
  },
  {
   "cell_type": "code",
   "execution_count": 35,
   "id": "f9e79c40",
   "metadata": {},
   "outputs": [
    {
     "data": {
      "text/plain": [
       "Index(['X_Minimum', 'X_Maximum', 'Y_Minimum', 'Y_Maximum', 'Pixels_Areas',\n",
       "       'X_Perimeter', 'Y_Perimeter', 'Sum_of_Luminosity',\n",
       "       'Minimum_of_Luminosity', 'Maximum_of_Luminosity', 'Length_of_Conveyer',\n",
       "       'Steel_Plate_Thickness', 'Edges_Index', 'Empty_Index', 'Square_Index',\n",
       "       'Outside_X_Index', 'Edges_X_Index', 'Edges_Y_Index',\n",
       "       'Outside_Global_Index', 'LogOfAreas', 'Log_X_Index', 'Log_Y_Index',\n",
       "       'Orientation_Index', 'Luminosity_Index', 'SigmoidOfAreas',\n",
       "       'TypeOfSteel', 'Fault_class'],\n",
       "      dtype='object')"
      ]
     },
     "execution_count": 35,
     "metadata": {},
     "output_type": "execute_result"
    }
   ],
   "source": [
    "data.columns"
   ]
  },
  {
   "cell_type": "code",
   "execution_count": 36,
   "id": "eb65fbc8",
   "metadata": {},
   "outputs": [],
   "source": [
    "data['X_range'] = data.X_Maximum - data.X_Minimum\n",
    "data['Y_range'] = data.Y_Maximum - data.Y_Minimum\n",
    "data['fault_density'] = data.Pixels_Areas / (data.X_Perimeter*data.Y_Perimeter)\n",
    "data['luminosity_range'] = data.Maximum_of_Luminosity - data.Minimum_of_Luminosity\n",
    "\n",
    "test_data['X_range'] = test_data.X_Maximum - test_data.X_Minimum\n",
    "test_data['Y_range'] = test_data.Y_Maximum - test_data.Y_Minimum\n",
    "test_data['fault_density'] = test_data.Pixels_Areas / (test_data.X_Perimeter*test_data.Y_Perimeter)\n",
    "test_data['luminosity_range'] = test_data.Maximum_of_Luminosity - test_data.Minimum_of_Luminosity"
   ]
  },
  {
   "cell_type": "code",
   "execution_count": 37,
   "id": "ad9e7ea0",
   "metadata": {},
   "outputs": [],
   "source": [
    "data = data[data.X_range > 0]\n",
    "data = data[data.Y_range > 0]\n",
    "data = data[data.luminosity_range > 0]"
   ]
  },
  {
   "cell_type": "code",
   "execution_count": 38,
   "id": "aaef3da0",
   "metadata": {},
   "outputs": [],
   "source": [
    "features = ['Pixels_Areas', 'Sum_of_Luminosity', 'Length_of_Conveyer', 'Steel_Plate_Thickness', \n",
    "            'Edges_Index', 'Empty_Index', 'Square_Index', 'Outside_X_Index', 'Edges_X_Index', \n",
    "            'Edges_Y_Index', 'Outside_Global_Index', 'Orientation_Index', 'Luminosity_Index', \n",
    "            'SigmoidOfAreas', 'TypeOfSteel', 'X_range', 'Y_range', 'fault_density', 'luminosity_range']\n",
    "target = ['Fault_class']"
   ]
  },
  {
   "cell_type": "code",
   "execution_count": 39,
   "id": "4026c095",
   "metadata": {},
   "outputs": [],
   "source": [
    "X_train = data[features]\n",
    "y_train = data[target]\n",
    "\n",
    "X_test = test_data[features]"
   ]
  },
  {
   "cell_type": "code",
   "execution_count": 42,
   "id": "c0e37927",
   "metadata": {},
   "outputs": [],
   "source": [
    "from sklearn.model_selection import train_test_split\n",
    "from datetime import datetime"
   ]
  },
  {
   "cell_type": "code",
   "execution_count": 41,
   "id": "19a706e9",
   "metadata": {},
   "outputs": [],
   "source": [
    "X_train, X_val, y_train, y_val = train_test_split(X_train, y_train, test_size=0.3, random_state=37)"
   ]
  },
  {
   "cell_type": "code",
   "execution_count": 51,
   "id": "9c93a4f1",
   "metadata": {},
   "outputs": [],
   "source": [
    "from xgboost import XGBClassifier\n",
    "from sklearn.metrics import accuracy_score, classification_report, roc_auc_score, roc_curve"
   ]
  },
  {
   "cell_type": "code",
   "execution_count": 44,
   "id": "e2867ed7",
   "metadata": {},
   "outputs": [
    {
     "data": {
      "text/html": [
       "<style>#sk-container-id-1 {color: black;background-color: white;}#sk-container-id-1 pre{padding: 0;}#sk-container-id-1 div.sk-toggleable {background-color: white;}#sk-container-id-1 label.sk-toggleable__label {cursor: pointer;display: block;width: 100%;margin-bottom: 0;padding: 0.3em;box-sizing: border-box;text-align: center;}#sk-container-id-1 label.sk-toggleable__label-arrow:before {content: \"▸\";float: left;margin-right: 0.25em;color: #696969;}#sk-container-id-1 label.sk-toggleable__label-arrow:hover:before {color: black;}#sk-container-id-1 div.sk-estimator:hover label.sk-toggleable__label-arrow:before {color: black;}#sk-container-id-1 div.sk-toggleable__content {max-height: 0;max-width: 0;overflow: hidden;text-align: left;background-color: #f0f8ff;}#sk-container-id-1 div.sk-toggleable__content pre {margin: 0.2em;color: black;border-radius: 0.25em;background-color: #f0f8ff;}#sk-container-id-1 input.sk-toggleable__control:checked~div.sk-toggleable__content {max-height: 200px;max-width: 100%;overflow: auto;}#sk-container-id-1 input.sk-toggleable__control:checked~label.sk-toggleable__label-arrow:before {content: \"▾\";}#sk-container-id-1 div.sk-estimator input.sk-toggleable__control:checked~label.sk-toggleable__label {background-color: #d4ebff;}#sk-container-id-1 div.sk-label input.sk-toggleable__control:checked~label.sk-toggleable__label {background-color: #d4ebff;}#sk-container-id-1 input.sk-hidden--visually {border: 0;clip: rect(1px 1px 1px 1px);clip: rect(1px, 1px, 1px, 1px);height: 1px;margin: -1px;overflow: hidden;padding: 0;position: absolute;width: 1px;}#sk-container-id-1 div.sk-estimator {font-family: monospace;background-color: #f0f8ff;border: 1px dotted black;border-radius: 0.25em;box-sizing: border-box;margin-bottom: 0.5em;}#sk-container-id-1 div.sk-estimator:hover {background-color: #d4ebff;}#sk-container-id-1 div.sk-parallel-item::after {content: \"\";width: 100%;border-bottom: 1px solid gray;flex-grow: 1;}#sk-container-id-1 div.sk-label:hover label.sk-toggleable__label {background-color: #d4ebff;}#sk-container-id-1 div.sk-serial::before {content: \"\";position: absolute;border-left: 1px solid gray;box-sizing: border-box;top: 0;bottom: 0;left: 50%;z-index: 0;}#sk-container-id-1 div.sk-serial {display: flex;flex-direction: column;align-items: center;background-color: white;padding-right: 0.2em;padding-left: 0.2em;position: relative;}#sk-container-id-1 div.sk-item {position: relative;z-index: 1;}#sk-container-id-1 div.sk-parallel {display: flex;align-items: stretch;justify-content: center;background-color: white;position: relative;}#sk-container-id-1 div.sk-item::before, #sk-container-id-1 div.sk-parallel-item::before {content: \"\";position: absolute;border-left: 1px solid gray;box-sizing: border-box;top: 0;bottom: 0;left: 50%;z-index: -1;}#sk-container-id-1 div.sk-parallel-item {display: flex;flex-direction: column;z-index: 1;position: relative;background-color: white;}#sk-container-id-1 div.sk-parallel-item:first-child::after {align-self: flex-end;width: 50%;}#sk-container-id-1 div.sk-parallel-item:last-child::after {align-self: flex-start;width: 50%;}#sk-container-id-1 div.sk-parallel-item:only-child::after {width: 0;}#sk-container-id-1 div.sk-dashed-wrapped {border: 1px dashed gray;margin: 0 0.4em 0.5em 0.4em;box-sizing: border-box;padding-bottom: 0.4em;background-color: white;}#sk-container-id-1 div.sk-label label {font-family: monospace;font-weight: bold;display: inline-block;line-height: 1.2em;}#sk-container-id-1 div.sk-label-container {text-align: center;}#sk-container-id-1 div.sk-container {/* jupyter's `normalize.less` sets `[hidden] { display: none; }` but bootstrap.min.css set `[hidden] { display: none !important; }` so we also need the `!important` here to be able to override the default hidden behavior on the sphinx rendered scikit-learn.org. See: https://github.com/scikit-learn/scikit-learn/issues/21755 */display: inline-block !important;position: relative;}#sk-container-id-1 div.sk-text-repr-fallback {display: none;}</style><div id=\"sk-container-id-1\" class=\"sk-top-container\"><div class=\"sk-text-repr-fallback\"><pre>XGBClassifier(base_score=None, booster=None, callbacks=None,\n",
       "              colsample_bylevel=None, colsample_bynode=None,\n",
       "              colsample_bytree=None, device=None, early_stopping_rounds=None,\n",
       "              enable_categorical=False, eval_metric=None, feature_types=None,\n",
       "              gamma=None, grow_policy=None, importance_type=None,\n",
       "              interaction_constraints=None, learning_rate=None, max_bin=None,\n",
       "              max_cat_threshold=None, max_cat_to_onehot=None,\n",
       "              max_delta_step=None, max_depth=None, max_leaves=None,\n",
       "              min_child_weight=None, missing=nan, monotone_constraints=None,\n",
       "              multi_strategy=None, n_estimators=None, n_jobs=None,\n",
       "              num_parallel_tree=None, objective=&#x27;multi:softprob&#x27;, ...)</pre><b>In a Jupyter environment, please rerun this cell to show the HTML representation or trust the notebook. <br />On GitHub, the HTML representation is unable to render, please try loading this page with nbviewer.org.</b></div><div class=\"sk-container\" hidden><div class=\"sk-item\"><div class=\"sk-estimator sk-toggleable\"><input class=\"sk-toggleable__control sk-hidden--visually\" id=\"sk-estimator-id-1\" type=\"checkbox\" checked><label for=\"sk-estimator-id-1\" class=\"sk-toggleable__label sk-toggleable__label-arrow\">XGBClassifier</label><div class=\"sk-toggleable__content\"><pre>XGBClassifier(base_score=None, booster=None, callbacks=None,\n",
       "              colsample_bylevel=None, colsample_bynode=None,\n",
       "              colsample_bytree=None, device=None, early_stopping_rounds=None,\n",
       "              enable_categorical=False, eval_metric=None, feature_types=None,\n",
       "              gamma=None, grow_policy=None, importance_type=None,\n",
       "              interaction_constraints=None, learning_rate=None, max_bin=None,\n",
       "              max_cat_threshold=None, max_cat_to_onehot=None,\n",
       "              max_delta_step=None, max_depth=None, max_leaves=None,\n",
       "              min_child_weight=None, missing=nan, monotone_constraints=None,\n",
       "              multi_strategy=None, n_estimators=None, n_jobs=None,\n",
       "              num_parallel_tree=None, objective=&#x27;multi:softprob&#x27;, ...)</pre></div></div></div></div></div>"
      ],
      "text/plain": [
       "XGBClassifier(base_score=None, booster=None, callbacks=None,\n",
       "              colsample_bylevel=None, colsample_bynode=None,\n",
       "              colsample_bytree=None, device=None, early_stopping_rounds=None,\n",
       "              enable_categorical=False, eval_metric=None, feature_types=None,\n",
       "              gamma=None, grow_policy=None, importance_type=None,\n",
       "              interaction_constraints=None, learning_rate=None, max_bin=None,\n",
       "              max_cat_threshold=None, max_cat_to_onehot=None,\n",
       "              max_delta_step=None, max_depth=None, max_leaves=None,\n",
       "              min_child_weight=None, missing=nan, monotone_constraints=None,\n",
       "              multi_strategy=None, n_estimators=None, n_jobs=None,\n",
       "              num_parallel_tree=None, objective='multi:softprob', ...)"
      ]
     },
     "execution_count": 44,
     "metadata": {},
     "output_type": "execute_result"
    }
   ],
   "source": [
    "xgb = XGBClassifier()\n",
    "xgb.fit(X_train, y_train)"
   ]
  },
  {
   "cell_type": "code",
   "execution_count": 48,
   "id": "ff6a2d1b",
   "metadata": {},
   "outputs": [
    {
     "data": {
      "text/plain": [
       "0.6152032999410725"
      ]
     },
     "execution_count": 48,
     "metadata": {},
     "output_type": "execute_result"
    }
   ],
   "source": [
    "accuracy_score(y_val, xgb.predict(X_val))"
   ]
  },
  {
   "cell_type": "code",
   "execution_count": 54,
   "id": "4facc8a1",
   "metadata": {},
   "outputs": [
    {
     "name": "stderr",
     "output_type": "stream",
     "text": [
      "2024-03-26 12:24:45.948916: I tensorflow/core/platform/cpu_feature_guard.cc:182] This TensorFlow binary is optimized to use available CPU instructions in performance-critical operations.\n",
      "To enable the following instructions: AVX2 FMA, in other operations, rebuild TensorFlow with the appropriate compiler flags.\n"
     ]
    }
   ],
   "source": [
    "from tensorflow.keras.utils import to_categorical\n",
    "y_true = to_categorical(y_val)\n",
    "y_pred = xgb.predict_proba(X_val)"
   ]
  },
  {
   "cell_type": "code",
   "execution_count": 55,
   "id": "525a76e4",
   "metadata": {},
   "outputs": [
    {
     "data": {
      "text/plain": [
       "0.9109979315697517"
      ]
     },
     "execution_count": 55,
     "metadata": {},
     "output_type": "execute_result"
    }
   ],
   "source": [
    "roc_auc_score(y_true, y_pred)"
   ]
  },
  {
   "cell_type": "code",
   "execution_count": 49,
   "id": "02e9e52b",
   "metadata": {},
   "outputs": [
    {
     "name": "stdout",
     "output_type": "stream",
     "text": [
      "              precision    recall  f1-score   support\n",
      "\n",
      "           0       0.54      0.44      0.49       800\n",
      "           1       0.69      0.69      0.69       697\n",
      "           2       0.87      0.90      0.89       947\n",
      "           3       0.84      0.87      0.86       531\n",
      "           4       0.61      0.52      0.56       565\n",
      "           5       0.52      0.50      0.51      1382\n",
      "           6       0.50      0.56      0.53      1866\n",
      "\n",
      "    accuracy                           0.62      6788\n",
      "   macro avg       0.65      0.64      0.64      6788\n",
      "weighted avg       0.62      0.62      0.61      6788\n",
      "\n"
     ]
    }
   ],
   "source": [
    "print(classification_report(y_val, xgb.predict(X_val)))"
   ]
  },
  {
   "cell_type": "code",
   "execution_count": null,
   "id": "ff8ddf40",
   "metadata": {},
   "outputs": [],
   "source": [
    "submission = pd.read_csv(\"../data/submission_basic_model.csv\")\n",
    "submission.iloc[:,1:] = xgb.predict_proba(X_test)\n",
    "submission.to_csv(\"../data/submission_xgb_synthetic_data.csv\", index=False)"
   ]
  },
  {
   "cell_type": "code",
   "execution_count": null,
   "id": "61ea9671",
   "metadata": {},
   "outputs": [],
   "source": []
  }
 ],
 "metadata": {
  "kernelspec": {
   "display_name": "Python 3 (ipykernel)",
   "language": "python",
   "name": "python3"
  },
  "language_info": {
   "codemirror_mode": {
    "name": "ipython",
    "version": 3
   },
   "file_extension": ".py",
   "mimetype": "text/x-python",
   "name": "python",
   "nbconvert_exporter": "python",
   "pygments_lexer": "ipython3",
   "version": "3.9.7"
  }
 },
 "nbformat": 4,
 "nbformat_minor": 5
}

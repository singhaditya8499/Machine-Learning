{
 "cells": [
  {
   "cell_type": "code",
   "execution_count": 45,
   "id": "53f86ab8",
   "metadata": {},
   "outputs": [],
   "source": [
    "import pandas as pd\n",
    "import numpy as np\n",
    "import matplotlib.pyplot as plt\n",
    "import re\n",
    "import warnings\n",
    "warnings.filterwarnings('ignore')\n",
    "%matplotlib inline"
   ]
  },
  {
   "cell_type": "code",
   "execution_count": 265,
   "id": "783f3a6e",
   "metadata": {},
   "outputs": [
    {
     "data": {
      "text/html": [
       "<div>\n",
       "<style scoped>\n",
       "    .dataframe tbody tr th:only-of-type {\n",
       "        vertical-align: middle;\n",
       "    }\n",
       "\n",
       "    .dataframe tbody tr th {\n",
       "        vertical-align: top;\n",
       "    }\n",
       "\n",
       "    .dataframe thead th {\n",
       "        text-align: right;\n",
       "    }\n",
       "</style>\n",
       "<table border=\"1\" class=\"dataframe\">\n",
       "  <thead>\n",
       "    <tr style=\"text-align: right;\">\n",
       "      <th></th>\n",
       "      <th>id</th>\n",
       "      <th>keyword</th>\n",
       "      <th>location</th>\n",
       "      <th>text</th>\n",
       "      <th>target</th>\n",
       "    </tr>\n",
       "  </thead>\n",
       "  <tbody>\n",
       "    <tr>\n",
       "      <th>0</th>\n",
       "      <td>1</td>\n",
       "      <td>NaN</td>\n",
       "      <td>NaN</td>\n",
       "      <td>Our Deeds are the Reason of this #earthquake M...</td>\n",
       "      <td>1</td>\n",
       "    </tr>\n",
       "    <tr>\n",
       "      <th>1</th>\n",
       "      <td>4</td>\n",
       "      <td>NaN</td>\n",
       "      <td>NaN</td>\n",
       "      <td>Forest fire near La Ronge Sask. Canada</td>\n",
       "      <td>1</td>\n",
       "    </tr>\n",
       "    <tr>\n",
       "      <th>2</th>\n",
       "      <td>5</td>\n",
       "      <td>NaN</td>\n",
       "      <td>NaN</td>\n",
       "      <td>All residents asked to 'shelter in place' are ...</td>\n",
       "      <td>1</td>\n",
       "    </tr>\n",
       "  </tbody>\n",
       "</table>\n",
       "</div>"
      ],
      "text/plain": [
       "   id keyword location                                               text  \\\n",
       "0   1     NaN      NaN  Our Deeds are the Reason of this #earthquake M...   \n",
       "1   4     NaN      NaN             Forest fire near La Ronge Sask. Canada   \n",
       "2   5     NaN      NaN  All residents asked to 'shelter in place' are ...   \n",
       "\n",
       "   target  \n",
       "0       1  \n",
       "1       1  \n",
       "2       1  "
      ]
     },
     "execution_count": 265,
     "metadata": {},
     "output_type": "execute_result"
    }
   ],
   "source": [
    "uncleaned_data = pd.read_csv(\"../data/train.csv\")\n",
    "uncleaned_data.head(3)"
   ]
  },
  {
   "cell_type": "code",
   "execution_count": 266,
   "id": "63f51997",
   "metadata": {},
   "outputs": [
    {
     "data": {
      "text/plain": [
       "(7613, 5)"
      ]
     },
     "execution_count": 266,
     "metadata": {},
     "output_type": "execute_result"
    }
   ],
   "source": [
    "uncleaned_data.shape"
   ]
  },
  {
   "cell_type": "code",
   "execution_count": 267,
   "id": "75fac877",
   "metadata": {},
   "outputs": [
    {
     "data": {
      "text/plain": [
       "Index(['id', 'keyword', 'location', 'text', 'target'], dtype='object')"
      ]
     },
     "execution_count": 267,
     "metadata": {},
     "output_type": "execute_result"
    }
   ],
   "source": [
    "uncleaned_data.columns"
   ]
  },
  {
   "cell_type": "code",
   "execution_count": 268,
   "id": "ad5ab771",
   "metadata": {},
   "outputs": [
    {
     "data": {
      "text/plain": [
       "id           int64\n",
       "keyword     object\n",
       "location    object\n",
       "text        object\n",
       "target       int64\n",
       "dtype: object"
      ]
     },
     "execution_count": 268,
     "metadata": {},
     "output_type": "execute_result"
    }
   ],
   "source": [
    "uncleaned_data.dtypes"
   ]
  },
  {
   "cell_type": "code",
   "execution_count": 269,
   "id": "71a38568",
   "metadata": {},
   "outputs": [
    {
     "data": {
      "text/plain": [
       "id             0\n",
       "keyword       61\n",
       "location    2533\n",
       "text           0\n",
       "target         0\n",
       "dtype: int64"
      ]
     },
     "execution_count": 269,
     "metadata": {},
     "output_type": "execute_result"
    }
   ],
   "source": [
    "uncleaned_data.isna().sum()"
   ]
  },
  {
   "cell_type": "code",
   "execution_count": 270,
   "id": "c1cce058",
   "metadata": {},
   "outputs": [
    {
     "data": {
      "text/plain": [
       "[nan,\n",
       " 'Birmingham',\n",
       " 'Est. September 2012 - Bristol',\n",
       " 'AFRICA',\n",
       " 'Philadelphia, PA']"
      ]
     },
     "execution_count": 270,
     "metadata": {},
     "output_type": "execute_result"
    }
   ],
   "source": [
    "list(uncleaned_data.location.unique())[:5]"
   ]
  },
  {
   "cell_type": "markdown",
   "id": "e2de726c",
   "metadata": {},
   "source": [
    "We can conclude that the values in `Location` column are total garbage and we can discard them. We will also drop the `Keyword` column as we can get all the information from the `Text` column."
   ]
  },
  {
   "cell_type": "code",
   "execution_count": 271,
   "id": "b63edc30",
   "metadata": {},
   "outputs": [],
   "source": [
    "uncleaned_data.drop(columns=['location'], inplace=True)"
   ]
  },
  {
   "cell_type": "code",
   "execution_count": 272,
   "id": "26fa5d9e",
   "metadata": {},
   "outputs": [
    {
     "data": {
      "text/plain": [
       "id         0\n",
       "keyword    0\n",
       "text       0\n",
       "target     0\n",
       "dtype: int64"
      ]
     },
     "execution_count": 272,
     "metadata": {},
     "output_type": "execute_result"
    }
   ],
   "source": [
    "uncleaned_data[-uncleaned_data.keyword.isna()].isna().sum()"
   ]
  },
  {
   "cell_type": "markdown",
   "id": "09fa88d2",
   "metadata": {},
   "source": [
    "We can observe that less than 1% of the data dont have the keyword value associated to it. We can ignore them. Keyword might provide some valuable information about the tweets."
   ]
  },
  {
   "cell_type": "code",
   "execution_count": 273,
   "id": "fbe21b1a",
   "metadata": {},
   "outputs": [
    {
     "data": {
      "text/html": [
       "<div>\n",
       "<style scoped>\n",
       "    .dataframe tbody tr th:only-of-type {\n",
       "        vertical-align: middle;\n",
       "    }\n",
       "\n",
       "    .dataframe tbody tr th {\n",
       "        vertical-align: top;\n",
       "    }\n",
       "\n",
       "    .dataframe thead th {\n",
       "        text-align: right;\n",
       "    }\n",
       "</style>\n",
       "<table border=\"1\" class=\"dataframe\">\n",
       "  <thead>\n",
       "    <tr style=\"text-align: right;\">\n",
       "      <th></th>\n",
       "      <th>id</th>\n",
       "      <th>keyword</th>\n",
       "      <th>text</th>\n",
       "      <th>target</th>\n",
       "    </tr>\n",
       "  </thead>\n",
       "  <tbody>\n",
       "    <tr>\n",
       "      <th>31</th>\n",
       "      <td>48</td>\n",
       "      <td>ablaze</td>\n",
       "      <td>@bbcmtd Wholesale Markets ablaze http://t.co/l...</td>\n",
       "      <td>1</td>\n",
       "    </tr>\n",
       "    <tr>\n",
       "      <th>32</th>\n",
       "      <td>49</td>\n",
       "      <td>ablaze</td>\n",
       "      <td>We always try to bring the heavy. #metal #RT h...</td>\n",
       "      <td>0</td>\n",
       "    </tr>\n",
       "    <tr>\n",
       "      <th>33</th>\n",
       "      <td>50</td>\n",
       "      <td>ablaze</td>\n",
       "      <td>#AFRICANBAZE: Breaking news:Nigeria flag set a...</td>\n",
       "      <td>1</td>\n",
       "    </tr>\n",
       "  </tbody>\n",
       "</table>\n",
       "</div>"
      ],
      "text/plain": [
       "    id keyword                                               text  target\n",
       "31  48  ablaze  @bbcmtd Wholesale Markets ablaze http://t.co/l...       1\n",
       "32  49  ablaze  We always try to bring the heavy. #metal #RT h...       0\n",
       "33  50  ablaze  #AFRICANBAZE: Breaking news:Nigeria flag set a...       1"
      ]
     },
     "execution_count": 273,
     "metadata": {},
     "output_type": "execute_result"
    }
   ],
   "source": [
    "uncleaned_data = uncleaned_data[-uncleaned_data.keyword.isna()]\n",
    "uncleaned_data.head(3)"
   ]
  },
  {
   "cell_type": "code",
   "execution_count": 281,
   "id": "0d0b62a4",
   "metadata": {
    "scrolled": false
   },
   "outputs": [
    {
     "name": "stdout",
     "output_type": "stream",
     "text": [
      "[' ', 'a', 'b', 'c', 'd', 'e', 'f', 'g', 'h', 'i', 'j', 'k', 'l', 'm', 'n', 'o', 'p', 'q', 'r', 's', 't', 'u', 'v', 'w', 'x', 'y', 'z']\n",
      "  --> \n",
      "a --> \n",
      "b -->  markets ablaze we a\n",
      "c --> ze in aba crying out\n",
      "d --> on plus side look at\n",
      "e --> \n",
      "f --> s nigeria flag set a\n",
      "g --> ry to bring the heav\n",
      "h --> \n",
      "i -->  try to bring the he\n",
      "j -->  barbados jamaica tw\n",
      "k --> lesale markets ablaz\n",
      "l --> \n",
      "m --> wholesale markets ab\n",
      "n --> try to bring the hea\n",
      "o --> \n",
      "p --> ablaze on plus side \n",
      "q --> und new acquisitions\n",
      "r --> olesale markets abla\n",
      "s --> \n",
      "t --> sale markets ablaze \n",
      "u --> a crying out for mor\n",
      "v --> ng the heavy breakin\n",
      "w --> \n",
      "x --> for the next year at\n",
      "y --> ze we always try to \n",
      "z --> rkets ablaze we alwa\n"
     ]
    }
   ],
   "source": [
    "allText = ' '.join(uncleaned_data.text.tolist())\n",
    "print(sorted(list(set(allText))))\n",
    "for c in sorted(list(set(allText))):\n",
    "    print(f\"{c} --> {allText[allText.find(c)-10:allText.find(c)+10]}\")"
   ]
  },
  {
   "cell_type": "code",
   "execution_count": 275,
   "id": "45a22607",
   "metadata": {},
   "outputs": [],
   "source": [
    "contractions = {\n",
    "    \"haven't\": \"have not\",\n",
    "    \"hasn't\": \"has not\",\n",
    "    \"hadn't\": \"had not\",\n",
    "    \"don't\": \"do not\",\n",
    "    \"doesn't\": \"does not\",\n",
    "    \"didn't\": \"did not\",\n",
    "    \"won't\": \"will not\",\n",
    "    \"wouldn't\": \"would not\",\n",
    "    \"can't\": \"cannot\",\n",
    "    \"couldn't\": \"could not\",\n",
    "    \"they've\": \"they have\",\n",
    "    \"you're\": \"you are\",\n",
    "    \"it's\": \"it is\",\n",
    "    \"i'm\": \"i am\"\n",
    "    # Add more contractions as needed\n",
    "}\n",
    "\n",
    "def expand_contractions(text):\n",
    "    for contraction, expansion in contractions.items():\n",
    "        text = text.replace(contraction, expansion)\n",
    "    return text\n",
    "\n",
    "def remove_unwanted_chars(text):\n",
    "    allowed_chars = [\n",
    "        \" \", \"'\", \"a\", \"b\", \"c\", \"d\", \"e\", \"f\", \"g\", \"h\", \"i\", \"j\", \"k\", \"l\", \n",
    "        \"m\", \"n\", \"o\", \"p\", \"q\", \"r\", \"s\", \"t\", \"u\", \"v\", \"w\", \"x\", \"y\", \"z\", \"\\n\"\n",
    "    ]\n",
    "    pattern = f\"[^{''.join(allowed_chars)}]\"  # Create pattern from allowed characters\n",
    "    text = re.sub(pattern, \" \", text)\n",
    "    return text\n",
    "\n",
    "def clean_text(text):\n",
    "    text = text.lower()\n",
    "    text = re.sub(r\"#\\w+\", \"\", text)\n",
    "    text = ' '.join(text.split())\n",
    "    text = re.sub(r\"@\\w+\", \"\", text)\n",
    "    text = ' '.join(text.split())\n",
    "    text = re.sub(r\"(http|https)://\\S+\", \"\", text)\n",
    "    text = ' '.join(text.split())\n",
    "    text = re.sub(r\"\\d+\", \"\", text)\n",
    "    text = ' '.join(text.split())\n",
    "    text = remove_unwanted_chars(text)\n",
    "    text = ' '.join(text.split())\n",
    "    text = expand_contractions(text)\n",
    "    text = ' '.join(text.split())\n",
    "    text = text.replace(\" ' \", \" \")\n",
    "    text = text.replace(\"' \", \" \")\n",
    "    text = text.replace(\" '\", \" \")\n",
    "    text = text.replace('\\'', \" \")\n",
    "    text = ' '.join(text.split())\n",
    "    return text"
   ]
  },
  {
   "cell_type": "code",
   "execution_count": 276,
   "id": "703aeceb",
   "metadata": {},
   "outputs": [],
   "source": [
    "uncleaned_data.text = uncleaned_data.text.apply(clean_text)"
   ]
  },
  {
   "cell_type": "code",
   "execution_count": 277,
   "id": "4ad30a56",
   "metadata": {},
   "outputs": [],
   "source": [
    "uncleaned_data.drop(columns=['keyword'], inplace=True)"
   ]
  },
  {
   "cell_type": "code",
   "execution_count": 289,
   "id": "8cc93517",
   "metadata": {},
   "outputs": [
    {
     "data": {
      "text/html": [
       "<div>\n",
       "<style scoped>\n",
       "    .dataframe tbody tr th:only-of-type {\n",
       "        vertical-align: middle;\n",
       "    }\n",
       "\n",
       "    .dataframe tbody tr th {\n",
       "        vertical-align: top;\n",
       "    }\n",
       "\n",
       "    .dataframe thead th {\n",
       "        text-align: right;\n",
       "    }\n",
       "</style>\n",
       "<table border=\"1\" class=\"dataframe\">\n",
       "  <thead>\n",
       "    <tr style=\"text-align: right;\">\n",
       "      <th></th>\n",
       "      <th>id</th>\n",
       "      <th>text</th>\n",
       "      <th>target</th>\n",
       "    </tr>\n",
       "  </thead>\n",
       "  <tbody>\n",
       "    <tr>\n",
       "      <th>31</th>\n",
       "      <td>48</td>\n",
       "      <td>wholesale markets ablaze</td>\n",
       "      <td>1</td>\n",
       "    </tr>\n",
       "    <tr>\n",
       "      <th>32</th>\n",
       "      <td>49</td>\n",
       "      <td>we always try to bring the heavy</td>\n",
       "      <td>0</td>\n",
       "    </tr>\n",
       "    <tr>\n",
       "      <th>33</th>\n",
       "      <td>50</td>\n",
       "      <td>breaking news nigeria flag set ablaze in aba</td>\n",
       "      <td>1</td>\n",
       "    </tr>\n",
       "  </tbody>\n",
       "</table>\n",
       "</div>"
      ],
      "text/plain": [
       "    id                                          text  target\n",
       "31  48                      wholesale markets ablaze       1\n",
       "32  49              we always try to bring the heavy       0\n",
       "33  50  breaking news nigeria flag set ablaze in aba       1"
      ]
     },
     "execution_count": 289,
     "metadata": {},
     "output_type": "execute_result"
    }
   ],
   "source": [
    "uncleaned_data.head(3)"
   ]
  },
  {
   "cell_type": "code",
   "execution_count": 293,
   "id": "167cf620",
   "metadata": {},
   "outputs": [],
   "source": [
    "allWords = (' '.join(uncleaned_data.text.tolist())).split()"
   ]
  },
  {
   "cell_type": "code",
   "execution_count": 296,
   "id": "9453e26d",
   "metadata": {},
   "outputs": [
    {
     "data": {
      "text/plain": [
       "array(['a', 'aa', 'aaaa', ..., 'zumiez', 'zurich', 'zzzz'], dtype='<U23')"
      ]
     },
     "execution_count": 296,
     "metadata": {},
     "output_type": "execute_result"
    }
   ],
   "source": [
    "np.unique(allWords)"
   ]
  },
  {
   "cell_type": "markdown",
   "id": "49b264fb",
   "metadata": {},
   "source": [
    "We have completed the basic cleaning so we will now save the cleaned dataset to build a model."
   ]
  },
  {
   "cell_type": "code",
   "execution_count": 299,
   "id": "75cd66c5",
   "metadata": {},
   "outputs": [],
   "source": [
    "uncleaned_data.to_csv(\"../data/cleaned_data.csv\", index=False)"
   ]
  },
  {
   "cell_type": "code",
   "execution_count": null,
   "id": "2a4b80a5",
   "metadata": {},
   "outputs": [],
   "source": []
  }
 ],
 "metadata": {
  "kernelspec": {
   "display_name": "Python 3 (ipykernel)",
   "language": "python",
   "name": "python3"
  },
  "language_info": {
   "codemirror_mode": {
    "name": "ipython",
    "version": 3
   },
   "file_extension": ".py",
   "mimetype": "text/x-python",
   "name": "python",
   "nbconvert_exporter": "python",
   "pygments_lexer": "ipython3",
   "version": "3.9.7"
  }
 },
 "nbformat": 4,
 "nbformat_minor": 5
}

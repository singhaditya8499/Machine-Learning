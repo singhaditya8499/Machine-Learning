{
 "cells": [
  {
   "cell_type": "code",
   "execution_count": 1,
   "id": "957eae91",
   "metadata": {},
   "outputs": [
    {
     "name": "stderr",
     "output_type": "stream",
     "text": [
      "2024-03-07 10:36:12.542297: I tensorflow/core/platform/cpu_feature_guard.cc:182] This TensorFlow binary is optimized to use available CPU instructions in performance-critical operations.\n",
      "To enable the following instructions: AVX2 FMA, in other operations, rebuild TensorFlow with the appropriate compiler flags.\n"
     ]
    }
   ],
   "source": [
    "import pandas as pd\n",
    "import numpy as np\n",
    "import math \n",
    "import matplotlib.pyplot as plt\n",
    "import tensorflow as tf\n",
    "%matplotlib inline"
   ]
  },
  {
   "cell_type": "code",
   "execution_count": 2,
   "id": "5579f942",
   "metadata": {},
   "outputs": [
    {
     "data": {
      "text/html": [
       "<div>\n",
       "<style scoped>\n",
       "    .dataframe tbody tr th:only-of-type {\n",
       "        vertical-align: middle;\n",
       "    }\n",
       "\n",
       "    .dataframe tbody tr th {\n",
       "        vertical-align: top;\n",
       "    }\n",
       "\n",
       "    .dataframe thead th {\n",
       "        text-align: right;\n",
       "    }\n",
       "</style>\n",
       "<table border=\"1\" class=\"dataframe\">\n",
       "  <thead>\n",
       "    <tr style=\"text-align: right;\">\n",
       "      <th></th>\n",
       "      <th>id</th>\n",
       "      <th>text</th>\n",
       "      <th>target</th>\n",
       "    </tr>\n",
       "  </thead>\n",
       "  <tbody>\n",
       "    <tr>\n",
       "      <th>0</th>\n",
       "      <td>48</td>\n",
       "      <td>wholesale markets ablaze</td>\n",
       "      <td>1</td>\n",
       "    </tr>\n",
       "    <tr>\n",
       "      <th>1</th>\n",
       "      <td>49</td>\n",
       "      <td>we always try to bring the heavy</td>\n",
       "      <td>0</td>\n",
       "    </tr>\n",
       "    <tr>\n",
       "      <th>2</th>\n",
       "      <td>50</td>\n",
       "      <td>breaking news nigeria flag set ablaze in aba</td>\n",
       "      <td>1</td>\n",
       "    </tr>\n",
       "    <tr>\n",
       "      <th>3</th>\n",
       "      <td>52</td>\n",
       "      <td>crying out for more set me ablaze</td>\n",
       "      <td>0</td>\n",
       "    </tr>\n",
       "    <tr>\n",
       "      <th>4</th>\n",
       "      <td>53</td>\n",
       "      <td>on plus side look at the sky last night it was...</td>\n",
       "      <td>0</td>\n",
       "    </tr>\n",
       "  </tbody>\n",
       "</table>\n",
       "</div>"
      ],
      "text/plain": [
       "   id                                               text  target\n",
       "0  48                           wholesale markets ablaze       1\n",
       "1  49                   we always try to bring the heavy       0\n",
       "2  50       breaking news nigeria flag set ablaze in aba       1\n",
       "3  52                  crying out for more set me ablaze       0\n",
       "4  53  on plus side look at the sky last night it was...       0"
      ]
     },
     "execution_count": 2,
     "metadata": {},
     "output_type": "execute_result"
    }
   ],
   "source": [
    "data = pd.read_csv(\"../data/cleaned_data.csv\")\n",
    "data.head()"
   ]
  },
  {
   "cell_type": "code",
   "execution_count": 11,
   "id": "10612488",
   "metadata": {},
   "outputs": [
    {
     "data": {
      "text/plain": [
       "Text(0, 0.5, 'Total samples')"
      ]
     },
     "execution_count": 11,
     "metadata": {},
     "output_type": "execute_result"
    },
    {
     "data": {
      "image/png": "[encoded data removed]",
      "text/plain": [
       "<Figure size 432x288 with 1 Axes>"
      ]
     },
     "metadata": {
      "needs_background": "light"
     },
     "output_type": "display_data"
    }
   ],
   "source": [
    "seq_len = [len(x.split()) for x in data.text.tolist()]\n",
    "plt.hist(seq_len, bins=33);\n",
    "plt.xlabel(\"Total words in the tweet\")\n",
    "plt.ylabel(\"Total samples\")"
   ]
  },
  {
   "cell_type": "code",
   "execution_count": 520,
   "id": "29b01245",
   "metadata": {},
   "outputs": [],
   "source": [
    "X = data.text\n",
    "y = data.target"
   ]
  },
  {
   "cell_type": "markdown",
   "id": "775dfb88",
   "metadata": {},
   "source": [
    "## Basic model"
   ]
  },
  {
   "cell_type": "code",
   "execution_count": 521,
   "id": "1fa753f1",
   "metadata": {},
   "outputs": [],
   "source": [
    "from tensorflow.keras.preprocessing.text import Tokenizer\n",
    "from tensorflow.keras.utils import pad_sequences, to_categorical\n",
    "from sklearn.model_selection import train_test_split\n",
    "from tensorflow.keras.models import Sequential\n",
    "from tensorflow.keras.layers import Dense, Dropout, Embedding, GlobalAveragePooling1D, Flatten, LSTM, InputLayer\n",
    "from tensorflow.keras.optimizers import Optimizer, Adam\n",
    "from tensorflow.keras.callbacks import EarlyStopping"
   ]
  },
  {
   "cell_type": "code",
   "execution_count": 457,
   "id": "7bc17c63",
   "metadata": {},
   "outputs": [],
   "source": [
    "UNIQUE_WORD_COUNT = 12861\n",
    "tokenizer = Tokenizer(num_words=UNIQUE_WORD_COUNT, char_level=False)\n",
    "tokenizer.fit_on_texts(X)"
   ]
  },
  {
   "cell_type": "code",
   "execution_count": 458,
   "id": "392af0bf",
   "metadata": {
    "scrolled": false
   },
   "outputs": [],
   "source": [
    "MAX_SEQUENCE = 147\n",
    "X_data = tokenizer.texts_to_sequences(X)\n",
    "X_data = pad_sequences(X_data, maxlen=MAX_SEQUENCE, padding='post')"
   ]
  },
  {
   "cell_type": "code",
   "execution_count": 459,
   "id": "57918541",
   "metadata": {},
   "outputs": [],
   "source": [
    "y_data = to_categorical(y)"
   ]
  },
  {
   "cell_type": "code",
   "execution_count": 460,
   "id": "93b0913b",
   "metadata": {},
   "outputs": [],
   "source": [
    "X_train, X_val, y_train, y_val = train_test_split(X_data, y_data, test_size=0.2, random_state=41)"
   ]
  },
  {
   "cell_type": "code",
   "execution_count": 416,
   "id": "2e8c095d",
   "metadata": {},
   "outputs": [],
   "source": [
    "X_train = (X_train - np.min(X_train))/(np.max(X_train) - np.min(X_train))\n",
    "X_val = (X_val - np.min(X_val))/(np.max(X_val) - np.min(X_val))"
   ]
  },
  {
   "cell_type": "code",
   "execution_count": 417,
   "id": "09b057cc",
   "metadata": {},
   "outputs": [
    {
     "data": {
      "text/plain": [
       "(6041, 147)"
      ]
     },
     "execution_count": 417,
     "metadata": {},
     "output_type": "execute_result"
    }
   ],
   "source": [
    "X_train.shape"
   ]
  },
  {
   "cell_type": "code",
   "execution_count": 428,
   "id": "2d5c5414",
   "metadata": {},
   "outputs": [],
   "source": [
    "simple_model = Sequential()\n",
    "simple_model.add(Dense(1024, activation='relu', input_shape=(X_train.shape[1],)))\n",
    "simple_model.add(Dropout(0.3))\n",
    "simple_model.add(Dense(512, activation='relu'))\n",
    "simple_model.add(Dense(64, activation='relu'))\n",
    "simple_model.add(Dense(2, activation='softmax'))"
   ]
  },
  {
   "cell_type": "code",
   "execution_count": 429,
   "id": "23ca2399",
   "metadata": {},
   "outputs": [],
   "source": [
    "adam = Adam(learning_rate=0.001)\n",
    "simple_model.compile(optimizer=adam, loss='binary_crossentropy', metrics=['acc'])"
   ]
  },
  {
   "cell_type": "code",
   "execution_count": 430,
   "id": "9a6612af",
   "metadata": {},
   "outputs": [
    {
     "name": "stdout",
     "output_type": "stream",
     "text": [
      "Model: \"sequential_64\"\n",
      "_________________________________________________________________\n",
      " Layer (type)                Output Shape              Param #   \n",
      "=================================================================\n",
      " dense_304 (Dense)           (None, 1024)              151552    \n",
      "                                                                 \n",
      " dropout_57 (Dropout)        (None, 1024)              0         \n",
      "                                                                 \n",
      " dense_305 (Dense)           (None, 512)               524800    \n",
      "                                                                 \n",
      " dense_306 (Dense)           (None, 64)                32832     \n",
      "                                                                 \n",
      " dense_307 (Dense)           (None, 2)                 130       \n",
      "                                                                 \n",
      "=================================================================\n",
      "Total params: 709314 (2.71 MB)\n",
      "Trainable params: 709314 (2.71 MB)\n",
      "Non-trainable params: 0 (0.00 Byte)\n",
      "_________________________________________________________________\n"
     ]
    }
   ],
   "source": [
    "simple_model.summary()"
   ]
  },
  {
   "cell_type": "code",
   "execution_count": 432,
   "id": "dc0a758d",
   "metadata": {},
   "outputs": [
    {
     "name": "stdout",
     "output_type": "stream",
     "text": [
      "Epoch 1/2\n",
      "189/189 [==============================] - 2s 9ms/step - loss: 0.6384 - acc: 0.6348 - val_loss: 0.6674 - val_acc: 0.6228\n",
      "Epoch 2/2\n",
      "189/189 [==============================] - 2s 8ms/step - loss: 0.6265 - acc: 0.6532 - val_loss: 0.6608 - val_acc: 0.6228\n"
     ]
    }
   ],
   "source": [
    "history = simple_model.fit(X_train, y_train, epochs=2, batch_size=32, validation_data=(X_val, y_val), verbose=True)"
   ]
  },
  {
   "cell_type": "code",
   "execution_count": 158,
   "id": "22f2eb50",
   "metadata": {},
   "outputs": [
    {
     "data": {
      "image/png": "[encoded data removed]",
      "text/plain": [
       "<Figure size 1440x288 with 2 Axes>"
      ]
     },
     "metadata": {
      "needs_background": "light"
     },
     "output_type": "display_data"
    }
   ],
   "source": [
    "plt.figure(figsize = (20,4))\n",
    "\n",
    "plt.subplot(121)\n",
    "plt.xticks(np.arange(0, len(history.history['loss'])));\n",
    "plt.plot(history.history['loss'], label=\"Training loss\");\n",
    "plt.plot(history.history['val_loss'], label=\"Validation loss\");\n",
    "plt.legend();\n",
    "\n",
    "plt.subplot(122)\n",
    "plt.xticks(np.arange(0, len(history.history['loss'])));\n",
    "plt.plot(history.history['acc'], label=\"Training accuracy\");\n",
    "plt.plot(history.history['val_acc'], label=\"Validation accuracy\")\n",
    "plt.legend();"
   ]
  },
  {
   "cell_type": "markdown",
   "id": "59ea5cb1",
   "metadata": {},
   "source": [
    "## Embdeddings"
   ]
  },
  {
   "cell_type": "code",
   "execution_count": 469,
   "id": "579fca0a",
   "metadata": {},
   "outputs": [],
   "source": [
    "EMBEDDING_DIMENSION = 11\n",
    "embedding_model = Sequential()\n",
    "embedding_model.add(Embedding(UNIQUE_WORD_COUNT, EMBEDDING_DIMENSION, input_shape = (X_train.shape[1],)))\n",
    "embedding_model.add(Flatten())\n",
    "embedding_model.add(Dense(64, activation='relu'))\n",
    "# embedding_model.add(Dropout(0.3))\n",
    "embedding_model.add(Dense(64, activation='relu'))\n",
    "embedding_model.add(Dense(32, activation='relu'))\n",
    "embedding_model.add(Dense(16, activation='relu'))\n",
    "embedding_model.add(Dense(2, activation='softmax'))"
   ]
  },
  {
   "cell_type": "code",
   "execution_count": 470,
   "id": "8ac4a02d",
   "metadata": {},
   "outputs": [],
   "source": [
    "adam = Adam(learning_rate=0.01)\n",
    "embedding_model.compile(optimizer='adam', loss='binary_crossentropy', metrics=['acc'])"
   ]
  },
  {
   "cell_type": "code",
   "execution_count": 471,
   "id": "895ae5e9",
   "metadata": {},
   "outputs": [
    {
     "name": "stdout",
     "output_type": "stream",
     "text": [
      "Model: \"sequential_68\"\n",
      "_________________________________________________________________\n",
      " Layer (type)                Output Shape              Param #   \n",
      "=================================================================\n",
      " embedding_41 (Embedding)    (None, 147, 11)           141471    \n",
      "                                                                 \n",
      " flatten_31 (Flatten)        (None, 1617)              0         \n",
      "                                                                 \n",
      " dense_323 (Dense)           (None, 64)                103552    \n",
      "                                                                 \n",
      " dense_324 (Dense)           (None, 64)                4160      \n",
      "                                                                 \n",
      " dense_325 (Dense)           (None, 32)                2080      \n",
      "                                                                 \n",
      " dense_326 (Dense)           (None, 16)                528       \n",
      "                                                                 \n",
      " dense_327 (Dense)           (None, 2)                 34        \n",
      "                                                                 \n",
      "=================================================================\n",
      "Total params: 251825 (983.69 KB)\n",
      "Trainable params: 251825 (983.69 KB)\n",
      "Non-trainable params: 0 (0.00 Byte)\n",
      "_________________________________________________________________\n"
     ]
    }
   ],
   "source": [
    "embedding_model.summary()"
   ]
  },
  {
   "cell_type": "code",
   "execution_count": 472,
   "id": "6f09a197",
   "metadata": {},
   "outputs": [
    {
     "name": "stdout",
     "output_type": "stream",
     "text": [
      "Epoch 1/2\n",
      "189/189 [==============================] - 2s 4ms/step - loss: 0.6358 - acc: 0.6352 - val_loss: 0.5022 - val_acc: 0.7723\n",
      "Epoch 2/2\n",
      "189/189 [==============================] - 1s 3ms/step - loss: 0.3671 - acc: 0.8492 - val_loss: 0.4775 - val_acc: 0.7902\n"
     ]
    }
   ],
   "source": [
    "# early_stopping = EarlyStopping(\n",
    "#     monitor='val_loss',  # Monitor validation loss\n",
    "#     min_delta=0.01,  # Minimum change in monitored metric to qualify as improvement\n",
    "#     patience=5,  # Number of epochs to wait for improvement before stopping\n",
    "#     mode='min'  # Early stopping when monitored metric stops decreasing (for loss)\n",
    "# )\n",
    "\n",
    "history = embedding_model.fit(X_train, \n",
    "                              y_train, \n",
    "                              epochs=2, \n",
    "                              batch_size=32, \n",
    "                              validation_data=(X_val, y_val), \n",
    "                              verbose=True,\n",
    "#                               callbacks=[early_stopping])\n",
    "                             )"
   ]
  },
  {
   "cell_type": "code",
   "execution_count": 473,
   "id": "4036312e",
   "metadata": {},
   "outputs": [
    {
     "data": {
      "text/plain": [
       "(3263, 147)"
      ]
     },
     "execution_count": 473,
     "metadata": {},
     "output_type": "execute_result"
    }
   ],
   "source": [
    "X_test = np.load(\"./X_train.npy\")\n",
    "X_test.shape"
   ]
  },
  {
   "cell_type": "code",
   "execution_count": 474,
   "id": "cfa709ed",
   "metadata": {},
   "outputs": [
    {
     "name": "stdout",
     "output_type": "stream",
     "text": [
      "102/102 [==============================] - 0s 1ms/step\n"
     ]
    }
   ],
   "source": [
    "prediction = embedding_model.predict(X_test)"
   ]
  },
  {
   "cell_type": "code",
   "execution_count": 475,
   "id": "0a5c0a18",
   "metadata": {},
   "outputs": [],
   "source": [
    "test_data = pd.read_csv(\"../data/test.csv\")"
   ]
  },
  {
   "cell_type": "code",
   "execution_count": 476,
   "id": "76cb839d",
   "metadata": {},
   "outputs": [],
   "source": [
    "ans = []\n",
    "for x, y in prediction:\n",
    "    if x > y:\n",
    "        ans.append(0)\n",
    "    else:\n",
    "        ans.append(1)"
   ]
  },
  {
   "cell_type": "code",
   "execution_count": 477,
   "id": "517e3bdf",
   "metadata": {},
   "outputs": [],
   "source": [
    "ans_df = pd.DataFrame({'id': test_data.id,\n",
    "                      'target': ans})\n",
    "ans_df.to_csv(\"../data/final_submission_embedding.csv\", index=False)"
   ]
  },
  {
   "cell_type": "code",
   "execution_count": 348,
   "id": "e6620b11",
   "metadata": {},
   "outputs": [
    {
     "data": {
      "image/png": "[encoded data removed]",
      "text/plain": [
       "<Figure size 1440x288 with 2 Axes>"
      ]
     },
     "metadata": {
      "needs_background": "light"
     },
     "output_type": "display_data"
    }
   ],
   "source": [
    "plt.figure(figsize = (20,4))\n",
    "\n",
    "plt.subplot(121)\n",
    "plt.xticks(np.arange(0, len(history.history['loss'])));\n",
    "plt.plot(history.history['loss'], label=\"Training loss\");\n",
    "plt.plot(history.history['val_loss'], label=\"Validation loss\");\n",
    "plt.legend();\n",
    "\n",
    "plt.subplot(122)\n",
    "plt.xticks(np.arange(0, len(history.history['loss'])));\n",
    "plt.plot(history.history['acc'], label=\"Training accuracy\");\n",
    "plt.plot(history.history['val_acc'], label=\"Validation accuracy\")\n",
    "plt.legend();"
   ]
  },
  {
   "cell_type": "markdown",
   "id": "ce8ad8cc",
   "metadata": {},
   "source": [
    "## Tiktoken embeddings"
   ]
  },
  {
   "cell_type": "code",
   "execution_count": 349,
   "id": "9de4bbbf",
   "metadata": {},
   "outputs": [],
   "source": [
    "import tiktoken"
   ]
  },
  {
   "cell_type": "code",
   "execution_count": 350,
   "id": "033d7fea",
   "metadata": {},
   "outputs": [],
   "source": [
    "enc = tiktoken.get_encoding(\"cl100k_base\")"
   ]
  },
  {
   "cell_type": "code",
   "execution_count": 522,
   "id": "47c201c5",
   "metadata": {},
   "outputs": [
    {
     "data": {
      "text/plain": [
       "[1336, 43607, 11987, 98492, 10033]"
      ]
     },
     "execution_count": 522,
     "metadata": {},
     "output_type": "execute_result"
    }
   ],
   "source": [
    "enc.encode(X[0])"
   ]
  },
  {
   "cell_type": "code",
   "execution_count": 523,
   "id": "2cd915f7",
   "metadata": {},
   "outputs": [],
   "source": [
    "X_tiktoken = []\n",
    "for i in range(len(X)):\n",
    "    X_tiktoken.append(enc.encode(X[i]))"
   ]
  },
  {
   "cell_type": "code",
   "execution_count": 524,
   "id": "e7cb95d9",
   "metadata": {},
   "outputs": [
    {
     "data": {
      "text/plain": [
       "36"
      ]
     },
     "execution_count": 524,
     "metadata": {},
     "output_type": "execute_result"
    }
   ],
   "source": [
    "MAX_LEN_TIKTOKEN = max([len(x) for x in X_tiktoken])\n",
    "MAX_LEN_TIKTOKEN"
   ]
  },
  {
   "cell_type": "code",
   "execution_count": 593,
   "id": "0978433e",
   "metadata": {},
   "outputs": [],
   "source": [
    "X_tiktoken_padded = pad_sequences(X_tiktoken, maxlen=MAX_LEN_TIKTOKEN, padding='post')\n",
    "X_tiktoken_padded = np.array(X_tiktoken_padded)"
   ]
  },
  {
   "cell_type": "code",
   "execution_count": 594,
   "id": "48bb0d5c",
   "metadata": {},
   "outputs": [],
   "source": [
    "X_tiktoken_train, X_tiktoken_val, y_tiktoken_train, y_tiktoken_val = train_test_split(X_tiktoken_padded, y_data, test_size=0.2, random_state=41)"
   ]
  },
  {
   "cell_type": "code",
   "execution_count": 583,
   "id": "05a8b11a",
   "metadata": {},
   "outputs": [],
   "source": [
    "X_tiktoken_train = (X_tiktoken_train - np.min(X_tiktoken_train))/(np.max(X_tiktoken_train) - np.min(X_tiktoken_train))\n",
    "X_tiktoken_val = (X_tiktoken_val - np.min(X_tiktoken_val))/(np.max(X_tiktoken_val) - np.min(X_tiktoken_val))"
   ]
  },
  {
   "cell_type": "code",
   "execution_count": 485,
   "id": "93ff5925",
   "metadata": {},
   "outputs": [],
   "source": [
    "tiktoken_model = Sequential()\n",
    "tiktoken_model.add(Dense(1024, activation='relu', input_shape=(X_tiktoken_train.shape[1],)))\n",
    "tiktoken_model.add(Dropout(0.3))\n",
    "tiktoken_model.add(Dense(512, activation='relu'))\n",
    "tiktoken_model.add(Dense(512, activation='relu'))\n",
    "tiktoken_model.add(Dense(256, activation='relu'))\n",
    "tiktoken_model.add(Dense(2, activation='softmax'))"
   ]
  },
  {
   "cell_type": "code",
   "execution_count": 486,
   "id": "a071e8d4",
   "metadata": {},
   "outputs": [],
   "source": [
    "adam = Adam(learning_rate=0.001)\n",
    "tiktoken_model.compile(optimizer='adam', loss='binary_crossentropy', metrics=['acc'])"
   ]
  },
  {
   "cell_type": "code",
   "execution_count": 487,
   "id": "1d0ba279",
   "metadata": {},
   "outputs": [
    {
     "name": "stdout",
     "output_type": "stream",
     "text": [
      "Model: \"sequential_69\"\n",
      "_________________________________________________________________\n",
      " Layer (type)                Output Shape              Param #   \n",
      "=================================================================\n",
      " dense_328 (Dense)           (None, 1024)              37888     \n",
      "                                                                 \n",
      " dropout_58 (Dropout)        (None, 1024)              0         \n",
      "                                                                 \n",
      " dense_329 (Dense)           (None, 512)               524800    \n",
      "                                                                 \n",
      " dense_330 (Dense)           (None, 512)               262656    \n",
      "                                                                 \n",
      " dense_331 (Dense)           (None, 256)               131328    \n",
      "                                                                 \n",
      " dense_332 (Dense)           (None, 2)                 514       \n",
      "                                                                 \n",
      "=================================================================\n",
      "Total params: 957186 (3.65 MB)\n",
      "Trainable params: 957186 (3.65 MB)\n",
      "Non-trainable params: 0 (0.00 Byte)\n",
      "_________________________________________________________________\n"
     ]
    }
   ],
   "source": [
    "tiktoken_model.summary()"
   ]
  },
  {
   "cell_type": "code",
   "execution_count": 488,
   "id": "f4b7b91a",
   "metadata": {},
   "outputs": [],
   "source": [
    "history = tiktoken_model.fit(X_tiktoken_train, y_tiktoken_train, epochs=10, batch_size=32, \n",
    "                           validation_data=(X_tiktoken_val, y_tiktoken_val), verbose=False)"
   ]
  },
  {
   "cell_type": "code",
   "execution_count": 489,
   "id": "c4c6347a",
   "metadata": {},
   "outputs": [
    {
     "data": {
      "image/png": "[encoded data removed]",
      "text/plain": [
       "<Figure size 1440x288 with 2 Axes>"
      ]
     },
     "metadata": {
      "needs_background": "light"
     },
     "output_type": "display_data"
    }
   ],
   "source": [
    "plt.figure(figsize = (20,4))\n",
    "\n",
    "plt.subplot(121)\n",
    "plt.xticks(np.arange(0, len(history.history['loss'])));\n",
    "plt.plot(history.history['loss'], label=\"Training loss\");\n",
    "plt.plot(history.history['val_loss'], label=\"Validation loss\");\n",
    "plt.legend();\n",
    "\n",
    "plt.subplot(122)\n",
    "plt.xticks(np.arange(0, len(history.history['loss'])));\n",
    "plt.plot(history.history['acc'], label=\"Training accuracy\");\n",
    "plt.plot(history.history['val_acc'], label=\"Validation accuracy\")\n",
    "plt.legend();"
   ]
  },
  {
   "cell_type": "markdown",
   "id": "ca9b64c3",
   "metadata": {},
   "source": [
    "## Tiktoken with LSTM"
   ]
  },
  {
   "cell_type": "code",
   "execution_count": 595,
   "id": "46a663b4",
   "metadata": {},
   "outputs": [
    {
     "data": {
      "text/plain": [
       "(100206, 0)"
      ]
     },
     "execution_count": 595,
     "metadata": {},
     "output_type": "execute_result"
    }
   ],
   "source": [
    "np.max(X_tiktoken_train), np.min(X_tiktoken_train)"
   ]
  },
  {
   "cell_type": "code",
   "execution_count": 605,
   "id": "fbfeaec3",
   "metadata": {},
   "outputs": [],
   "source": [
    "from tensorflow.keras.layers import GRU, Bidirectional\n",
    "UNITS = 256\n",
    "\n",
    "tiktoken_model_lstm = Sequential()\n",
    "tiktoken_model_lstm.add(Embedding(100207, 15, input_shape=(X_tiktoken_train.shape[1], )))\n",
    "tiktoken_model_lstm.add(Bidirectional(GRU(units=UNITS, return_sequences=True)))\n",
    "tiktoken_model_lstm.add(Flatten())\n",
    "tiktoken_model_lstm.add(Dense(128, activation='relu'))\n",
    "tiktoken_model_lstm.add(Dense(32, activation='relu'))\n",
    "tiktoken_model_lstm.add(Dense(8, activation='relu'))\n",
    "tiktoken_model_lstm.add(Dense(2, activation='softmax'))"
   ]
  },
  {
   "cell_type": "code",
   "execution_count": 606,
   "id": "bd51b762",
   "metadata": {},
   "outputs": [],
   "source": [
    "adam = Adam(learning_rate=0.001)\n",
    "tiktoken_model_lstm.compile(optimizer=adam, loss='binary_crossentropy', metrics=['acc'])"
   ]
  },
  {
   "cell_type": "code",
   "execution_count": 607,
   "id": "04c519fc",
   "metadata": {},
   "outputs": [
    {
     "name": "stdout",
     "output_type": "stream",
     "text": [
      "Model: \"sequential_95\"\n",
      "_________________________________________________________________\n",
      " Layer (type)                Output Shape              Param #   \n",
      "=================================================================\n",
      " embedding_65 (Embedding)    (None, 36, 15)            1503105   \n",
      "                                                                 \n",
      " bidirectional_6 (Bidirecti  (None, 36, 512)           419328    \n",
      " onal)                                                           \n",
      "                                                                 \n",
      " flatten_54 (Flatten)        (None, 18432)             0         \n",
      "                                                                 \n",
      " dense_427 (Dense)           (None, 128)               2359424   \n",
      "                                                                 \n",
      " dense_428 (Dense)           (None, 32)                4128      \n",
      "                                                                 \n",
      " dense_429 (Dense)           (None, 8)                 264       \n",
      "                                                                 \n",
      " dense_430 (Dense)           (None, 2)                 18        \n",
      "                                                                 \n",
      "=================================================================\n",
      "Total params: 4286267 (16.35 MB)\n",
      "Trainable params: 4286267 (16.35 MB)\n",
      "Non-trainable params: 0 (0.00 Byte)\n",
      "_________________________________________________________________\n"
     ]
    }
   ],
   "source": [
    "tiktoken_model_lstm.summary()"
   ]
  },
  {
   "cell_type": "code",
   "execution_count": 608,
   "id": "f39edd04",
   "metadata": {},
   "outputs": [
    {
     "name": "stdout",
     "output_type": "stream",
     "text": [
      "Epoch 1/2\n",
      "189/189 [==============================] - 23s 103ms/step - loss: 0.5643 - acc: 0.7015 - val_loss: 0.4739 - val_acc: 0.7889\n",
      "Epoch 2/2\n",
      "189/189 [==============================] - 21s 111ms/step - loss: 0.3384 - acc: 0.8605 - val_loss: 0.4863 - val_acc: 0.8034\n"
     ]
    }
   ],
   "source": [
    "history = tiktoken_model_lstm.fit(X_tiktoken_train, y_tiktoken_train, epochs=2, batch_size=32, \n",
    "                           validation_data=(X_tiktoken_val, y_tiktoken_val), verbose=True)"
   ]
  }
 ],
 "metadata": {
  "kernelspec": {
   "display_name": "Python 3 (ipykernel)",
   "language": "python",
   "name": "python3"
  },
  "language_info": {
   "codemirror_mode": {
    "name": "ipython",
    "version": 3
   },
   "file_extension": ".py",
   "mimetype": "text/x-python",
   "name": "python",
   "nbconvert_exporter": "python",
   "pygments_lexer": "ipython3",
   "version": "3.9.7"
  }
 },
 "nbformat": 4,
 "nbformat_minor": 5
}

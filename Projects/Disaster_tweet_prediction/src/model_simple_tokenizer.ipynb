{
 "cells": [
  {
   "cell_type": "code",
   "execution_count": 1,
   "id": "90bc2f46",
   "metadata": {},
   "outputs": [
    {
     "name": "stderr",
     "output_type": "stream",
     "text": [
      "2024-03-07 10:36:12.542297: I tensorflow/core/platform/cpu_feature_guard.cc:182] This TensorFlow binary is optimized to use available CPU instructions in performance-critical operations.\n",
      "To enable the following instructions: AVX2 FMA, in other operations, rebuild TensorFlow with the appropriate compiler flags.\n"
     ]
    }
   ],
   "source": [
    "import pandas as pd\n",
    "import numpy as np\n",
    "import math \n",
    "import matplotlib.pyplot as plt\n",
    "import tensorflow as tf\n",
    "%matplotlib inline"
   ]
  },
  {
   "cell_type": "code",
   "execution_count": 2,
   "id": "a51f7a96",
   "metadata": {},
   "outputs": [
    {
     "data": {
      "text/html": [
       "<div>\n",
       "<style scoped>\n",
       "    .dataframe tbody tr th:only-of-type {\n",
       "        vertical-align: middle;\n",
       "    }\n",
       "\n",
       "    .dataframe tbody tr th {\n",
       "        vertical-align: top;\n",
       "    }\n",
       "\n",
       "    .dataframe thead th {\n",
       "        text-align: right;\n",
       "    }\n",
       "</style>\n",
       "<table border=\"1\" class=\"dataframe\">\n",
       "  <thead>\n",
       "    <tr style=\"text-align: right;\">\n",
       "      <th></th>\n",
       "      <th>id</th>\n",
       "      <th>text</th>\n",
       "      <th>target</th>\n",
       "    </tr>\n",
       "  </thead>\n",
       "  <tbody>\n",
       "    <tr>\n",
       "      <th>0</th>\n",
       "      <td>48</td>\n",
       "      <td>wholesale markets ablaze</td>\n",
       "      <td>1</td>\n",
       "    </tr>\n",
       "    <tr>\n",
       "      <th>1</th>\n",
       "      <td>49</td>\n",
       "      <td>we always try to bring the heavy</td>\n",
       "      <td>0</td>\n",
       "    </tr>\n",
       "    <tr>\n",
       "      <th>2</th>\n",
       "      <td>50</td>\n",
       "      <td>breaking news nigeria flag set ablaze in aba</td>\n",
       "      <td>1</td>\n",
       "    </tr>\n",
       "    <tr>\n",
       "      <th>3</th>\n",
       "      <td>52</td>\n",
       "      <td>crying out for more set me ablaze</td>\n",
       "      <td>0</td>\n",
       "    </tr>\n",
       "    <tr>\n",
       "      <th>4</th>\n",
       "      <td>53</td>\n",
       "      <td>on plus side look at the sky last night it was...</td>\n",
       "      <td>0</td>\n",
       "    </tr>\n",
       "  </tbody>\n",
       "</table>\n",
       "</div>"
      ],
      "text/plain": [
       "   id                                               text  target\n",
       "0  48                           wholesale markets ablaze       1\n",
       "1  49                   we always try to bring the heavy       0\n",
       "2  50       breaking news nigeria flag set ablaze in aba       1\n",
       "3  52                  crying out for more set me ablaze       0\n",
       "4  53  on plus side look at the sky last night it was...       0"
      ]
     },
     "execution_count": 2,
     "metadata": {},
     "output_type": "execute_result"
    }
   ],
   "source": [
    "data = pd.read_csv(\"../data/cleaned_data.csv\")\n",
    "data.head()"
   ]
  },
  {
   "cell_type": "code",
   "execution_count": 11,
   "id": "c536c2e7",
   "metadata": {},
   "outputs": [
    {
     "data": {
      "text/plain": [
       "Text(0, 0.5, 'Total samples')"
      ]
     },
     "execution_count": 11,
     "metadata": {},
     "output_type": "execute_result"
    },
    {
     "data": {
      "image/png": "[encoded data removed]",
      "text/plain": [
       "<Figure size 432x288 with 1 Axes>"
      ]
     },
     "metadata": {
      "needs_background": "light"
     },
     "output_type": "display_data"
    }
   ],
   "source": [
    "seq_len = [len(x.split()) for x in data.text.tolist()]\n",
    "plt.hist(seq_len, bins=33);\n",
    "plt.xlabel(\"Total words in the tweet\")\n",
    "plt.ylabel(\"Total samples\")"
   ]
  },
  {
   "cell_type": "code",
   "execution_count": 13,
   "id": "d1ce8af1",
   "metadata": {},
   "outputs": [],
   "source": [
    "X = data.text\n",
    "y = data.target"
   ]
  },
  {
   "cell_type": "markdown",
   "id": "16355f29",
   "metadata": {},
   "source": [
    "## Basic model"
   ]
  },
  {
   "cell_type": "code",
   "execution_count": 42,
   "id": "4dc9f888",
   "metadata": {},
   "outputs": [],
   "source": [
    "from tensorflow.keras.preprocessing.text import Tokenizer\n",
    "from tensorflow.keras.utils import pad_sequences, to_categorical\n",
    "from sklearn.model_selection import train_test_split\n",
    "from tensorflow.keras.models import Sequential\n",
    "from tensorflow.keras.layers import Dense, Dropout\n",
    "from tensorflow.keras.optimizers import Optimizer, Adam"
   ]
  },
  {
   "cell_type": "code",
   "execution_count": 14,
   "id": "d58aa165",
   "metadata": {},
   "outputs": [],
   "source": [
    "tokenizer = Tokenizer()\n",
    "tokenizer.fit_on_texts(X)"
   ]
  },
  {
   "cell_type": "code",
   "execution_count": 34,
   "id": "a4df2eff",
   "metadata": {
    "scrolled": false
   },
   "outputs": [],
   "source": [
    "X_data = tokenizer.texts_to_sequences(X)\n",
    "X_data = pad_sequences(X_data, padding='post')"
   ]
  },
  {
   "cell_type": "code",
   "execution_count": 36,
   "id": "64aa7e4f",
   "metadata": {},
   "outputs": [],
   "source": [
    "y_data = to_categorical(y)"
   ]
  },
  {
   "cell_type": "code",
   "execution_count": 39,
   "id": "3ab871c4",
   "metadata": {},
   "outputs": [],
   "source": [
    "X_train, X_val, y_train, y_val = train_test_split(X_data, y_data, test_size=0.2, random_state=41)"
   ]
  },
  {
   "cell_type": "code",
   "execution_count": 71,
   "id": "d1ea0ab7",
   "metadata": {},
   "outputs": [],
   "source": [
    "X_train = (X_train - np.min(X_train))/(np.max(X_train) - np.min(X_train))\n",
    "X_val = (X_val - np.min(X_val))/(np.max(X_val) - np.min(X_val))"
   ]
  },
  {
   "cell_type": "code",
   "execution_count": 154,
   "id": "8b0ba0f6",
   "metadata": {},
   "outputs": [],
   "source": [
    "simple_model = Sequential()\n",
    "simple_model.add(Dense(2048, activation='relu', input_shape=(X_train.shape[1],)))\n",
    "simple_model.add(Dropout(0.3))\n",
    "simple_model.add(Dense(2048, activation='relu'))\n",
    "simple_model.add(Dense(64, activation='relu'))\n",
    "simple_model.add(Dense(2, activation='softmax'))"
   ]
  },
  {
   "cell_type": "code",
   "execution_count": 155,
   "id": "88802e03",
   "metadata": {},
   "outputs": [],
   "source": [
    "adam = Adam(learning_rate=0.01)\n",
    "simple_model.compile(optimizer=adam, loss='binary_crossentropy', metrics=['acc'])"
   ]
  },
  {
   "cell_type": "code",
   "execution_count": 156,
   "id": "fdb9b43b",
   "metadata": {},
   "outputs": [
    {
     "name": "stdout",
     "output_type": "stream",
     "text": [
      "Model: \"sequential_15\"\n",
      "_________________________________________________________________\n",
      " Layer (type)                Output Shape              Param #   \n",
      "=================================================================\n",
      " dense_72 (Dense)            (None, 2048)              69632     \n",
      "                                                                 \n",
      " dropout_18 (Dropout)        (None, 2048)              0         \n",
      "                                                                 \n",
      " dense_73 (Dense)            (None, 2048)              4196352   \n",
      "                                                                 \n",
      " dense_74 (Dense)            (None, 64)                131136    \n",
      "                                                                 \n",
      " dense_75 (Dense)            (None, 2)                 130       \n",
      "                                                                 \n",
      "=================================================================\n",
      "Total params: 4397250 (16.77 MB)\n",
      "Trainable params: 4397250 (16.77 MB)\n",
      "Non-trainable params: 0 (0.00 Byte)\n",
      "_________________________________________________________________\n"
     ]
    }
   ],
   "source": [
    "simple_model.summary()"
   ]
  },
  {
   "cell_type": "code",
   "execution_count": 157,
   "id": "0f9f5858",
   "metadata": {},
   "outputs": [],
   "source": [
    "history = simple_model.fit(X_train, y_train, epochs=25, batch_size=32, validation_data=(X_val, y_val), verbose=False)"
   ]
  },
  {
   "cell_type": "code",
   "execution_count": 158,
   "id": "9aa7fac1",
   "metadata": {},
   "outputs": [
    {
     "data": {
      "image/png": "[encoded data removed]",
      "text/plain": [
       "<Figure size 1440x288 with 2 Axes>"
      ]
     },
     "metadata": {
      "needs_background": "light"
     },
     "output_type": "display_data"
    }
   ],
   "source": [
    "plt.figure(figsize = (20,4))\n",
    "\n",
    "plt.subplot(121)\n",
    "plt.xticks(np.arange(0, len(history.history['loss'])));\n",
    "plt.plot(history.history['loss'], label=\"Training loss\");\n",
    "plt.plot(history.history['val_loss'], label=\"Validation loss\");\n",
    "plt.legend();\n",
    "\n",
    "plt.subplot(122)\n",
    "plt.xticks(np.arange(0, len(history.history['loss'])));\n",
    "plt.plot(history.history['acc'], label=\"Training accuracy\");\n",
    "plt.plot(history.history['val_acc'], label=\"Validation accuracy\")\n",
    "plt.legend();"
   ]
  },
  {
   "cell_type": "markdown",
   "id": "ac83ace2",
   "metadata": {},
   "source": [
    "## Embdeddings"
   ]
  },
  {
   "cell_type": "code",
   "execution_count": null,
   "id": "c82635bc",
   "metadata": {},
   "outputs": [],
   "source": [
    "EMBEDDING_DIMENSION = 10\n",
    "embedding_model = Sequential()\n",
    "embedding_model.add(Embedding(EMBEDDING_DIMENSION, ))"
   ]
  }
 ],
 "metadata": {
  "kernelspec": {
   "display_name": "Python 3 (ipykernel)",
   "language": "python",
   "name": "python3"
  },
  "language_info": {
   "codemirror_mode": {
    "name": "ipython",
    "version": 3
   },
   "file_extension": ".py",
   "mimetype": "text/x-python",
   "name": "python",
   "nbconvert_exporter": "python",
   "pygments_lexer": "ipython3",
   "version": "3.9.7"
  }
 },
 "nbformat": 4,
 "nbformat_minor": 5
}

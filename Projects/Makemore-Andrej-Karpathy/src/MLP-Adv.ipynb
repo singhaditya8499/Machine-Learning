{
 "cells": [
  {
   "cell_type": "markdown",
   "id": "62eabe9c",
   "metadata": {},
   "source": [
    "1. Always try to reduce the effort needed for the model training. There should never be a hockey stick like curve in training.\n",
    "2. "
   ]
  },
  {
   "cell_type": "code",
   "execution_count": 1,
   "id": "2f73efab",
   "metadata": {},
   "outputs": [],
   "source": [
    "import torch\n",
    "import torch.nn.functional as F\n",
    "import numpy as np\n",
    "import matplotlib.pyplot as plt\n",
    "%matplotlib inline"
   ]
  },
  {
   "cell_type": "code",
   "execution_count": 2,
   "id": "d22046c7",
   "metadata": {},
   "outputs": [
    {
     "data": {
      "text/plain": [
       "32033"
      ]
     },
     "execution_count": 2,
     "metadata": {},
     "output_type": "execute_result"
    }
   ],
   "source": [
    "words = open('../data/names.txt', 'r').read().splitlines()\n",
    "len(words)"
   ]
  },
  {
   "cell_type": "code",
   "execution_count": 3,
   "id": "000b8f5b",
   "metadata": {},
   "outputs": [
    {
     "data": {
      "text/plain": [
       "['emma', 'olivia', 'ava', 'isabella', 'sophia']"
      ]
     },
     "execution_count": 3,
     "metadata": {},
     "output_type": "execute_result"
    }
   ],
   "source": [
    "words[:5]"
   ]
  },
  {
   "cell_type": "code",
   "execution_count": 8,
   "id": "9a5d69f5",
   "metadata": {},
   "outputs": [],
   "source": [
    "chars = sorted(list(set(''.join(words))))\n",
    "stoi = {ch: i+1 for i, ch in enumerate(chars)}\n",
    "stoi['.'] = 0\n",
    "itos = {ch: i for i, ch in stoi.items()}\n",
    "vocab_size = len(itos)"
   ]
  },
  {
   "cell_type": "code",
   "execution_count": 5,
   "id": "2eea522c",
   "metadata": {},
   "outputs": [],
   "source": [
    "block_size = 3\n",
    "X, Y = [], []\n",
    "for w in words:\n",
    "#     print(w)\n",
    "    context = [0]*block_size\n",
    "    w = w + '.'\n",
    "    for ch in w:\n",
    "        ix = stoi[ch]\n",
    "        X.append(context)\n",
    "        Y.append(ix)\n",
    "#         print(f\"For context: {''.join([itos[c] for c in context])} the output is: {itos[ix]}\")\n",
    "        context = context[1:] + [ix]\n",
    "#     print(\"***\"*5)\n",
    "    \n",
    "X = torch.tensor(X)\n",
    "Y = torch.tensor(Y)"
   ]
  },
  {
   "cell_type": "code",
   "execution_count": 6,
   "id": "4ffd8c20",
   "metadata": {},
   "outputs": [
    {
     "data": {
      "text/plain": [
       "(torch.Size([228146, 3]), torch.int64, torch.Size([228146]), torch.int64)"
      ]
     },
     "execution_count": 6,
     "metadata": {},
     "output_type": "execute_result"
    }
   ],
   "source": [
    "X.shape, X.dtype, Y.shape, Y.dtype"
   ]
  },
  {
   "cell_type": "code",
   "execution_count": 7,
   "id": "25a3e21c",
   "metadata": {},
   "outputs": [
    {
     "name": "stdout",
     "output_type": "stream",
     "text": [
      "torch.Size([182625, 3]) torch.Size([182625])\n",
      "torch.Size([22655, 3]) torch.Size([22655])\n",
      "torch.Size([22866, 3]) torch.Size([22866])\n"
     ]
    }
   ],
   "source": [
    "#build the dataset\n",
    "block_size = 3 # context length: how many characters do we take to predict the next one?\n",
    "\n",
    "def build_dataset(words):  \n",
    "    X, Y = [], []\n",
    "    for w in words:\n",
    "\n",
    "        #print(w)\n",
    "        context = [0] * block_size\n",
    "        for ch in w + '.':\n",
    "            ix = stoi[ch]\n",
    "            X.append(context)\n",
    "            Y.append(ix)\n",
    "            #print(''.join(itos[i] for i in context), '--->', itos[ix])\n",
    "            context = context[1:] + [ix] # crop and append\n",
    "\n",
    "    X = torch.tensor(X)\n",
    "    Y = torch.tensor(Y)\n",
    "    print(X.shape, Y.shape)\n",
    "    return X, Y\n",
    "\n",
    "import random\n",
    "random.seed(42)\n",
    "random.shuffle(words)\n",
    "n1 = int(0.8*len(words))\n",
    "n2 = int(0.9*len(words))\n",
    "\n",
    "Xtr, Ytr = build_dataset(words[:n1])\n",
    "Xdev, Ydev = build_dataset(words[n1:n2])\n",
    "Xte, Yte = build_dataset(words[n2:])"
   ]
  },
  {
   "cell_type": "markdown",
   "id": "5a92691b",
   "metadata": {},
   "source": [
    "learn more here: https://blog.ezyang.com/2019/05/pytorch-internals/\n",
    "\n",
    "we need to concatenate the emb to convert it to a 2-D tensor\n",
    "this is not scalable approach as there can be change in block_size\n",
    "torch.cat([emb[:,0,:], emb[:,1,:], emb[:,2,:]], 1).shape\n",
    "\n",
    "to solve this we can use torch.unbind()\n",
    "\n",
    "torch.cat(torch.unbind(emb, 1), 1)\n",
    "\n",
    "a better approach is to use torch.view()"
   ]
  },
  {
   "cell_type": "code",
   "execution_count": 44,
   "id": "6425bf49",
   "metadata": {},
   "outputs": [
    {
     "name": "stdout",
     "output_type": "stream",
     "text": [
      "11697\n"
     ]
    }
   ],
   "source": [
    "# embeddings for our characters, cramming them into a 2 dimensional space\n",
    "n_embed = 10\n",
    "n_hidden = 200\n",
    "g = torch.Generator().manual_seed(2147483647)\n",
    "C = torch.randn((vocab_size, n_embed), generator=g)\n",
    "\n",
    "# 6 because of the 3*2\n",
    "W1 = torch.randn((n_embed * block_size, n_hidden), generator=g)*0.2\n",
    "b1 = torch.randn(n_hidden, generator=g) * 0.01\n",
    "# we want the inital weights to be as closer to 0 as possible so scaling it down\n",
    "W2 = torch.randn((n_hidden, vocab_size), generator=g) * 0.01\n",
    "b2 = torch.randn(vocab_size, generator=g) * 0 # dont need to add bias as we want values closer to 0\n",
    "parameters = [C, W1, b1, W2, b2]\n",
    "# BatchNorm parameters\n",
    "bngain = torch.ones((1, n_hidden))\n",
    "bnbias = torch.zeros((1, n_hidden))\n",
    "bnmean_running = torch.zeros((1, n_hidden))\n",
    "bnstd_running = torch.ones((1, n_hidden))\n",
    "\n",
    "parameters = [C, W1, W2, b2]\n",
    "print(sum(p.nelement() for p in parameters)) # number of parameters in total\n",
    "for p in parameters:\n",
    "    p.requires_grad = True"
   ]
  },
  {
   "cell_type": "code",
   "execution_count": 45,
   "id": "92c3b933",
   "metadata": {},
   "outputs": [
    {
     "name": "stdout",
     "output_type": "stream",
     "text": [
      "      0/ 200000: 3.3135\n",
      "  10000/ 200000: 2.1715\n",
      "  20000/ 200000: 2.3240\n",
      "  30000/ 200000: 2.4010\n",
      "  40000/ 200000: 1.9887\n",
      "  50000/ 200000: 2.3029\n",
      "  60000/ 200000: 2.4564\n",
      "  70000/ 200000: 2.1249\n",
      "  80000/ 200000: 2.3069\n",
      "  90000/ 200000: 2.1057\n",
      " 100000/ 200000: 1.8948\n",
      " 110000/ 200000: 2.2326\n",
      " 120000/ 200000: 1.9659\n",
      " 130000/ 200000: 2.4410\n",
      " 140000/ 200000: 2.2106\n",
      " 150000/ 200000: 2.1795\n",
      " 160000/ 200000: 1.8383\n",
      " 170000/ 200000: 1.8131\n",
      " 180000/ 200000: 1.9572\n",
      " 190000/ 200000: 1.8002\n"
     ]
    }
   ],
   "source": [
    "max_steps = 200000\n",
    "batch_size = 32\n",
    "lossi = []\n",
    "for i in range(max_steps):\n",
    "    # minibatch construct\n",
    "    ix = torch.randint(0, Xtr.shape[0], (batch_size,), generator=g)\n",
    "    Xb, Yb = Xtr[ix], Ytr[ix] # batch X,Y\n",
    "\n",
    "    # forward pass\n",
    "    emb = C[Xb] # embed the characters into vectors\n",
    "    embcat = emb.view(emb.shape[0], -1) # concatenate the vectors\n",
    "    # Linear layer\n",
    "    hpreact = embcat @ W1 + b1 # hidden layer pre-activation\n",
    "#     # BatchNorm layer\n",
    "#     # -------------------------------------------------------------\n",
    "#     bnmeani = hpreact.mean(0, keepdim=True)\n",
    "#     bnstdi = hpreact.std(0, keepdim=True)\n",
    "#     hpreact = bngain * (hpreact - bnmeani) / bnstdi + bnbias\n",
    "#     with torch.no_grad():\n",
    "#         bnmean_running = 0.999 * bnmean_running + 0.001 * bnmeani\n",
    "#         bnstd_running = 0.999 * bnstd_running + 0.001 * bnstdi\n",
    "#     # -------------------------------------------------------------\n",
    "#     # Non-linearity\n",
    "    h = torch.tanh(hpreact) # hidden layer\n",
    "    logits = h @ W2 + b2 # output layer\n",
    "    loss = F.cross_entropy(logits, Yb) # loss function\n",
    "\n",
    "    # backward pass\n",
    "    for p in parameters:\n",
    "        p.grad = None\n",
    "    loss.backward()\n",
    "\n",
    "    # update\n",
    "    lr = 0.1 if i < 100000 else 0.01 # step learning rate decay\n",
    "    for p in parameters:\n",
    "        p.data += -lr * p.grad\n",
    "\n",
    "    # track stats\n",
    "    if i % 10000 == 0: # print every once in a while\n",
    "        print(f'{i:7d}/{max_steps:7d}: {loss.item():.4f}')\n",
    "    lossi.append(loss.log10().item())"
   ]
  },
  {
   "cell_type": "code",
   "execution_count": 21,
   "id": "9848cbdf",
   "metadata": {},
   "outputs": [
    {
     "data": {
      "text/plain": [
       "tensor(3.2958)"
      ]
     },
     "execution_count": 21,
     "metadata": {},
     "output_type": "execute_result"
    }
   ],
   "source": [
    "# at the begining we expect the model to return any character with a probability of 1/27.\n",
    "# so the negative loss likelikhood should give a value of 3.29\n",
    "# This is the error from which our model should begin with\n",
    "-torch.tensor(1/27.0).log()"
   ]
  },
  {
   "cell_type": "code",
   "execution_count": 46,
   "id": "1fb0e257",
   "metadata": {},
   "outputs": [
    {
     "data": {
      "text/plain": [
       "<matplotlib.image.AxesImage at 0x7fac93306520>"
      ]
     },
     "execution_count": 46,
     "metadata": {},
     "output_type": "execute_result"
    },
    {
     "data": {
      "image/png": "[encoded data removed]",
      "text/plain": [
       "<Figure size 1440x720 with 1 Axes>"
      ]
     },
     "metadata": {
      "needs_background": "light"
     },
     "output_type": "display_data"
    }
   ],
   "source": [
    "# if there were any column with all white or all blacks it means that\n",
    "# no gradient will ever flow through there and network will not be a good learner\n",
    "# black here is false values and white is true\n",
    "plt.figure(figsize = (20,10))\n",
    "plt.imshow(h.abs()>0.99, cmap='gray', interpolation='nearest')"
   ]
  },
  {
   "cell_type": "code",
   "execution_count": 40,
   "id": "d59b3ccf",
   "metadata": {},
   "outputs": [
    {
     "data": {
      "image/png": "[encoded data removed]",
      "text/plain": [
       "<Figure size 432x288 with 1 Axes>"
      ]
     },
     "metadata": {
      "needs_background": "light"
     },
     "output_type": "display_data"
    }
   ],
   "source": [
    "# let us now see the problem with the squashing function tanh\n",
    "# this is really bad because in backpropagation, the differentiation\n",
    "# of tanh will 0 and hence no gradient values will be propagated properly\n",
    "# to solve this issue we can squash the inital W1 and b1 to be closer to 0 by multiplying by small values\n",
    "# this is just after initialisation\n",
    "plt.hist(h.view(-1).tolist(), 50);"
   ]
  },
  {
   "cell_type": "code",
   "execution_count": 41,
   "id": "d8585fab",
   "metadata": {},
   "outputs": [
    {
     "data": {
      "image/png": "[encoded data removed]",
      "text/plain": [
       "<Figure size 432x288 with 1 Axes>"
      ]
     },
     "metadata": {
      "needs_background": "light"
     },
     "output_type": "display_data"
    }
   ],
   "source": [
    "# is we see the values of h before the application of tanh\n",
    "# we can see that the values were spread very broadly\n",
    "# this is just after initialisation\n",
    "plt.hist(hpreact.view(-1).tolist(), 50);"
   ]
  },
  {
   "cell_type": "code",
   "execution_count": 55,
   "id": "7894796c",
   "metadata": {},
   "outputs": [
    {
     "data": {
      "text/plain": [
       "[<matplotlib.lines.Line2D at 0x7fac9f3748b0>]"
      ]
     },
     "execution_count": 55,
     "metadata": {},
     "output_type": "execute_result"
    },
    {
     "data": {
      "image/png": "[encoded data removed]",
      "text/plain": [
       "<Figure size 432x288 with 1 Axes>"
      ]
     },
     "metadata": {
      "needs_background": "light"
     },
     "output_type": "display_data"
    }
   ],
   "source": [
    "plt.plot(lossi)"
   ]
  },
  {
   "cell_type": "code",
   "execution_count": 48,
   "id": "c1bea311",
   "metadata": {},
   "outputs": [
    {
     "name": "stdout",
     "output_type": "stream",
     "text": [
      "train 2.0367813110351562\n",
      "val 2.103235960006714\n"
     ]
    }
   ],
   "source": [
    "@torch.no_grad() # this decorator disables gradient tracking\n",
    "def split_loss(split):\n",
    "    x,y = {\n",
    "        'train': (Xtr, Ytr),\n",
    "        'val': (Xdev, Ydev),\n",
    "        'test': (Xte, Yte),\n",
    "    }[split]\n",
    "    emb = C[x] # (N, block_size, n_embd)\n",
    "    embcat = emb.view(emb.shape[0], -1) # concat into (N, block_size * n_embd)\n",
    "    hpreact = embcat @ W1 # + b1\n",
    "    #hpreact = bngain * (hpreact - hpreact.mean(0, keepdim=True)) / hpreact.std(0, keepdim=True) + bnbias\n",
    "#     hpreact = bngain * (hpreact - bnmean_running) / bnstd_running + bnbias\n",
    "    h = torch.tanh(hpreact) # (N, n_hidden)\n",
    "    logits = h @ W2 + b2 # (N, vocab_size)\n",
    "    loss = F.cross_entropy(logits, y)\n",
    "    print(split, loss.item())\n",
    "\n",
    "split_loss('train')\n",
    "split_loss('val')"
   ]
  },
  {
   "cell_type": "code",
   "execution_count": 17,
   "id": "2b94420f",
   "metadata": {},
   "outputs": [
    {
     "name": "stdout",
     "output_type": "stream",
     "text": [
      "mruagimbayleegh.\n",
      "nyhah.\n",
      "mareth.\n",
      "sreka.\n",
      "leigh.\n",
      "ched.\n",
      "eli.\n",
      "hemi.\n",
      "rea.\n",
      "eme.\n",
      "shagraah.\n",
      "kayydosharace.\n",
      "shughrgahi.\n",
      "aedr.\n",
      "kaireteyson.\n",
      "beus.\n",
      "kuya.\n",
      "gregruyah.\n",
      "azela.\n",
      "kay.\n"
     ]
    }
   ],
   "source": [
    "# sample from the model\n",
    "g = torch.Generator().manual_seed(2147483647 + 10)\n",
    "\n",
    "for _ in range(20):\n",
    "    \n",
    "    out = []\n",
    "    context = [0] * block_size # initialize with all ...\n",
    "    while True:\n",
    "        emb = C[torch.tensor([context])] # (1,block_size,d)\n",
    "        h = torch.tanh(emb.view(1, -1) @ W1 + b1)\n",
    "        logits = h @ W2 + b2\n",
    "        probs = F.softmax(logits, dim=1)\n",
    "        ix = torch.multinomial(probs, num_samples=1, generator=g).item()\n",
    "        context = context[1:] + [ix]\n",
    "        out.append(ix)\n",
    "        if ix == 0:\n",
    "            break\n",
    "    \n",
    "    print(''.join(itos[i] for i in out))"
   ]
  },
  {
   "cell_type": "markdown",
   "id": "ea177a82",
   "metadata": {},
   "source": [
    "Without any changes\n",
    "Training - 2.13, validation - 2.17\n",
    "After removing the hockey stick curve, brining the inital loss to as close as possible\n",
    "Training - 2.06, validation - 2.13\n",
    "After fixing the squashing of tanh values at initialisation\n",
    "Training - 2.03, validation - 2.10"
   ]
  }
 ],
 "metadata": {
  "kernelspec": {
   "display_name": "Python 3 (ipykernel)",
   "language": "python",
   "name": "python3"
  },
  "language_info": {
   "codemirror_mode": {
    "name": "ipython",
    "version": 3
   },
   "file_extension": ".py",
   "mimetype": "text/x-python",
   "name": "python",
   "nbconvert_exporter": "python",
   "pygments_lexer": "ipython3",
   "version": "3.9.7"
  }
 },
 "nbformat": 4,
 "nbformat_minor": 5
}

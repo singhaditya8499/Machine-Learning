{
 "cells": [
  {
   "cell_type": "code",
   "execution_count": 299,
   "id": "b1a90822",
   "metadata": {},
   "outputs": [],
   "source": [
    "import pandas as pd\n",
    "import numpy as np\n",
    "import matplotlib.pyplot as plt\n",
    "import warnings\n",
    "from tqdm import tqdm\n",
    "warnings.filterwarnings('ignore')\n",
    "%matplotlib inline"
   ]
  },
  {
   "cell_type": "code",
   "execution_count": 300,
   "id": "ea177c84",
   "metadata": {},
   "outputs": [],
   "source": [
    "# all_season_score = pd.read_csv(\"./data/MRegularSeasonCompactResults.csv\")\n",
    "all_season_gamewise = pd.read_csv(\"./data/MRegularSeasonDetailedResults.csv\")\n",
    "ncaa_season_gamewise = pd.read_csv(\"./data/MNCAATourneyDetailedResults.csv\")"
   ]
  },
  {
   "cell_type": "code",
   "execution_count": 301,
   "id": "da1ab408",
   "metadata": {},
   "outputs": [
    {
     "data": {
      "text/html": [
       "<div>\n",
       "<style scoped>\n",
       "    .dataframe tbody tr th:only-of-type {\n",
       "        vertical-align: middle;\n",
       "    }\n",
       "\n",
       "    .dataframe tbody tr th {\n",
       "        vertical-align: top;\n",
       "    }\n",
       "\n",
       "    .dataframe thead th {\n",
       "        text-align: right;\n",
       "    }\n",
       "</style>\n",
       "<table border=\"1\" class=\"dataframe\">\n",
       "  <thead>\n",
       "    <tr style=\"text-align: right;\">\n",
       "      <th></th>\n",
       "      <th>Season</th>\n",
       "      <th>DayNum</th>\n",
       "      <th>WTeamID</th>\n",
       "      <th>WScore</th>\n",
       "      <th>LTeamID</th>\n",
       "      <th>LScore</th>\n",
       "      <th>WLoc</th>\n",
       "      <th>NumOT</th>\n",
       "      <th>WFGM</th>\n",
       "      <th>WFGA</th>\n",
       "      <th>...</th>\n",
       "      <th>LFGA3</th>\n",
       "      <th>LFTM</th>\n",
       "      <th>LFTA</th>\n",
       "      <th>LOR</th>\n",
       "      <th>LDR</th>\n",
       "      <th>LAst</th>\n",
       "      <th>LTO</th>\n",
       "      <th>LStl</th>\n",
       "      <th>LBlk</th>\n",
       "      <th>LPF</th>\n",
       "    </tr>\n",
       "  </thead>\n",
       "  <tbody>\n",
       "    <tr>\n",
       "      <th>0</th>\n",
       "      <td>2003</td>\n",
       "      <td>10</td>\n",
       "      <td>1104</td>\n",
       "      <td>68</td>\n",
       "      <td>1328</td>\n",
       "      <td>62</td>\n",
       "      <td>N</td>\n",
       "      <td>0</td>\n",
       "      <td>27</td>\n",
       "      <td>58</td>\n",
       "      <td>...</td>\n",
       "      <td>10</td>\n",
       "      <td>16</td>\n",
       "      <td>22</td>\n",
       "      <td>10</td>\n",
       "      <td>22</td>\n",
       "      <td>8</td>\n",
       "      <td>18</td>\n",
       "      <td>9</td>\n",
       "      <td>2</td>\n",
       "      <td>20</td>\n",
       "    </tr>\n",
       "    <tr>\n",
       "      <th>1</th>\n",
       "      <td>2003</td>\n",
       "      <td>10</td>\n",
       "      <td>1272</td>\n",
       "      <td>70</td>\n",
       "      <td>1393</td>\n",
       "      <td>63</td>\n",
       "      <td>N</td>\n",
       "      <td>0</td>\n",
       "      <td>26</td>\n",
       "      <td>62</td>\n",
       "      <td>...</td>\n",
       "      <td>24</td>\n",
       "      <td>9</td>\n",
       "      <td>20</td>\n",
       "      <td>20</td>\n",
       "      <td>25</td>\n",
       "      <td>7</td>\n",
       "      <td>12</td>\n",
       "      <td>8</td>\n",
       "      <td>6</td>\n",
       "      <td>16</td>\n",
       "    </tr>\n",
       "    <tr>\n",
       "      <th>2</th>\n",
       "      <td>2003</td>\n",
       "      <td>11</td>\n",
       "      <td>1266</td>\n",
       "      <td>73</td>\n",
       "      <td>1437</td>\n",
       "      <td>61</td>\n",
       "      <td>N</td>\n",
       "      <td>0</td>\n",
       "      <td>24</td>\n",
       "      <td>58</td>\n",
       "      <td>...</td>\n",
       "      <td>26</td>\n",
       "      <td>14</td>\n",
       "      <td>23</td>\n",
       "      <td>31</td>\n",
       "      <td>22</td>\n",
       "      <td>9</td>\n",
       "      <td>12</td>\n",
       "      <td>2</td>\n",
       "      <td>5</td>\n",
       "      <td>23</td>\n",
       "    </tr>\n",
       "    <tr>\n",
       "      <th>3</th>\n",
       "      <td>2003</td>\n",
       "      <td>11</td>\n",
       "      <td>1296</td>\n",
       "      <td>56</td>\n",
       "      <td>1457</td>\n",
       "      <td>50</td>\n",
       "      <td>N</td>\n",
       "      <td>0</td>\n",
       "      <td>18</td>\n",
       "      <td>38</td>\n",
       "      <td>...</td>\n",
       "      <td>22</td>\n",
       "      <td>8</td>\n",
       "      <td>15</td>\n",
       "      <td>17</td>\n",
       "      <td>20</td>\n",
       "      <td>9</td>\n",
       "      <td>19</td>\n",
       "      <td>4</td>\n",
       "      <td>3</td>\n",
       "      <td>23</td>\n",
       "    </tr>\n",
       "    <tr>\n",
       "      <th>4</th>\n",
       "      <td>2003</td>\n",
       "      <td>11</td>\n",
       "      <td>1400</td>\n",
       "      <td>77</td>\n",
       "      <td>1208</td>\n",
       "      <td>71</td>\n",
       "      <td>N</td>\n",
       "      <td>0</td>\n",
       "      <td>30</td>\n",
       "      <td>61</td>\n",
       "      <td>...</td>\n",
       "      <td>16</td>\n",
       "      <td>17</td>\n",
       "      <td>27</td>\n",
       "      <td>21</td>\n",
       "      <td>15</td>\n",
       "      <td>12</td>\n",
       "      <td>10</td>\n",
       "      <td>7</td>\n",
       "      <td>1</td>\n",
       "      <td>14</td>\n",
       "    </tr>\n",
       "    <tr>\n",
       "      <th>...</th>\n",
       "      <td>...</td>\n",
       "      <td>...</td>\n",
       "      <td>...</td>\n",
       "      <td>...</td>\n",
       "      <td>...</td>\n",
       "      <td>...</td>\n",
       "      <td>...</td>\n",
       "      <td>...</td>\n",
       "      <td>...</td>\n",
       "      <td>...</td>\n",
       "      <td>...</td>\n",
       "      <td>...</td>\n",
       "      <td>...</td>\n",
       "      <td>...</td>\n",
       "      <td>...</td>\n",
       "      <td>...</td>\n",
       "      <td>...</td>\n",
       "      <td>...</td>\n",
       "      <td>...</td>\n",
       "      <td>...</td>\n",
       "      <td>...</td>\n",
       "    </tr>\n",
       "    <tr>\n",
       "      <th>113236</th>\n",
       "      <td>2024</td>\n",
       "      <td>132</td>\n",
       "      <td>1120</td>\n",
       "      <td>86</td>\n",
       "      <td>1196</td>\n",
       "      <td>67</td>\n",
       "      <td>N</td>\n",
       "      <td>0</td>\n",
       "      <td>31</td>\n",
       "      <td>61</td>\n",
       "      <td>...</td>\n",
       "      <td>13</td>\n",
       "      <td>18</td>\n",
       "      <td>25</td>\n",
       "      <td>13</td>\n",
       "      <td>26</td>\n",
       "      <td>9</td>\n",
       "      <td>11</td>\n",
       "      <td>8</td>\n",
       "      <td>6</td>\n",
       "      <td>17</td>\n",
       "    </tr>\n",
       "    <tr>\n",
       "      <th>113237</th>\n",
       "      <td>2024</td>\n",
       "      <td>132</td>\n",
       "      <td>1182</td>\n",
       "      <td>57</td>\n",
       "      <td>1433</td>\n",
       "      <td>51</td>\n",
       "      <td>N</td>\n",
       "      <td>0</td>\n",
       "      <td>17</td>\n",
       "      <td>57</td>\n",
       "      <td>...</td>\n",
       "      <td>24</td>\n",
       "      <td>12</td>\n",
       "      <td>14</td>\n",
       "      <td>9</td>\n",
       "      <td>25</td>\n",
       "      <td>9</td>\n",
       "      <td>16</td>\n",
       "      <td>10</td>\n",
       "      <td>9</td>\n",
       "      <td>16</td>\n",
       "    </tr>\n",
       "    <tr>\n",
       "      <th>113238</th>\n",
       "      <td>2024</td>\n",
       "      <td>132</td>\n",
       "      <td>1228</td>\n",
       "      <td>93</td>\n",
       "      <td>1458</td>\n",
       "      <td>87</td>\n",
       "      <td>N</td>\n",
       "      <td>0</td>\n",
       "      <td>30</td>\n",
       "      <td>57</td>\n",
       "      <td>...</td>\n",
       "      <td>20</td>\n",
       "      <td>20</td>\n",
       "      <td>23</td>\n",
       "      <td>13</td>\n",
       "      <td>17</td>\n",
       "      <td>17</td>\n",
       "      <td>7</td>\n",
       "      <td>7</td>\n",
       "      <td>1</td>\n",
       "      <td>20</td>\n",
       "    </tr>\n",
       "    <tr>\n",
       "      <th>113239</th>\n",
       "      <td>2024</td>\n",
       "      <td>132</td>\n",
       "      <td>1412</td>\n",
       "      <td>85</td>\n",
       "      <td>1396</td>\n",
       "      <td>69</td>\n",
       "      <td>N</td>\n",
       "      <td>0</td>\n",
       "      <td>31</td>\n",
       "      <td>63</td>\n",
       "      <td>...</td>\n",
       "      <td>21</td>\n",
       "      <td>14</td>\n",
       "      <td>17</td>\n",
       "      <td>11</td>\n",
       "      <td>26</td>\n",
       "      <td>17</td>\n",
       "      <td>14</td>\n",
       "      <td>6</td>\n",
       "      <td>6</td>\n",
       "      <td>18</td>\n",
       "    </tr>\n",
       "    <tr>\n",
       "      <th>113240</th>\n",
       "      <td>2024</td>\n",
       "      <td>132</td>\n",
       "      <td>1463</td>\n",
       "      <td>62</td>\n",
       "      <td>1135</td>\n",
       "      <td>61</td>\n",
       "      <td>N</td>\n",
       "      <td>0</td>\n",
       "      <td>25</td>\n",
       "      <td>64</td>\n",
       "      <td>...</td>\n",
       "      <td>25</td>\n",
       "      <td>8</td>\n",
       "      <td>15</td>\n",
       "      <td>8</td>\n",
       "      <td>27</td>\n",
       "      <td>13</td>\n",
       "      <td>9</td>\n",
       "      <td>3</td>\n",
       "      <td>3</td>\n",
       "      <td>11</td>\n",
       "    </tr>\n",
       "  </tbody>\n",
       "</table>\n",
       "<p>113241 rows × 34 columns</p>\n",
       "</div>"
      ],
      "text/plain": [
       "        Season  DayNum  WTeamID  WScore  LTeamID  LScore WLoc  NumOT  WFGM  \\\n",
       "0         2003      10     1104      68     1328      62    N      0    27   \n",
       "1         2003      10     1272      70     1393      63    N      0    26   \n",
       "2         2003      11     1266      73     1437      61    N      0    24   \n",
       "3         2003      11     1296      56     1457      50    N      0    18   \n",
       "4         2003      11     1400      77     1208      71    N      0    30   \n",
       "...        ...     ...      ...     ...      ...     ...  ...    ...   ...   \n",
       "113236    2024     132     1120      86     1196      67    N      0    31   \n",
       "113237    2024     132     1182      57     1433      51    N      0    17   \n",
       "113238    2024     132     1228      93     1458      87    N      0    30   \n",
       "113239    2024     132     1412      85     1396      69    N      0    31   \n",
       "113240    2024     132     1463      62     1135      61    N      0    25   \n",
       "\n",
       "        WFGA  ...  LFGA3  LFTM  LFTA  LOR  LDR  LAst  LTO  LStl  LBlk  LPF  \n",
       "0         58  ...     10    16    22   10   22     8   18     9     2   20  \n",
       "1         62  ...     24     9    20   20   25     7   12     8     6   16  \n",
       "2         58  ...     26    14    23   31   22     9   12     2     5   23  \n",
       "3         38  ...     22     8    15   17   20     9   19     4     3   23  \n",
       "4         61  ...     16    17    27   21   15    12   10     7     1   14  \n",
       "...      ...  ...    ...   ...   ...  ...  ...   ...  ...   ...   ...  ...  \n",
       "113236    61  ...     13    18    25   13   26     9   11     8     6   17  \n",
       "113237    57  ...     24    12    14    9   25     9   16    10     9   16  \n",
       "113238    57  ...     20    20    23   13   17    17    7     7     1   20  \n",
       "113239    63  ...     21    14    17   11   26    17   14     6     6   18  \n",
       "113240    64  ...     25     8    15    8   27    13    9     3     3   11  \n",
       "\n",
       "[113241 rows x 34 columns]"
      ]
     },
     "execution_count": 301,
     "metadata": {},
     "output_type": "execute_result"
    }
   ],
   "source": [
    "all_season_gamewise"
   ]
  },
  {
   "cell_type": "code",
   "execution_count": 302,
   "id": "016e22f8",
   "metadata": {},
   "outputs": [
    {
     "data": {
      "text/plain": [
       "(5602, 34)"
      ]
     },
     "execution_count": 302,
     "metadata": {},
     "output_type": "execute_result"
    }
   ],
   "source": [
    "all_season_gamewise[all_season_gamewise.Season == 2023].shape"
   ]
  },
  {
   "cell_type": "code",
   "execution_count": 303,
   "id": "7d7e8603",
   "metadata": {},
   "outputs": [],
   "source": [
    "test_data = all_season_gamewise[all_season_gamewise.Season == 2024]\n",
    "all_season_gamewise = all_season_gamewise[all_season_gamewise.Season < 2024]"
   ]
  },
  {
   "cell_type": "code",
   "execution_count": 304,
   "id": "3f8f656b",
   "metadata": {},
   "outputs": [
    {
     "data": {
      "text/plain": [
       "((107634, 34), (1315, 34), (5607, 34))"
      ]
     },
     "execution_count": 304,
     "metadata": {},
     "output_type": "execute_result"
    }
   ],
   "source": [
    "all_season_gamewise.shape, ncaa_season_gamewise.shape, test_data.shape"
   ]
  },
  {
   "cell_type": "code",
   "execution_count": 305,
   "id": "79ff331f",
   "metadata": {},
   "outputs": [],
   "source": [
    "# all_season_score = all_season_score[all_season_score.Season >= 2003].reset_index().drop(columns=['index'])\n",
    "# all_season_score"
   ]
  },
  {
   "cell_type": "code",
   "execution_count": 306,
   "id": "a660dead",
   "metadata": {},
   "outputs": [
    {
     "data": {
      "text/plain": [
       "(Index(['Season', 'DayNum', 'WTeamID', 'WScore', 'LTeamID', 'LScore', 'WLoc',\n",
       "        'NumOT', 'WFGM', 'WFGA', 'WFGM3', 'WFGA3', 'WFTM', 'WFTA', 'WOR', 'WDR',\n",
       "        'WAst', 'WTO', 'WStl', 'WBlk', 'WPF', 'LFGM', 'LFGA', 'LFGM3', 'LFGA3',\n",
       "        'LFTM', 'LFTA', 'LOR', 'LDR', 'LAst', 'LTO', 'LStl', 'LBlk', 'LPF'],\n",
       "       dtype='object'),\n",
       " Index(['Season', 'DayNum', 'WTeamID', 'WScore', 'LTeamID', 'LScore', 'WLoc',\n",
       "        'NumOT', 'WFGM', 'WFGA', 'WFGM3', 'WFGA3', 'WFTM', 'WFTA', 'WOR', 'WDR',\n",
       "        'WAst', 'WTO', 'WStl', 'WBlk', 'WPF', 'LFGM', 'LFGA', 'LFGM3', 'LFGA3',\n",
       "        'LFTM', 'LFTA', 'LOR', 'LDR', 'LAst', 'LTO', 'LStl', 'LBlk', 'LPF'],\n",
       "       dtype='object'))"
      ]
     },
     "execution_count": 306,
     "metadata": {},
     "output_type": "execute_result"
    }
   ],
   "source": [
    "all_season_gamewise.columns, ncaa_season_gamewise.columns"
   ]
  },
  {
   "cell_type": "code",
   "execution_count": 307,
   "id": "83a206f3",
   "metadata": {},
   "outputs": [],
   "source": [
    "all_df_dropped_cols = all_season_gamewise.drop(columns=['Season', 'WLoc', 'NumOT'])\n",
    "ncaa_df_dropped_cols = ncaa_season_gamewise.drop(columns=['Season', 'WLoc', 'NumOT'])\n",
    "test_df_dropped_cols = test_data.drop(columns=['Season', 'WLoc', 'NumOT'])"
   ]
  },
  {
   "cell_type": "code",
   "execution_count": 308,
   "id": "ad2746b2",
   "metadata": {},
   "outputs": [],
   "source": [
    "combined_df = pd.concat([all_df_dropped_cols, ncaa_df_dropped_cols])"
   ]
  },
  {
   "cell_type": "code",
   "execution_count": 309,
   "id": "c47cd9f8",
   "metadata": {},
   "outputs": [
    {
     "data": {
      "text/plain": [
       "Index(['DayNum', 'WTeamID', 'WScore', 'LTeamID', 'LScore', 'WFGM', 'WFGA',\n",
       "       'WFGM3', 'WFGA3', 'WFTM', 'WFTA', 'WOR', 'WDR', 'WAst', 'WTO', 'WStl',\n",
       "       'WBlk', 'WPF', 'LFGM', 'LFGA', 'LFGM3', 'LFGA3', 'LFTM', 'LFTA', 'LOR',\n",
       "       'LDR', 'LAst', 'LTO', 'LStl', 'LBlk', 'LPF'],\n",
       "      dtype='object')"
      ]
     },
     "execution_count": 309,
     "metadata": {},
     "output_type": "execute_result"
    }
   ],
   "source": [
    "combined_df.columns"
   ]
  },
  {
   "cell_type": "code",
   "execution_count": 187,
   "id": "72e29b78",
   "metadata": {},
   "outputs": [],
   "source": [
    "combined_team_a = combined_df[['WTeamID', 'WScore', 'WFGM', 'WFGA', 'WFGM3', 'WFGA3', 'WFTM', 'WFTA', 'WOR', \n",
    "                               'WDR', 'WAst', 'WTO', 'WStl', 'WBlk', 'WPF']]\n",
    "combined_team_b = combined_df[['LTeamID', 'LScore', 'LFGM', 'LFGA', 'LFGM3', 'LFGA3', 'LFTM', 'LFTA', 'LOR', \n",
    "                               'LDR', 'LAst', 'LTO', 'LStl', 'LBlk', 'LPF']]\n",
    "combined_team_b = combined_team_b.rename(columns=lambda x: 'W' + x[1:])\n",
    "\n",
    "\n",
    "\n",
    "test_combined_team_a = test_df_dropped_cols[['WTeamID', 'WScore', 'WFGM', 'WFGA', 'WFGM3', 'WFGA3', 'WFTM', 'WFTA', 'WOR', \n",
    "                               'WDR', 'WAst', 'WTO', 'WStl', 'WBlk', 'WPF']]\n",
    "test_combined_team_b = test_df_dropped_cols[['LTeamID', 'LScore', 'LFGM', 'LFGA', 'LFGM3', 'LFGA3', 'LFTM', 'LFTA', 'LOR', \n",
    "                               'LDR', 'LAst', 'LTO', 'LStl', 'LBlk', 'LPF']]\n",
    "test_combined_team_b = test_combined_team_b.rename(columns=lambda x: 'W' + x[1:])"
   ]
  },
  {
   "cell_type": "code",
   "execution_count": 188,
   "id": "76be20ee",
   "metadata": {},
   "outputs": [],
   "source": [
    "indexes_shuffled = np.random.permutation(len(combined_team_a))\n",
    "total_combination = len(combined_team_a)\n",
    "\n",
    "test_indexes_shuffled = np.random.permutation(len(test_combined_team_a))\n",
    "test_total_combination = len(test_combined_team_a)"
   ]
  },
  {
   "cell_type": "code",
   "execution_count": 189,
   "id": "c7b76291",
   "metadata": {},
   "outputs": [],
   "source": [
    "team_a_df = pd.DataFrame(columns=combined_team_a.columns)\n",
    "team_b_df = pd.DataFrame(columns=combined_team_b.columns)\n",
    "\n",
    "test_team_a_df = pd.DataFrame(columns=test_combined_team_a.columns)\n",
    "test_team_b_df = pd.DataFrame(columns=test_combined_team_a.columns)"
   ]
  },
  {
   "cell_type": "code",
   "execution_count": 190,
   "id": "614c07d8",
   "metadata": {},
   "outputs": [
    {
     "name": "stderr",
     "output_type": "stream",
     "text": [
      "100%|██████████████████████████████████| 108949/108949 [16:25<00:00, 110.58it/s]\n",
      "100%|██████████████████████████████████████| 5607/5607 [00:12<00:00, 453.25it/s]\n"
     ]
    }
   ],
   "source": [
    "for i in tqdm(range(total_combination)):\n",
    "    ind1 = indexes_shuffled[i]\n",
    "    x = np.random.uniform()\n",
    "    if x > 0.5:\n",
    "        team_a_df = team_a_df.append(combined_team_a.iloc[ind1])\n",
    "        team_b_df = team_b_df.append(combined_team_b.iloc[ind1])\n",
    "    else:\n",
    "        team_a_df = team_a_df.append(combined_team_b.iloc[ind1])\n",
    "        team_b_df = team_b_df.append(combined_team_a.iloc[ind1])\n",
    "        \n",
    "for i in tqdm(range(test_total_combination)):\n",
    "    ind1 = test_indexes_shuffled[i]\n",
    "    x = np.random.uniform()\n",
    "    if x > 0.5:\n",
    "        test_team_a_df = test_team_a_df.append(test_combined_team_a.iloc[ind1])\n",
    "        test_team_b_df = test_team_b_df.append(test_combined_team_b.iloc[ind1])\n",
    "    else:\n",
    "        test_team_a_df = test_team_a_df.append(test_combined_team_b.iloc[ind1])\n",
    "        test_team_b_df = test_team_b_df.append(test_combined_team_a.iloc[ind1])"
   ]
  },
  {
   "cell_type": "code",
   "execution_count": 197,
   "id": "86d18864",
   "metadata": {},
   "outputs": [],
   "source": [
    "team_a_df.to_csv(\"./data/team_a_df.csv\", index=False)\n",
    "team_b_df.to_csv(\"./data/team_b_df.csv\", index=False)\n",
    "\n",
    "test_team_a_df.to_csv(\"./data/test_team_a_df.csv\", index=False)\n",
    "test_team_b_df.to_csv(\"./data/test_team_b_df.csv\", index=False)"
   ]
  },
  {
   "cell_type": "markdown",
   "id": "6a5f0c4f",
   "metadata": {},
   "source": [
    "# Checkpoint 1 - saved the dataset"
   ]
  },
  {
   "cell_type": "code",
   "execution_count": 198,
   "id": "970345d7",
   "metadata": {},
   "outputs": [],
   "source": [
    "team_a_df = pd.read_csv(\"./data/team_a_df.csv\")\n",
    "team_b_df = pd.read_csv(\"./data/team_b_df.csv\")\n",
    "\n",
    "test_team_a_df = pd.read_csv(\"./data/test_team_a_df.csv\")\n",
    "test_team_b_df = pd.read_csv(\"./data/test_team_b_df.csv\")"
   ]
  },
  {
   "cell_type": "markdown",
   "id": "f655e5f8",
   "metadata": {},
   "source": [
    "TS% = (0.5∗(points_score))/((field_goal_attempts) + 0.44*(free_throw_attempts))"
   ]
  },
  {
   "cell_type": "code",
   "execution_count": 199,
   "id": "f90a7073",
   "metadata": {},
   "outputs": [],
   "source": [
    "team_a_df['WTS'] = (0.5 * team_a_df.WScore.astype(float)) / (team_a_df.WFGA.astype(float) + 0.44*team_a_df.WFTA.astype(float))\n",
    "team_b_df['WTS'] = (0.5 * team_b_df.WScore.astype(float)) / (team_b_df.WFGA.astype(float) + 0.44*team_b_df.WFTA.astype(float))\n",
    "\n",
    "test_team_a_df['WTS'] = (0.5 * test_team_a_df.WScore.astype(float)) / (test_team_a_df.WFGA.astype(float) + 0.44*test_team_a_df.WFTA.astype(float))\n",
    "test_team_b_df['WTS'] = (0.5 * test_team_b_df.WScore.astype(float)) / (test_team_b_df.WFGA.astype(float) + 0.44*test_team_b_df.WFTA.astype(float))"
   ]
  },
  {
   "cell_type": "code",
   "execution_count": 200,
   "id": "d0419d68",
   "metadata": {},
   "outputs": [],
   "source": [
    "from sklearn.preprocessing import LabelEncoder"
   ]
  },
  {
   "cell_type": "code",
   "execution_count": 201,
   "id": "3471bbb0",
   "metadata": {},
   "outputs": [
    {
     "data": {
      "text/html": [
       "<style>#sk-container-id-4 {color: black;background-color: white;}#sk-container-id-4 pre{padding: 0;}#sk-container-id-4 div.sk-toggleable {background-color: white;}#sk-container-id-4 label.sk-toggleable__label {cursor: pointer;display: block;width: 100%;margin-bottom: 0;padding: 0.3em;box-sizing: border-box;text-align: center;}#sk-container-id-4 label.sk-toggleable__label-arrow:before {content: \"▸\";float: left;margin-right: 0.25em;color: #696969;}#sk-container-id-4 label.sk-toggleable__label-arrow:hover:before {color: black;}#sk-container-id-4 div.sk-estimator:hover label.sk-toggleable__label-arrow:before {color: black;}#sk-container-id-4 div.sk-toggleable__content {max-height: 0;max-width: 0;overflow: hidden;text-align: left;background-color: #f0f8ff;}#sk-container-id-4 div.sk-toggleable__content pre {margin: 0.2em;color: black;border-radius: 0.25em;background-color: #f0f8ff;}#sk-container-id-4 input.sk-toggleable__control:checked~div.sk-toggleable__content {max-height: 200px;max-width: 100%;overflow: auto;}#sk-container-id-4 input.sk-toggleable__control:checked~label.sk-toggleable__label-arrow:before {content: \"▾\";}#sk-container-id-4 div.sk-estimator input.sk-toggleable__control:checked~label.sk-toggleable__label {background-color: #d4ebff;}#sk-container-id-4 div.sk-label input.sk-toggleable__control:checked~label.sk-toggleable__label {background-color: #d4ebff;}#sk-container-id-4 input.sk-hidden--visually {border: 0;clip: rect(1px 1px 1px 1px);clip: rect(1px, 1px, 1px, 1px);height: 1px;margin: -1px;overflow: hidden;padding: 0;position: absolute;width: 1px;}#sk-container-id-4 div.sk-estimator {font-family: monospace;background-color: #f0f8ff;border: 1px dotted black;border-radius: 0.25em;box-sizing: border-box;margin-bottom: 0.5em;}#sk-container-id-4 div.sk-estimator:hover {background-color: #d4ebff;}#sk-container-id-4 div.sk-parallel-item::after {content: \"\";width: 100%;border-bottom: 1px solid gray;flex-grow: 1;}#sk-container-id-4 div.sk-label:hover label.sk-toggleable__label {background-color: #d4ebff;}#sk-container-id-4 div.sk-serial::before {content: \"\";position: absolute;border-left: 1px solid gray;box-sizing: border-box;top: 0;bottom: 0;left: 50%;z-index: 0;}#sk-container-id-4 div.sk-serial {display: flex;flex-direction: column;align-items: center;background-color: white;padding-right: 0.2em;padding-left: 0.2em;position: relative;}#sk-container-id-4 div.sk-item {position: relative;z-index: 1;}#sk-container-id-4 div.sk-parallel {display: flex;align-items: stretch;justify-content: center;background-color: white;position: relative;}#sk-container-id-4 div.sk-item::before, #sk-container-id-4 div.sk-parallel-item::before {content: \"\";position: absolute;border-left: 1px solid gray;box-sizing: border-box;top: 0;bottom: 0;left: 50%;z-index: -1;}#sk-container-id-4 div.sk-parallel-item {display: flex;flex-direction: column;z-index: 1;position: relative;background-color: white;}#sk-container-id-4 div.sk-parallel-item:first-child::after {align-self: flex-end;width: 50%;}#sk-container-id-4 div.sk-parallel-item:last-child::after {align-self: flex-start;width: 50%;}#sk-container-id-4 div.sk-parallel-item:only-child::after {width: 0;}#sk-container-id-4 div.sk-dashed-wrapped {border: 1px dashed gray;margin: 0 0.4em 0.5em 0.4em;box-sizing: border-box;padding-bottom: 0.4em;background-color: white;}#sk-container-id-4 div.sk-label label {font-family: monospace;font-weight: bold;display: inline-block;line-height: 1.2em;}#sk-container-id-4 div.sk-label-container {text-align: center;}#sk-container-id-4 div.sk-container {/* jupyter's `normalize.less` sets `[hidden] { display: none; }` but bootstrap.min.css set `[hidden] { display: none !important; }` so we also need the `!important` here to be able to override the default hidden behavior on the sphinx rendered scikit-learn.org. See: https://github.com/scikit-learn/scikit-learn/issues/21755 */display: inline-block !important;position: relative;}#sk-container-id-4 div.sk-text-repr-fallback {display: none;}</style><div id=\"sk-container-id-4\" class=\"sk-top-container\"><div class=\"sk-text-repr-fallback\"><pre>LabelEncoder()</pre><b>In a Jupyter environment, please rerun this cell to show the HTML representation or trust the notebook. <br />On GitHub, the HTML representation is unable to render, please try loading this page with nbviewer.org.</b></div><div class=\"sk-container\" hidden><div class=\"sk-item\"><div class=\"sk-estimator sk-toggleable\"><input class=\"sk-toggleable__control sk-hidden--visually\" id=\"sk-estimator-id-4\" type=\"checkbox\" checked><label for=\"sk-estimator-id-4\" class=\"sk-toggleable__label sk-toggleable__label-arrow\">LabelEncoder</label><div class=\"sk-toggleable__content\"><pre>LabelEncoder()</pre></div></div></div></div></div>"
      ],
      "text/plain": [
       "LabelEncoder()"
      ]
     },
     "execution_count": 201,
     "metadata": {},
     "output_type": "execute_result"
    }
   ],
   "source": [
    "labelEncoder = LabelEncoder()\n",
    "all_teams_name = list(set(team_a_df.WTeamID.to_list() + team_b_df.WTeamID.to_list() + \n",
    "                          test_team_a_df.WTeamID.to_list() + test_team_b_df.WTeamID.to_list()))\n",
    "labelEncoder.fit(all_teams_name)"
   ]
  },
  {
   "cell_type": "code",
   "execution_count": 202,
   "id": "0888a8ff",
   "metadata": {},
   "outputs": [],
   "source": [
    "team_a_df['encoded_team'] = labelEncoder.transform(team_a_df.WTeamID)\n",
    "team_b_df['encoded_team'] = labelEncoder.transform(team_b_df.WTeamID)\n",
    "target_score_differential = team_a_df.WScore - team_b_df.WScore\n",
    "\n",
    "\n",
    "test_team_a_df['encoded_team'] = labelEncoder.transform(test_team_a_df.WTeamID)\n",
    "test_team_b_df['encoded_team'] = labelEncoder.transform(test_team_b_df.WTeamID)"
   ]
  },
  {
   "cell_type": "code",
   "execution_count": 203,
   "id": "e7132d6b",
   "metadata": {},
   "outputs": [
    {
     "data": {
      "text/plain": [
       "Index(['WTeamID', 'WScore', 'WFGM', 'WFGA', 'WFGM3', 'WFGA3', 'WFTM', 'WFTA',\n",
       "       'WOR', 'WDR', 'WAst', 'WTO', 'WStl', 'WBlk', 'WPF', 'WTS',\n",
       "       'encoded_team'],\n",
       "      dtype='object')"
      ]
     },
     "execution_count": 203,
     "metadata": {},
     "output_type": "execute_result"
    }
   ],
   "source": [
    "team_a_df.columns"
   ]
  },
  {
   "cell_type": "code",
   "execution_count": 310,
   "id": "18b9a882",
   "metadata": {},
   "outputs": [],
   "source": [
    "# removed WScore and WTS\n",
    "features = ['encoded_team', 'WScore', 'WFGM', 'WFGA', 'WFGM3', 'WFGA3', 'WFTM', 'WFTA', 'WOR', 'WDR', 'WAst', 'WTO', 'WStl', 'WBlk', 'WPF', 'WTS']"
   ]
  },
  {
   "cell_type": "code",
   "execution_count": 311,
   "id": "c0e1eb32",
   "metadata": {},
   "outputs": [],
   "source": [
    "import tensorflow as tf\n",
    "from tensorflow.keras.models import Model\n",
    "from tensorflow.keras.optimizers import Adam\n",
    "from tensorflow.keras.layers import Input, Embedding, Flatten, Dense, Concatenate, Add"
   ]
  },
  {
   "cell_type": "code",
   "execution_count": 312,
   "id": "78a01574",
   "metadata": {},
   "outputs": [],
   "source": [
    "# Define the hyperparameters for our model.\n",
    "embedding_dim = 32\n",
    "num_teams = len(all_teams_name)\n",
    "\n",
    "def get_model():\n",
    "    \"\"\"\n",
    "    This function creates a tensorflow model using the Keras Functional API.\n",
    "\n",
    "    Returns:\n",
    "      - keras.engine.functional.Functional: The compiled Tensorflow/Keras model\n",
    "    \"\"\"\n",
    "    # As mentioned above, we are using the team's label encoded values as inputs\n",
    "    team_a = Input(shape=(len(features),), name='team_a')\n",
    "    team_b = Input(shape=(len(features),), name='team_b')\n",
    "\n",
    "    # Embedding layers for two labels\n",
    "    team_a_embedding = Embedding(num_teams, embedding_dim, input_length=1, name='team_a_embedding')(team_a)\n",
    "    team_b_embedding = Embedding(num_teams, embedding_dim, input_length=1, name='team_b_embedding')(team_b)\n",
    "    \n",
    "    # Flatten and concatenate the layers.\n",
    "    team_a_flat = Flatten()(team_a_embedding)\n",
    "    team_b_flat = Flatten()(team_b_embedding)\n",
    "    team_a_b = Concatenate()([team_a_flat, team_b_flat])\n",
    "    \n",
    "    # Leverage some dense layers to extract data \n",
    "    dense_1 = Dense(256, activation='relu')(team_a_b)\n",
    "    dense_2 = Dense(128, activation='relu')(dense_1)\n",
    "    # We are using a linear activation on the final layer as we are predicting the score_diff\n",
    "    output_layer = Dense(1, activation='linear', name='output')(dense_2)\n",
    "\n",
    "    # Finalize the model by defining inputs/outputs and compiliation details\n",
    "    model = Model(inputs=[team_a, team_b], outputs=output_layer)\n",
    "    adam = Adam(learning_rate=1e-4)\n",
    "    model.compile(optimizer=adam, loss='mse', metrics=['mae'])\n",
    "    \n",
    "    return model"
   ]
  },
  {
   "cell_type": "code",
   "execution_count": 313,
   "id": "549d2d20",
   "metadata": {},
   "outputs": [
    {
     "name": "stdout",
     "output_type": "stream",
     "text": [
      "Model: \"model_12\"\n",
      "__________________________________________________________________________________________________\n",
      " Layer (type)                Output Shape                 Param #   Connected to                  \n",
      "==================================================================================================\n",
      " team_a (InputLayer)         [(None, 16)]                 0         []                            \n",
      "                                                                                                  \n",
      " team_b (InputLayer)         [(None, 16)]                 0         []                            \n",
      "                                                                                                  \n",
      " team_a_embedding (Embeddin  (None, 16, 32)               11808     ['team_a[0][0]']              \n",
      " g)                                                                                               \n",
      "                                                                                                  \n",
      " team_b_embedding (Embeddin  (None, 16, 32)               11808     ['team_b[0][0]']              \n",
      " g)                                                                                               \n",
      "                                                                                                  \n",
      " flatten_24 (Flatten)        (None, 512)                  0         ['team_a_embedding[0][0]']    \n",
      "                                                                                                  \n",
      " flatten_25 (Flatten)        (None, 512)                  0         ['team_b_embedding[0][0]']    \n",
      "                                                                                                  \n",
      " concatenate_12 (Concatenat  (None, 1024)                 0         ['flatten_24[0][0]',          \n",
      " e)                                                                  'flatten_25[0][0]']          \n",
      "                                                                                                  \n",
      " dense_22 (Dense)            (None, 256)                  262400    ['concatenate_12[0][0]']      \n",
      "                                                                                                  \n",
      " dense_23 (Dense)            (None, 128)                  32896     ['dense_22[0][0]']            \n",
      "                                                                                                  \n",
      " output (Dense)              (None, 1)                    129       ['dense_23[0][0]']            \n",
      "                                                                                                  \n",
      "==================================================================================================\n",
      "Total params: 319041 (1.22 MB)\n",
      "Trainable params: 319041 (1.22 MB)\n",
      "Non-trainable params: 0 (0.00 Byte)\n",
      "__________________________________________________________________________________________________\n"
     ]
    }
   ],
   "source": [
    "adv_model = get_model()\n",
    "adv_model.summary()"
   ]
  },
  {
   "cell_type": "code",
   "execution_count": 314,
   "id": "e93f2000",
   "metadata": {},
   "outputs": [
    {
     "name": "stdout",
     "output_type": "stream",
     "text": [
      "Epoch 1/10\n",
      "3051/3051 [==============================] - 12s 4ms/step - loss: 33.7919 - mae: 3.1566 - val_loss: 3.6696 - val_mae: 1.1399\n",
      "Epoch 2/10\n",
      "3051/3051 [==============================] - 11s 4ms/step - loss: 2.2927 - mae: 0.8450 - val_loss: 1.3272 - val_mae: 0.5697\n",
      "Epoch 3/10\n",
      "3051/3051 [==============================] - 11s 4ms/step - loss: 1.0175 - mae: 0.4911 - val_loss: 0.7405 - val_mae: 0.3785\n",
      "Epoch 4/10\n",
      "3051/3051 [==============================] - 11s 4ms/step - loss: 0.6010 - mae: 0.3594 - val_loss: 0.4980 - val_mae: 0.2724\n",
      "Epoch 5/10\n",
      "3051/3051 [==============================] - 11s 4ms/step - loss: 0.4056 - mae: 0.2995 - val_loss: 0.3771 - val_mae: 0.2229\n",
      "Epoch 6/10\n",
      "3051/3051 [==============================] - 11s 4ms/step - loss: 0.2844 - mae: 0.2587 - val_loss: 0.3111 - val_mae: 0.2084\n",
      "Epoch 7/10\n",
      "3051/3051 [==============================] - 11s 4ms/step - loss: 0.2026 - mae: 0.2332 - val_loss: 0.4604 - val_mae: 0.3995\n",
      "Epoch 8/10\n",
      "3051/3051 [==============================] - 12s 4ms/step - loss: 0.1567 - mae: 0.2180 - val_loss: 0.2972 - val_mae: 0.2520\n",
      "Epoch 9/10\n",
      "3051/3051 [==============================] - 12s 4ms/step - loss: 0.1229 - mae: 0.2066 - val_loss: 0.2483 - val_mae: 0.2062\n",
      "Epoch 10/10\n",
      "3051/3051 [==============================] - 12s 4ms/step - loss: 0.0963 - mae: 0.1909 - val_loss: 0.2123 - val_mae: 0.1201\n"
     ]
    },
    {
     "data": {
      "text/plain": [
       "<keras.src.callbacks.History at 0x7fdf660fd100>"
      ]
     },
     "execution_count": 314,
     "metadata": {},
     "output_type": "execute_result"
    }
   ],
   "source": [
    "adv_model.fit(\n",
    "    [team_a_df[features], team_b_df[features]],\n",
    "    target_score_differential,\n",
    "    batch_size=25,\n",
    "    epochs=10,\n",
    "    validation_split=0.3\n",
    ")"
   ]
  },
  {
   "cell_type": "code",
   "execution_count": 315,
   "id": "1b366b12",
   "metadata": {},
   "outputs": [
    {
     "name": "stdout",
     "output_type": "stream",
     "text": [
      "176/176 [==============================] - 0s 1ms/step\n"
     ]
    }
   ],
   "source": [
    "prediction_score_differential = adv_model.predict([test_team_a_df[features], test_team_b_df[features]])\n",
    "prediction_score_differential = prediction_score_differential.flatten()"
   ]
  },
  {
   "cell_type": "code",
   "execution_count": 316,
   "id": "bf49bb8d",
   "metadata": {},
   "outputs": [],
   "source": [
    "actual_score_differential = []\n",
    "for index, (row_a, row_b) in enumerate(zip(test_team_a_df.iterrows(), test_team_b_df.iterrows())):\n",
    "    index_a, data_a = row_a\n",
    "    index_b, data_b = row_b\n",
    "    score_differential = data_a['WScore'] - data_b['WScore']\n",
    "    actual_score_differential.append(score_differential)\n",
    "#     print(f\"Row {index+1}: => Score Differential: {score_differential}\")"
   ]
  },
  {
   "cell_type": "code",
   "execution_count": 317,
   "id": "69c963ea",
   "metadata": {},
   "outputs": [
    {
     "name": "stdout",
     "output_type": "stream",
     "text": [
      "The accuracy over the 2024 regular season is: 99.96433030140895% given the score is known\n"
     ]
    }
   ],
   "source": [
    "count = 0\n",
    "for x, y in zip(actual_score_differential, prediction_score_differential):\n",
    "    if x<0 and y<0:\n",
    "        count += 1\n",
    "    if x>0 and y>0:\n",
    "        count+=1\n",
    "        \n",
    "print(f\"The accuracy over the 2024 regular season is: {(float(count)/len(actual_score_differential))*100.0}% given the score is known\")"
   ]
  },
  {
   "cell_type": "code",
   "execution_count": 318,
   "id": "5ccabb16",
   "metadata": {},
   "outputs": [],
   "source": [
    "teams_in_2024 = list(set(test_team_a_df.WTeamID.to_list() + test_team_b_df.WTeamID.to_list()))"
   ]
  },
  {
   "cell_type": "code",
   "execution_count": 356,
   "id": "fe845443",
   "metadata": {},
   "outputs": [],
   "source": [
    "season_23_data_team_a_df = team_a_df\n",
    "season_23_data_team_b_df = team_b_df\n",
    "features_for_averaging = ['WScore', 'WFGM', 'WFGA', 'WFGM3', 'WFGA3', 'WFTM', 'WFTA', 'WOR', 'WDR', 'WAst', 'WTO', 'WStl', 'WBlk', 'WPF', 'WTS']"
   ]
  },
  {
   "cell_type": "code",
   "execution_count": 357,
   "id": "bd069998",
   "metadata": {},
   "outputs": [
    {
     "data": {
      "text/plain": [
       "Index(['Season', 'DayNum', 'WTeamID', 'WScore', 'LTeamID', 'LScore', 'WLoc',\n",
       "       'NumOT', 'WFGM', 'WFGA', 'WFGM3', 'WFGA3', 'WFTM', 'WFTA', 'WOR', 'WDR',\n",
       "       'WAst', 'WTO', 'WStl', 'WBlk', 'WPF', 'LFGM', 'LFGA', 'LFGM3', 'LFGA3',\n",
       "       'LFTM', 'LFTA', 'LOR', 'LDR', 'LAst', 'LTO', 'LStl', 'LBlk', 'LPF'],\n",
       "      dtype='object')"
      ]
     },
     "execution_count": 357,
     "metadata": {},
     "output_type": "execute_result"
    }
   ],
   "source": [
    "sorted_all_season_gamewise = all_season_gamewise.sort_values(by='DayNum', ascending=False)\n",
    "sorted_all_season_gamewise.columns"
   ]
  },
  {
   "cell_type": "code",
   "execution_count": 358,
   "id": "fa31d902",
   "metadata": {},
   "outputs": [
    {
     "name": "stderr",
     "output_type": "stream",
     "text": [
      "100%|█████████████████████████████████████████| 362/362 [00:20<00:00, 17.92it/s]\n"
     ]
    }
   ],
   "source": [
    "teams_in_2024_average_stats = {}\n",
    "for team in tqdm(teams_in_2024):\n",
    "    df_tmp_if_a_team = season_23_data_team_a_df[season_23_data_team_a_df.WTeamID == team][features_for_averaging]\n",
    "    df_tmp_if_b_team = season_23_data_team_b_df[season_23_data_team_b_df.WTeamID == team][features_for_averaging]\n",
    "    average_if_a_team = df_tmp_if_a_team.describe().mean().values\n",
    "    average_if_b_team = df_tmp_if_b_team.describe().mean().values\n",
    "    overall_average = (average_if_a_team + average_if_b_team)/2.0\n",
    "    teams_in_2024_average_stats[team] = overall_average\n",
    "\n",
    "# teams_in_2024_average_stats = {}\n",
    "# for team in teams_in_2024:\n",
    "    "
   ]
  },
  {
   "cell_type": "code",
   "execution_count": 325,
   "id": "f5f57c40",
   "metadata": {
    "scrolled": true
   },
   "outputs": [
    {
     "name": "stderr",
     "output_type": "stream",
     "text": [
      "100%|███████████████████████████████████████| 5607/5607 [06:01<00:00, 15.52it/s]\n"
     ]
    }
   ],
   "source": [
    "prediction_score_differential = []\n",
    "teamsA = test_team_a_df.WTeamID.to_list()\n",
    "teamsB = test_team_b_df.WTeamID.to_list()\n",
    "for team_a, team_b in tqdm(zip(teamsA, teamsB), total=len(test_team_a_df)):\n",
    "    prediction = adv_model.predict([np.reshape(teams_in_2024_average_stats[team_a], (1,16)), \n",
    "                             np.reshape(teams_in_2024_average_stats[team_b], (1,16))], verbose=False)\n",
    "    prediction_score_differential.append(prediction)"
   ]
  },
  {
   "cell_type": "code",
   "execution_count": 326,
   "id": "e6528896",
   "metadata": {},
   "outputs": [],
   "source": [
    "actual_score_differential = []\n",
    "for index, (row_a, row_b) in enumerate(zip(test_team_a_df.iterrows(), test_team_b_df.iterrows())):\n",
    "    index_a, data_a = row_a\n",
    "    index_b, data_b = row_b\n",
    "    score_differential = data_a['WScore'] - data_b['WScore']\n",
    "    actual_score_differential.append(score_differential)\n",
    "#     print(f\"Row {index+1}: => Score Differential: {score_differential}\")"
   ]
  },
  {
   "cell_type": "code",
   "execution_count": 327,
   "id": "8e02a015",
   "metadata": {},
   "outputs": [
    {
     "name": "stdout",
     "output_type": "stream",
     "text": [
      "The accuracy over the 2024 regular season is: 48.08275370073123% where average score of previous regular season is taken\n"
     ]
    }
   ],
   "source": [
    "count = 0\n",
    "for x, y in zip(actual_score_differential, prediction_score_differential):\n",
    "    if x<0 and y<0:\n",
    "        count += 1\n",
    "    if x>0 and y>0:\n",
    "        count+=1\n",
    "        \n",
    "print(f\"The accuracy over the 2024 regular season is: {(float(count)/len(actual_score_differential))*100.0}% where average score of previous regular season is taken\")"
   ]
  },
  {
   "cell_type": "code",
   "execution_count": 359,
   "id": "7a6b6281",
   "metadata": {},
   "outputs": [],
   "source": [
    "mens_team = pd.read_csv(\"./data/MTeams.csv\")"
   ]
  },
  {
   "cell_type": "code",
   "execution_count": 360,
   "id": "be6dcb98",
   "metadata": {},
   "outputs": [],
   "source": [
    "team_ids_to_name = {}\n",
    "team_name_to_ids = {}\n",
    "for x, y in zip(mens_team.TeamName.to_list(), mens_team.TeamID.to_list()):\n",
    "    team_ids_to_name[y] = x\n",
    "    team_name_to_ids[x] = y"
   ]
  },
  {
   "cell_type": "code",
   "execution_count": 361,
   "id": "0074150e",
   "metadata": {},
   "outputs": [],
   "source": [
    "# 64 seeded teams\n",
    "\n",
    "teams_2024_ncaa = pd.read_csv(\"./data/2024_tourney_seeds.csv\")\n",
    "list_of_team_ids = teams_2024_ncaa[teams_2024_ncaa.Tournament == 'M'].TeamID.to_list()\n",
    "list_of_team_names = [team_ids_to_name[x] for x in list_of_team_ids]"
   ]
  },
  {
   "cell_type": "code",
   "execution_count": 407,
   "id": "c0eece2e",
   "metadata": {},
   "outputs": [
    {
     "name": "stderr",
     "output_type": "stream",
     "text": [
      "100%|███████████████████████████████████████████| 64/64 [02:32<00:00,  2.39s/it]"
     ]
    },
    {
     "name": "stdout",
     "output_type": "stream",
     "text": [
      "2016\n"
     ]
    },
    {
     "name": "stderr",
     "output_type": "stream",
     "text": [
      "\n"
     ]
    }
   ],
   "source": [
    "total_teams = 64\n",
    "TeamA_ID = []\n",
    "TeamA_Name = []\n",
    "TeamB_ID = []\n",
    "TeamB_Name = []\n",
    "Is_TeamA_winner = []\n",
    "count = 0\n",
    "for i in tqdm(range(total_teams)):\n",
    "    for j in range(i+1, total_teams):\n",
    "        count += 1\n",
    "        TeamA_ID.append(list_of_team_ids[i])\n",
    "        TeamA_Name.append(team_ids_to_name[list_of_team_ids[i]])\n",
    "        TeamB_ID.append(list_of_team_ids[j])\n",
    "        TeamB_Name.append(team_ids_to_name[list_of_team_ids[j]])\n",
    "        \n",
    "        TeamA_ID.append(list_of_team_ids[j])\n",
    "        TeamA_Name.append(team_ids_to_name[list_of_team_ids[j]])\n",
    "        TeamB_ID.append(list_of_team_ids[i])\n",
    "        TeamB_Name.append(team_ids_to_name[list_of_team_ids[i]])\n",
    "        \n",
    "        team_a_features = np.concatenate([labelEncoder.transform([list_of_team_ids[i]]),teams_in_2024_average_stats[list_of_team_ids[i]]])\n",
    "        team_b_features = np.concatenate([labelEncoder.transform([list_of_team_ids[j]]),teams_in_2024_average_stats[list_of_team_ids[j]]])\n",
    "        prediction = adv_model.predict([np.reshape(team_a_features, (1,16)), \n",
    "                             np.reshape(team_b_features, (1,16))], verbose=False)\n",
    "        if prediction > 0:\n",
    "            Is_TeamA_winner.append(1)\n",
    "            Is_TeamA_winner.append(0)\n",
    "        else:\n",
    "            Is_TeamA_winner.append(0)\n",
    "            Is_TeamA_winner.append(1)\n",
    "print(count)"
   ]
  },
  {
   "cell_type": "code",
   "execution_count": 408,
   "id": "ddf1c727",
   "metadata": {},
   "outputs": [],
   "source": [
    "final_submission = pd.DataFrame({'TeamA_ID': TeamA_ID, 'TeamA_Name': TeamA_Name, 'TeamB_ID': TeamB_ID,\n",
    "                                'TeamB_Name': TeamB_Name, 'Is_TeamA_winner': Is_TeamA_winner})"
   ]
  },
  {
   "cell_type": "code",
   "execution_count": 409,
   "id": "1b9cb7b6",
   "metadata": {},
   "outputs": [
    {
     "data": {
      "text/html": [
       "<div>\n",
       "<style scoped>\n",
       "    .dataframe tbody tr th:only-of-type {\n",
       "        vertical-align: middle;\n",
       "    }\n",
       "\n",
       "    .dataframe tbody tr th {\n",
       "        vertical-align: top;\n",
       "    }\n",
       "\n",
       "    .dataframe thead th {\n",
       "        text-align: right;\n",
       "    }\n",
       "</style>\n",
       "<table border=\"1\" class=\"dataframe\">\n",
       "  <thead>\n",
       "    <tr style=\"text-align: right;\">\n",
       "      <th></th>\n",
       "      <th>TeamA_ID</th>\n",
       "      <th>TeamA_Name</th>\n",
       "      <th>TeamB_ID</th>\n",
       "      <th>TeamB_Name</th>\n",
       "      <th>Is_TeamA_winner</th>\n",
       "    </tr>\n",
       "  </thead>\n",
       "  <tbody>\n",
       "    <tr>\n",
       "      <th>0</th>\n",
       "      <td>1163</td>\n",
       "      <td>Connecticut</td>\n",
       "      <td>1235</td>\n",
       "      <td>Iowa St</td>\n",
       "      <td>1</td>\n",
       "    </tr>\n",
       "    <tr>\n",
       "      <th>1</th>\n",
       "      <td>1235</td>\n",
       "      <td>Iowa St</td>\n",
       "      <td>1163</td>\n",
       "      <td>Connecticut</td>\n",
       "      <td>0</td>\n",
       "    </tr>\n",
       "    <tr>\n",
       "      <th>2</th>\n",
       "      <td>1163</td>\n",
       "      <td>Connecticut</td>\n",
       "      <td>1228</td>\n",
       "      <td>Illinois</td>\n",
       "      <td>1</td>\n",
       "    </tr>\n",
       "    <tr>\n",
       "      <th>3</th>\n",
       "      <td>1228</td>\n",
       "      <td>Illinois</td>\n",
       "      <td>1163</td>\n",
       "      <td>Connecticut</td>\n",
       "      <td>0</td>\n",
       "    </tr>\n",
       "    <tr>\n",
       "      <th>4</th>\n",
       "      <td>1163</td>\n",
       "      <td>Connecticut</td>\n",
       "      <td>1120</td>\n",
       "      <td>Auburn</td>\n",
       "      <td>1</td>\n",
       "    </tr>\n",
       "    <tr>\n",
       "      <th>...</th>\n",
       "      <td>...</td>\n",
       "      <td>...</td>\n",
       "      <td>...</td>\n",
       "      <td>...</td>\n",
       "      <td>...</td>\n",
       "    </tr>\n",
       "    <tr>\n",
       "      <th>4027</th>\n",
       "      <td>1443</td>\n",
       "      <td>WKU</td>\n",
       "      <td>1324</td>\n",
       "      <td>Oakland</td>\n",
       "      <td>0</td>\n",
       "    </tr>\n",
       "    <tr>\n",
       "      <th>4028</th>\n",
       "      <td>1324</td>\n",
       "      <td>Oakland</td>\n",
       "      <td>1255</td>\n",
       "      <td>Longwood</td>\n",
       "      <td>0</td>\n",
       "    </tr>\n",
       "    <tr>\n",
       "      <th>4029</th>\n",
       "      <td>1255</td>\n",
       "      <td>Longwood</td>\n",
       "      <td>1324</td>\n",
       "      <td>Oakland</td>\n",
       "      <td>1</td>\n",
       "    </tr>\n",
       "    <tr>\n",
       "      <th>4030</th>\n",
       "      <td>1443</td>\n",
       "      <td>WKU</td>\n",
       "      <td>1255</td>\n",
       "      <td>Longwood</td>\n",
       "      <td>0</td>\n",
       "    </tr>\n",
       "    <tr>\n",
       "      <th>4031</th>\n",
       "      <td>1255</td>\n",
       "      <td>Longwood</td>\n",
       "      <td>1443</td>\n",
       "      <td>WKU</td>\n",
       "      <td>1</td>\n",
       "    </tr>\n",
       "  </tbody>\n",
       "</table>\n",
       "<p>4032 rows × 5 columns</p>\n",
       "</div>"
      ],
      "text/plain": [
       "      TeamA_ID   TeamA_Name  TeamB_ID   TeamB_Name  Is_TeamA_winner\n",
       "0         1163  Connecticut      1235      Iowa St                1\n",
       "1         1235      Iowa St      1163  Connecticut                0\n",
       "2         1163  Connecticut      1228     Illinois                1\n",
       "3         1228     Illinois      1163  Connecticut                0\n",
       "4         1163  Connecticut      1120       Auburn                1\n",
       "...        ...          ...       ...          ...              ...\n",
       "4027      1443          WKU      1324      Oakland                0\n",
       "4028      1324      Oakland      1255     Longwood                0\n",
       "4029      1255     Longwood      1324      Oakland                1\n",
       "4030      1443          WKU      1255     Longwood                0\n",
       "4031      1255     Longwood      1443          WKU                1\n",
       "\n",
       "[4032 rows x 5 columns]"
      ]
     },
     "execution_count": 409,
     "metadata": {},
     "output_type": "execute_result"
    }
   ],
   "source": [
    "final_submission"
   ]
  },
  {
   "cell_type": "code",
   "execution_count": 417,
   "id": "0754402f",
   "metadata": {},
   "outputs": [],
   "source": [
    "final_submission.to_csv(\"./data/Final_brackets_submission.csv\", index=False)"
   ]
  },
  {
   "cell_type": "code",
   "execution_count": 415,
   "id": "2625589a",
   "metadata": {},
   "outputs": [],
   "source": [
    "# testing for matches played on 19 March\n",
    "# Howard = 1224\n",
    "# Wagner = 1447"
   ]
  },
  {
   "cell_type": "code",
   "execution_count": 470,
   "id": "865b63e7",
   "metadata": {},
   "outputs": [
    {
     "data": {
      "text/plain": [
       "1213"
      ]
     },
     "execution_count": 470,
     "metadata": {},
     "output_type": "execute_result"
    }
   ],
   "source": [
    "team_name_to_ids['Grand Canyon']"
   ]
  },
  {
   "cell_type": "code",
   "execution_count": 471,
   "id": "c38b7f16",
   "metadata": {},
   "outputs": [
    {
     "data": {
      "text/plain": [
       "1266"
      ]
     },
     "execution_count": 471,
     "metadata": {},
     "output_type": "execute_result"
    }
   ],
   "source": [
    "team_name_to_ids['Marquette']"
   ]
  },
  {
   "cell_type": "code",
   "execution_count": 476,
   "id": "83adab88",
   "metadata": {},
   "outputs": [
    {
     "data": {
      "text/plain": [
       "array([[-3.0033898]], dtype=float32)"
      ]
     },
     "execution_count": 476,
     "metadata": {},
     "output_type": "execute_result"
    }
   ],
   "source": [
    "team_a_features = np.concatenate([labelEncoder.transform([1213]),teams_in_2024_average_stats[1213]])\n",
    "team_b_features = np.concatenate([labelEncoder.transform([1266]),teams_in_2024_average_stats[1266]])\n",
    "adv_model.predict([np.reshape(team_b_features, (1,16)), np.reshape(team_a_features, (1,16))], verbose=False)"
   ]
  },
  {
   "cell_type": "code",
   "execution_count": 477,
   "id": "c0037f8e",
   "metadata": {},
   "outputs": [
    {
     "data": {
      "text/plain": [
       "array([[6.366941]], dtype=float32)"
      ]
     },
     "execution_count": 477,
     "metadata": {},
     "output_type": "execute_result"
    }
   ],
   "source": [
    "team_a_features = np.concatenate([labelEncoder.transform([1213]),teams_in_2024_average_stats[1213]])\n",
    "team_b_features = np.concatenate([labelEncoder.transform([1266]),teams_in_2024_average_stats[1266]])\n",
    "adv_model.predict([np.reshape(team_a_features, (1,16)), np.reshape(team_b_features, (1,16))], verbose=False)"
   ]
  },
  {
   "cell_type": "code",
   "execution_count": 478,
   "id": "05575165",
   "metadata": {},
   "outputs": [
    {
     "data": {
      "text/plain": [
       "array([108.        ,  73.63675988,  37.51353254,  61.34776722,\n",
       "        24.17327798,  34.23797584,  30.97376101,  35.45867427,\n",
       "        26.10663985,  37.52541967,  28.79420289,  27.78165225,\n",
       "        22.88896244,  20.64161541,  31.637165  ,  18.49003557])"
      ]
     },
     "execution_count": 478,
     "metadata": {},
     "output_type": "execute_result"
    }
   ],
   "source": [
    "# Grand Canyon\n",
    "team_a_features"
   ]
  },
  {
   "cell_type": "code",
   "execution_count": 479,
   "id": "687a9127",
   "metadata": {},
   "outputs": [
    {
     "data": {
      "text/plain": [
       "array([160.        ,  99.68841161,  62.80351195,  86.35031316,\n",
       "        49.07254804,  58.87724818,  55.77685437,  60.52733221,\n",
       "        51.64984974,  61.5047744 ,  54.86108744,  53.28371402,\n",
       "        48.97278062,  46.02113856,  56.26524661,  43.04977478])"
      ]
     },
     "execution_count": 479,
     "metadata": {},
     "output_type": "execute_result"
    }
   ],
   "source": [
    "# Marquette\n",
    "team_b_features"
   ]
  },
  {
   "cell_type": "code",
   "execution_count": null,
   "id": "7dfa13c2",
   "metadata": {},
   "outputs": [],
   "source": []
  }
 ],
 "metadata": {
  "kernelspec": {
   "display_name": "Python 3 (ipykernel)",
   "language": "python",
   "name": "python3"
  },
  "language_info": {
   "codemirror_mode": {
    "name": "ipython",
    "version": 3
   },
   "file_extension": ".py",
   "mimetype": "text/x-python",
   "name": "python",
   "nbconvert_exporter": "python",
   "pygments_lexer": "ipython3",
   "version": "3.9.7"
  }
 },
 "nbformat": 4,
 "nbformat_minor": 5
}

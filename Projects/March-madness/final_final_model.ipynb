{
 "cells": [
  {
   "cell_type": "code",
   "execution_count": 299,
   "id": "ecfadd32",
   "metadata": {},
   "outputs": [],
   "source": [
    "import pandas as pd\n",
    "import numpy as np\n",
    "import matplotlib.pyplot as plt\n",
    "import warnings\n",
    "from tqdm import tqdm\n",
    "warnings.filterwarnings('ignore')\n",
    "%matplotlib inline"
   ]
  },
  {
   "cell_type": "code",
   "execution_count": 300,
   "id": "2a308cca",
   "metadata": {},
   "outputs": [],
   "source": [
    "# all_season_score = pd.read_csv(\"./data/MRegularSeasonCompactResults.csv\")\n",
    "all_season_gamewise = pd.read_csv(\"./data/MRegularSeasonDetailedResults.csv\")\n",
    "ncaa_season_gamewise = pd.read_csv(\"./data/MNCAATourneyDetailedResults.csv\")"
   ]
  },
  {
   "cell_type": "code",
   "execution_count": 301,
   "id": "011d7f53",
   "metadata": {},
   "outputs": [
    {
     "data": {
      "text/html": [
       "<div>\n",
       "<style scoped>\n",
       "    .dataframe tbody tr th:only-of-type {\n",
       "        vertical-align: middle;\n",
       "    }\n",
       "\n",
       "    .dataframe tbody tr th {\n",
       "        vertical-align: top;\n",
       "    }\n",
       "\n",
       "    .dataframe thead th {\n",
       "        text-align: right;\n",
       "    }\n",
       "</style>\n",
       "<table border=\"1\" class=\"dataframe\">\n",
       "  <thead>\n",
       "    <tr style=\"text-align: right;\">\n",
       "      <th></th>\n",
       "      <th>Season</th>\n",
       "      <th>DayNum</th>\n",
       "      <th>WTeamID</th>\n",
       "      <th>WScore</th>\n",
       "      <th>LTeamID</th>\n",
       "      <th>LScore</th>\n",
       "      <th>WLoc</th>\n",
       "      <th>NumOT</th>\n",
       "      <th>WFGM</th>\n",
       "      <th>WFGA</th>\n",
       "      <th>...</th>\n",
       "      <th>LFGA3</th>\n",
       "      <th>LFTM</th>\n",
       "      <th>LFTA</th>\n",
       "      <th>LOR</th>\n",
       "      <th>LDR</th>\n",
       "      <th>LAst</th>\n",
       "      <th>LTO</th>\n",
       "      <th>LStl</th>\n",
       "      <th>LBlk</th>\n",
       "      <th>LPF</th>\n",
       "    </tr>\n",
       "  </thead>\n",
       "  <tbody>\n",
       "    <tr>\n",
       "      <th>0</th>\n",
       "      <td>2003</td>\n",
       "      <td>10</td>\n",
       "      <td>1104</td>\n",
       "      <td>68</td>\n",
       "      <td>1328</td>\n",
       "      <td>62</td>\n",
       "      <td>N</td>\n",
       "      <td>0</td>\n",
       "      <td>27</td>\n",
       "      <td>58</td>\n",
       "      <td>...</td>\n",
       "      <td>10</td>\n",
       "      <td>16</td>\n",
       "      <td>22</td>\n",
       "      <td>10</td>\n",
       "      <td>22</td>\n",
       "      <td>8</td>\n",
       "      <td>18</td>\n",
       "      <td>9</td>\n",
       "      <td>2</td>\n",
       "      <td>20</td>\n",
       "    </tr>\n",
       "    <tr>\n",
       "      <th>1</th>\n",
       "      <td>2003</td>\n",
       "      <td>10</td>\n",
       "      <td>1272</td>\n",
       "      <td>70</td>\n",
       "      <td>1393</td>\n",
       "      <td>63</td>\n",
       "      <td>N</td>\n",
       "      <td>0</td>\n",
       "      <td>26</td>\n",
       "      <td>62</td>\n",
       "      <td>...</td>\n",
       "      <td>24</td>\n",
       "      <td>9</td>\n",
       "      <td>20</td>\n",
       "      <td>20</td>\n",
       "      <td>25</td>\n",
       "      <td>7</td>\n",
       "      <td>12</td>\n",
       "      <td>8</td>\n",
       "      <td>6</td>\n",
       "      <td>16</td>\n",
       "    </tr>\n",
       "    <tr>\n",
       "      <th>2</th>\n",
       "      <td>2003</td>\n",
       "      <td>11</td>\n",
       "      <td>1266</td>\n",
       "      <td>73</td>\n",
       "      <td>1437</td>\n",
       "      <td>61</td>\n",
       "      <td>N</td>\n",
       "      <td>0</td>\n",
       "      <td>24</td>\n",
       "      <td>58</td>\n",
       "      <td>...</td>\n",
       "      <td>26</td>\n",
       "      <td>14</td>\n",
       "      <td>23</td>\n",
       "      <td>31</td>\n",
       "      <td>22</td>\n",
       "      <td>9</td>\n",
       "      <td>12</td>\n",
       "      <td>2</td>\n",
       "      <td>5</td>\n",
       "      <td>23</td>\n",
       "    </tr>\n",
       "    <tr>\n",
       "      <th>3</th>\n",
       "      <td>2003</td>\n",
       "      <td>11</td>\n",
       "      <td>1296</td>\n",
       "      <td>56</td>\n",
       "      <td>1457</td>\n",
       "      <td>50</td>\n",
       "      <td>N</td>\n",
       "      <td>0</td>\n",
       "      <td>18</td>\n",
       "      <td>38</td>\n",
       "      <td>...</td>\n",
       "      <td>22</td>\n",
       "      <td>8</td>\n",
       "      <td>15</td>\n",
       "      <td>17</td>\n",
       "      <td>20</td>\n",
       "      <td>9</td>\n",
       "      <td>19</td>\n",
       "      <td>4</td>\n",
       "      <td>3</td>\n",
       "      <td>23</td>\n",
       "    </tr>\n",
       "    <tr>\n",
       "      <th>4</th>\n",
       "      <td>2003</td>\n",
       "      <td>11</td>\n",
       "      <td>1400</td>\n",
       "      <td>77</td>\n",
       "      <td>1208</td>\n",
       "      <td>71</td>\n",
       "      <td>N</td>\n",
       "      <td>0</td>\n",
       "      <td>30</td>\n",
       "      <td>61</td>\n",
       "      <td>...</td>\n",
       "      <td>16</td>\n",
       "      <td>17</td>\n",
       "      <td>27</td>\n",
       "      <td>21</td>\n",
       "      <td>15</td>\n",
       "      <td>12</td>\n",
       "      <td>10</td>\n",
       "      <td>7</td>\n",
       "      <td>1</td>\n",
       "      <td>14</td>\n",
       "    </tr>\n",
       "    <tr>\n",
       "      <th>...</th>\n",
       "      <td>...</td>\n",
       "      <td>...</td>\n",
       "      <td>...</td>\n",
       "      <td>...</td>\n",
       "      <td>...</td>\n",
       "      <td>...</td>\n",
       "      <td>...</td>\n",
       "      <td>...</td>\n",
       "      <td>...</td>\n",
       "      <td>...</td>\n",
       "      <td>...</td>\n",
       "      <td>...</td>\n",
       "      <td>...</td>\n",
       "      <td>...</td>\n",
       "      <td>...</td>\n",
       "      <td>...</td>\n",
       "      <td>...</td>\n",
       "      <td>...</td>\n",
       "      <td>...</td>\n",
       "      <td>...</td>\n",
       "      <td>...</td>\n",
       "    </tr>\n",
       "    <tr>\n",
       "      <th>113236</th>\n",
       "      <td>2024</td>\n",
       "      <td>132</td>\n",
       "      <td>1120</td>\n",
       "      <td>86</td>\n",
       "      <td>1196</td>\n",
       "      <td>67</td>\n",
       "      <td>N</td>\n",
       "      <td>0</td>\n",
       "      <td>31</td>\n",
       "      <td>61</td>\n",
       "      <td>...</td>\n",
       "      <td>13</td>\n",
       "      <td>18</td>\n",
       "      <td>25</td>\n",
       "      <td>13</td>\n",
       "      <td>26</td>\n",
       "      <td>9</td>\n",
       "      <td>11</td>\n",
       "      <td>8</td>\n",
       "      <td>6</td>\n",
       "      <td>17</td>\n",
       "    </tr>\n",
       "    <tr>\n",
       "      <th>113237</th>\n",
       "      <td>2024</td>\n",
       "      <td>132</td>\n",
       "      <td>1182</td>\n",
       "      <td>57</td>\n",
       "      <td>1433</td>\n",
       "      <td>51</td>\n",
       "      <td>N</td>\n",
       "      <td>0</td>\n",
       "      <td>17</td>\n",
       "      <td>57</td>\n",
       "      <td>...</td>\n",
       "      <td>24</td>\n",
       "      <td>12</td>\n",
       "      <td>14</td>\n",
       "      <td>9</td>\n",
       "      <td>25</td>\n",
       "      <td>9</td>\n",
       "      <td>16</td>\n",
       "      <td>10</td>\n",
       "      <td>9</td>\n",
       "      <td>16</td>\n",
       "    </tr>\n",
       "    <tr>\n",
       "      <th>113238</th>\n",
       "      <td>2024</td>\n",
       "      <td>132</td>\n",
       "      <td>1228</td>\n",
       "      <td>93</td>\n",
       "      <td>1458</td>\n",
       "      <td>87</td>\n",
       "      <td>N</td>\n",
       "      <td>0</td>\n",
       "      <td>30</td>\n",
       "      <td>57</td>\n",
       "      <td>...</td>\n",
       "      <td>20</td>\n",
       "      <td>20</td>\n",
       "      <td>23</td>\n",
       "      <td>13</td>\n",
       "      <td>17</td>\n",
       "      <td>17</td>\n",
       "      <td>7</td>\n",
       "      <td>7</td>\n",
       "      <td>1</td>\n",
       "      <td>20</td>\n",
       "    </tr>\n",
       "    <tr>\n",
       "      <th>113239</th>\n",
       "      <td>2024</td>\n",
       "      <td>132</td>\n",
       "      <td>1412</td>\n",
       "      <td>85</td>\n",
       "      <td>1396</td>\n",
       "      <td>69</td>\n",
       "      <td>N</td>\n",
       "      <td>0</td>\n",
       "      <td>31</td>\n",
       "      <td>63</td>\n",
       "      <td>...</td>\n",
       "      <td>21</td>\n",
       "      <td>14</td>\n",
       "      <td>17</td>\n",
       "      <td>11</td>\n",
       "      <td>26</td>\n",
       "      <td>17</td>\n",
       "      <td>14</td>\n",
       "      <td>6</td>\n",
       "      <td>6</td>\n",
       "      <td>18</td>\n",
       "    </tr>\n",
       "    <tr>\n",
       "      <th>113240</th>\n",
       "      <td>2024</td>\n",
       "      <td>132</td>\n",
       "      <td>1463</td>\n",
       "      <td>62</td>\n",
       "      <td>1135</td>\n",
       "      <td>61</td>\n",
       "      <td>N</td>\n",
       "      <td>0</td>\n",
       "      <td>25</td>\n",
       "      <td>64</td>\n",
       "      <td>...</td>\n",
       "      <td>25</td>\n",
       "      <td>8</td>\n",
       "      <td>15</td>\n",
       "      <td>8</td>\n",
       "      <td>27</td>\n",
       "      <td>13</td>\n",
       "      <td>9</td>\n",
       "      <td>3</td>\n",
       "      <td>3</td>\n",
       "      <td>11</td>\n",
       "    </tr>\n",
       "  </tbody>\n",
       "</table>\n",
       "<p>113241 rows × 34 columns</p>\n",
       "</div>"
      ],
      "text/plain": [
       "        Season  DayNum  WTeamID  WScore  LTeamID  LScore WLoc  NumOT  WFGM  \\\n",
       "0         2003      10     1104      68     1328      62    N      0    27   \n",
       "1         2003      10     1272      70     1393      63    N      0    26   \n",
       "2         2003      11     1266      73     1437      61    N      0    24   \n",
       "3         2003      11     1296      56     1457      50    N      0    18   \n",
       "4         2003      11     1400      77     1208      71    N      0    30   \n",
       "...        ...     ...      ...     ...      ...     ...  ...    ...   ...   \n",
       "113236    2024     132     1120      86     1196      67    N      0    31   \n",
       "113237    2024     132     1182      57     1433      51    N      0    17   \n",
       "113238    2024     132     1228      93     1458      87    N      0    30   \n",
       "113239    2024     132     1412      85     1396      69    N      0    31   \n",
       "113240    2024     132     1463      62     1135      61    N      0    25   \n",
       "\n",
       "        WFGA  ...  LFGA3  LFTM  LFTA  LOR  LDR  LAst  LTO  LStl  LBlk  LPF  \n",
       "0         58  ...     10    16    22   10   22     8   18     9     2   20  \n",
       "1         62  ...     24     9    20   20   25     7   12     8     6   16  \n",
       "2         58  ...     26    14    23   31   22     9   12     2     5   23  \n",
       "3         38  ...     22     8    15   17   20     9   19     4     3   23  \n",
       "4         61  ...     16    17    27   21   15    12   10     7     1   14  \n",
       "...      ...  ...    ...   ...   ...  ...  ...   ...  ...   ...   ...  ...  \n",
       "113236    61  ...     13    18    25   13   26     9   11     8     6   17  \n",
       "113237    57  ...     24    12    14    9   25     9   16    10     9   16  \n",
       "113238    57  ...     20    20    23   13   17    17    7     7     1   20  \n",
       "113239    63  ...     21    14    17   11   26    17   14     6     6   18  \n",
       "113240    64  ...     25     8    15    8   27    13    9     3     3   11  \n",
       "\n",
       "[113241 rows x 34 columns]"
      ]
     },
     "execution_count": 301,
     "metadata": {},
     "output_type": "execute_result"
    }
   ],
   "source": [
    "all_season_gamewise"
   ]
  },
  {
   "cell_type": "code",
   "execution_count": 302,
   "id": "8af42dc7",
   "metadata": {},
   "outputs": [
    {
     "data": {
      "text/plain": [
       "(5602, 34)"
      ]
     },
     "execution_count": 302,
     "metadata": {},
     "output_type": "execute_result"
    }
   ],
   "source": [
    "all_season_gamewise[all_season_gamewise.Season == 2023].shape"
   ]
  },
  {
   "cell_type": "code",
   "execution_count": 303,
   "id": "269d5778",
   "metadata": {},
   "outputs": [],
   "source": [
    "test_data = all_season_gamewise[all_season_gamewise.Season == 2024]\n",
    "all_season_gamewise = all_season_gamewise[all_season_gamewise.Season < 2024]"
   ]
  },
  {
   "cell_type": "code",
   "execution_count": 304,
   "id": "331cb2d2",
   "metadata": {},
   "outputs": [
    {
     "data": {
      "text/plain": [
       "((107634, 34), (1315, 34), (5607, 34))"
      ]
     },
     "execution_count": 304,
     "metadata": {},
     "output_type": "execute_result"
    }
   ],
   "source": [
    "all_season_gamewise.shape, ncaa_season_gamewise.shape, test_data.shape"
   ]
  },
  {
   "cell_type": "code",
   "execution_count": 305,
   "id": "de781e19",
   "metadata": {},
   "outputs": [],
   "source": [
    "# all_season_score = all_season_score[all_season_score.Season >= 2003].reset_index().drop(columns=['index'])\n",
    "# all_season_score"
   ]
  },
  {
   "cell_type": "code",
   "execution_count": 306,
   "id": "4ece4aab",
   "metadata": {},
   "outputs": [
    {
     "data": {
      "text/plain": [
       "(Index(['Season', 'DayNum', 'WTeamID', 'WScore', 'LTeamID', 'LScore', 'WLoc',\n",
       "        'NumOT', 'WFGM', 'WFGA', 'WFGM3', 'WFGA3', 'WFTM', 'WFTA', 'WOR', 'WDR',\n",
       "        'WAst', 'WTO', 'WStl', 'WBlk', 'WPF', 'LFGM', 'LFGA', 'LFGM3', 'LFGA3',\n",
       "        'LFTM', 'LFTA', 'LOR', 'LDR', 'LAst', 'LTO', 'LStl', 'LBlk', 'LPF'],\n",
       "       dtype='object'),\n",
       " Index(['Season', 'DayNum', 'WTeamID', 'WScore', 'LTeamID', 'LScore', 'WLoc',\n",
       "        'NumOT', 'WFGM', 'WFGA', 'WFGM3', 'WFGA3', 'WFTM', 'WFTA', 'WOR', 'WDR',\n",
       "        'WAst', 'WTO', 'WStl', 'WBlk', 'WPF', 'LFGM', 'LFGA', 'LFGM3', 'LFGA3',\n",
       "        'LFTM', 'LFTA', 'LOR', 'LDR', 'LAst', 'LTO', 'LStl', 'LBlk', 'LPF'],\n",
       "       dtype='object'))"
      ]
     },
     "execution_count": 306,
     "metadata": {},
     "output_type": "execute_result"
    }
   ],
   "source": [
    "all_season_gamewise.columns, ncaa_season_gamewise.columns"
   ]
  },
  {
   "cell_type": "code",
   "execution_count": 307,
   "id": "ab075af8",
   "metadata": {},
   "outputs": [],
   "source": [
    "all_df_dropped_cols = all_season_gamewise.drop(columns=['Season', 'WLoc', 'NumOT'])\n",
    "ncaa_df_dropped_cols = ncaa_season_gamewise.drop(columns=['Season', 'WLoc', 'NumOT'])\n",
    "test_df_dropped_cols = test_data.drop(columns=['Season', 'WLoc', 'NumOT'])"
   ]
  },
  {
   "cell_type": "code",
   "execution_count": 308,
   "id": "606ed7e6",
   "metadata": {},
   "outputs": [],
   "source": [
    "combined_df = pd.concat([all_df_dropped_cols, ncaa_df_dropped_cols])"
   ]
  },
  {
   "cell_type": "code",
   "execution_count": 309,
   "id": "16b26df9",
   "metadata": {},
   "outputs": [
    {
     "data": {
      "text/plain": [
       "Index(['DayNum', 'WTeamID', 'WScore', 'LTeamID', 'LScore', 'WFGM', 'WFGA',\n",
       "       'WFGM3', 'WFGA3', 'WFTM', 'WFTA', 'WOR', 'WDR', 'WAst', 'WTO', 'WStl',\n",
       "       'WBlk', 'WPF', 'LFGM', 'LFGA', 'LFGM3', 'LFGA3', 'LFTM', 'LFTA', 'LOR',\n",
       "       'LDR', 'LAst', 'LTO', 'LStl', 'LBlk', 'LPF'],\n",
       "      dtype='object')"
      ]
     },
     "execution_count": 309,
     "metadata": {},
     "output_type": "execute_result"
    }
   ],
   "source": [
    "combined_df.columns"
   ]
  },
  {
   "cell_type": "code",
   "execution_count": 187,
   "id": "99ece107",
   "metadata": {},
   "outputs": [],
   "source": [
    "combined_team_a = combined_df[['WTeamID', 'WScore', 'WFGM', 'WFGA', 'WFGM3', 'WFGA3', 'WFTM', 'WFTA', 'WOR', \n",
    "                               'WDR', 'WAst', 'WTO', 'WStl', 'WBlk', 'WPF']]\n",
    "combined_team_b = combined_df[['LTeamID', 'LScore', 'LFGM', 'LFGA', 'LFGM3', 'LFGA3', 'LFTM', 'LFTA', 'LOR', \n",
    "                               'LDR', 'LAst', 'LTO', 'LStl', 'LBlk', 'LPF']]\n",
    "combined_team_b = combined_team_b.rename(columns=lambda x: 'W' + x[1:])\n",
    "\n",
    "\n",
    "\n",
    "test_combined_team_a = test_df_dropped_cols[['WTeamID', 'WScore', 'WFGM', 'WFGA', 'WFGM3', 'WFGA3', 'WFTM', 'WFTA', 'WOR', \n",
    "                               'WDR', 'WAst', 'WTO', 'WStl', 'WBlk', 'WPF']]\n",
    "test_combined_team_b = test_df_dropped_cols[['LTeamID', 'LScore', 'LFGM', 'LFGA', 'LFGM3', 'LFGA3', 'LFTM', 'LFTA', 'LOR', \n",
    "                               'LDR', 'LAst', 'LTO', 'LStl', 'LBlk', 'LPF']]\n",
    "test_combined_team_b = test_combined_team_b.rename(columns=lambda x: 'W' + x[1:])"
   ]
  },
  {
   "cell_type": "code",
   "execution_count": 188,
   "id": "2a775a3f",
   "metadata": {},
   "outputs": [],
   "source": [
    "indexes_shuffled = np.random.permutation(len(combined_team_a))\n",
    "total_combination = len(combined_team_a)\n",
    "\n",
    "test_indexes_shuffled = np.random.permutation(len(test_combined_team_a))\n",
    "test_total_combination = len(test_combined_team_a)"
   ]
  },
  {
   "cell_type": "code",
   "execution_count": 189,
   "id": "4c4a51b2",
   "metadata": {},
   "outputs": [],
   "source": [
    "team_a_df = pd.DataFrame(columns=combined_team_a.columns)\n",
    "team_b_df = pd.DataFrame(columns=combined_team_b.columns)\n",
    "\n",
    "test_team_a_df = pd.DataFrame(columns=test_combined_team_a.columns)\n",
    "test_team_b_df = pd.DataFrame(columns=test_combined_team_a.columns)"
   ]
  },
  {
   "cell_type": "code",
   "execution_count": 190,
   "id": "dd248373",
   "metadata": {},
   "outputs": [
    {
     "name": "stderr",
     "output_type": "stream",
     "text": [
      "100%|██████████████████████████████████| 108949/108949 [16:25<00:00, 110.58it/s]\n",
      "100%|██████████████████████████████████████| 5607/5607 [00:12<00:00, 453.25it/s]\n"
     ]
    }
   ],
   "source": [
    "for i in tqdm(range(total_combination)):\n",
    "    ind1 = indexes_shuffled[i]\n",
    "    x = np.random.uniform()\n",
    "    if x > 0.5:\n",
    "        team_a_df = team_a_df.append(combined_team_a.iloc[ind1])\n",
    "        team_b_df = team_b_df.append(combined_team_b.iloc[ind1])\n",
    "    else:\n",
    "        team_a_df = team_a_df.append(combined_team_b.iloc[ind1])\n",
    "        team_b_df = team_b_df.append(combined_team_a.iloc[ind1])\n",
    "        \n",
    "for i in tqdm(range(test_total_combination)):\n",
    "    ind1 = test_indexes_shuffled[i]\n",
    "    x = np.random.uniform()\n",
    "    if x > 0.5:\n",
    "        test_team_a_df = test_team_a_df.append(test_combined_team_a.iloc[ind1])\n",
    "        test_team_b_df = test_team_b_df.append(test_combined_team_b.iloc[ind1])\n",
    "    else:\n",
    "        test_team_a_df = test_team_a_df.append(test_combined_team_b.iloc[ind1])\n",
    "        test_team_b_df = test_team_b_df.append(test_combined_team_a.iloc[ind1])"
   ]
  },
  {
   "cell_type": "code",
   "execution_count": 197,
   "id": "8e5291a1",
   "metadata": {},
   "outputs": [],
   "source": [
    "team_a_df.to_csv(\"./data/team_a_df.csv\", index=False)\n",
    "team_b_df.to_csv(\"./data/team_b_df.csv\", index=False)\n",
    "\n",
    "test_team_a_df.to_csv(\"./data/test_team_a_df.csv\", index=False)\n",
    "test_team_b_df.to_csv(\"./data/test_team_b_df.csv\", index=False)"
   ]
  },
  {
   "cell_type": "markdown",
   "id": "bcb5195d",
   "metadata": {},
   "source": [
    "# Checkpoint 1 - saved the dataset"
   ]
  },
  {
   "cell_type": "code",
   "execution_count": 198,
   "id": "6a0b7221",
   "metadata": {},
   "outputs": [],
   "source": [
    "team_a_df = pd.read_csv(\"./data/team_a_df.csv\")\n",
    "team_b_df = pd.read_csv(\"./data/team_b_df.csv\")\n",
    "\n",
    "test_team_a_df = pd.read_csv(\"./data/test_team_a_df.csv\")\n",
    "test_team_b_df = pd.read_csv(\"./data/test_team_b_df.csv\")"
   ]
  },
  {
   "cell_type": "markdown",
   "id": "e6f9ee44",
   "metadata": {},
   "source": [
    "TS% = (0.5∗(points_score))/((field_goal_attempts) + 0.44*(free_throw_attempts))"
   ]
  },
  {
   "cell_type": "code",
   "execution_count": 199,
   "id": "8fdd049f",
   "metadata": {},
   "outputs": [],
   "source": [
    "team_a_df['WTS'] = (0.5 * team_a_df.WScore.astype(float)) / (team_a_df.WFGA.astype(float) + 0.44*team_a_df.WFTA.astype(float))\n",
    "team_b_df['WTS'] = (0.5 * team_b_df.WScore.astype(float)) / (team_b_df.WFGA.astype(float) + 0.44*team_b_df.WFTA.astype(float))\n",
    "\n",
    "test_team_a_df['WTS'] = (0.5 * test_team_a_df.WScore.astype(float)) / (test_team_a_df.WFGA.astype(float) + 0.44*test_team_a_df.WFTA.astype(float))\n",
    "test_team_b_df['WTS'] = (0.5 * test_team_b_df.WScore.astype(float)) / (test_team_b_df.WFGA.astype(float) + 0.44*test_team_b_df.WFTA.astype(float))"
   ]
  },
  {
   "cell_type": "code",
   "execution_count": 200,
   "id": "5b8270f8",
   "metadata": {},
   "outputs": [],
   "source": [
    "from sklearn.preprocessing import LabelEncoder"
   ]
  },
  {
   "cell_type": "code",
   "execution_count": 201,
   "id": "5409a562",
   "metadata": {},
   "outputs": [
    {
     "data": {
      "text/html": [
       "<style>#sk-container-id-4 {color: black;background-color: white;}#sk-container-id-4 pre{padding: 0;}#sk-container-id-4 div.sk-toggleable {background-color: white;}#sk-container-id-4 label.sk-toggleable__label {cursor: pointer;display: block;width: 100%;margin-bottom: 0;padding: 0.3em;box-sizing: border-box;text-align: center;}#sk-container-id-4 label.sk-toggleable__label-arrow:before {content: \"▸\";float: left;margin-right: 0.25em;color: #696969;}#sk-container-id-4 label.sk-toggleable__label-arrow:hover:before {color: black;}#sk-container-id-4 div.sk-estimator:hover label.sk-toggleable__label-arrow:before {color: black;}#sk-container-id-4 div.sk-toggleable__content {max-height: 0;max-width: 0;overflow: hidden;text-align: left;background-color: #f0f8ff;}#sk-container-id-4 div.sk-toggleable__content pre {margin: 0.2em;color: black;border-radius: 0.25em;background-color: #f0f8ff;}#sk-container-id-4 input.sk-toggleable__control:checked~div.sk-toggleable__content {max-height: 200px;max-width: 100%;overflow: auto;}#sk-container-id-4 input.sk-toggleable__control:checked~label.sk-toggleable__label-arrow:before {content: \"▾\";}#sk-container-id-4 div.sk-estimator input.sk-toggleable__control:checked~label.sk-toggleable__label {background-color: #d4ebff;}#sk-container-id-4 div.sk-label input.sk-toggleable__control:checked~label.sk-toggleable__label {background-color: #d4ebff;}#sk-container-id-4 input.sk-hidden--visually {border: 0;clip: rect(1px 1px 1px 1px);clip: rect(1px, 1px, 1px, 1px);height: 1px;margin: -1px;overflow: hidden;padding: 0;position: absolute;width: 1px;}#sk-container-id-4 div.sk-estimator {font-family: monospace;background-color: #f0f8ff;border: 1px dotted black;border-radius: 0.25em;box-sizing: border-box;margin-bottom: 0.5em;}#sk-container-id-4 div.sk-estimator:hover {background-color: #d4ebff;}#sk-container-id-4 div.sk-parallel-item::after {content: \"\";width: 100%;border-bottom: 1px solid gray;flex-grow: 1;}#sk-container-id-4 div.sk-label:hover label.sk-toggleable__label {background-color: #d4ebff;}#sk-container-id-4 div.sk-serial::before {content: \"\";position: absolute;border-left: 1px solid gray;box-sizing: border-box;top: 0;bottom: 0;left: 50%;z-index: 0;}#sk-container-id-4 div.sk-serial {display: flex;flex-direction: column;align-items: center;background-color: white;padding-right: 0.2em;padding-left: 0.2em;position: relative;}#sk-container-id-4 div.sk-item {position: relative;z-index: 1;}#sk-container-id-4 div.sk-parallel {display: flex;align-items: stretch;justify-content: center;background-color: white;position: relative;}#sk-container-id-4 div.sk-item::before, #sk-container-id-4 div.sk-parallel-item::before {content: \"\";position: absolute;border-left: 1px solid gray;box-sizing: border-box;top: 0;bottom: 0;left: 50%;z-index: -1;}#sk-container-id-4 div.sk-parallel-item {display: flex;flex-direction: column;z-index: 1;position: relative;background-color: white;}#sk-container-id-4 div.sk-parallel-item:first-child::after {align-self: flex-end;width: 50%;}#sk-container-id-4 div.sk-parallel-item:last-child::after {align-self: flex-start;width: 50%;}#sk-container-id-4 div.sk-parallel-item:only-child::after {width: 0;}#sk-container-id-4 div.sk-dashed-wrapped {border: 1px dashed gray;margin: 0 0.4em 0.5em 0.4em;box-sizing: border-box;padding-bottom: 0.4em;background-color: white;}#sk-container-id-4 div.sk-label label {font-family: monospace;font-weight: bold;display: inline-block;line-height: 1.2em;}#sk-container-id-4 div.sk-label-container {text-align: center;}#sk-container-id-4 div.sk-container {/* jupyter's `normalize.less` sets `[hidden] { display: none; }` but bootstrap.min.css set `[hidden] { display: none !important; }` so we also need the `!important` here to be able to override the default hidden behavior on the sphinx rendered scikit-learn.org. See: https://github.com/scikit-learn/scikit-learn/issues/21755 */display: inline-block !important;position: relative;}#sk-container-id-4 div.sk-text-repr-fallback {display: none;}</style><div id=\"sk-container-id-4\" class=\"sk-top-container\"><div class=\"sk-text-repr-fallback\"><pre>LabelEncoder()</pre><b>In a Jupyter environment, please rerun this cell to show the HTML representation or trust the notebook. <br />On GitHub, the HTML representation is unable to render, please try loading this page with nbviewer.org.</b></div><div class=\"sk-container\" hidden><div class=\"sk-item\"><div class=\"sk-estimator sk-toggleable\"><input class=\"sk-toggleable__control sk-hidden--visually\" id=\"sk-estimator-id-4\" type=\"checkbox\" checked><label for=\"sk-estimator-id-4\" class=\"sk-toggleable__label sk-toggleable__label-arrow\">LabelEncoder</label><div class=\"sk-toggleable__content\"><pre>LabelEncoder()</pre></div></div></div></div></div>"
      ],
      "text/plain": [
       "LabelEncoder()"
      ]
     },
     "execution_count": 201,
     "metadata": {},
     "output_type": "execute_result"
    }
   ],
   "source": [
    "labelEncoder = LabelEncoder()\n",
    "all_teams_name = list(set(team_a_df.WTeamID.to_list() + team_b_df.WTeamID.to_list() + \n",
    "                          test_team_a_df.WTeamID.to_list() + test_team_b_df.WTeamID.to_list()))\n",
    "labelEncoder.fit(all_teams_name)"
   ]
  },
  {
   "cell_type": "code",
   "execution_count": 202,
   "id": "9ad211e4",
   "metadata": {},
   "outputs": [],
   "source": [
    "team_a_df['encoded_team'] = labelEncoder.transform(team_a_df.WTeamID)\n",
    "team_b_df['encoded_team'] = labelEncoder.transform(team_b_df.WTeamID)\n",
    "target_score_differential = team_a_df.WScore - team_b_df.WScore\n",
    "\n",
    "\n",
    "test_team_a_df['encoded_team'] = labelEncoder.transform(test_team_a_df.WTeamID)\n",
    "test_team_b_df['encoded_team'] = labelEncoder.transform(test_team_b_df.WTeamID)"
   ]
  },
  {
   "cell_type": "code",
   "execution_count": 203,
   "id": "27b6d615",
   "metadata": {},
   "outputs": [
    {
     "data": {
      "text/plain": [
       "Index(['WTeamID', 'WScore', 'WFGM', 'WFGA', 'WFGM3', 'WFGA3', 'WFTM', 'WFTA',\n",
       "       'WOR', 'WDR', 'WAst', 'WTO', 'WStl', 'WBlk', 'WPF', 'WTS',\n",
       "       'encoded_team'],\n",
       "      dtype='object')"
      ]
     },
     "execution_count": 203,
     "metadata": {},
     "output_type": "execute_result"
    }
   ],
   "source": [
    "team_a_df.columns"
   ]
  },
  {
   "cell_type": "code",
   "execution_count": 543,
   "id": "33d1284d",
   "metadata": {},
   "outputs": [],
   "source": [
    "# removed WScore\n",
    "features = ['encoded_team', 'WFGM', 'WFGA', 'WFGM3', 'WFGA3', 'WFTM', 'WFTA', 'WOR', 'WDR', 'WAst', 'WTO', 'WStl', 'WBlk', 'WPF', 'WTS']"
   ]
  },
  {
   "cell_type": "code",
   "execution_count": 545,
   "id": "75344661",
   "metadata": {},
   "outputs": [],
   "source": [
    "import tensorflow as tf\n",
    "from tensorflow.keras.models import Model\n",
    "from tensorflow.keras.optimizers import Adam\n",
    "from tensorflow.keras.layers import Input, Embedding, Flatten, Dense, Concatenate, Add"
   ]
  },
  {
   "cell_type": "code",
   "execution_count": 552,
   "id": "f6f4e8d7",
   "metadata": {},
   "outputs": [],
   "source": [
    "# Define the hyperparameters for our model.\n",
    "embedding_dim = 64\n",
    "num_teams = len(all_teams_name)\n",
    "\n",
    "def get_model():\n",
    "    \"\"\"\n",
    "    This function creates a tensorflow model using the Keras Functional API.\n",
    "\n",
    "    Returns:\n",
    "      - keras.engine.functional.Functional: The compiled Tensorflow/Keras model\n",
    "    \"\"\"\n",
    "    # As mentioned above, we are using the team's label encoded values as inputs\n",
    "    team_a = Input(shape=(len(features),), name='team_a')\n",
    "    team_b = Input(shape=(len(features),), name='team_b')\n",
    "\n",
    "    # Embedding layers for two labels\n",
    "    team_a_embedding = Embedding(num_teams, embedding_dim, input_length=1, name='team_a_embedding')(team_a)\n",
    "    team_b_embedding = Embedding(num_teams, embedding_dim, input_length=1, name='team_b_embedding')(team_b)\n",
    "    \n",
    "    # Flatten and concatenate the layers.\n",
    "    team_a_flat = Flatten()(team_a_embedding)\n",
    "    team_b_flat = Flatten()(team_b_embedding)\n",
    "    team_a_b = Concatenate()([team_a_flat, team_b_flat])\n",
    "    \n",
    "    # Leverage some dense layers to extract data \n",
    "    dense_1 = Dense(256, activation='relu')(team_a_b)\n",
    "    dense_2 = Dense(128, activation='relu')(dense_1)\n",
    "    # We are using a linear activation on the final layer as we are predicting the score_diff\n",
    "    output_layer = Dense(1, activation='linear', name='output')(dense_2)\n",
    "\n",
    "    # Finalize the model by defining inputs/outputs and compiliation details\n",
    "    model = Model(inputs=[team_a, team_b], outputs=output_layer)\n",
    "    adam = Adam(learning_rate=5e-5)\n",
    "    model.compile(optimizer=adam, loss='mse', metrics=['mae'])\n",
    "    \n",
    "    return model"
   ]
  },
  {
   "cell_type": "code",
   "execution_count": 553,
   "id": "8a79a81f",
   "metadata": {},
   "outputs": [
    {
     "name": "stdout",
     "output_type": "stream",
     "text": [
      "Model: \"model_15\"\n",
      "__________________________________________________________________________________________________\n",
      " Layer (type)                Output Shape                 Param #   Connected to                  \n",
      "==================================================================================================\n",
      " team_a (InputLayer)         [(None, 15)]                 0         []                            \n",
      "                                                                                                  \n",
      " team_b (InputLayer)         [(None, 15)]                 0         []                            \n",
      "                                                                                                  \n",
      " team_a_embedding (Embeddin  (None, 15, 64)               23616     ['team_a[0][0]']              \n",
      " g)                                                                                               \n",
      "                                                                                                  \n",
      " team_b_embedding (Embeddin  (None, 15, 64)               23616     ['team_b[0][0]']              \n",
      " g)                                                                                               \n",
      "                                                                                                  \n",
      " flatten_30 (Flatten)        (None, 960)                  0         ['team_a_embedding[0][0]']    \n",
      "                                                                                                  \n",
      " flatten_31 (Flatten)        (None, 960)                  0         ['team_b_embedding[0][0]']    \n",
      "                                                                                                  \n",
      " concatenate_15 (Concatenat  (None, 1920)                 0         ['flatten_30[0][0]',          \n",
      " e)                                                                  'flatten_31[0][0]']          \n",
      "                                                                                                  \n",
      " dense_28 (Dense)            (None, 256)                  491776    ['concatenate_15[0][0]']      \n",
      "                                                                                                  \n",
      " dense_29 (Dense)            (None, 128)                  32896     ['dense_28[0][0]']            \n",
      "                                                                                                  \n",
      " output (Dense)              (None, 1)                    129       ['dense_29[0][0]']            \n",
      "                                                                                                  \n",
      "==================================================================================================\n",
      "Total params: 572033 (2.18 MB)\n",
      "Trainable params: 572033 (2.18 MB)\n",
      "Non-trainable params: 0 (0.00 Byte)\n",
      "__________________________________________________________________________________________________\n"
     ]
    }
   ],
   "source": [
    "adv_model = get_model()\n",
    "adv_model.summary()"
   ]
  },
  {
   "cell_type": "code",
   "execution_count": 555,
   "id": "29b8d757",
   "metadata": {
    "scrolled": true
   },
   "outputs": [
    {
     "name": "stdout",
     "output_type": "stream",
     "text": [
      "2384/2384 [==============================] - 16s 7ms/step - loss: 0.1304 - mae: 0.1566 - val_loss: 0.2735 - val_mae: 0.2490\n"
     ]
    },
    {
     "data": {
      "text/plain": [
       "<keras.src.callbacks.History at 0x7fdf889c49a0>"
      ]
     },
     "execution_count": 555,
     "metadata": {},
     "output_type": "execute_result"
    }
   ],
   "source": [
    "adv_model.fit(\n",
    "    [team_a_df[features], team_b_df[features]],\n",
    "    target_score_differential,\n",
    "    batch_size=32,\n",
    "    epochs=1,\n",
    "    validation_split=0.3\n",
    ")"
   ]
  },
  {
   "cell_type": "code",
   "execution_count": 556,
   "id": "d7953348",
   "metadata": {},
   "outputs": [],
   "source": [
    "adv_model.save(\"./data/final_model_last6_games.h5\")"
   ]
  },
  {
   "cell_type": "code",
   "execution_count": 557,
   "id": "d8b25af9",
   "metadata": {},
   "outputs": [
    {
     "name": "stdout",
     "output_type": "stream",
     "text": [
      "176/176 [==============================] - 0s 2ms/step\n"
     ]
    }
   ],
   "source": [
    "prediction_score_differential = adv_model.predict([test_team_a_df[features], test_team_b_df[features]])\n",
    "prediction_score_differential = prediction_score_differential.flatten()"
   ]
  },
  {
   "cell_type": "code",
   "execution_count": 558,
   "id": "f86813d3",
   "metadata": {},
   "outputs": [],
   "source": [
    "actual_score_differential = []\n",
    "for index, (row_a, row_b) in enumerate(zip(test_team_a_df.iterrows(), test_team_b_df.iterrows())):\n",
    "    index_a, data_a = row_a\n",
    "    index_b, data_b = row_b\n",
    "    score_differential = data_a['WScore'] - data_b['WScore']\n",
    "    actual_score_differential.append(score_differential)\n",
    "#     print(f\"Row {index+1}: => Score Differential: {score_differential}\")"
   ]
  },
  {
   "cell_type": "code",
   "execution_count": 559,
   "id": "4f8be935",
   "metadata": {},
   "outputs": [
    {
     "name": "stdout",
     "output_type": "stream",
     "text": [
      "The accuracy over the 2024 regular season is: 99.98216515070447% given the score is known\n"
     ]
    }
   ],
   "source": [
    "count = 0\n",
    "for x, y in zip(actual_score_differential, prediction_score_differential):\n",
    "    if x<0 and y<0:\n",
    "        count += 1\n",
    "    if x>0 and y>0:\n",
    "        count+=1\n",
    "        \n",
    "print(f\"The accuracy over the 2024 regular season is: {(float(count)/len(actual_score_differential))*100.0}% given the score is known\")"
   ]
  },
  {
   "cell_type": "code",
   "execution_count": 560,
   "id": "30971514",
   "metadata": {},
   "outputs": [],
   "source": [
    "teams_in_2024 = list(set(test_team_a_df.WTeamID.to_list() + test_team_b_df.WTeamID.to_list()))"
   ]
  },
  {
   "cell_type": "code",
   "execution_count": 561,
   "id": "6edf5cc9",
   "metadata": {},
   "outputs": [],
   "source": [
    "season_23_data_team_a_df = team_a_df\n",
    "season_23_data_team_b_df = team_b_df\n",
    "# removed WScore\n",
    "features_for_averaging = ['WFGM', 'WFGA', 'WFGM3', 'WFGA3', 'WFTM', 'WFTA', 'WOR', 'WDR', 'WAst', 'WTO', 'WStl', 'WBlk', 'WPF', 'WTS']"
   ]
  },
  {
   "cell_type": "code",
   "execution_count": 562,
   "id": "e165d7f4",
   "metadata": {},
   "outputs": [
    {
     "data": {
      "text/plain": [
       "14"
      ]
     },
     "execution_count": 562,
     "metadata": {},
     "output_type": "execute_result"
    }
   ],
   "source": [
    "len(features_for_averaging)"
   ]
  },
  {
   "cell_type": "code",
   "execution_count": 563,
   "id": "47976811",
   "metadata": {},
   "outputs": [
    {
     "data": {
      "text/plain": [
       "Index(['Season', 'DayNum', 'WTeamID', 'WScore', 'LTeamID', 'LScore', 'WLoc',\n",
       "       'NumOT', 'WFGM', 'WFGA', 'WFGM3', 'WFGA3', 'WFTM', 'WFTA', 'WOR', 'WDR',\n",
       "       'WAst', 'WTO', 'WStl', 'WBlk', 'WPF', 'LFGM', 'LFGA', 'LFGM3', 'LFGA3',\n",
       "       'LFTM', 'LFTA', 'LOR', 'LDR', 'LAst', 'LTO', 'LStl', 'LBlk', 'LPF'],\n",
       "      dtype='object')"
      ]
     },
     "execution_count": 563,
     "metadata": {},
     "output_type": "execute_result"
    }
   ],
   "source": [
    "sorted_all_season_gamewise = all_season_gamewise.sort_values(by='DayNum', ascending=False)\n",
    "sorted_all_season_gamewise.columns"
   ]
  },
  {
   "cell_type": "code",
   "execution_count": 568,
   "id": "b5511f16",
   "metadata": {},
   "outputs": [
    {
     "name": "stderr",
     "output_type": "stream",
     "text": [
      "100%|█████████████████████████████████████████| 362/362 [00:19<00:00, 18.46it/s]\n"
     ]
    }
   ],
   "source": [
    "teams_in_2024_average_stats = {}\n",
    "for team in tqdm(teams_in_2024):\n",
    "    df_tmp_if_a_team = season_23_data_team_a_df[season_23_data_team_a_df.WTeamID == team][features_for_averaging]\n",
    "    df_tmp_if_b_team = season_23_data_team_b_df[season_23_data_team_b_df.WTeamID == team][features_for_averaging]\n",
    "    average_if_a_team = df_tmp_if_a_team.iloc[:3,:].describe().mean().values\n",
    "    average_if_b_team = df_tmp_if_b_team.iloc[:3,:].describe().mean().values\n",
    "    overall_average = (average_if_a_team + average_if_b_team)/2.0\n",
    "    teams_in_2024_average_stats[team] = overall_average\n",
    "\n",
    "# teams_in_2024_average_stats = {}\n",
    "# for team in teams_in_2024:"
   ]
  },
  {
   "cell_type": "code",
   "execution_count": 569,
   "id": "d0562d65",
   "metadata": {
    "scrolled": true
   },
   "outputs": [
    {
     "name": "stderr",
     "output_type": "stream",
     "text": [
      "100%|███████████████████████████████████████| 5607/5607 [06:06<00:00, 15.28it/s]\n"
     ]
    }
   ],
   "source": [
    "prediction_score_differential = []\n",
    "teamsA = test_team_a_df.WTeamID.to_list()\n",
    "teamsB = test_team_b_df.WTeamID.to_list()\n",
    "for team_a, team_b in tqdm(zip(teamsA, teamsB), total=len(test_team_a_df)):\n",
    "    team_a_features = np.concatenate([labelEncoder.transform([team_a]),teams_in_2024_average_stats[team_a]])\n",
    "    team_b_features = np.concatenate([labelEncoder.transform([team_b]),teams_in_2024_average_stats[team_b]])\n",
    "    prediction = adv_model.predict([np.reshape(team_a_features, (1,15)), \n",
    "                             np.reshape(team_b_features, (1,15))], verbose=False)\n",
    "    prediction_score_differential.append(prediction)"
   ]
  },
  {
   "cell_type": "code",
   "execution_count": 570,
   "id": "c83153f9",
   "metadata": {},
   "outputs": [],
   "source": [
    "actual_score_differential = []\n",
    "for index, (row_a, row_b) in enumerate(zip(test_team_a_df.iterrows(), test_team_b_df.iterrows())):\n",
    "    index_a, data_a = row_a\n",
    "    index_b, data_b = row_b\n",
    "    score_differential = data_a['WScore'] - data_b['WScore']\n",
    "    actual_score_differential.append(score_differential)\n",
    "#     print(f\"Row {index+1}: => Score Differential: {score_differential}\")"
   ]
  },
  {
   "cell_type": "code",
   "execution_count": 571,
   "id": "a07d8458",
   "metadata": {},
   "outputs": [
    {
     "name": "stdout",
     "output_type": "stream",
     "text": [
      "The accuracy over the 2024 regular season is: 53.95041911895845% where average score of previous regular season is taken\n"
     ]
    }
   ],
   "source": [
    "count = 0\n",
    "for x, y in zip(actual_score_differential, prediction_score_differential):\n",
    "    if x<0 and y<0:\n",
    "        count += 1\n",
    "    if x>0 and y>0:\n",
    "        count+=1\n",
    "        \n",
    "print(f\"The accuracy over the 2024 regular season is: {(float(count)/len(actual_score_differential))*100.0}% where average score of previous regular season is taken\")"
   ]
  },
  {
   "cell_type": "code",
   "execution_count": 572,
   "id": "335ed169",
   "metadata": {},
   "outputs": [],
   "source": [
    "mens_team = pd.read_csv(\"./data/MTeams.csv\")"
   ]
  },
  {
   "cell_type": "code",
   "execution_count": 573,
   "id": "05564ba2",
   "metadata": {},
   "outputs": [],
   "source": [
    "team_ids_to_name = {}\n",
    "team_name_to_ids = {}\n",
    "for x, y in zip(mens_team.TeamName.to_list(), mens_team.TeamID.to_list()):\n",
    "    team_ids_to_name[y] = x\n",
    "    team_name_to_ids[x] = y"
   ]
  },
  {
   "cell_type": "code",
   "execution_count": 574,
   "id": "4c9b4e1a",
   "metadata": {},
   "outputs": [],
   "source": [
    "# 64 seeded teams\n",
    "\n",
    "# These teams won the First four matches\n",
    "# Boise St -> Colorado\n",
    "# Howard -> Wagner\n",
    "\n",
    "teams_2024_ncaa = pd.read_csv(\"./data/2024_tourney_seeds.csv\")\n",
    "list_of_team_ids = teams_2024_ncaa[teams_2024_ncaa.Tournament == 'M'].TeamID.to_list()\n",
    "list_of_team_names = [team_ids_to_name[x] for x in list_of_team_ids]\n",
    "list_of_team_names = ['Colorado' if x == 'Boise St' else x for x in list_of_team_names]\n",
    "list_of_team_names = ['Wagner' if x == 'Howard' else x for x in list_of_team_names]\n",
    "list_of_team_ids = [team_name_to_ids[x] for x in list_of_team_names]"
   ]
  },
  {
   "cell_type": "code",
   "execution_count": 575,
   "id": "c06516a3",
   "metadata": {},
   "outputs": [
    {
     "data": {
      "text/plain": [
       "['Connecticut', 'Iowa St', 'Illinois', 'Auburn', 'San Diego St']"
      ]
     },
     "execution_count": 575,
     "metadata": {},
     "output_type": "execute_result"
    }
   ],
   "source": [
    "list_of_team_names[:5]"
   ]
  },
  {
   "cell_type": "code",
   "execution_count": 577,
   "id": "cf7fe861",
   "metadata": {
    "scrolled": true
   },
   "outputs": [
    {
     "name": "stderr",
     "output_type": "stream",
     "text": [
      "100%|███████████████████████████████████████████| 64/64 [02:13<00:00,  2.08s/it]"
     ]
    },
    {
     "name": "stdout",
     "output_type": "stream",
     "text": [
      "2016\n"
     ]
    },
    {
     "name": "stderr",
     "output_type": "stream",
     "text": [
      "\n"
     ]
    }
   ],
   "source": [
    "total_teams = 64\n",
    "TeamA_ID = []\n",
    "TeamA_Name = []\n",
    "TeamB_ID = []\n",
    "TeamB_Name = []\n",
    "Is_TeamA_winner = []\n",
    "count = 0\n",
    "for i in tqdm(range(total_teams)):\n",
    "    for j in range(i+1, total_teams):\n",
    "        count += 1\n",
    "        TeamA_ID.append(list_of_team_ids[i])\n",
    "        TeamA_Name.append(team_ids_to_name[list_of_team_ids[i]])\n",
    "        TeamB_ID.append(list_of_team_ids[j])\n",
    "        TeamB_Name.append(team_ids_to_name[list_of_team_ids[j]])\n",
    "        \n",
    "        TeamA_ID.append(list_of_team_ids[j])\n",
    "        TeamA_Name.append(team_ids_to_name[list_of_team_ids[j]])\n",
    "        TeamB_ID.append(list_of_team_ids[i])\n",
    "        TeamB_Name.append(team_ids_to_name[list_of_team_ids[i]])\n",
    "        \n",
    "        team_a_features = np.concatenate([labelEncoder.transform([list_of_team_ids[i]]),teams_in_2024_average_stats[list_of_team_ids[i]]])\n",
    "        team_b_features = np.concatenate([labelEncoder.transform([list_of_team_ids[j]]),teams_in_2024_average_stats[list_of_team_ids[j]]])\n",
    "        prediction = adv_model.predict([np.reshape(team_a_features, (1,15)), \n",
    "                             np.reshape(team_b_features, (1,15))], verbose=False)\n",
    "        if prediction > 0:\n",
    "            Is_TeamA_winner.append(1)\n",
    "            Is_TeamA_winner.append(0)\n",
    "        else:\n",
    "            Is_TeamA_winner.append(0)\n",
    "            Is_TeamA_winner.append(1)\n",
    "print(count)"
   ]
  },
  {
   "cell_type": "code",
   "execution_count": 578,
   "id": "874ab17c",
   "metadata": {},
   "outputs": [],
   "source": [
    "final_submission = pd.DataFrame({'TeamA_ID': TeamA_ID, 'TeamA_Name': TeamA_Name, 'TeamB_ID': TeamB_ID,\n",
    "                                'TeamB_Name': TeamB_Name, 'Is_TeamA_winner': Is_TeamA_winner})"
   ]
  },
  {
   "cell_type": "code",
   "execution_count": 579,
   "id": "6e447dac",
   "metadata": {},
   "outputs": [
    {
     "data": {
      "text/html": [
       "<div>\n",
       "<style scoped>\n",
       "    .dataframe tbody tr th:only-of-type {\n",
       "        vertical-align: middle;\n",
       "    }\n",
       "\n",
       "    .dataframe tbody tr th {\n",
       "        vertical-align: top;\n",
       "    }\n",
       "\n",
       "    .dataframe thead th {\n",
       "        text-align: right;\n",
       "    }\n",
       "</style>\n",
       "<table border=\"1\" class=\"dataframe\">\n",
       "  <thead>\n",
       "    <tr style=\"text-align: right;\">\n",
       "      <th></th>\n",
       "      <th>TeamA_ID</th>\n",
       "      <th>TeamA_Name</th>\n",
       "      <th>TeamB_ID</th>\n",
       "      <th>TeamB_Name</th>\n",
       "      <th>Is_TeamA_winner</th>\n",
       "    </tr>\n",
       "  </thead>\n",
       "  <tbody>\n",
       "    <tr>\n",
       "      <th>0</th>\n",
       "      <td>1103</td>\n",
       "      <td>Akron</td>\n",
       "      <td>1124</td>\n",
       "      <td>Baylor</td>\n",
       "      <td>1</td>\n",
       "    </tr>\n",
       "    <tr>\n",
       "      <th>1</th>\n",
       "      <td>1103</td>\n",
       "      <td>Akron</td>\n",
       "      <td>1228</td>\n",
       "      <td>Illinois</td>\n",
       "      <td>1</td>\n",
       "    </tr>\n",
       "    <tr>\n",
       "      <th>2</th>\n",
       "      <td>1103</td>\n",
       "      <td>Akron</td>\n",
       "      <td>1395</td>\n",
       "      <td>TCU</td>\n",
       "      <td>1</td>\n",
       "    </tr>\n",
       "    <tr>\n",
       "      <th>3</th>\n",
       "      <td>1103</td>\n",
       "      <td>Akron</td>\n",
       "      <td>1314</td>\n",
       "      <td>North Carolina</td>\n",
       "      <td>1</td>\n",
       "    </tr>\n",
       "    <tr>\n",
       "      <th>4</th>\n",
       "      <td>1103</td>\n",
       "      <td>Akron</td>\n",
       "      <td>1161</td>\n",
       "      <td>Colorado St</td>\n",
       "      <td>1</td>\n",
       "    </tr>\n",
       "    <tr>\n",
       "      <th>...</th>\n",
       "      <td>...</td>\n",
       "      <td>...</td>\n",
       "      <td>...</td>\n",
       "      <td>...</td>\n",
       "      <td>...</td>\n",
       "    </tr>\n",
       "    <tr>\n",
       "      <th>4027</th>\n",
       "      <td>1463</td>\n",
       "      <td>Yale</td>\n",
       "      <td>1436</td>\n",
       "      <td>Vermont</td>\n",
       "      <td>1</td>\n",
       "    </tr>\n",
       "    <tr>\n",
       "      <th>4028</th>\n",
       "      <td>1463</td>\n",
       "      <td>Yale</td>\n",
       "      <td>1447</td>\n",
       "      <td>Wagner</td>\n",
       "      <td>0</td>\n",
       "    </tr>\n",
       "    <tr>\n",
       "      <th>4029</th>\n",
       "      <td>1463</td>\n",
       "      <td>Yale</td>\n",
       "      <td>1196</td>\n",
       "      <td>Florida</td>\n",
       "      <td>1</td>\n",
       "    </tr>\n",
       "    <tr>\n",
       "      <th>4030</th>\n",
       "      <td>1463</td>\n",
       "      <td>Yale</td>\n",
       "      <td>1120</td>\n",
       "      <td>Auburn</td>\n",
       "      <td>1</td>\n",
       "    </tr>\n",
       "    <tr>\n",
       "      <th>4031</th>\n",
       "      <td>1463</td>\n",
       "      <td>Yale</td>\n",
       "      <td>1163</td>\n",
       "      <td>Connecticut</td>\n",
       "      <td>1</td>\n",
       "    </tr>\n",
       "  </tbody>\n",
       "</table>\n",
       "<p>4032 rows × 5 columns</p>\n",
       "</div>"
      ],
      "text/plain": [
       "      TeamA_ID TeamA_Name  TeamB_ID      TeamB_Name  Is_TeamA_winner\n",
       "0         1103      Akron      1124          Baylor                1\n",
       "1         1103      Akron      1228        Illinois                1\n",
       "2         1103      Akron      1395             TCU                1\n",
       "3         1103      Akron      1314  North Carolina                1\n",
       "4         1103      Akron      1161     Colorado St                1\n",
       "...        ...        ...       ...             ...              ...\n",
       "4027      1463       Yale      1436         Vermont                1\n",
       "4028      1463       Yale      1447          Wagner                0\n",
       "4029      1463       Yale      1196         Florida                1\n",
       "4030      1463       Yale      1120          Auburn                1\n",
       "4031      1463       Yale      1163     Connecticut                1\n",
       "\n",
       "[4032 rows x 5 columns]"
      ]
     },
     "execution_count": 579,
     "metadata": {},
     "output_type": "execute_result"
    }
   ],
   "source": [
    "final_submission = final_submission.sort_values(by=['TeamA_ID']).reset_index(drop=True)\n",
    "final_submission"
   ]
  },
  {
   "cell_type": "code",
   "execution_count": 501,
   "id": "3a11adf3",
   "metadata": {},
   "outputs": [
    {
     "data": {
      "text/html": [
       "<div>\n",
       "<style scoped>\n",
       "    .dataframe tbody tr th:only-of-type {\n",
       "        vertical-align: middle;\n",
       "    }\n",
       "\n",
       "    .dataframe tbody tr th {\n",
       "        vertical-align: top;\n",
       "    }\n",
       "\n",
       "    .dataframe thead th {\n",
       "        text-align: right;\n",
       "    }\n",
       "</style>\n",
       "<table border=\"1\" class=\"dataframe\">\n",
       "  <thead>\n",
       "    <tr style=\"text-align: right;\">\n",
       "      <th></th>\n",
       "      <th>TeamA_ID</th>\n",
       "      <th>TeamA_Name</th>\n",
       "      <th>TeamB_ID</th>\n",
       "      <th>TeamB_Name</th>\n",
       "      <th>Is_TeamA_winner</th>\n",
       "    </tr>\n",
       "  </thead>\n",
       "  <tbody>\n",
       "    <tr>\n",
       "      <th>0</th>\n",
       "      <td>1103</td>\n",
       "      <td>Akron</td>\n",
       "      <td>1124</td>\n",
       "      <td>Baylor</td>\n",
       "      <td>0</td>\n",
       "    </tr>\n",
       "    <tr>\n",
       "      <th>1</th>\n",
       "      <td>1103</td>\n",
       "      <td>Akron</td>\n",
       "      <td>1228</td>\n",
       "      <td>Illinois</td>\n",
       "      <td>0</td>\n",
       "    </tr>\n",
       "    <tr>\n",
       "      <th>2</th>\n",
       "      <td>1103</td>\n",
       "      <td>Akron</td>\n",
       "      <td>1395</td>\n",
       "      <td>TCU</td>\n",
       "      <td>1</td>\n",
       "    </tr>\n",
       "    <tr>\n",
       "      <th>3</th>\n",
       "      <td>1103</td>\n",
       "      <td>Akron</td>\n",
       "      <td>1314</td>\n",
       "      <td>North Carolina</td>\n",
       "      <td>1</td>\n",
       "    </tr>\n",
       "    <tr>\n",
       "      <th>4</th>\n",
       "      <td>1103</td>\n",
       "      <td>Akron</td>\n",
       "      <td>1161</td>\n",
       "      <td>Colorado St</td>\n",
       "      <td>0</td>\n",
       "    </tr>\n",
       "    <tr>\n",
       "      <th>...</th>\n",
       "      <td>...</td>\n",
       "      <td>...</td>\n",
       "      <td>...</td>\n",
       "      <td>...</td>\n",
       "      <td>...</td>\n",
       "    </tr>\n",
       "    <tr>\n",
       "      <th>4027</th>\n",
       "      <td>1463</td>\n",
       "      <td>Yale</td>\n",
       "      <td>1436</td>\n",
       "      <td>Vermont</td>\n",
       "      <td>1</td>\n",
       "    </tr>\n",
       "    <tr>\n",
       "      <th>4028</th>\n",
       "      <td>1463</td>\n",
       "      <td>Yale</td>\n",
       "      <td>1447</td>\n",
       "      <td>Wagner</td>\n",
       "      <td>1</td>\n",
       "    </tr>\n",
       "    <tr>\n",
       "      <th>4029</th>\n",
       "      <td>1463</td>\n",
       "      <td>Yale</td>\n",
       "      <td>1196</td>\n",
       "      <td>Florida</td>\n",
       "      <td>1</td>\n",
       "    </tr>\n",
       "    <tr>\n",
       "      <th>4030</th>\n",
       "      <td>1463</td>\n",
       "      <td>Yale</td>\n",
       "      <td>1120</td>\n",
       "      <td>Auburn</td>\n",
       "      <td>0</td>\n",
       "    </tr>\n",
       "    <tr>\n",
       "      <th>4031</th>\n",
       "      <td>1463</td>\n",
       "      <td>Yale</td>\n",
       "      <td>1163</td>\n",
       "      <td>Connecticut</td>\n",
       "      <td>0</td>\n",
       "    </tr>\n",
       "  </tbody>\n",
       "</table>\n",
       "<p>4032 rows × 5 columns</p>\n",
       "</div>"
      ],
      "text/plain": [
       "      TeamA_ID TeamA_Name  TeamB_ID      TeamB_Name  Is_TeamA_winner\n",
       "0         1103      Akron      1124          Baylor                0\n",
       "1         1103      Akron      1228        Illinois                0\n",
       "2         1103      Akron      1395             TCU                1\n",
       "3         1103      Akron      1314  North Carolina                1\n",
       "4         1103      Akron      1161     Colorado St                0\n",
       "...        ...        ...       ...             ...              ...\n",
       "4027      1463       Yale      1436         Vermont                1\n",
       "4028      1463       Yale      1447          Wagner                1\n",
       "4029      1463       Yale      1196         Florida                1\n",
       "4030      1463       Yale      1120          Auburn                0\n",
       "4031      1463       Yale      1163     Connecticut                0\n",
       "\n",
       "[4032 rows x 5 columns]"
      ]
     },
     "execution_count": 501,
     "metadata": {},
     "output_type": "execute_result"
    }
   ],
   "source": [
    "final_submission = final_submission.sort_values(by=['TeamA_ID']).reset_index(drop=True)\n",
    "final_submission"
   ]
  },
  {
   "cell_type": "code",
   "execution_count": 580,
   "id": "98f411b3",
   "metadata": {},
   "outputs": [],
   "source": [
    "final_submission.to_csv(\"./data/Final_brackets_submission_1.csv\", index=False)"
   ]
  },
  {
   "cell_type": "code",
   "execution_count": 415,
   "id": "d5f526ef",
   "metadata": {},
   "outputs": [],
   "source": [
    "# testing for matches played on 19 March\n",
    "# Howard = 1224\n",
    "# Wagner = 1447"
   ]
  },
  {
   "cell_type": "code",
   "execution_count": 470,
   "id": "56c9805a",
   "metadata": {},
   "outputs": [
    {
     "data": {
      "text/plain": [
       "1213"
      ]
     },
     "execution_count": 470,
     "metadata": {},
     "output_type": "execute_result"
    }
   ],
   "source": [
    "team_name_to_ids['Grand Canyon']"
   ]
  },
  {
   "cell_type": "code",
   "execution_count": 471,
   "id": "8b05bf5f",
   "metadata": {},
   "outputs": [
    {
     "data": {
      "text/plain": [
       "1266"
      ]
     },
     "execution_count": 471,
     "metadata": {},
     "output_type": "execute_result"
    }
   ],
   "source": [
    "team_name_to_ids['Marquette']"
   ]
  },
  {
   "cell_type": "code",
   "execution_count": 476,
   "id": "7900ae8f",
   "metadata": {},
   "outputs": [
    {
     "data": {
      "text/plain": [
       "array([[-3.0033898]], dtype=float32)"
      ]
     },
     "execution_count": 476,
     "metadata": {},
     "output_type": "execute_result"
    }
   ],
   "source": [
    "team_a_features = np.concatenate([labelEncoder.transform([1213]),teams_in_2024_average_stats[1213]])\n",
    "team_b_features = np.concatenate([labelEncoder.transform([1266]),teams_in_2024_average_stats[1266]])\n",
    "adv_model.predict([np.reshape(team_b_features, (1,16)), np.reshape(team_a_features, (1,16))], verbose=False)"
   ]
  },
  {
   "cell_type": "code",
   "execution_count": 477,
   "id": "2ee427cb",
   "metadata": {},
   "outputs": [
    {
     "data": {
      "text/plain": [
       "array([[6.366941]], dtype=float32)"
      ]
     },
     "execution_count": 477,
     "metadata": {},
     "output_type": "execute_result"
    }
   ],
   "source": [
    "team_a_features = np.concatenate([labelEncoder.transform([1213]),teams_in_2024_average_stats[1213]])\n",
    "team_b_features = np.concatenate([labelEncoder.transform([1266]),teams_in_2024_average_stats[1266]])\n",
    "adv_model.predict([np.reshape(team_a_features, (1,16)), np.reshape(team_b_features, (1,16))], verbose=False)"
   ]
  },
  {
   "cell_type": "code",
   "execution_count": 478,
   "id": "68eed067",
   "metadata": {},
   "outputs": [
    {
     "data": {
      "text/plain": [
       "array([108.        ,  73.63675988,  37.51353254,  61.34776722,\n",
       "        24.17327798,  34.23797584,  30.97376101,  35.45867427,\n",
       "        26.10663985,  37.52541967,  28.79420289,  27.78165225,\n",
       "        22.88896244,  20.64161541,  31.637165  ,  18.49003557])"
      ]
     },
     "execution_count": 478,
     "metadata": {},
     "output_type": "execute_result"
    }
   ],
   "source": [
    "# Grand Canyon\n",
    "team_a_features"
   ]
  },
  {
   "cell_type": "code",
   "execution_count": 479,
   "id": "116b91c3",
   "metadata": {},
   "outputs": [
    {
     "data": {
      "text/plain": [
       "array([160.        ,  99.68841161,  62.80351195,  86.35031316,\n",
       "        49.07254804,  58.87724818,  55.77685437,  60.52733221,\n",
       "        51.64984974,  61.5047744 ,  54.86108744,  53.28371402,\n",
       "        48.97278062,  46.02113856,  56.26524661,  43.04977478])"
      ]
     },
     "execution_count": 479,
     "metadata": {},
     "output_type": "execute_result"
    }
   ],
   "source": [
    "# Marquette\n",
    "team_b_features"
   ]
  },
  {
   "cell_type": "code",
   "execution_count": 583,
   "id": "e34d9903",
   "metadata": {},
   "outputs": [
    {
     "data": {
      "text/html": [
       "<div>\n",
       "<style scoped>\n",
       "    .dataframe tbody tr th:only-of-type {\n",
       "        vertical-align: middle;\n",
       "    }\n",
       "\n",
       "    .dataframe tbody tr th {\n",
       "        vertical-align: top;\n",
       "    }\n",
       "\n",
       "    .dataframe thead th {\n",
       "        text-align: right;\n",
       "    }\n",
       "</style>\n",
       "<table border=\"1\" class=\"dataframe\">\n",
       "  <thead>\n",
       "    <tr style=\"text-align: right;\">\n",
       "      <th></th>\n",
       "      <th>TeamA_ID</th>\n",
       "      <th>TeamA_Name</th>\n",
       "      <th>TeamB_ID</th>\n",
       "      <th>TeamB_Name</th>\n",
       "      <th>Is_TeamA_winner</th>\n",
       "    </tr>\n",
       "  </thead>\n",
       "  <tbody>\n",
       "    <tr>\n",
       "      <th>693</th>\n",
       "      <td>1163</td>\n",
       "      <td>Connecticut</td>\n",
       "      <td>1235</td>\n",
       "      <td>Iowa St</td>\n",
       "      <td>0</td>\n",
       "    </tr>\n",
       "    <tr>\n",
       "      <th>694</th>\n",
       "      <td>1163</td>\n",
       "      <td>Connecticut</td>\n",
       "      <td>1160</td>\n",
       "      <td>Colorado</td>\n",
       "      <td>0</td>\n",
       "    </tr>\n",
       "    <tr>\n",
       "      <th>695</th>\n",
       "      <td>1163</td>\n",
       "      <td>Connecticut</td>\n",
       "      <td>1161</td>\n",
       "      <td>Colorado St</td>\n",
       "      <td>0</td>\n",
       "    </tr>\n",
       "    <tr>\n",
       "      <th>696</th>\n",
       "      <td>1163</td>\n",
       "      <td>Connecticut</td>\n",
       "      <td>1332</td>\n",
       "      <td>Oregon</td>\n",
       "      <td>0</td>\n",
       "    </tr>\n",
       "    <tr>\n",
       "      <th>697</th>\n",
       "      <td>1163</td>\n",
       "      <td>Connecticut</td>\n",
       "      <td>1270</td>\n",
       "      <td>McNeese St</td>\n",
       "      <td>1</td>\n",
       "    </tr>\n",
       "    <tr>\n",
       "      <th>698</th>\n",
       "      <td>1163</td>\n",
       "      <td>Connecticut</td>\n",
       "      <td>1359</td>\n",
       "      <td>Samford</td>\n",
       "      <td>1</td>\n",
       "    </tr>\n",
       "    <tr>\n",
       "      <th>699</th>\n",
       "      <td>1163</td>\n",
       "      <td>Connecticut</td>\n",
       "      <td>1103</td>\n",
       "      <td>Akron</td>\n",
       "      <td>0</td>\n",
       "    </tr>\n",
       "    <tr>\n",
       "      <th>700</th>\n",
       "      <td>1163</td>\n",
       "      <td>Connecticut</td>\n",
       "      <td>1389</td>\n",
       "      <td>St Peter's</td>\n",
       "      <td>1</td>\n",
       "    </tr>\n",
       "    <tr>\n",
       "      <th>701</th>\n",
       "      <td>1163</td>\n",
       "      <td>Connecticut</td>\n",
       "      <td>1212</td>\n",
       "      <td>Grambling</td>\n",
       "      <td>1</td>\n",
       "    </tr>\n",
       "    <tr>\n",
       "      <th>702</th>\n",
       "      <td>1163</td>\n",
       "      <td>Connecticut</td>\n",
       "      <td>1222</td>\n",
       "      <td>Houston</td>\n",
       "      <td>1</td>\n",
       "    </tr>\n",
       "    <tr>\n",
       "      <th>703</th>\n",
       "      <td>1163</td>\n",
       "      <td>Connecticut</td>\n",
       "      <td>1182</td>\n",
       "      <td>Duquesne</td>\n",
       "      <td>0</td>\n",
       "    </tr>\n",
       "    <tr>\n",
       "      <th>704</th>\n",
       "      <td>1163</td>\n",
       "      <td>Connecticut</td>\n",
       "      <td>1266</td>\n",
       "      <td>Marquette</td>\n",
       "      <td>1</td>\n",
       "    </tr>\n",
       "    <tr>\n",
       "      <th>705</th>\n",
       "      <td>1163</td>\n",
       "      <td>Connecticut</td>\n",
       "      <td>1246</td>\n",
       "      <td>Kentucky</td>\n",
       "      <td>0</td>\n",
       "    </tr>\n",
       "    <tr>\n",
       "      <th>706</th>\n",
       "      <td>1163</td>\n",
       "      <td>Connecticut</td>\n",
       "      <td>1395</td>\n",
       "      <td>TCU</td>\n",
       "      <td>1</td>\n",
       "    </tr>\n",
       "    <tr>\n",
       "      <th>707</th>\n",
       "      <td>1163</td>\n",
       "      <td>Connecticut</td>\n",
       "      <td>1181</td>\n",
       "      <td>Duke</td>\n",
       "      <td>0</td>\n",
       "    </tr>\n",
       "    <tr>\n",
       "      <th>708</th>\n",
       "      <td>1163</td>\n",
       "      <td>Connecticut</td>\n",
       "      <td>1403</td>\n",
       "      <td>Texas Tech</td>\n",
       "      <td>0</td>\n",
       "    </tr>\n",
       "    <tr>\n",
       "      <th>709</th>\n",
       "      <td>1163</td>\n",
       "      <td>Connecticut</td>\n",
       "      <td>1179</td>\n",
       "      <td>Drake</td>\n",
       "      <td>0</td>\n",
       "    </tr>\n",
       "    <tr>\n",
       "      <th>710</th>\n",
       "      <td>1163</td>\n",
       "      <td>Connecticut</td>\n",
       "      <td>1196</td>\n",
       "      <td>Florida</td>\n",
       "      <td>1</td>\n",
       "    </tr>\n",
       "    <tr>\n",
       "      <th>711</th>\n",
       "      <td>1163</td>\n",
       "      <td>Connecticut</td>\n",
       "      <td>1304</td>\n",
       "      <td>Nebraska</td>\n",
       "      <td>1</td>\n",
       "    </tr>\n",
       "    <tr>\n",
       "      <th>712</th>\n",
       "      <td>1163</td>\n",
       "      <td>Connecticut</td>\n",
       "      <td>1401</td>\n",
       "      <td>Texas A&amp;M</td>\n",
       "      <td>0</td>\n",
       "    </tr>\n",
       "    <tr>\n",
       "      <th>713</th>\n",
       "      <td>1163</td>\n",
       "      <td>Connecticut</td>\n",
       "      <td>1463</td>\n",
       "      <td>Yale</td>\n",
       "      <td>0</td>\n",
       "    </tr>\n",
       "    <tr>\n",
       "      <th>714</th>\n",
       "      <td>1163</td>\n",
       "      <td>Connecticut</td>\n",
       "      <td>1301</td>\n",
       "      <td>NC State</td>\n",
       "      <td>0</td>\n",
       "    </tr>\n",
       "    <tr>\n",
       "      <th>715</th>\n",
       "      <td>1163</td>\n",
       "      <td>Connecticut</td>\n",
       "      <td>1241</td>\n",
       "      <td>James Madison</td>\n",
       "      <td>1</td>\n",
       "    </tr>\n",
       "    <tr>\n",
       "      <th>716</th>\n",
       "      <td>1163</td>\n",
       "      <td>Connecticut</td>\n",
       "      <td>1436</td>\n",
       "      <td>Vermont</td>\n",
       "      <td>1</td>\n",
       "    </tr>\n",
       "    <tr>\n",
       "      <th>717</th>\n",
       "      <td>1163</td>\n",
       "      <td>Connecticut</td>\n",
       "      <td>1324</td>\n",
       "      <td>Oakland</td>\n",
       "      <td>0</td>\n",
       "    </tr>\n",
       "    <tr>\n",
       "      <th>718</th>\n",
       "      <td>1163</td>\n",
       "      <td>Connecticut</td>\n",
       "      <td>1443</td>\n",
       "      <td>WKU</td>\n",
       "      <td>0</td>\n",
       "    </tr>\n",
       "    <tr>\n",
       "      <th>719</th>\n",
       "      <td>1163</td>\n",
       "      <td>Connecticut</td>\n",
       "      <td>1458</td>\n",
       "      <td>Wisconsin</td>\n",
       "      <td>1</td>\n",
       "    </tr>\n",
       "    <tr>\n",
       "      <th>720</th>\n",
       "      <td>1163</td>\n",
       "      <td>Connecticut</td>\n",
       "      <td>1255</td>\n",
       "      <td>Longwood</td>\n",
       "      <td>1</td>\n",
       "    </tr>\n",
       "    <tr>\n",
       "      <th>721</th>\n",
       "      <td>1163</td>\n",
       "      <td>Connecticut</td>\n",
       "      <td>1429</td>\n",
       "      <td>Utah St</td>\n",
       "      <td>1</td>\n",
       "    </tr>\n",
       "    <tr>\n",
       "      <th>722</th>\n",
       "      <td>1163</td>\n",
       "      <td>Connecticut</td>\n",
       "      <td>1376</td>\n",
       "      <td>South Carolina</td>\n",
       "      <td>1</td>\n",
       "    </tr>\n",
       "    <tr>\n",
       "      <th>723</th>\n",
       "      <td>1163</td>\n",
       "      <td>Connecticut</td>\n",
       "      <td>1287</td>\n",
       "      <td>Morehead St</td>\n",
       "      <td>1</td>\n",
       "    </tr>\n",
       "    <tr>\n",
       "      <th>724</th>\n",
       "      <td>1163</td>\n",
       "      <td>Connecticut</td>\n",
       "      <td>1355</td>\n",
       "      <td>S Dakota St</td>\n",
       "      <td>1</td>\n",
       "    </tr>\n",
       "    <tr>\n",
       "      <th>725</th>\n",
       "      <td>1163</td>\n",
       "      <td>Connecticut</td>\n",
       "      <td>1391</td>\n",
       "      <td>Stetson</td>\n",
       "      <td>1</td>\n",
       "    </tr>\n",
       "    <tr>\n",
       "      <th>726</th>\n",
       "      <td>1163</td>\n",
       "      <td>Connecticut</td>\n",
       "      <td>1314</td>\n",
       "      <td>North Carolina</td>\n",
       "      <td>1</td>\n",
       "    </tr>\n",
       "    <tr>\n",
       "      <th>727</th>\n",
       "      <td>1163</td>\n",
       "      <td>Connecticut</td>\n",
       "      <td>1112</td>\n",
       "      <td>Arizona</td>\n",
       "      <td>0</td>\n",
       "    </tr>\n",
       "    <tr>\n",
       "      <th>728</th>\n",
       "      <td>1163</td>\n",
       "      <td>Connecticut</td>\n",
       "      <td>1124</td>\n",
       "      <td>Baylor</td>\n",
       "      <td>0</td>\n",
       "    </tr>\n",
       "    <tr>\n",
       "      <th>729</th>\n",
       "      <td>1163</td>\n",
       "      <td>Connecticut</td>\n",
       "      <td>1104</td>\n",
       "      <td>Alabama</td>\n",
       "      <td>0</td>\n",
       "    </tr>\n",
       "    <tr>\n",
       "      <th>730</th>\n",
       "      <td>1163</td>\n",
       "      <td>Connecticut</td>\n",
       "      <td>1388</td>\n",
       "      <td>St Mary's CA</td>\n",
       "      <td>0</td>\n",
       "    </tr>\n",
       "    <tr>\n",
       "      <th>731</th>\n",
       "      <td>1163</td>\n",
       "      <td>Connecticut</td>\n",
       "      <td>1155</td>\n",
       "      <td>Clemson</td>\n",
       "      <td>0</td>\n",
       "    </tr>\n",
       "    <tr>\n",
       "      <th>732</th>\n",
       "      <td>1163</td>\n",
       "      <td>Connecticut</td>\n",
       "      <td>1173</td>\n",
       "      <td>Dayton</td>\n",
       "      <td>1</td>\n",
       "    </tr>\n",
       "    <tr>\n",
       "      <th>733</th>\n",
       "      <td>1163</td>\n",
       "      <td>Connecticut</td>\n",
       "      <td>1280</td>\n",
       "      <td>Mississippi St</td>\n",
       "      <td>1</td>\n",
       "    </tr>\n",
       "    <tr>\n",
       "      <th>734</th>\n",
       "      <td>1163</td>\n",
       "      <td>Connecticut</td>\n",
       "      <td>1400</td>\n",
       "      <td>Texas</td>\n",
       "      <td>1</td>\n",
       "    </tr>\n",
       "    <tr>\n",
       "      <th>735</th>\n",
       "      <td>1163</td>\n",
       "      <td>Connecticut</td>\n",
       "      <td>1277</td>\n",
       "      <td>Michigan St</td>\n",
       "      <td>0</td>\n",
       "    </tr>\n",
       "    <tr>\n",
       "      <th>736</th>\n",
       "      <td>1163</td>\n",
       "      <td>Connecticut</td>\n",
       "      <td>1307</td>\n",
       "      <td>New Mexico</td>\n",
       "      <td>0</td>\n",
       "    </tr>\n",
       "    <tr>\n",
       "      <th>737</th>\n",
       "      <td>1163</td>\n",
       "      <td>Connecticut</td>\n",
       "      <td>1213</td>\n",
       "      <td>Grand Canyon</td>\n",
       "      <td>1</td>\n",
       "    </tr>\n",
       "    <tr>\n",
       "      <th>738</th>\n",
       "      <td>1163</td>\n",
       "      <td>Connecticut</td>\n",
       "      <td>1158</td>\n",
       "      <td>Col Charleston</td>\n",
       "      <td>0</td>\n",
       "    </tr>\n",
       "    <tr>\n",
       "      <th>739</th>\n",
       "      <td>1163</td>\n",
       "      <td>Connecticut</td>\n",
       "      <td>1159</td>\n",
       "      <td>Colgate</td>\n",
       "      <td>1</td>\n",
       "    </tr>\n",
       "    <tr>\n",
       "      <th>740</th>\n",
       "      <td>1163</td>\n",
       "      <td>Connecticut</td>\n",
       "      <td>1253</td>\n",
       "      <td>Long Beach St</td>\n",
       "      <td>0</td>\n",
       "    </tr>\n",
       "    <tr>\n",
       "      <th>741</th>\n",
       "      <td>1163</td>\n",
       "      <td>Connecticut</td>\n",
       "      <td>1447</td>\n",
       "      <td>Wagner</td>\n",
       "      <td>0</td>\n",
       "    </tr>\n",
       "    <tr>\n",
       "      <th>742</th>\n",
       "      <td>1163</td>\n",
       "      <td>Connecticut</td>\n",
       "      <td>1345</td>\n",
       "      <td>Purdue</td>\n",
       "      <td>1</td>\n",
       "    </tr>\n",
       "    <tr>\n",
       "      <th>743</th>\n",
       "      <td>1163</td>\n",
       "      <td>Connecticut</td>\n",
       "      <td>1397</td>\n",
       "      <td>Tennessee</td>\n",
       "      <td>1</td>\n",
       "    </tr>\n",
       "    <tr>\n",
       "      <th>744</th>\n",
       "      <td>1163</td>\n",
       "      <td>Connecticut</td>\n",
       "      <td>1166</td>\n",
       "      <td>Creighton</td>\n",
       "      <td>0</td>\n",
       "    </tr>\n",
       "    <tr>\n",
       "      <th>745</th>\n",
       "      <td>1163</td>\n",
       "      <td>Connecticut</td>\n",
       "      <td>1242</td>\n",
       "      <td>Kansas</td>\n",
       "      <td>0</td>\n",
       "    </tr>\n",
       "    <tr>\n",
       "      <th>746</th>\n",
       "      <td>1163</td>\n",
       "      <td>Connecticut</td>\n",
       "      <td>1211</td>\n",
       "      <td>Gonzaga</td>\n",
       "      <td>0</td>\n",
       "    </tr>\n",
       "    <tr>\n",
       "      <th>747</th>\n",
       "      <td>1163</td>\n",
       "      <td>Connecticut</td>\n",
       "      <td>1305</td>\n",
       "      <td>Nevada</td>\n",
       "      <td>1</td>\n",
       "    </tr>\n",
       "    <tr>\n",
       "      <th>748</th>\n",
       "      <td>1163</td>\n",
       "      <td>Connecticut</td>\n",
       "      <td>1321</td>\n",
       "      <td>Northwestern</td>\n",
       "      <td>0</td>\n",
       "    </tr>\n",
       "    <tr>\n",
       "      <th>749</th>\n",
       "      <td>1163</td>\n",
       "      <td>Connecticut</td>\n",
       "      <td>1412</td>\n",
       "      <td>UAB</td>\n",
       "      <td>0</td>\n",
       "    </tr>\n",
       "    <tr>\n",
       "      <th>750</th>\n",
       "      <td>1163</td>\n",
       "      <td>Connecticut</td>\n",
       "      <td>1120</td>\n",
       "      <td>Auburn</td>\n",
       "      <td>1</td>\n",
       "    </tr>\n",
       "    <tr>\n",
       "      <th>751</th>\n",
       "      <td>1163</td>\n",
       "      <td>Connecticut</td>\n",
       "      <td>1194</td>\n",
       "      <td>FL Atlantic</td>\n",
       "      <td>0</td>\n",
       "    </tr>\n",
       "    <tr>\n",
       "      <th>752</th>\n",
       "      <td>1163</td>\n",
       "      <td>Connecticut</td>\n",
       "      <td>1450</td>\n",
       "      <td>Washington St</td>\n",
       "      <td>1</td>\n",
       "    </tr>\n",
       "  </tbody>\n",
       "</table>\n",
       "</div>"
      ],
      "text/plain": [
       "     TeamA_ID   TeamA_Name  TeamB_ID      TeamB_Name  Is_TeamA_winner\n",
       "693      1163  Connecticut      1235         Iowa St                0\n",
       "694      1163  Connecticut      1160        Colorado                0\n",
       "695      1163  Connecticut      1161     Colorado St                0\n",
       "696      1163  Connecticut      1332          Oregon                0\n",
       "697      1163  Connecticut      1270      McNeese St                1\n",
       "698      1163  Connecticut      1359         Samford                1\n",
       "699      1163  Connecticut      1103           Akron                0\n",
       "700      1163  Connecticut      1389      St Peter's                1\n",
       "701      1163  Connecticut      1212       Grambling                1\n",
       "702      1163  Connecticut      1222         Houston                1\n",
       "703      1163  Connecticut      1182        Duquesne                0\n",
       "704      1163  Connecticut      1266       Marquette                1\n",
       "705      1163  Connecticut      1246        Kentucky                0\n",
       "706      1163  Connecticut      1395             TCU                1\n",
       "707      1163  Connecticut      1181            Duke                0\n",
       "708      1163  Connecticut      1403      Texas Tech                0\n",
       "709      1163  Connecticut      1179           Drake                0\n",
       "710      1163  Connecticut      1196         Florida                1\n",
       "711      1163  Connecticut      1304        Nebraska                1\n",
       "712      1163  Connecticut      1401       Texas A&M                0\n",
       "713      1163  Connecticut      1463            Yale                0\n",
       "714      1163  Connecticut      1301        NC State                0\n",
       "715      1163  Connecticut      1241   James Madison                1\n",
       "716      1163  Connecticut      1436         Vermont                1\n",
       "717      1163  Connecticut      1324         Oakland                0\n",
       "718      1163  Connecticut      1443             WKU                0\n",
       "719      1163  Connecticut      1458       Wisconsin                1\n",
       "720      1163  Connecticut      1255        Longwood                1\n",
       "721      1163  Connecticut      1429         Utah St                1\n",
       "722      1163  Connecticut      1376  South Carolina                1\n",
       "723      1163  Connecticut      1287     Morehead St                1\n",
       "724      1163  Connecticut      1355     S Dakota St                1\n",
       "725      1163  Connecticut      1391         Stetson                1\n",
       "726      1163  Connecticut      1314  North Carolina                1\n",
       "727      1163  Connecticut      1112         Arizona                0\n",
       "728      1163  Connecticut      1124          Baylor                0\n",
       "729      1163  Connecticut      1104         Alabama                0\n",
       "730      1163  Connecticut      1388    St Mary's CA                0\n",
       "731      1163  Connecticut      1155         Clemson                0\n",
       "732      1163  Connecticut      1173          Dayton                1\n",
       "733      1163  Connecticut      1280  Mississippi St                1\n",
       "734      1163  Connecticut      1400           Texas                1\n",
       "735      1163  Connecticut      1277     Michigan St                0\n",
       "736      1163  Connecticut      1307      New Mexico                0\n",
       "737      1163  Connecticut      1213    Grand Canyon                1\n",
       "738      1163  Connecticut      1158  Col Charleston                0\n",
       "739      1163  Connecticut      1159         Colgate                1\n",
       "740      1163  Connecticut      1253   Long Beach St                0\n",
       "741      1163  Connecticut      1447          Wagner                0\n",
       "742      1163  Connecticut      1345          Purdue                1\n",
       "743      1163  Connecticut      1397       Tennessee                1\n",
       "744      1163  Connecticut      1166       Creighton                0\n",
       "745      1163  Connecticut      1242          Kansas                0\n",
       "746      1163  Connecticut      1211         Gonzaga                0\n",
       "747      1163  Connecticut      1305          Nevada                1\n",
       "748      1163  Connecticut      1321    Northwestern                0\n",
       "749      1163  Connecticut      1412             UAB                0\n",
       "750      1163  Connecticut      1120          Auburn                1\n",
       "751      1163  Connecticut      1194     FL Atlantic                0\n",
       "752      1163  Connecticut      1450   Washington St                1"
      ]
     },
     "execution_count": 583,
     "metadata": {},
     "output_type": "execute_result"
    }
   ],
   "source": [
    "final_submission[final_submission.TeamA_Name == 'Connecticut'].head(60)"
   ]
  },
  {
   "cell_type": "code",
   "execution_count": null,
   "id": "1cb58bdd",
   "metadata": {},
   "outputs": [],
   "source": []
  }
 ],
 "metadata": {
  "kernelspec": {
   "display_name": "Python 3 (ipykernel)",
   "language": "python",
   "name": "python3"
  },
  "language_info": {
   "codemirror_mode": {
    "name": "ipython",
    "version": 3
   },
   "file_extension": ".py",
   "mimetype": "text/x-python",
   "name": "python",
   "nbconvert_exporter": "python",
   "pygments_lexer": "ipython3",
   "version": "3.9.7"
  }
 },
 "nbformat": 4,
 "nbformat_minor": 5
}

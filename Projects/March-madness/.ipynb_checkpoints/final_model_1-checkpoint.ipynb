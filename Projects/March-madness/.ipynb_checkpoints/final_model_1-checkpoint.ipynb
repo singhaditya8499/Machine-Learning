{
 "cells": [
  {
   "cell_type": "code",
   "execution_count": 33,
   "id": "aecf303a",
   "metadata": {},
   "outputs": [],
   "source": [
    "import pandas as pd\n",
    "import matplotlib.pyplot as plt\n",
    "import numpy as np\n",
    "import seaborn as sns\n",
    "import warnings\n",
    "warnings.filterwarnings('ignore')\n",
    "%matplotlib inline"
   ]
  },
  {
   "cell_type": "code",
   "execution_count": 34,
   "id": "f0c044bb",
   "metadata": {},
   "outputs": [],
   "source": [
    "ncaa_data = pd.read_csv(\"./data/MNCAATourneyDetailedResults.csv\")"
   ]
  },
  {
   "cell_type": "code",
   "execution_count": 35,
   "id": "0e11deb8",
   "metadata": {},
   "outputs": [
    {
     "data": {
      "text/plain": [
       "Index(['Season', 'DayNum', 'WTeamID', 'WScore', 'LTeamID', 'LScore', 'WLoc',\n",
       "       'NumOT', 'WFGM', 'WFGA', 'WFGM3', 'WFGA3', 'WFTM', 'WFTA', 'WOR', 'WDR',\n",
       "       'WAst', 'WTO', 'WStl', 'WBlk', 'WPF', 'LFGM', 'LFGA', 'LFGM3', 'LFGA3',\n",
       "       'LFTM', 'LFTA', 'LOR', 'LDR', 'LAst', 'LTO', 'LStl', 'LBlk', 'LPF'],\n",
       "      dtype='object')"
      ]
     },
     "execution_count": 35,
     "metadata": {},
     "output_type": "execute_result"
    }
   ],
   "source": [
    "ncaa_data.columns"
   ]
  },
  {
   "cell_type": "code",
   "execution_count": 36,
   "id": "97882958",
   "metadata": {},
   "outputs": [
    {
     "data": {
      "text/plain": [
       "(1315, 34)"
      ]
     },
     "execution_count": 36,
     "metadata": {},
     "output_type": "execute_result"
    }
   ],
   "source": [
    "ncaa_data.shape"
   ]
  },
  {
   "cell_type": "code",
   "execution_count": 37,
   "id": "a37b418b",
   "metadata": {},
   "outputs": [],
   "source": [
    "all_data = pd.read_csv(\"./data/MRegularSeasonDetailedResults.csv\")"
   ]
  },
  {
   "cell_type": "code",
   "execution_count": 38,
   "id": "f3762454",
   "metadata": {},
   "outputs": [
    {
     "data": {
      "text/plain": [
       "((113241, 34),\n",
       " Index(['Season', 'DayNum', 'WTeamID', 'WScore', 'LTeamID', 'LScore', 'WLoc',\n",
       "        'NumOT', 'WFGM', 'WFGA', 'WFGM3', 'WFGA3', 'WFTM', 'WFTA', 'WOR', 'WDR',\n",
       "        'WAst', 'WTO', 'WStl', 'WBlk', 'WPF', 'LFGM', 'LFGA', 'LFGM3', 'LFGA3',\n",
       "        'LFTM', 'LFTA', 'LOR', 'LDR', 'LAst', 'LTO', 'LStl', 'LBlk', 'LPF'],\n",
       "       dtype='object'))"
      ]
     },
     "execution_count": 38,
     "metadata": {},
     "output_type": "execute_result"
    }
   ],
   "source": [
    "all_data.shape, all_data.columns"
   ]
  },
  {
   "cell_type": "code",
   "execution_count": 39,
   "id": "7ba40d17",
   "metadata": {},
   "outputs": [
    {
     "data": {
      "text/plain": [
       "array([2003, 2004, 2005, 2006, 2007, 2008, 2009, 2010, 2011, 2012, 2013,\n",
       "       2014, 2015, 2016, 2017, 2018, 2019, 2020, 2021, 2022, 2023, 2024])"
      ]
     },
     "execution_count": 39,
     "metadata": {},
     "output_type": "execute_result"
    }
   ],
   "source": [
    "all_data.Season.unique()"
   ]
  },
  {
   "cell_type": "code",
   "execution_count": 40,
   "id": "1e35a42b",
   "metadata": {},
   "outputs": [],
   "source": [
    "training_data = all_data[all_data.Season != 2024]\n",
    "test_data = all_data[all_data.Season == 2024]"
   ]
  },
  {
   "cell_type": "code",
   "execution_count": 41,
   "id": "40028d38",
   "metadata": {},
   "outputs": [],
   "source": [
    "winning_team = training_data[['WFGM', 'WFGA', 'WFGM3', 'WFGA3', 'WFTM', 'WFTA', 'WOR', 'WDR', 'WAst', 'WTO', \n",
    "                         'WStl', 'WBlk', 'WPF']]\n",
    "losing_team = training_data[['LFGM', 'LFGA', 'LFGM3', 'LFGA3', 'LFTM', 'LFTA', 'LOR', 'LDR', 'LAst', 'LTO', \n",
    "                        'LStl', 'LBlk', 'LPF']]\n",
    "\n",
    "winning_team_test = test_data[['WFGM', 'WFGA', 'WFGM3', 'WFGA3', 'WFTM', 'WFTA', 'WOR', 'WDR', 'WAst', 'WTO', \n",
    "                         'WStl', 'WBlk', 'WPF']]\n",
    "losing_team_test = test_data[['LFGM', 'LFGA', 'LFGM3', 'LFGA3', 'LFTM', 'LFTA', 'LOR', 'LDR', 'LAst', 'LTO', \n",
    "                        'LStl', 'LBlk', 'LPF']]"
   ]
  },
  {
   "cell_type": "code",
   "execution_count": 42,
   "id": "2cbb5755",
   "metadata": {},
   "outputs": [],
   "source": [
    "winning_team.rename(columns= lambda x: x[1:], inplace=True)\n",
    "winning_team['target'] = 1\n",
    "losing_team.rename(columns = lambda x: x[1:], inplace=True)\n",
    "losing_team['target'] = 0\n",
    "\n",
    "winning_team_test.rename(columns=lambda x: x[1:], inplace=True)\n",
    "winning_team_test['target'] = 1\n",
    "losing_team_test.rename(columns=lambda x: x[1:], inplace=True)\n",
    "losing_team_test['target'] = 0"
   ]
  },
  {
   "cell_type": "code",
   "execution_count": 43,
   "id": "c9d4b23c",
   "metadata": {},
   "outputs": [],
   "source": [
    "data_train = pd.concat([winning_team, losing_team])\n",
    "data_train = data_train.sample(frac=1).reset_index()\n",
    "data_train.drop(columns=['index'], inplace=True)\n",
    "\n",
    "data_test = pd.concat([winning_team_test, losing_team_test])\n",
    "data_test = data_test.sample(frac=1).reset_index()\n",
    "data_test.drop(columns=['index'], inplace=True)"
   ]
  },
  {
   "cell_type": "code",
   "execution_count": 44,
   "id": "d593ef80",
   "metadata": {},
   "outputs": [
    {
     "data": {
      "text/html": [
       "<div>\n",
       "<style scoped>\n",
       "    .dataframe tbody tr th:only-of-type {\n",
       "        vertical-align: middle;\n",
       "    }\n",
       "\n",
       "    .dataframe tbody tr th {\n",
       "        vertical-align: top;\n",
       "    }\n",
       "\n",
       "    .dataframe thead th {\n",
       "        text-align: right;\n",
       "    }\n",
       "</style>\n",
       "<table border=\"1\" class=\"dataframe\">\n",
       "  <thead>\n",
       "    <tr style=\"text-align: right;\">\n",
       "      <th></th>\n",
       "      <th>FGM</th>\n",
       "      <th>FGA</th>\n",
       "      <th>FGM3</th>\n",
       "      <th>FGA3</th>\n",
       "      <th>FTM</th>\n",
       "      <th>FTA</th>\n",
       "      <th>OR</th>\n",
       "      <th>DR</th>\n",
       "      <th>Ast</th>\n",
       "      <th>TO</th>\n",
       "      <th>Stl</th>\n",
       "      <th>Blk</th>\n",
       "      <th>PF</th>\n",
       "      <th>target</th>\n",
       "    </tr>\n",
       "  </thead>\n",
       "  <tbody>\n",
       "    <tr>\n",
       "      <th>0</th>\n",
       "      <td>24</td>\n",
       "      <td>56</td>\n",
       "      <td>11</td>\n",
       "      <td>25</td>\n",
       "      <td>7</td>\n",
       "      <td>11</td>\n",
       "      <td>4</td>\n",
       "      <td>21</td>\n",
       "      <td>11</td>\n",
       "      <td>13</td>\n",
       "      <td>6</td>\n",
       "      <td>4</td>\n",
       "      <td>15</td>\n",
       "      <td>0</td>\n",
       "    </tr>\n",
       "    <tr>\n",
       "      <th>1</th>\n",
       "      <td>33</td>\n",
       "      <td>69</td>\n",
       "      <td>14</td>\n",
       "      <td>31</td>\n",
       "      <td>8</td>\n",
       "      <td>11</td>\n",
       "      <td>10</td>\n",
       "      <td>24</td>\n",
       "      <td>28</td>\n",
       "      <td>7</td>\n",
       "      <td>9</td>\n",
       "      <td>4</td>\n",
       "      <td>19</td>\n",
       "      <td>1</td>\n",
       "    </tr>\n",
       "    <tr>\n",
       "      <th>2</th>\n",
       "      <td>24</td>\n",
       "      <td>49</td>\n",
       "      <td>11</td>\n",
       "      <td>30</td>\n",
       "      <td>15</td>\n",
       "      <td>22</td>\n",
       "      <td>7</td>\n",
       "      <td>29</td>\n",
       "      <td>11</td>\n",
       "      <td>13</td>\n",
       "      <td>4</td>\n",
       "      <td>4</td>\n",
       "      <td>16</td>\n",
       "      <td>1</td>\n",
       "    </tr>\n",
       "    <tr>\n",
       "      <th>3</th>\n",
       "      <td>29</td>\n",
       "      <td>65</td>\n",
       "      <td>10</td>\n",
       "      <td>22</td>\n",
       "      <td>20</td>\n",
       "      <td>22</td>\n",
       "      <td>9</td>\n",
       "      <td>26</td>\n",
       "      <td>15</td>\n",
       "      <td>18</td>\n",
       "      <td>4</td>\n",
       "      <td>5</td>\n",
       "      <td>20</td>\n",
       "      <td>0</td>\n",
       "    </tr>\n",
       "    <tr>\n",
       "      <th>4</th>\n",
       "      <td>18</td>\n",
       "      <td>63</td>\n",
       "      <td>3</td>\n",
       "      <td>17</td>\n",
       "      <td>14</td>\n",
       "      <td>17</td>\n",
       "      <td>10</td>\n",
       "      <td>29</td>\n",
       "      <td>5</td>\n",
       "      <td>11</td>\n",
       "      <td>9</td>\n",
       "      <td>0</td>\n",
       "      <td>17</td>\n",
       "      <td>0</td>\n",
       "    </tr>\n",
       "    <tr>\n",
       "      <th>...</th>\n",
       "      <td>...</td>\n",
       "      <td>...</td>\n",
       "      <td>...</td>\n",
       "      <td>...</td>\n",
       "      <td>...</td>\n",
       "      <td>...</td>\n",
       "      <td>...</td>\n",
       "      <td>...</td>\n",
       "      <td>...</td>\n",
       "      <td>...</td>\n",
       "      <td>...</td>\n",
       "      <td>...</td>\n",
       "      <td>...</td>\n",
       "      <td>...</td>\n",
       "    </tr>\n",
       "    <tr>\n",
       "      <th>11209</th>\n",
       "      <td>29</td>\n",
       "      <td>52</td>\n",
       "      <td>6</td>\n",
       "      <td>18</td>\n",
       "      <td>21</td>\n",
       "      <td>29</td>\n",
       "      <td>5</td>\n",
       "      <td>23</td>\n",
       "      <td>14</td>\n",
       "      <td>10</td>\n",
       "      <td>1</td>\n",
       "      <td>5</td>\n",
       "      <td>16</td>\n",
       "      <td>1</td>\n",
       "    </tr>\n",
       "    <tr>\n",
       "      <th>11210</th>\n",
       "      <td>22</td>\n",
       "      <td>54</td>\n",
       "      <td>6</td>\n",
       "      <td>13</td>\n",
       "      <td>12</td>\n",
       "      <td>15</td>\n",
       "      <td>12</td>\n",
       "      <td>22</td>\n",
       "      <td>8</td>\n",
       "      <td>12</td>\n",
       "      <td>5</td>\n",
       "      <td>2</td>\n",
       "      <td>12</td>\n",
       "      <td>0</td>\n",
       "    </tr>\n",
       "    <tr>\n",
       "      <th>11211</th>\n",
       "      <td>39</td>\n",
       "      <td>69</td>\n",
       "      <td>10</td>\n",
       "      <td>23</td>\n",
       "      <td>13</td>\n",
       "      <td>21</td>\n",
       "      <td>8</td>\n",
       "      <td>27</td>\n",
       "      <td>27</td>\n",
       "      <td>9</td>\n",
       "      <td>14</td>\n",
       "      <td>5</td>\n",
       "      <td>12</td>\n",
       "      <td>1</td>\n",
       "    </tr>\n",
       "    <tr>\n",
       "      <th>11212</th>\n",
       "      <td>30</td>\n",
       "      <td>65</td>\n",
       "      <td>10</td>\n",
       "      <td>29</td>\n",
       "      <td>14</td>\n",
       "      <td>17</td>\n",
       "      <td>7</td>\n",
       "      <td>29</td>\n",
       "      <td>14</td>\n",
       "      <td>3</td>\n",
       "      <td>9</td>\n",
       "      <td>1</td>\n",
       "      <td>15</td>\n",
       "      <td>1</td>\n",
       "    </tr>\n",
       "    <tr>\n",
       "      <th>11213</th>\n",
       "      <td>37</td>\n",
       "      <td>62</td>\n",
       "      <td>10</td>\n",
       "      <td>20</td>\n",
       "      <td>7</td>\n",
       "      <td>9</td>\n",
       "      <td>10</td>\n",
       "      <td>16</td>\n",
       "      <td>19</td>\n",
       "      <td>7</td>\n",
       "      <td>7</td>\n",
       "      <td>7</td>\n",
       "      <td>14</td>\n",
       "      <td>1</td>\n",
       "    </tr>\n",
       "  </tbody>\n",
       "</table>\n",
       "<p>11214 rows × 14 columns</p>\n",
       "</div>"
      ],
      "text/plain": [
       "       FGM  FGA  FGM3  FGA3  FTM  FTA  OR  DR  Ast  TO  Stl  Blk  PF  target\n",
       "0       24   56    11    25    7   11   4  21   11  13    6    4  15       0\n",
       "1       33   69    14    31    8   11  10  24   28   7    9    4  19       1\n",
       "2       24   49    11    30   15   22   7  29   11  13    4    4  16       1\n",
       "3       29   65    10    22   20   22   9  26   15  18    4    5  20       0\n",
       "4       18   63     3    17   14   17  10  29    5  11    9    0  17       0\n",
       "...    ...  ...   ...   ...  ...  ...  ..  ..  ...  ..  ...  ...  ..     ...\n",
       "11209   29   52     6    18   21   29   5  23   14  10    1    5  16       1\n",
       "11210   22   54     6    13   12   15  12  22    8  12    5    2  12       0\n",
       "11211   39   69    10    23   13   21   8  27   27   9   14    5  12       1\n",
       "11212   30   65    10    29   14   17   7  29   14   3    9    1  15       1\n",
       "11213   37   62    10    20    7    9  10  16   19   7    7    7  14       1\n",
       "\n",
       "[11214 rows x 14 columns]"
      ]
     },
     "execution_count": 44,
     "metadata": {},
     "output_type": "execute_result"
    }
   ],
   "source": [
    "data_test"
   ]
  },
  {
   "cell_type": "code",
   "execution_count": 45,
   "id": "ca1880bf",
   "metadata": {},
   "outputs": [
    {
     "data": {
      "text/plain": [
       "Index(['FGM', 'FGA', 'FGM3', 'FGA3', 'FTM', 'FTA', 'OR', 'DR', 'Ast', 'TO',\n",
       "       'Stl', 'Blk', 'PF', 'target'],\n",
       "      dtype='object')"
      ]
     },
     "execution_count": 45,
     "metadata": {},
     "output_type": "execute_result"
    }
   ],
   "source": [
    "data_train.columns"
   ]
  },
  {
   "cell_type": "code",
   "execution_count": 46,
   "id": "f5388a71",
   "metadata": {},
   "outputs": [],
   "source": [
    "from sklearn.preprocessing import MinMaxScaler, StandardScaler, RobustScaler\n",
    "from tensorflow.keras.utils import to_categorical"
   ]
  },
  {
   "cell_type": "code",
   "execution_count": 47,
   "id": "8d4585d4",
   "metadata": {},
   "outputs": [],
   "source": [
    "X = data_train[['FGM', 'FGA', 'FGM3', 'FGA3', 'FTM', 'FTA', 'OR', 'DR', 'Ast', 'TO',\n",
    "       'Stl', 'Blk', 'PF']]\n",
    "y = data_train.target"
   ]
  },
  {
   "cell_type": "code",
   "execution_count": 48,
   "id": "defe31c6",
   "metadata": {},
   "outputs": [],
   "source": [
    "min_max_scaler = RobustScaler()\n",
    "# X_train = min_max_scaler.fit_transform(X)\n",
    "y_train = to_categorical(y)\n",
    "X_train = X"
   ]
  },
  {
   "cell_type": "code",
   "execution_count": 49,
   "id": "7cd246a1",
   "metadata": {},
   "outputs": [],
   "source": [
    "X = data_test[['FGM', 'FGA', 'FGM3', 'FGA3', 'FTM', 'FTA', 'OR', 'DR', 'Ast', 'TO',\n",
    "       'Stl', 'Blk', 'PF']]\n",
    "y = data_test.target"
   ]
  },
  {
   "cell_type": "code",
   "execution_count": 50,
   "id": "9d63895f",
   "metadata": {},
   "outputs": [],
   "source": [
    "min_max_scaler = RobustScaler()\n",
    "# X_test = min_max_scaler.fit_transform(X)\n",
    "y_test = to_categorical(y)\n",
    "X_test = X"
   ]
  },
  {
   "cell_type": "code",
   "execution_count": 51,
   "id": "1b771aee",
   "metadata": {},
   "outputs": [],
   "source": [
    "from tensorflow.keras.utils import to_categorical\n",
    "from tensorflow.keras.models import Sequential\n",
    "from tensorflow.keras.layers import Dense, Dropout, BatchNormalization\n",
    "from sklearn.preprocessing import MinMaxScaler\n",
    "from tensorflow.keras.optimizers import Adam\n",
    "from tensorflow.keras.callbacks import EarlyStopping"
   ]
  },
  {
   "cell_type": "code",
   "execution_count": 52,
   "id": "5c8ce549",
   "metadata": {},
   "outputs": [],
   "source": [
    "model = Sequential()\n",
    "model.add(Dense(32, activation='relu', input_shape=(X.shape[1],)))\n",
    "model.add(BatchNormalization())\n",
    "model.add(Dense(32, activation='relu'))\n",
    "model.add(Dense(16, activation='relu'))\n",
    "model.add(Dense(8, activation='relu'))\n",
    "model.add(Dense(2, activation='softmax'))"
   ]
  },
  {
   "cell_type": "code",
   "execution_count": 53,
   "id": "44f99d83",
   "metadata": {},
   "outputs": [
    {
     "name": "stdout",
     "output_type": "stream",
     "text": [
      "Model: \"sequential_1\"\n",
      "_________________________________________________________________\n",
      " Layer (type)                Output Shape              Param #   \n",
      "=================================================================\n",
      " dense_5 (Dense)             (None, 32)                448       \n",
      "                                                                 \n",
      " batch_normalization_1 (Bat  (None, 32)                128       \n",
      " chNormalization)                                                \n",
      "                                                                 \n",
      " dense_6 (Dense)             (None, 32)                1056      \n",
      "                                                                 \n",
      " dense_7 (Dense)             (None, 16)                528       \n",
      "                                                                 \n",
      " dense_8 (Dense)             (None, 8)                 136       \n",
      "                                                                 \n",
      " dense_9 (Dense)             (None, 2)                 18        \n",
      "                                                                 \n",
      "=================================================================\n",
      "Total params: 2314 (9.04 KB)\n",
      "Trainable params: 2250 (8.79 KB)\n",
      "Non-trainable params: 64 (256.00 Byte)\n",
      "_________________________________________________________________\n"
     ]
    }
   ],
   "source": [
    "earlyStop = EarlyStopping(monitor='val_loss', patience=3, restore_best_weights=True)\n",
    "adam = Adam(learning_rate=5e-8)\n",
    "model.compile(optimizer='adam', loss='binary_crossentropy', metrics=['acc'])\n",
    "model.summary()"
   ]
  },
  {
   "cell_type": "code",
   "execution_count": 54,
   "id": "04f21635",
   "metadata": {},
   "outputs": [
    {
     "name": "stdout",
     "output_type": "stream",
     "text": [
      "Epoch 1/50\n",
      "9418/9418 [==============================] - 22s 2ms/step - loss: 0.3268 - acc: 0.8586 - val_loss: 0.2990 - val_acc: 0.8696\n",
      "Epoch 2/50\n",
      "9418/9418 [==============================] - 19s 2ms/step - loss: 0.3136 - acc: 0.8650 - val_loss: 0.2895 - val_acc: 0.8741\n",
      "Epoch 3/50\n",
      "9418/9418 [==============================] - 20s 2ms/step - loss: 0.3065 - acc: 0.8675 - val_loss: 0.2896 - val_acc: 0.8754\n",
      "Epoch 4/50\n",
      "9418/9418 [==============================] - 23s 2ms/step - loss: 0.3020 - acc: 0.8684 - val_loss: 0.2942 - val_acc: 0.8732\n",
      "Epoch 5/50\n",
      "9418/9418 [==============================] - 24s 3ms/step - loss: 0.2990 - acc: 0.8697 - val_loss: 0.2870 - val_acc: 0.8749\n",
      "Epoch 6/50\n",
      "9418/9418 [==============================] - 21s 2ms/step - loss: 0.2971 - acc: 0.8697 - val_loss: 0.2926 - val_acc: 0.8694\n",
      "Epoch 7/50\n",
      "9418/9418 [==============================] - 21s 2ms/step - loss: 0.2970 - acc: 0.8709 - val_loss: 0.3062 - val_acc: 0.8641\n",
      "Epoch 8/50\n",
      "9418/9418 [==============================] - 20s 2ms/step - loss: 0.2969 - acc: 0.8719 - val_loss: 0.2896 - val_acc: 0.8757\n"
     ]
    }
   ],
   "source": [
    "history = model.fit(X_train, y_train, epochs=50, batch_size=16, validation_split=0.3, callbacks=[earlyStop])"
   ]
  },
  {
   "cell_type": "code",
   "execution_count": 55,
   "id": "76393017",
   "metadata": {},
   "outputs": [
    {
     "data": {
      "image/png": "[encoded data removed]",
      "text/plain": [
       "<Figure size 432x288 with 1 Axes>"
      ]
     },
     "metadata": {
      "needs_background": "light"
     },
     "output_type": "display_data"
    }
   ],
   "source": [
    "plt.plot(history.history['loss'])\n",
    "plt.plot(history.history['val_loss']);"
   ]
  },
  {
   "cell_type": "markdown",
   "id": "afebd3e6",
   "metadata": {},
   "source": [
    "### testing"
   ]
  },
  {
   "cell_type": "code",
   "execution_count": 56,
   "id": "539246f5",
   "metadata": {},
   "outputs": [],
   "source": [
    "y_true_winners = winning_team_test.iloc[:,-1]\n",
    "y_true_losers = losing_team_test.iloc[:,-1]\n",
    "X_true_winners = winning_team_test.iloc[:,:-1]\n",
    "X_true_losers = losing_team_test.iloc[:,:-1]"
   ]
  },
  {
   "cell_type": "code",
   "execution_count": 57,
   "id": "0f929402",
   "metadata": {},
   "outputs": [],
   "source": [
    "min_max_scaler_test = RobustScaler()"
   ]
  },
  {
   "cell_type": "code",
   "execution_count": 58,
   "id": "2fd73ffe",
   "metadata": {},
   "outputs": [],
   "source": [
    "# X_true_winners = min_max_scaler_test.fit_transform(X_true_winners)\n",
    "# X_true_losers = min_max_scaler_test.fit_transform(X_true_losers)"
   ]
  },
  {
   "cell_type": "code",
   "execution_count": 59,
   "id": "0daa9dd4",
   "metadata": {},
   "outputs": [
    {
     "name": "stdout",
     "output_type": "stream",
     "text": [
      "176/176 [==============================] - 0s 1ms/step\n",
      "176/176 [==============================] - 0s 1ms/step\n"
     ]
    }
   ],
   "source": [
    "winners_predict = model.predict(X_true_winners)\n",
    "losers_predict = model.predict(X_true_losers)"
   ]
  },
  {
   "cell_type": "code",
   "execution_count": 60,
   "id": "a2ee43b7",
   "metadata": {},
   "outputs": [],
   "source": [
    "winners_predict = np.argmax(winners_predict, axis=1)\n",
    "losers_predict = np.argmax(losers_predict, axis=1)"
   ]
  },
  {
   "cell_type": "code",
   "execution_count": 61,
   "id": "b68e507e",
   "metadata": {},
   "outputs": [
    {
     "name": "stdout",
     "output_type": "stream",
     "text": [
      "The accuracy is: 78.18797931157482%\n"
     ]
    }
   ],
   "source": [
    "count = 0\n",
    "for x, y in zip(winners_predict, losers_predict):\n",
    "#     print(x,y)\n",
    "    if x==1 and y==0:\n",
    "        count += 1\n",
    "print(f\"The accuracy is: {(float(count)/len(winners_predict))*100.0}%\")"
   ]
  },
  {
   "cell_type": "markdown",
   "id": "639fbe3f",
   "metadata": {},
   "source": [
    "## Results\n",
    "\n",
    "All these results are when we know the values of different fields of the teams.\n",
    "\n",
    "1. With MinMaxScaler the accuracy for the results of 2024 regular season is `22.80%`\n",
    "2. With StandardScaler the accuracy for the results of 2024 regular season is `31.08%`\n",
    "3. With RobustScaler the accuracy for the results of 2024 regular season is `30.74%`\n",
    "4. With no normalisation the accuracy for the results of 2024 regular season is `78.18%`\n"
   ]
  },
  {
   "cell_type": "code",
   "execution_count": null,
   "id": "5ecd5391",
   "metadata": {},
   "outputs": [],
   "source": []
  }
 ],
 "metadata": {
  "kernelspec": {
   "display_name": "Python 3 (ipykernel)",
   "language": "python",
   "name": "python3"
  },
  "language_info": {
   "codemirror_mode": {
    "name": "ipython",
    "version": 3
   },
   "file_extension": ".py",
   "mimetype": "text/x-python",
   "name": "python",
   "nbconvert_exporter": "python",
   "pygments_lexer": "ipython3",
   "version": "3.9.7"
  }
 },
 "nbformat": 4,
 "nbformat_minor": 5
}
